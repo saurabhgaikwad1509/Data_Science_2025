{
 "cells": [
  {
   "cell_type": "markdown",
   "id": "96996b62-d16e-4c16-a7d8-372a9af3e7c2",
   "metadata": {},
   "source": [
    "# list"
   ]
  },
  {
   "cell_type": "code",
   "execution_count": 9,
   "id": "f8a71234-4518-4c4d-abdd-f1f5128e535d",
   "metadata": {},
   "outputs": [
    {
     "name": "stdout",
     "output_type": "stream",
     "text": [
      "[10, 20, 30]\n",
      "['a', 'b', 'c']\n",
      "[10, 20, 30, 'a', 'b']\n",
      "[10, 'A', 20.5, True, 30]\n",
      "[]\n",
      "[10, 10, 10]\n"
     ]
    }
   ],
   "source": [
    "l1=[10,20,30,]\n",
    "l2=['a','b','c']\n",
    "l3=[10,20,30,'a','b']\n",
    "l4=[10,'A',20.5,True,10+20]\n",
    "l5=[]\n",
    "l6=[10,10,10]\n",
    "print(l1)\n",
    "print(l2)\n",
    "print(l3)\n",
    "print(l4)\n",
    "print(l5)\n",
    "print(l6)\n",
    "\n",
    "\n",
    "# list can take all data types \n",
    "# list can hetrogegous \n",
    "# duplicates are avilaable \n",
    "# list in lista also possible"
   ]
  },
  {
   "cell_type": "code",
   "execution_count": 10,
   "id": "6fd6c120-cf5d-428c-aebe-4824b2037d7f",
   "metadata": {},
   "outputs": [
    {
     "data": {
      "text/plain": [
       "10"
      ]
     },
     "execution_count": 10,
     "metadata": {},
     "output_type": "execute_result"
    }
   ],
   "source": [
    "l1=[10,20,30]\n",
    "min(l1)"
   ]
  },
  {
   "cell_type": "code",
   "execution_count": 11,
   "id": "352aa34c-d249-4bc2-b82b-8ab4aa9c5753",
   "metadata": {},
   "outputs": [
    {
     "data": {
      "text/plain": [
       "30"
      ]
     },
     "execution_count": 11,
     "metadata": {},
     "output_type": "execute_result"
    }
   ],
   "source": [
    "max(l1)"
   ]
  },
  {
   "cell_type": "code",
   "execution_count": 12,
   "id": "5284a019-4636-4ef4-8df6-ca005b1c4131",
   "metadata": {},
   "outputs": [
    {
     "data": {
      "text/plain": [
       "[10, 20, 30]"
      ]
     },
     "execution_count": 12,
     "metadata": {},
     "output_type": "execute_result"
    }
   ],
   "source": [
    "sorted(l1)"
   ]
  },
  {
   "cell_type": "code",
   "execution_count": 13,
   "id": "01374815-6b22-4eae-9ceb-c903235dafe0",
   "metadata": {},
   "outputs": [
    {
     "data": {
      "text/plain": [
       "3"
      ]
     },
     "execution_count": 13,
     "metadata": {},
     "output_type": "execute_result"
    }
   ],
   "source": [
    "len(l1)"
   ]
  },
  {
   "cell_type": "code",
   "execution_count": 14,
   "id": "39deab13-eb3a-481d-8578-98872c0904a9",
   "metadata": {},
   "outputs": [
    {
     "data": {
      "text/plain": [
       "'C'"
      ]
     },
     "execution_count": 14,
     "metadata": {},
     "output_type": "execute_result"
    }
   ],
   "source": [
    "l2=['A','B','C' ]\n",
    "max(l2)"
   ]
  },
  {
   "cell_type": "code",
   "execution_count": 15,
   "id": "c2579746-2ecd-4a9e-ae50-1e7f445b3edb",
   "metadata": {},
   "outputs": [
    {
     "data": {
      "text/plain": [
       "[30, 20, 10]"
      ]
     },
     "execution_count": 15,
     "metadata": {},
     "output_type": "execute_result"
    }
   ],
   "source": [
    "L=reversed(l1)\n",
    "list(L)"
   ]
  },
  {
   "cell_type": "markdown",
   "id": "0c7a6c4b-14ce-49f4-8327-1a4e6517834a",
   "metadata": {},
   "source": [
    "**index**"
   ]
  },
  {
   "cell_type": "code",
   "execution_count": 2,
   "id": "739e9b8b-7835-4f8a-9568-b5fda402d846",
   "metadata": {},
   "outputs": [],
   "source": [
    "l3=[10,20,30,\"A\",\"B\",\"C\"]\n",
    "\n",
    "#  -6  -5 -4   -3   -2   -1\n",
    "#  10  20  30  \"A\"  \"B\"  \"C\"\n",
    "#  0    1   2   3    4    5"
   ]
  },
  {
   "cell_type": "code",
   "execution_count": 2,
   "id": "588d6197-2389-4468-a0f9-9887ef58516a",
   "metadata": {},
   "outputs": [
    {
     "data": {
      "text/plain": [
       "'banana'"
      ]
     },
     "execution_count": 2,
     "metadata": {},
     "output_type": "execute_result"
    }
   ],
   "source": [
    "l=['apple' ,['banana']]\n",
    "l[1][0]"
   ]
  },
  {
   "cell_type": "code",
   "execution_count": 3,
   "id": "fbcb35f7-f5ae-48ce-a024-39fe26da133b",
   "metadata": {},
   "outputs": [
    {
     "name": "stdout",
     "output_type": "stream",
     "text": [
      "2\n"
     ]
    },
    {
     "data": {
      "text/plain": [
       "'cherry'"
      ]
     },
     "execution_count": 3,
     "metadata": {},
     "output_type": "execute_result"
    }
   ],
   "source": [
    "l=['apple' ,['banana' ,'cherry']]\n",
    "print (len(l))\n",
    "l[1][1]\n"
   ]
  },
  {
   "cell_type": "code",
   "execution_count": 39,
   "id": "2936c106-6986-4ee5-a49a-ddb30b522755",
   "metadata": {},
   "outputs": [
    {
     "data": {
      "text/plain": [
       "'cherry'"
      ]
     },
     "execution_count": 39,
     "metadata": {},
     "output_type": "execute_result"
    }
   ],
   "source": [
    "l=['apple',['banana',['cherry']]]\n",
    "# print(len(l))\n",
    "l[1][1][0]"
   ]
  },
  {
   "cell_type": "code",
   "execution_count": 5,
   "id": "d0ba1cf7-84cc-49ca-8134-d2cc596b5bd3",
   "metadata": {},
   "outputs": [
    {
     "data": {
      "text/plain": [
       "'VK'"
      ]
     },
     "execution_count": 5,
     "metadata": {},
     "output_type": "execute_result"
    }
   ],
   "source": [
    "l=['Orange',['Nagpur',['MH',['Shivaji',['Shambaji',['Chava',['VK']]]]]]]\n",
    "l[1][1][1][1][1][1][0]"
   ]
  },
  {
   "cell_type": "code",
   "execution_count": 4,
   "id": "0020b192-5fb2-4f12-9766-8c818dccd598",
   "metadata": {},
   "outputs": [
    {
     "data": {
      "text/plain": [
       "[10, 20, 300, 40]"
      ]
     },
     "execution_count": 4,
     "metadata": {},
     "output_type": "execute_result"
    }
   ],
   "source": [
    "l=[10,20,30,40]\n",
    "l[2]=300\n",
    "l"
   ]
  },
  {
   "cell_type": "code",
   "execution_count": 8,
   "id": "6e9083df-1923-4da5-8ac4-52ce64006507",
   "metadata": {},
   "outputs": [
    {
     "data": {
      "text/plain": [
       "[10, 20, 30.4, 'A', 'B', 'B', 'c']"
      ]
     },
     "execution_count": 8,
     "metadata": {},
     "output_type": "execute_result"
    }
   ],
   "source": [
    "l1=[10,20,30.40]\n",
    "l2=['A','B','B','c']\n",
    "l1+l2\n",
    "# l=l1+l2\n",
    "# l"
   ]
  },
  {
   "cell_type": "code",
   "execution_count": 10,
   "id": "325c8b97-b720-486d-90f9-85abe2acfa5b",
   "metadata": {},
   "outputs": [
    {
     "ename": "TypeError",
     "evalue": "unsupported operand type(s) for /: 'list' and 'list'",
     "output_type": "error",
     "traceback": [
      "\u001b[1;31m---------------------------------------------------------------------------\u001b[0m",
      "\u001b[1;31mTypeError\u001b[0m                                 Traceback (most recent call last)",
      "Cell \u001b[1;32mIn[10], line 3\u001b[0m\n\u001b[0;32m      1\u001b[0m l1\u001b[38;5;241m=\u001b[39m[\u001b[38;5;241m10\u001b[39m,\u001b[38;5;241m20\u001b[39m,\u001b[38;5;241m30.40\u001b[39m]\n\u001b[0;32m      2\u001b[0m l2\u001b[38;5;241m=\u001b[39m[\u001b[38;5;124m'\u001b[39m\u001b[38;5;124mA\u001b[39m\u001b[38;5;124m'\u001b[39m,\u001b[38;5;124m'\u001b[39m\u001b[38;5;124mB\u001b[39m\u001b[38;5;124m'\u001b[39m,\u001b[38;5;124m'\u001b[39m\u001b[38;5;124mB\u001b[39m\u001b[38;5;124m'\u001b[39m,\u001b[38;5;124m'\u001b[39m\u001b[38;5;124mc\u001b[39m\u001b[38;5;124m'\u001b[39m]\n\u001b[1;32m----> 3\u001b[0m l1\u001b[38;5;241m/\u001b[39ml2\n",
      "\u001b[1;31mTypeError\u001b[0m: unsupported operand type(s) for /: 'list' and 'list'"
     ]
    }
   ],
   "source": [
    "l1=[10,20,30,40]\n",
    "l2=['A','B','c','d']\n",
    "l1/l2"
   ]
  },
  {
   "cell_type": "code",
   "execution_count": 13,
   "id": "2ec2f1eb-2e33-4f63-bee9-475781e50f37",
   "metadata": {},
   "outputs": [
    {
     "data": {
      "text/plain": [
       "[10, 20, 30, 40, 10, 20, 30, 40]"
      ]
     },
     "execution_count": 13,
     "metadata": {},
     "output_type": "execute_result"
    }
   ],
   "source": [
    "l1=[10,20,30,40]\n",
    "l2=['A','B','B','c']\n",
    "l1*2"
   ]
  },
  {
   "cell_type": "code",
   "execution_count": 14,
   "id": "1d932534-e2b6-4554-920e-631745ea879e",
   "metadata": {},
   "outputs": [
    {
     "data": {
      "text/plain": [
       "['a', 'p', 'p', 'l', 'e']"
      ]
     },
     "execution_count": 14,
     "metadata": {},
     "output_type": "execute_result"
    }
   ],
   "source": [
    "s='apple'\n",
    "l=['a','p','p','l','e']\n",
    "l"
   ]
  },
  {
   "cell_type": "code",
   "execution_count": 16,
   "id": "d099a6c9-dd69-4cf0-91a7-ae4f791f0b17",
   "metadata": {},
   "outputs": [
    {
     "name": "stdout",
     "output_type": "stream",
     "text": [
      "[30, 1, 3, 'a', 'p']\n",
      "[]\n",
      "[30]\n",
      "[True, 'l', 'p', 4, 2]\n",
      "[]\n"
     ]
    }
   ],
   "source": [
    "# -15    -14    -13    -12    -11    -10     -9     -8     -7    -6     -5    -4    -3    -2     -1\n",
    "#  10     20     30     40      1      2      3      4     'a'   'p'   'p'   'l'   'e'  True  False\n",
    "#  0      1      2      3      4      5      6      7      8     9     10    11    12    13     14\n",
    "\n",
    "l=[10,20,30,40,1,2,3,4,'a','p','p','l','e',True,False]\n",
    "\n",
    "print(l[2:12:2])  # \n",
    "print(l[2:12:-2])\n",
    "print(l[2:-12:2])\n",
    "print(l[-2:-12:-2])\n",
    "print(l[2:-12:-2])"
   ]
  },
  {
   "cell_type": "code",
   "execution_count": 17,
   "id": "8522f8a4-cf55-449d-874a-15036f7779ac",
   "metadata": {},
   "outputs": [
    {
     "data": {
      "text/plain": [
       "['__add__',\n",
       " '__class__',\n",
       " '__class_getitem__',\n",
       " '__contains__',\n",
       " '__delattr__',\n",
       " '__delitem__',\n",
       " '__dir__',\n",
       " '__doc__',\n",
       " '__eq__',\n",
       " '__format__',\n",
       " '__ge__',\n",
       " '__getattribute__',\n",
       " '__getitem__',\n",
       " '__getstate__',\n",
       " '__gt__',\n",
       " '__hash__',\n",
       " '__iadd__',\n",
       " '__imul__',\n",
       " '__init__',\n",
       " '__init_subclass__',\n",
       " '__iter__',\n",
       " '__le__',\n",
       " '__len__',\n",
       " '__lt__',\n",
       " '__mul__',\n",
       " '__ne__',\n",
       " '__new__',\n",
       " '__reduce__',\n",
       " '__reduce_ex__',\n",
       " '__repr__',\n",
       " '__reversed__',\n",
       " '__rmul__',\n",
       " '__setattr__',\n",
       " '__setitem__',\n",
       " '__sizeof__',\n",
       " '__str__',\n",
       " '__subclasshook__',\n",
       " 'append',\n",
       " 'clear',\n",
       " 'copy',\n",
       " 'count',\n",
       " 'extend',\n",
       " 'index',\n",
       " 'insert',\n",
       " 'pop',\n",
       " 'remove',\n",
       " 'reverse',\n",
       " 'sort']"
      ]
     },
     "execution_count": 17,
     "metadata": {},
     "output_type": "execute_result"
    }
   ],
   "source": [
    "dir('') # string\n",
    "dir([])  #"
   ]
  },
  {
   "cell_type": "code",
   "execution_count": 18,
   "id": "ffae7316-5cd0-4165-a756-0d8a957336db",
   "metadata": {},
   "outputs": [
    {
     "data": {
      "text/plain": [
       "'sort'"
      ]
     },
     "execution_count": 18,
     "metadata": {},
     "output_type": "execute_result"
    }
   ],
   "source": [
    "'append',\n",
    "'clear',\n",
    "'copy',\n",
    "'count',\n",
    "'extend',\n",
    "'index',\n",
    "'insert',\n",
    "'pop',\n",
    "'remove',\n",
    "'reverse',\n",
    "'sort'"
   ]
  },
  {
   "cell_type": "code",
   "execution_count": null,
   "id": "0118294b-d947-46d0-8d52-0c468e827155",
   "metadata": {},
   "outputs": [],
   "source": [
    "**Clear-Copy**\n",
    "\n",
    "- take one list \n",
    "\n",
    "\n",
    "- apply clear\n",
    "\n",
    "- then print list : empty \n",
    "\n",
    "- "
   ]
  },
  {
   "cell_type": "code",
   "execution_count": 2,
   "id": "4bf8bac0-2dd7-428e-b31e-a715299bb0fc",
   "metadata": {},
   "outputs": [
    {
     "data": {
      "text/plain": [
       "[]"
      ]
     },
     "execution_count": 2,
     "metadata": {},
     "output_type": "execute_result"
    }
   ],
   "source": [
    "l1=[10,20,30,40]\n",
    "l1.clear()\n",
    "l1"
   ]
  },
  {
   "cell_type": "code",
   "execution_count": 3,
   "id": "9f407ab4-98ca-4beb-af32-64cb0aa4be0a",
   "metadata": {},
   "outputs": [
    {
     "data": {
      "text/plain": [
       "([10, 20, 30, 40], [])"
      ]
     },
     "execution_count": 3,
     "metadata": {},
     "output_type": "execute_result"
    }
   ],
   "source": [
    "l1=[10,20,30,40]\n",
    "l2=l1.copy()\n",
    "l1.clear()\n",
    "l2,l1"
   ]
  },
  {
   "cell_type": "code",
   "execution_count": 9,
   "id": "71b61929-ccef-48dd-9bd4-05b9f068bad6",
   "metadata": {},
   "outputs": [
    {
     "data": {
      "text/plain": [
       "2"
      ]
     },
     "execution_count": 9,
     "metadata": {},
     "output_type": "execute_result"
    }
   ],
   "source": [
    "l=[10,20,30,40,1,2,3,4,'a','p','p','l','e',True,False]\n",
    "l.count(1)\n"
   ]
  },
  {
   "cell_type": "code",
   "execution_count": 13,
   "id": "f4ffd66e-3ea6-44f8-8ee1-af77837a4d5a",
   "metadata": {},
   "outputs": [],
   "source": [
    "l=[10,20,30,40,1,2,3,4,'a','p','p','l','e',True,False]"
   ]
  },
  {
   "cell_type": "markdown",
   "id": "bea8f356-1ea8-46b3-a7f7-26f36bb17eba",
   "metadata": {},
   "source": [
    "# index"
   ]
  },
  {
   "cell_type": "code",
   "execution_count": 19,
   "id": "a0e19d0c-49fc-4996-a538-39f4a4691e57",
   "metadata": {},
   "outputs": [
    {
     "data": {
      "text/plain": [
       "13"
      ]
     },
     "execution_count": 19,
     "metadata": {},
     "output_type": "execute_result"
    }
   ],
   "source": [
    "l=[10,20,30,40,1,2,3,4,'a','p','p','l','e',True,False,1,1,2,1]\n",
    "i1=l.index(1)\n",
    "l.index(1,i1+1)\n",
    "# l.index(1)"
   ]
  },
  {
   "cell_type": "code",
   "execution_count": 20,
   "id": "1e0eafa5-1f99-4073-beb5-93325fca2ea6",
   "metadata": {},
   "outputs": [
    {
     "ename": "ValueError",
     "evalue": "'z' is not in list",
     "output_type": "error",
     "traceback": [
      "\u001b[1;31m---------------------------------------------------------------------------\u001b[0m",
      "\u001b[1;31mValueError\u001b[0m                                Traceback (most recent call last)",
      "Cell \u001b[1;32mIn[20], line 1\u001b[0m\n\u001b[1;32m----> 1\u001b[0m l\u001b[38;5;241m.\u001b[39mindex(\u001b[38;5;124m'\u001b[39m\u001b[38;5;124mz\u001b[39m\u001b[38;5;124m'\u001b[39m)\n",
      "\u001b[1;31mValueError\u001b[0m: 'z' is not in list"
     ]
    }
   ],
   "source": [
    "l.index('z')"
   ]
  },
  {
   "cell_type": "markdown",
   "id": "a92f3bd1-774a-4562-9e33-ea8527880ab4",
   "metadata": {},
   "source": [
    "-  clear \n",
    "\n",
    "- copy \n",
    "\n",
    "- count\n",
    "\n",
    "- index"
   ]
  },
  {
   "cell_type": "markdown",
   "id": "93923e22-3192-4b7a-ba5c-72e8baff686c",
   "metadata": {},
   "source": [
    "**pop-remove**"
   ]
  },
  {
   "cell_type": "code",
   "execution_count": 33,
   "id": "52b2fb3a-61e3-416a-8e74-d15c8e259663",
   "metadata": {},
   "outputs": [
    {
     "data": {
      "text/plain": [
       "30"
      ]
     },
     "execution_count": 33,
     "metadata": {},
     "output_type": "execute_result"
    }
   ],
   "source": [
    "l=[10,20,30,40,1,2,3,4,'a','p','p','l','e',True,False,1,1,2,1]\n",
    "# i1=l.pop(1)\n",
    "# # print(i1)\n",
    "\n",
    "l.pop(2)"
   ]
  },
  {
   "cell_type": "code",
   "execution_count": 32,
   "id": "d7cdbbdd-0f7d-4d21-9683-25c811c1635d",
   "metadata": {},
   "outputs": [
    {
     "data": {
      "text/plain": [
       "[10, 20, 30, 40, 1, 2, 3, 4, 'a', 'p', 'p', 'l', 'e', True, False, 1, 1, 2]"
      ]
     },
     "execution_count": 32,
     "metadata": {},
     "output_type": "execute_result"
    }
   ],
   "source": [
    "l"
   ]
  },
  {
   "cell_type": "code",
   "execution_count": 29,
   "id": "54e1506d-9b92-42b3-8fce-b284732bb357",
   "metadata": {},
   "outputs": [
    {
     "name": "stdout",
     "output_type": "stream",
     "text": [
      "None\n"
     ]
    }
   ],
   "source": [
    "\n",
    "l=[10,20,30,40,1,2,3,4,'a','p','p','l','e',True,False,1,1,2,1]\n",
    "i1=l.remove(1)\n",
    "print(i1)"
   ]
  },
  {
   "cell_type": "code",
   "execution_count": 35,
   "id": "e5221af7-5c3d-4cef-b592-5a10ea17a6b6",
   "metadata": {},
   "outputs": [
    {
     "data": {
      "text/plain": [
       "[10, 20, 30, 1, 2, 3, 4, 'a', 'p', 'p', 'l', 'e']"
      ]
     },
     "execution_count": 35,
     "metadata": {},
     "output_type": "execute_result"
    }
   ],
   "source": [
    "l=[10,20,30,40,1,2,3,4,'a','p','p','l','e']\n",
    "l.pop(3)\n",
    "l"
   ]
  },
  {
   "cell_type": "markdown",
   "id": "c2e799fb-5f75-43fa-96c1-23a5db47285c",
   "metadata": {},
   "source": [
    "**draw back**\n",
    "\n",
    "  - in above problem index number we are wrongcounting\n",
    "\n",
    "  - in a list we have less item so we are able to count\n",
    "\n",
    "  - imagin that are thousand items , so manually count shold be easy\n",
    "\n",
    "  - index number should be also retrive directy"
   ]
  },
  {
   "cell_type": "code",
   "execution_count": 42,
   "id": "0cfec48d-c82b-429d-bba1-fcb75699c580",
   "metadata": {},
   "outputs": [
    {
     "data": {
      "text/plain": [
       "['apple', 'banana', 'cherry', 'a', 'b', 10, 20, 30]"
      ]
     },
     "execution_count": 42,
     "metadata": {},
     "output_type": "execute_result"
    }
   ],
   "source": [
    "l=['apple','banana','cherry','cherry','a','b',10,20,30]\n",
    "i1=l.index('cherry')\n",
    "i2=l.index('cherry',i1+1)\n",
    "l.pop(i2)\n",
    "l"
   ]
  },
  {
   "cell_type": "code",
   "execution_count": 44,
   "id": "73ec3056-6cdd-4994-8a19-4941889cdc90",
   "metadata": {},
   "outputs": [
    {
     "data": {
      "text/plain": [
       "['apple', 'banana', 'cherry', 'a', 'b', 10, 20, 30]"
      ]
     },
     "execution_count": 44,
     "metadata": {},
     "output_type": "execute_result"
    }
   ],
   "source": [
    "l=['apple','banana','cherry','cherry','a','b',10,20,30]\n",
    "l.remove('cherry')\n",
    "l"
   ]
  },
  {
   "cell_type": "markdown",
   "id": "2215bafd-e61c-460a-9f5d-4c5ae666975a",
   "metadata": {},
   "source": [
    "# ------------------------------------------------------------------------------------"
   ]
  },
  {
   "cell_type": "code",
   "execution_count": 45,
   "id": "777a40c4-db4b-418f-89dc-ed59edafc462",
   "metadata": {},
   "outputs": [
    {
     "data": {
      "text/plain": [
       "0"
      ]
     },
     "execution_count": 45,
     "metadata": {},
     "output_type": "execute_result"
    }
   ],
   "source": [
    "s='apple'\n",
    "s.count('z')"
   ]
  },
  {
   "cell_type": "code",
   "execution_count": 6,
   "id": "caa5afbd-48f7-4059-b564-71298a218c2f",
   "metadata": {},
   "outputs": [
    {
     "data": {
      "text/plain": [
       "'apple'"
      ]
     },
     "execution_count": 6,
     "metadata": {},
     "output_type": "execute_result"
    }
   ],
   "source": [
    "s='apple'\n",
    "s.replace('z','Z')\n"
   ]
  },
  {
   "cell_type": "code",
   "execution_count": 47,
   "id": "c688dd01-6d9b-41aa-bfb1-7ca3f80ff724",
   "metadata": {},
   "outputs": [
    {
     "ename": "ValueError",
     "evalue": "substring not found",
     "output_type": "error",
     "traceback": [
      "\u001b[1;31m---------------------------------------------------------------------------\u001b[0m",
      "\u001b[1;31mValueError\u001b[0m                                Traceback (most recent call last)",
      "Cell \u001b[1;32mIn[47], line 2\u001b[0m\n\u001b[0;32m      1\u001b[0m s\u001b[38;5;241m=\u001b[39m\u001b[38;5;124m'\u001b[39m\u001b[38;5;124mapple\u001b[39m\u001b[38;5;124m'\u001b[39m\n\u001b[1;32m----> 2\u001b[0m s\u001b[38;5;241m.\u001b[39mindex(\u001b[38;5;124m'\u001b[39m\u001b[38;5;124mz\u001b[39m\u001b[38;5;124m'\u001b[39m)\n",
      "\u001b[1;31mValueError\u001b[0m: substring not found"
     ]
    }
   ],
   "source": [
    "s='apple'\n",
    "s.index('z')"
   ]
  },
  {
   "cell_type": "code",
   "execution_count": 48,
   "id": "8a199513-e6ba-4c4e-8888-0fd60560bd3b",
   "metadata": {},
   "outputs": [
    {
     "data": {
      "text/plain": [
       "-1"
      ]
     },
     "execution_count": 48,
     "metadata": {},
     "output_type": "execute_result"
    }
   ],
   "source": [
    "s='apple'\n",
    "s.find('z')"
   ]
  },
  {
   "cell_type": "code",
   "execution_count": 52,
   "id": "1ad7ec07-144c-443a-88ac-46d4007b887f",
   "metadata": {},
   "outputs": [],
   "source": [
    "import random"
   ]
  },
  {
   "cell_type": "markdown",
   "id": "248afce9-d374-4610-8e53-d456da4bdff0",
   "metadata": {},
   "source": [
    "**append-extend-concat**"
   ]
  },
  {
   "cell_type": "code",
   "execution_count": 60,
   "id": "954024e6-c4d1-43de-8b12-374187843f31",
   "metadata": {},
   "outputs": [
    {
     "data": {
      "text/plain": [
       "[10, 20, 30, 40]"
      ]
     },
     "execution_count": 60,
     "metadata": {},
     "output_type": "execute_result"
    }
   ],
   "source": [
    "l=[10,20,30]\n",
    "l.append(40)\n",
    "l"
   ]
  },
  {
   "cell_type": "code",
   "execution_count": 61,
   "id": "ff1421bc-8be4-47c6-b779-f227ed70107c",
   "metadata": {},
   "outputs": [
    {
     "data": {
      "text/plain": [
       "[10, 20, 30, 'apple']"
      ]
     },
     "execution_count": 61,
     "metadata": {},
     "output_type": "execute_result"
    }
   ],
   "source": [
    "l=[10,20,30,]\n",
    "l.append('apple')\n",
    "l"
   ]
  },
  {
   "cell_type": "code",
   "execution_count": 63,
   "id": "35dc88b1-9af0-44c5-b8b6-2f62a553027a",
   "metadata": {},
   "outputs": [
    {
     "data": {
      "text/plain": [
       "[10, 20, 30, [100, 200]]"
      ]
     },
     "execution_count": 63,
     "metadata": {},
     "output_type": "execute_result"
    }
   ],
   "source": [
    "l=[10,20,30]\n",
    "l.append([100,200])\n",
    "l"
   ]
  },
  {
   "cell_type": "code",
   "execution_count": 64,
   "id": "d2d16e94-99c1-4eda-9045-7dae122d2a46",
   "metadata": {},
   "outputs": [
    {
     "data": {
      "text/plain": [
       "[10, 20, 30, ['a', 'b', 'c']]"
      ]
     },
     "execution_count": 64,
     "metadata": {},
     "output_type": "execute_result"
    }
   ],
   "source": [
    "l1=[10,20,30]\n",
    "l2=['a','b','c']\n",
    "l1.append(l2)\n",
    "l1"
   ]
  },
  {
   "cell_type": "code",
   "execution_count": 65,
   "id": "6a297fda-f4ac-48db-b29a-07969ebe5c82",
   "metadata": {},
   "outputs": [
    {
     "data": {
      "text/plain": [
       "[10, 20, 30, 'a', 'b', 'c']"
      ]
     },
     "execution_count": 65,
     "metadata": {},
     "output_type": "execute_result"
    }
   ],
   "source": [
    "l1=[10,20,30]\n",
    "l2=['a','b','c']\n",
    "l1.extend(l2)\n",
    "l1"
   ]
  },
  {
   "cell_type": "markdown",
   "id": "06f73bde-f0cd-46e3-ab17-26751033941d",
   "metadata": {},
   "source": [
    "- in many project with append there many code \n",
    "\n",
    "- append is use to the store the result \n",
    "\n",
    "- so far we just print the result \n",
    "\n",
    "- we never store "
   ]
  },
  {
   "cell_type": "code",
   "execution_count": 2,
   "id": "58d1c19d-e7b0-4e48-8fae-5ddca5076f5a",
   "metadata": {},
   "outputs": [
    {
     "data": {
      "text/plain": [
       "[1, 2, 3]"
      ]
     },
     "execution_count": 2,
     "metadata": {},
     "output_type": "execute_result"
    }
   ],
   "source": [
    "l=[]\n",
    "l.append(1)\n",
    "l.append(2)\n",
    "l.append(3)\n",
    "l\n",
    "# l.append(i)  range(1,4)"
   ]
  },
  {
   "cell_type": "code",
   "execution_count": 13,
   "id": "a0920c0e-3249-4cb5-bfb8-d1f8746a88db",
   "metadata": {},
   "outputs": [
    {
     "name": "stdout",
     "output_type": "stream",
     "text": [
      "[1, 2, 3]\n"
     ]
    }
   ],
   "source": [
    "l=[]\n",
    "for i in range(1,4):\n",
    "    # print(i)\n",
    "    l.append(i)\n",
    "print(l)"
   ]
  },
  {
   "cell_type": "code",
   "execution_count": 18,
   "id": "261ed891-8c5f-4254-bb9d-265e5da3ac23",
   "metadata": {},
   "outputs": [
    {
     "name": "stdout",
     "output_type": "stream",
     "text": [
      "86 even\n",
      "48 even\n",
      " 37 odd\n",
      " 75 odd\n"
     ]
    }
   ],
   "source": [
    "# wap ask the user take 5 random numbers print even number and odd number \n",
    "\n",
    "import random \n",
    "even_list=[]\n",
    "odd_list=[]\n",
    "for i in range(1,5):\n",
    "    num=random.randint(1,100)\n",
    "    if num%2==0:\n",
    "        print(f'{num} even')\n",
    "        even_list.append(num)\n",
    "    else:\n",
    "        print(f' {num} odd')\n",
    "        odd_list.append(num)"
   ]
  },
  {
   "cell_type": "code",
   "execution_count": 19,
   "id": "a334d7de-16af-4ac0-9c35-119995d4c4b0",
   "metadata": {},
   "outputs": [
    {
     "data": {
      "text/plain": [
       "([86, 48], [37, 75])"
      ]
     },
     "execution_count": 19,
     "metadata": {},
     "output_type": "execute_result"
    }
   ],
   "source": [
    "even_list,odd_list"
   ]
  },
  {
   "cell_type": "code",
   "execution_count": 27,
   "id": "896df2b0-54fc-4184-b775-74c17b334f56",
   "metadata": {},
   "outputs": [
    {
     "data": {
      "text/plain": [
       "(134, 37, 75, 2, 2)"
      ]
     },
     "execution_count": 27,
     "metadata": {},
     "output_type": "execute_result"
    }
   ],
   "source": [
    "sum(even_list),min(odd_list),max(odd_list),len(odd_list),len(even_list)"
   ]
  },
  {
   "cell_type": "code",
   "execution_count": null,
   "id": "5dc8a515-323d-4417-b044-82c4ad00438c",
   "metadata": {},
   "outputs": [],
   "source": [
    "# Q1) input=['hyd','bengaluru','mumbai','chennai']\n",
    "#     output=['Hyd','Bengaluru','Mumbai','Chennai']\n",
    "\n",
    "# Q2) input=['hyd','bengaluru','mumbai','chennai']\n",
    "#     output=['HYD','BENGALURU','MUMBAI','CHENNAI']\n",
    "\n",
    "# Q3) input=['hyd','bengaluru','mum#bai','chen#nai']\n",
    "#     output=['mum#bai','chen#nai']\n",
    "\n",
    "# Q4) input=['hyd','bengaluru','mum#bai','chen#nai']\n",
    "#     output=['hyd','bengaluru']\n",
    "\n",
    "# Q5) input=['hyd','bengaluru','mumbai','chennai']\n",
    "#     multiply all indexes by 10\n",
    "\n",
    "# Q6) input=['hyd','bengaluru','mumbai','chennai']\n",
    "#     sum of all indexes\n",
    "\n",
    "# Q7) Sum of first 10 Natural numbers"
   ]
  },
  {
   "cell_type": "code",
   "execution_count": 33,
   "id": "cc169c1d-c032-4df2-855e-98a24c4a8845",
   "metadata": {},
   "outputs": [
    {
     "data": {
      "text/plain": [
       "['Hyd', 'Bengaluru', 'Mumbai', 'Chennai']"
      ]
     },
     "execution_count": 33,
     "metadata": {},
     "output_type": "execute_result"
    }
   ],
   "source": [
    "Input=['hyd','bengaluru','mumbai','chennai']\n",
    "output=[]\n",
    "for i in Input:\n",
    "    output.append(i.title())\n",
    "output"
   ]
  },
  {
   "cell_type": "code",
   "execution_count": 37,
   "id": "6082910d-2dc6-43c5-ae77-44b0a905e92a",
   "metadata": {},
   "outputs": [
    {
     "data": {
      "text/plain": [
       "['HYD', 'BENGALURU', 'MUMBAI', 'CHENNAI']"
      ]
     },
     "execution_count": 37,
     "metadata": {},
     "output_type": "execute_result"
    }
   ],
   "source": [
    "Input=['hyd','bengaluru','mumbai','chennai']\n",
    "output=[]\n",
    "for i in Input:\n",
    "    output.append(i.upper())\n",
    "output"
   ]
  },
  {
   "cell_type": "code",
   "execution_count": 55,
   "id": "433882e8-c541-4668-979f-33b22cc3afbe",
   "metadata": {},
   "outputs": [
    {
     "name": "stdout",
     "output_type": "stream",
     "text": [
      "['mum#bai', 'chen#nai']\n"
     ]
    }
   ],
   "source": [
    "input_list = ['hyd', 'bengaluru', 'mum#bai', 'chen#nai']\n",
    "output=[]\n",
    "for i in input_list:\n",
    "    if '#' in i:\n",
    "        output += [i[:]]\n",
    "print(output)"
   ]
  },
  {
   "cell_type": "code",
   "execution_count": 56,
   "id": "48835378-f89c-4fe1-8456-ef01aacbaf46",
   "metadata": {},
   "outputs": [
    {
     "name": "stdout",
     "output_type": "stream",
     "text": [
      "['hyd', 'bengaluru']\n"
     ]
    }
   ],
   "source": [
    "input_list = ['hyd', 'bengaluru', 'mum#bai', 'chen#nai']\n",
    "output = []\n",
    "for i in input_list:\n",
    "    if '#' not in i:\n",
    "        output += [i[:]] \n",
    "\n",
    "print(output)"
   ]
  },
  {
   "cell_type": "code",
   "execution_count": 61,
   "id": "0f2a83b3-b1a6-4645-b43e-15c649503732",
   "metadata": {},
   "outputs": [
    {
     "name": "stdout",
     "output_type": "stream",
     "text": [
      "[0, 10, 20, 30]\n"
     ]
    }
   ],
   "source": [
    "input_list = ['hyd', 'bengaluru', 'mumbai', 'chennai']\n",
    "output = []\n",
    "for i in range(len(input_list)):\n",
    "    output += [i * 10] \n",
    "    # print(i)\n",
    "print(output)"
   ]
  },
  {
   "cell_type": "code",
   "execution_count": null,
   "id": "1f4408a3-6586-4372-9f69-2e928324d4f2",
   "metadata": {},
   "outputs": [],
   "source": [
    "# Q8) find the max value in given list with out using function \n",
    "# l=[2,5,8,6,9,22]\n",
    "# max=22\n",
    "\n",
    "# Q8) find the second max value in given list with out using function \n",
    "# l=[2,5,8,6,9,22]\n",
    "# max=22\n",
    "\n",
    "# find the min value in given list with out using function \n",
    "# l=[2,5,8,6,9,22]\n",
    "# min=2\n",
    "\n",
    "\n"
   ]
  },
  {
   "cell_type": "code",
   "execution_count": 29,
   "id": "11263aed-7956-42d8-8d1a-b8909083f1f1",
   "metadata": {},
   "outputs": [
    {
     "data": {
      "text/plain": [
       "[1, 2, 3, 4, 5, 6, 7, 8, 9, 10]"
      ]
     },
     "execution_count": 29,
     "metadata": {},
     "output_type": "execute_result"
    }
   ],
   "source": [
    "num=list(range(1,11))\n",
    "num "
   ]
  },
  {
   "cell_type": "code",
   "execution_count": 30,
   "id": "07cebe52-d893-458d-a44e-b88e5b238c7f",
   "metadata": {},
   "outputs": [
    {
     "data": {
      "text/plain": [
       "[1, 2, 3, 4, 5, 6, 7, 8, 9, 10]"
      ]
     },
     "execution_count": 30,
     "metadata": {},
     "output_type": "execute_result"
    }
   ],
   "source": [
    "num=[]\n",
    "for i in range(1,11):\n",
    "    num.append(i)\n",
    "num"
   ]
  },
  {
   "cell_type": "markdown",
   "id": "f073696e-e1ab-48cc-9e8a-843b785d8bcb",
   "metadata": {},
   "source": [
    "**delete**"
   ]
  },
  {
   "cell_type": "code",
   "execution_count": 62,
   "id": "d4fd20ce-8e5b-45be-b99e-c537a75ab37d",
   "metadata": {},
   "outputs": [
    {
     "data": {
      "text/plain": [
       "[20, 30, 10, 90, 50]"
      ]
     },
     "execution_count": 62,
     "metadata": {},
     "output_type": "execute_result"
    }
   ],
   "source": [
    "l=[20,30,70,10,90,50]\n",
    "del (l[2])\n",
    "l"
   ]
  },
  {
   "cell_type": "code",
   "execution_count": 64,
   "id": "51801230-3623-45e7-baa4-3e7612d17887",
   "metadata": {},
   "outputs": [
    {
     "ename": "NameError",
     "evalue": "name 'l' is not defined",
     "output_type": "error",
     "traceback": [
      "\u001b[1;31m---------------------------------------------------------------------------\u001b[0m",
      "\u001b[1;31mNameError\u001b[0m                                 Traceback (most recent call last)",
      "Cell \u001b[1;32mIn[64], line 3\u001b[0m\n\u001b[0;32m      1\u001b[0m l\u001b[38;5;241m=\u001b[39m[\u001b[38;5;241m20\u001b[39m,\u001b[38;5;241m30\u001b[39m,\u001b[38;5;241m70\u001b[39m,\u001b[38;5;241m10\u001b[39m,\u001b[38;5;241m90\u001b[39m,\u001b[38;5;241m50\u001b[39m]\n\u001b[0;32m      2\u001b[0m \u001b[38;5;28;01mdel\u001b[39;00m(l)\n\u001b[1;32m----> 3\u001b[0m l\n",
      "\u001b[1;31mNameError\u001b[0m: name 'l' is not defined"
     ]
    }
   ],
   "source": [
    "l=[20,30,70,10,90,50]\n",
    "del(l)\n",
    "l"
   ]
  },
  {
   "cell_type": "markdown",
   "id": "763f1bdd-19ae-4792-a726-bc0594e9f4d4",
   "metadata": {},
   "source": [
    "**sorted-sort**"
   ]
  },
  {
   "cell_type": "code",
   "execution_count": 66,
   "id": "8432c4d5-5503-4c51-a7fb-b0d0145a1dfd",
   "metadata": {},
   "outputs": [
    {
     "data": {
      "text/plain": [
       "([10, 20, 30, 50, 70, 90], None)"
      ]
     },
     "execution_count": 66,
     "metadata": {},
     "output_type": "execute_result"
    }
   ],
   "source": [
    "l=[20,30,70,10,90,50]\n",
    "sorted(l),l.sort()"
   ]
  },
  {
   "cell_type": "markdown",
   "id": "170a0177-3e8f-414d-bce8-b3cbd4b360da",
   "metadata": {},
   "source": [
    "**inplace**\n",
    "- output will be save in a same variable "
   ]
  },
  {
   "cell_type": "markdown",
   "id": "5bb491f7-310a-4c7c-824d-f72ea333ac00",
   "metadata": {},
   "source": [
    "**reverse-reversed**"
   ]
  },
  {
   "cell_type": "code",
   "execution_count": 4,
   "id": "b12872f3-4c2e-408e-a8f6-b561d46322b2",
   "metadata": {},
   "outputs": [
    {
     "data": {
      "text/plain": [
       "['hai', 'how', 'are', 'you']"
      ]
     },
     "execution_count": 4,
     "metadata": {},
     "output_type": "execute_result"
    }
   ],
   "source": [
    "str1='hai how are you'\n",
    "l1=str1.split(' ')\n",
    "# how i spllited using space:\n",
    "# space: '' or ' '\n",
    "l1"
   ]
  },
  {
   "cell_type": "code",
   "execution_count": 5,
   "id": "ed9fbbd3-5e20-4e35-94f8-a9922985ff7e",
   "metadata": {},
   "outputs": [
    {
     "data": {
      "text/plain": [
       "'hai===>how===>are===>you'"
      ]
     },
     "execution_count": 5,
     "metadata": {},
     "output_type": "execute_result"
    }
   ],
   "source": [
    "space=' '\n",
    "space.join(l1)\n",
    "'===>'.join(l1)"
   ]
  },
  {
   "cell_type": "code",
   "execution_count": 6,
   "id": "5d785aa1-e46a-4d64-933a-ff8fa8859384",
   "metadata": {},
   "outputs": [
    {
     "ename": "NameError",
     "evalue": "name 'split' is not defined",
     "output_type": "error",
     "traceback": [
      "\u001b[1;31m---------------------------------------------------------------------------\u001b[0m",
      "\u001b[1;31mNameError\u001b[0m                                 Traceback (most recent call last)",
      "Cell \u001b[1;32mIn[6], line 1\u001b[0m\n\u001b[1;32m----> 1\u001b[0m split(\u001b[38;5;124m'\u001b[39m\u001b[38;5;124mhsi how are you\u001b[39m\u001b[38;5;124m'\u001b[39m)\n\u001b[0;32m      2\u001b[0m \u001b[38;5;124m'\u001b[39m\u001b[38;5;124mhai how are you\u001b[39m\u001b[38;5;124m'\u001b[39m\u001b[38;5;241m.\u001b[39msplit()\n",
      "\u001b[1;31mNameError\u001b[0m: name 'split' is not defined"
     ]
    }
   ],
   "source": [
    "split('hsi how are you')\n",
    "'hai how are you'.split()"
   ]
  },
  {
   "cell_type": "code",
   "execution_count": null,
   "id": "efa1a524-674c-41dd-9732-957700545f71",
   "metadata": {},
   "outputs": [],
   "source": [
    "# We will take one string.\n",
    "# Split that string then we will get words in a list.\n",
    "# We will calculate length of each word in a string.\n",
    "# If len greater than 3.\n",
    "# Then we will text those words in a new list.\n",
    "# We will join those word. We will make a string."
   ]
  },
  {
   "cell_type": "code",
   "execution_count": 4,
   "id": "463688d3-7099-4a95-9308-89383f74268c",
   "metadata": {},
   "outputs": [],
   "source": [
    "str1=\"\"\"\n",
    "    hello everyone, good morning, thank you for \n",
    "    giving me this opportunity to introduce my self \n",
    "    , my self saurabh gaikwad , i'm 20 years old , \n",
    "    i  was born  in 15 sep 2003 , i'm from jategaon dist\n",
    "    nashik , i currently live in garkheada chhtrapati sambhaji nagar\n",
    "    \"\"\"\n",
    "str1\n",
    "l=str1.split()\n",
    "l2=[]\n",
    "for i in l:\n",
    "    if len(i)>3:\n",
    "        l2.append(i) "
   ]
  },
  {
   "cell_type": "code",
   "execution_count": 5,
   "id": "2e6ff8ca-b888-4443-959a-8918aae21930",
   "metadata": {},
   "outputs": [
    {
     "data": {
      "text/plain": [
       "'hello everyone, good morning, thank giving this opportunity introduce self self saurabh gaikwad years born 2003 from jategaon dist nashik currently live garkheada chhtrapati sambhaji nagar'"
      ]
     },
     "execution_count": 5,
     "metadata": {},
     "output_type": "execute_result"
    }
   ],
   "source": [
    "' '.join(l2)"
   ]
  },
  {
   "cell_type": "code",
   "execution_count": 6,
   "id": "c29b0352-e6d9-4905-91db-b77b0f180237",
   "metadata": {},
   "outputs": [],
   "source": [
    "str1='python'\n",
    "list1=['p','y','t','h','o','n']\n",
    "t1=('p','y','t','h','o','n')"
   ]
  },
  {
   "cell_type": "code",
   "execution_count": 8,
   "id": "d22aed67-55b0-4768-961f-bb0b335a397e",
   "metadata": {},
   "outputs": [
    {
     "data": {
      "text/plain": [
       "'cherry'"
      ]
     },
     "execution_count": 8,
     "metadata": {},
     "output_type": "execute_result"
    }
   ],
   "source": [
    "l=['apple',['banana','cherry']]\n",
    "l[1][1]"
   ]
  },
  {
   "cell_type": "code",
   "execution_count": 9,
   "id": "f1652d78-2251-4242-a3b6-38b569d193a7",
   "metadata": {},
   "outputs": [
    {
     "data": {
      "text/plain": [
       "2"
      ]
     },
     "execution_count": 9,
     "metadata": {},
     "output_type": "execute_result"
    }
   ],
   "source": [
    "l=['apple',['banana',['cherry']]]\n",
    "len(l)"
   ]
  },
  {
   "cell_type": "code",
   "execution_count": 16,
   "id": "be275ed4-7f11-4297-9228-30afc1ba1eb9",
   "metadata": {},
   "outputs": [
    {
     "data": {
      "text/plain": [
       "'cherry'"
      ]
     },
     "execution_count": 16,
     "metadata": {},
     "output_type": "execute_result"
    }
   ],
   "source": [
    "l[1][1][0]"
   ]
  },
  {
   "cell_type": "code",
   "execution_count": 29,
   "id": "a5007511-c844-43a6-9af3-8c3b744b0c60",
   "metadata": {},
   "outputs": [
    {
     "data": {
      "text/plain": [
       "'vk'"
      ]
     },
     "execution_count": 29,
     "metadata": {},
     "output_type": "execute_result"
    }
   ],
   "source": [
    "l=['orange',['nagpur',['mh',['shivaji',['sambhaji',['chava',['vk']]]]]]]\n",
    "l[1][1][1][1][1][1][0]"
   ]
  },
  {
   "cell_type": "code",
   "execution_count": 32,
   "id": "80a111e0-c12b-4056-b2f3-7e521a1beee7",
   "metadata": {},
   "outputs": [
    {
     "data": {
      "text/plain": [
       "'saurabh'"
      ]
     },
     "execution_count": 32,
     "metadata": {},
     "output_type": "execute_result"
    }
   ],
   "source": [
    "l=[[[[[[[[['saurabh']]]]]]]]]\n",
    "l[0][0][0][0][0][0][0][0][0]"
   ]
  },
  {
   "cell_type": "code",
   "execution_count": 33,
   "id": "9533c2d6-8c5d-430a-9f81-b13c094648c5",
   "metadata": {},
   "outputs": [
    {
     "data": {
      "text/plain": [
       "[10, 20, 30, 40, 'apple', 'banana', 'cherry']"
      ]
     },
     "execution_count": 33,
     "metadata": {},
     "output_type": "execute_result"
    }
   ],
   "source": [
    "l1=[10,20,30,40]\n",
    "l2=['apple','banana','cherry']\n",
    "l1+l2"
   ]
  },
  {
   "cell_type": "code",
   "execution_count": 38,
   "id": "f6f0dbd3-4271-4499-b3c8-860081c9237b",
   "metadata": {},
   "outputs": [
    {
     "data": {
      "text/plain": [
       "['apple', 'banana', 'cherry', 'apple', 'banana', 'cherry']"
      ]
     },
     "execution_count": 38,
     "metadata": {},
     "output_type": "execute_result"
    }
   ],
   "source": [
    "# l1-l2\n",
    "# l1/l2\n",
    "# l1*l2\n",
    "l1*2\n",
    "l2*2"
   ]
  },
  {
   "cell_type": "code",
   "execution_count": 47,
   "id": "1583c036-e135-48f1-ba19-4ec412c4c719",
   "metadata": {},
   "outputs": [
    {
     "data": {
      "text/plain": [
       "13"
      ]
     },
     "execution_count": 47,
     "metadata": {},
     "output_type": "execute_result"
    }
   ],
   "source": [
    "# 13   12   11   10      9      8      7      6     5      4       3      2       1\n",
    "# 10, 20  ,30   ,40 ,  'a'   ,'b',   'c',   'd',   'e'   ,'f'   ,'g'     ,'h'   ,'i']\n",
    "# 0   1    2      3     4      5      6      7      8       9      10      11     12\n",
    "l1=[10,20,30,40,'a','b','c','d','e','f','g','h','i']\n",
    "len(l1)"
   ]
  },
  {
   "cell_type": "code",
   "execution_count": 49,
   "id": "d136f814-e3a5-4c0d-a5d5-dc43473ab45f",
   "metadata": {},
   "outputs": [
    {
     "data": {
      "text/plain": [
       "[30]"
      ]
     },
     "execution_count": 49,
     "metadata": {},
     "output_type": "execute_result"
    }
   ],
   "source": [
    "l1[2:-12:-2]"
   ]
  },
  {
   "cell_type": "code",
   "execution_count": 53,
   "id": "5e4669c7-34c5-4c77-b2fd-3071084dd755",
   "metadata": {},
   "outputs": [
    {
     "data": {
      "text/plain": [
       "([10, 20, 30, 40, 50, 60], [])"
      ]
     },
     "execution_count": 53,
     "metadata": {},
     "output_type": "execute_result"
    }
   ],
   "source": [
    "l1=[10,20,30,40,50,60]\n",
    "l2=l1.copy()\n",
    "l1.clear()\n",
    "l2,l1"
   ]
  },
  {
   "cell_type": "code",
   "execution_count": 73,
   "id": "9b53b3c0-ab39-473a-9855-a12ca5e7f4fd",
   "metadata": {},
   "outputs": [
    {
     "ename": "TypeError",
     "evalue": "sort() takes no positional arguments",
     "output_type": "error",
     "traceback": [
      "\u001b[1;31m---------------------------------------------------------------------------\u001b[0m",
      "\u001b[1;31mTypeError\u001b[0m                                 Traceback (most recent call last)",
      "Cell \u001b[1;32mIn[73], line 6\u001b[0m\n\u001b[0;32m      1\u001b[0m l1\u001b[38;5;241m=\u001b[39m[\u001b[38;5;241m10\u001b[39m,\u001b[38;5;241m20\u001b[39m,\u001b[38;5;241m30\u001b[39m,\u001b[38;5;241m40\u001b[39m,\u001b[38;5;124m'\u001b[39m\u001b[38;5;124ma\u001b[39m\u001b[38;5;124m'\u001b[39m,\u001b[38;5;124m'\u001b[39m\u001b[38;5;124mb\u001b[39m\u001b[38;5;124m'\u001b[39m,\u001b[38;5;124m'\u001b[39m\u001b[38;5;124mc\u001b[39m\u001b[38;5;124m'\u001b[39m,\u001b[38;5;124m'\u001b[39m\u001b[38;5;124md\u001b[39m\u001b[38;5;124m'\u001b[39m,\u001b[38;5;124m'\u001b[39m\u001b[38;5;124me\u001b[39m\u001b[38;5;124m'\u001b[39m,\u001b[38;5;124m'\u001b[39m\u001b[38;5;124mf\u001b[39m\u001b[38;5;124m'\u001b[39m,\u001b[38;5;124m'\u001b[39m\u001b[38;5;124mg\u001b[39m\u001b[38;5;124m'\u001b[39m,\u001b[38;5;124m'\u001b[39m\u001b[38;5;124mh\u001b[39m\u001b[38;5;124m'\u001b[39m,\u001b[38;5;124m'\u001b[39m\u001b[38;5;124mi\u001b[39m\u001b[38;5;124m'\u001b[39m]\n\u001b[0;32m      2\u001b[0m \u001b[38;5;66;03m# l1.count('e')\u001b[39;00m\n\u001b[0;32m      3\u001b[0m \u001b[38;5;66;03m# l1.index('e')\u001b[39;00m\n\u001b[0;32m      4\u001b[0m \u001b[38;5;66;03m# l1.insert(1,200)\u001b[39;00m\n\u001b[0;32m      5\u001b[0m \u001b[38;5;66;03m# l1.remove(20)\u001b[39;00m\n\u001b[1;32m----> 6\u001b[0m l1\u001b[38;5;241m.\u001b[39msort(\u001b[38;5;241m20\u001b[39m)\n\u001b[0;32m      7\u001b[0m l1\n",
      "\u001b[1;31mTypeError\u001b[0m: sort() takes no positional arguments"
     ]
    }
   ],
   "source": [
    "l1=[10,20,30,40,'a','b','c','d','e','f','g','h','i']\n",
    "# l1.count('e')\n",
    "# l1.index('e')\n",
    "# l1.insert(1,200)\n",
    "# l1.remove(20)\n",
    "l1.sort()\n",
    "l1"
   ]
  },
  {
   "cell_type": "code",
   "execution_count": 57,
   "id": "edf9538a-7b6f-44b1-b04d-ff9ce33c443d",
   "metadata": {},
   "outputs": [
    {
     "data": {
      "text/plain": [
       "['__add__',\n",
       " '__class__',\n",
       " '__class_getitem__',\n",
       " '__contains__',\n",
       " '__delattr__',\n",
       " '__delitem__',\n",
       " '__dir__',\n",
       " '__doc__',\n",
       " '__eq__',\n",
       " '__format__',\n",
       " '__ge__',\n",
       " '__getattribute__',\n",
       " '__getitem__',\n",
       " '__getstate__',\n",
       " '__gt__',\n",
       " '__hash__',\n",
       " '__iadd__',\n",
       " '__imul__',\n",
       " '__init__',\n",
       " '__init_subclass__',\n",
       " '__iter__',\n",
       " '__le__',\n",
       " '__len__',\n",
       " '__lt__',\n",
       " '__mul__',\n",
       " '__ne__',\n",
       " '__new__',\n",
       " '__reduce__',\n",
       " '__reduce_ex__',\n",
       " '__repr__',\n",
       " '__reversed__',\n",
       " '__rmul__',\n",
       " '__setattr__',\n",
       " '__setitem__',\n",
       " '__sizeof__',\n",
       " '__str__',\n",
       " '__subclasshook__',\n",
       " 'append',\n",
       " 'clear',\n",
       " 'copy',\n",
       " 'count',\n",
       " 'extend',\n",
       " 'index',\n",
       " 'insert',\n",
       " 'pop',\n",
       " 'remove',\n",
       " 'reverse',\n",
       " 'sort']"
      ]
     },
     "execution_count": 57,
     "metadata": {},
     "output_type": "execute_result"
    }
   ],
   "source": [
    "dir([])"
   ]
  },
  {
   "cell_type": "code",
   "execution_count": null,
   "id": "dd19d4e8-3039-46fb-8e4a-2e2e19895b3f",
   "metadata": {},
   "outputs": [],
   "source": []
  }
 ],
 "metadata": {
  "kernelspec": {
   "display_name": "Python [conda env:base] *",
   "language": "python",
   "name": "conda-base-py"
  },
  "language_info": {
   "codemirror_mode": {
    "name": "ipython",
    "version": 3
   },
   "file_extension": ".py",
   "mimetype": "text/x-python",
   "name": "python",
   "nbconvert_exporter": "python",
   "pygments_lexer": "ipython3",
   "version": "3.13.5"
  }
 },
 "nbformat": 4,
 "nbformat_minor": 5
}
