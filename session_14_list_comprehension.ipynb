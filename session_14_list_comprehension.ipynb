{
 "cells": [
  {
   "cell_type": "markdown",
   "id": "0c81d281-9a34-4338-9a00-f41f8fc3b558",
   "metadata": {},
   "source": [
    "**List comprehension**\n",
    "\n",
    "- Writing list operation in a single line is called as list comprehension.\n",
    "  \n",
    "- Core processing Will be increase  When we use. Forloop and if conditions. \n",
    "\n",
    "- List comprehension will reduce the The processing time."
   ]
  },
  {
   "cell_type": "markdown",
   "id": "9fddaaf8-6f53-459f-b5dc-c69c29b7b70c",
   "metadata": {},
   "source": [
    "$case-1$ list with for loop"
   ]
  },
  {
   "cell_type": "code",
   "execution_count": 2,
   "id": "3b4152ec-f26a-47c5-a5ca-6417c69c0e48",
   "metadata": {},
   "outputs": [
    {
     "data": {
      "text/plain": [
       "[1, 2, 3, 4, 5, 6, 7, 8, 9, 10]"
      ]
     },
     "execution_count": 2,
     "metadata": {},
     "output_type": "execute_result"
    }
   ],
   "source": [
    "# append 1 to 10 numbers in a list\n",
    "l=[]\n",
    "for i in range(1,11):\n",
    "    l.append(i)\n",
    "l"
   ]
  },
  {
   "cell_type": "code",
   "execution_count": null,
   "id": "1190ddd0-2675-48f8-917c-ac714260f960",
   "metadata": {},
   "outputs": [],
   "source": [
    "Q10 input=['hyd','bengaluru','mumbai','chennai']\n",
    "    Output=['Hyd','Bengaluru','Mumbai','Chennai']\n",
    "\n",
    "Q2) Input."
   ]
  },
  {
   "cell_type": "code",
   "execution_count": 4,
   "id": "dbc48651-5582-4576-996c-5a23d412e07f",
   "metadata": {},
   "outputs": [
    {
     "data": {
      "text/plain": [
       "['Hyd', 'Bengaluru', 'Mumbai', 'Chennai']"
      ]
     },
     "execution_count": 4,
     "metadata": {},
     "output_type": "execute_result"
    }
   ],
   "source": [
    "Input=['hyd','bengaluru','mumbai','chennai']\n",
    "output=[]\n",
    "for i in Input:\n",
    "    output.append(i.title())\n",
    "output"
   ]
  },
  {
   "cell_type": "code",
   "execution_count": 5,
   "id": "bbb805f8-e50b-4535-96fa-da697f4bd767",
   "metadata": {},
   "outputs": [
    {
     "data": {
      "text/plain": [
       "['HYD', 'BENGALURU', 'MUMBAI', 'CHENNAI']"
      ]
     },
     "execution_count": 5,
     "metadata": {},
     "output_type": "execute_result"
    }
   ],
   "source": [
    "Input=['hyd','bengaluru','mumbai','chennai']\n",
    "output=[i.upper() for i in Input]\n",
    "output\n",
    "    "
   ]
  },
  {
   "cell_type": "code",
   "execution_count": 6,
   "id": "ac7875be-42d9-43b5-9b64-c8e0c4f4a38a",
   "metadata": {},
   "outputs": [
    {
     "data": {
      "text/plain": [
       "['Hyd', 'Bengaluru', 'Mumbai', 'Chennai']"
      ]
     },
     "execution_count": 6,
     "metadata": {},
     "output_type": "execute_result"
    }
   ],
   "source": [
    "Input=['hyd','bengaluru','mumbai','chennai']\n",
    "output=[i.title() for i in Input]\n",
    "output\n",
    "    "
   ]
  },
  {
   "cell_type": "markdown",
   "id": "0860600e-69a4-4af1-ad4b-11e09ce22885",
   "metadata": {},
   "source": [
    "$Case-2$:**for-if condition**"
   ]
  },
  {
   "cell_type": "code",
   "execution_count": null,
   "id": "24e1436a-52f2-4caf-9c88-dbc238136666",
   "metadata": {},
   "outputs": [],
   "source": [
    "[<output> <for loop>]\n",
    "[<output> <for loop> <if condition>]"
   ]
  },
  {
   "cell_type": "code",
   "execution_count": 12,
   "id": "25f36f33-b78e-4e1a-8a5e-50afa0a038c8",
   "metadata": {},
   "outputs": [
    {
     "data": {
      "text/plain": [
       "[54, 98, 14]"
      ]
     },
     "execution_count": 12,
     "metadata": {},
     "output_type": "execute_result"
    }
   ],
   "source": [
    "import random\n",
    "numbers=[random.randint(1,100) for i in range(5)]\n",
    "even_list=[]\n",
    "for i in  numbers:\n",
    "    if i%2==0:\n",
    "        even_list.append(i)\n",
    "even_list"
   ]
  },
  {
   "cell_type": "code",
   "execution_count": 14,
   "id": "191ae6ac-f2d7-409f-833b-0cd9f9cc771c",
   "metadata": {},
   "outputs": [],
   "source": [
    "import random\n",
    "numbers=[random.randint(1,100) for i in range(5)]\n",
    "evens=[i for i in numbers if i%2==0]\n",
    "odds=[i for i in numbers if i%2!=0]"
   ]
  },
  {
   "cell_type": "code",
   "execution_count": 19,
   "id": "6619eb0e-97ad-41a9-a019-4f8dca629fca",
   "metadata": {},
   "outputs": [
    {
     "data": {
      "text/plain": [
       "['hyd', 'bengaluru', 'mumbai', 'chennai']"
      ]
     },
     "execution_count": 19,
     "metadata": {},
     "output_type": "execute_result"
    }
   ],
   "source": [
    "Input=['hyd','bengaluru','mumbai','chennai']\n",
    "output_1=[i for i in Input if '#' in i]\n",
    "output_2=[i for i in  Input if '#' not in  i]\n",
    "output1"
   ]
  },
  {
   "cell_type": "markdown",
   "id": "37bf6467-7800-464c-8896-11ae8e8ffde5",
   "metadata": {},
   "source": [
    "$case-3$:**for-if-else**"
   ]
  },
  {
   "cell_type": "code",
   "execution_count": 22,
   "id": "cdf6d597-4c17-41e7-a48b-de4136b75fb1",
   "metadata": {},
   "outputs": [],
   "source": [
    "[<output> <for loop>]\n",
    "[<output> <for loop> <if cond>]\n",
    "[<if out> <if cond> else <else out> for loop]"
   ]
  },
  {
   "cell_type": "code",
   "execution_count": 24,
   "id": "4b625d1e-2e7f-4286-8fda-33642027d1ca",
   "metadata": {},
   "outputs": [],
   "source": [
    "numbers=[random.randint(1,100) for i in range(1,100)]\n",
    "\n",
    "Input = [1, 2, 3, 4, 5, 6, 7, 8, 9, 10]\n",
    "even_numbers = [i for i in Input if i % 2 == 0]\n",
    "odd_numbers = [i for i in Input if i % 2 != 0]\n",
    "print(\"Even:\", even_numbers)\n",
    "print(\"Odd:\", odd_numbers)"
   ]
  },
  {
   "cell_type": "code",
   "execution_count": 2,
   "id": "54b093a7-331c-4292-a4f0-f11446c20dbf",
   "metadata": {},
   "outputs": [
    {
     "data": {
      "text/plain": [
       "[76, 89, 53, 67, 90, 82, 99]"
      ]
     },
     "execution_count": 2,
     "metadata": {},
     "output_type": "execute_result"
    }
   ],
   "source": [
    "marks=[45,76,89,53,67,90,82,49,33,99]\n",
    "filtered_marks = [mark for mark in marks if mark >= 50]\n",
    "filtered_marks"
   ]
  },
  {
   "cell_type": "code",
   "execution_count": 4,
   "id": "dbe0281a-e57e-475f-be86-cdcdfb67698e",
   "metadata": {},
   "outputs": [
    {
     "name": "stdout",
     "output_type": "stream",
     "text": [
      "Student 10: Mark = 45, Grade = F\n",
      "Student 10: Mark = 76, Grade = B\n",
      "Student 10: Mark = 89, Grade = A\n",
      "Student 10: Mark = 53, Grade = C\n",
      "Student 10: Mark = 67, Grade = C\n",
      "Student 10: Mark = 90, Grade = A\n",
      "Student 10: Mark = 82, Grade = B\n",
      "Student 10: Mark = 49, Grade = F\n",
      "Student 10: Mark = 33, Grade = F\n",
      "Student 10: Mark = 99, Grade = A\n"
     ]
    }
   ],
   "source": [
    "marks = [45, 76, 89, 53, 67, 90, 82, 49, 33, 99]\n",
    "grades = []\n",
    "for mark in marks:\n",
    "    if mark >= 85:\n",
    "        grade = 'A'\n",
    "    elif mark >= 70:\n",
    "        grade = 'B'\n",
    "    elif mark >= 50:\n",
    "        grade = 'C'\n",
    "    else:\n",
    "        grade = 'F'\n",
    "    grades.append(grade)\n",
    "# for i, (mark, grade) in enumerate(zip(marks, grades), start=1):\n",
    "    print(f\"Student {i}: Mark = {mark}, Grade = {grade}\")\n"
   ]
  },
  {
   "cell_type": "markdown",
   "id": "50aeb65e-67cc-41fc-829f-72178e1b803f",
   "metadata": {},
   "source": [
    "**valuras opreators**"
   ]
  },
  {
   "cell_type": "code",
   "execution_count": 6,
   "id": "ed3ff979-c48a-4d40-a590-8ac33d37dd1e",
   "metadata": {},
   "outputs": [
    {
     "data": {
      "text/plain": [
       "5.5"
      ]
     },
     "execution_count": 6,
     "metadata": {},
     "output_type": "execute_result"
    }
   ],
   "source": [
    "num=list(range(1,11))\n",
    "summ=0\n",
    "# [summ=summ+i for i in num]\n",
    "# i will not support = \n",
    "# i will support == \n",
    "# i will suppoer valurus opretor :=\n",
    "summ=[summ:=summ+i for i in num]\n",
    "summ[-1]/len(num)"
   ]
  },
  {
   "cell_type": "code",
   "execution_count": 7,
   "id": "35797cc3-355f-4b0f-83bb-f0b590cc21aa",
   "metadata": {},
   "outputs": [
    {
     "data": {
      "text/plain": [
       "68.3"
      ]
     },
     "execution_count": 7,
     "metadata": {},
     "output_type": "execute_result"
    }
   ],
   "source": [
    "marks = [45, 76, 89, 53, 67, 90, 82, 49, 33, 99]\n",
    "summ=0\n",
    "summ=[summ:=summ+i for i in marks]\n",
    "summ[-1]/len(marks)"
   ]
  },
  {
   "cell_type": "code",
   "execution_count": 9,
   "id": "e2e28dee-37b4-4558-a3a8-7975c414c9e8",
   "metadata": {},
   "outputs": [
    {
     "name": "stdout",
     "output_type": "stream",
     "text": [
      "1\n",
      "2\n",
      "3\n",
      "4\n",
      "5\n",
      "6\n",
      "7\n",
      "8\n",
      "9\n",
      "10\n"
     ]
    },
    {
     "data": {
      "text/plain": [
       "10"
      ]
     },
     "execution_count": 9,
     "metadata": {},
     "output_type": "execute_result"
    }
   ],
   "source": [
    "num=list(range(1,11))\n",
    "summ=0\n",
    "for i in num:\n",
    "    summ=summ+1\n",
    "    print(summ)\n",
    "summ"
   ]
  },
  {
   "cell_type": "code",
   "execution_count": null,
   "id": "10c6dde4-f2aa-488a-8547-7934ace97b6d",
   "metadata": {},
   "outputs": [],
   "source": []
  }
 ],
 "metadata": {
  "kernelspec": {
   "display_name": "Python [conda env:base] *",
   "language": "python",
   "name": "conda-base-py"
  },
  "language_info": {
   "codemirror_mode": {
    "name": "ipython",
    "version": 3
   },
   "file_extension": ".py",
   "mimetype": "text/x-python",
   "name": "python",
   "nbconvert_exporter": "python",
   "pygments_lexer": "ipython3",
   "version": "3.13.5"
  }
 },
 "nbformat": 4,
 "nbformat_minor": 5
}
