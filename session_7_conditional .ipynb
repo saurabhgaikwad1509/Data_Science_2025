{
 "cells": [
  {
   "cell_type": "code",
   "execution_count": 1,
   "id": "1a2b683d-f286-4ee7-a361-99861e0ba66c",
   "metadata": {},
   "outputs": [],
   "source": [
    "import math\n"
   ]
  },
  {
   "cell_type": "code",
   "execution_count": 3,
   "id": "e5a2af06-4fb7-40aa-91f1-ea8b13233054",
   "metadata": {},
   "outputs": [
    {
     "data": {
      "text/plain": [
       "25"
      ]
     },
     "execution_count": 3,
     "metadata": {},
     "output_type": "execute_result"
    }
   ],
   "source": [
    "math.floor(25.67)"
   ]
  },
  {
   "cell_type": "code",
   "execution_count": 4,
   "id": "2740760f-b7b1-4555-944d-3d81551d4716",
   "metadata": {},
   "outputs": [
    {
     "data": {
      "text/plain": [
       "25"
      ]
     },
     "execution_count": 4,
     "metadata": {},
     "output_type": "execute_result"
    }
   ],
   "source": [
    "math.floor(25.37)"
   ]
  },
  {
   "cell_type": "code",
   "execution_count": null,
   "id": "c011cbbe-fb77-42d7-90ee-b4d24eea6326",
   "metadata": {},
   "outputs": [],
   "source": [
    "import "
   ]
  },
  {
   "cell_type": "markdown",
   "id": "2bdd1cfb-5b54-4b88-bd3f-6e50154ade9c",
   "metadata": {},
   "source": [
    "**how to take the numbers**"
   ]
  },
  {
   "cell_type": "code",
   "execution_count": 5,
   "id": "1862dd9d-76b7-4efa-af3c-84e9b7247385",
   "metadata": {},
   "outputs": [
    {
     "name": "stdout",
     "output_type": "stream",
     "text": [
      "30\n"
     ]
    }
   ],
   "source": [
    "a=10 #hardcoded\n",
    "b=20\n",
    "c=a+b\n",
    "print(c)"
   ]
  },
  {
   "cell_type": "code",
   "execution_count": 6,
   "id": "e8c29a3d-c0e1-41c0-be27-f93c75786ea9",
   "metadata": {},
   "outputs": [
    {
     "name": "stdin",
     "output_type": "stream",
     "text": [
      "enter the number 1 10\n",
      "enter the number 2 10\n"
     ]
    },
    {
     "name": "stdout",
     "output_type": "stream",
     "text": [
      "20\n"
     ]
    }
   ],
   "source": [
    "a=eval(input('enter the number 1'))\n",
    "b=eval(input('enter the number 2'))\n",
    "c=a+b\n",
    "print(c)"
   ]
  },
  {
   "cell_type": "code",
   "execution_count": 13,
   "id": "ff7cd91f-7f52-4f52-ac3f-27e8872a0415",
   "metadata": {},
   "outputs": [
    {
     "name": "stdout",
     "output_type": "stream",
     "text": [
      "the addition of 93 and 79 is: 172\n"
     ]
    }
   ],
   "source": [
    "import random \n",
    "a=random.randint(1,100)\n",
    "b=random.randint(1,100)\n",
    "c=a+b\n",
    "print(f\"the addition of {a} and {b} is: {c}\")"
   ]
  },
  {
   "cell_type": "code",
   "execution_count": null,
   "id": "7afdcbef-1ed4-47df-b1ac-c1cbc7c589ac",
   "metadata": {},
   "outputs": [],
   "source": [
    "ramesh 22 years 1 lack enjoyman 25 years \n",
    "suresh 22 years 1 lack mutualfunds learn omkar sir 25 years \n"
   ]
  },
  {
   "cell_type": "markdown",
   "id": "344a3763-9dc4-475e-9322-b201bbaeecd2",
   "metadata": {},
   "source": [
    "## Conditional statements"
   ]
  },
  {
   "cell_type": "code",
   "execution_count": null,
   "id": "676934b7-570b-4a0c-a262-ef103071e811",
   "metadata": {},
   "outputs": [],
   "source": [
    "i want to do something bace on condition \n",
    "i want to say hello \n",
    "i want to say hello if you know to me \n",
    "i want tocome to the class\n",
    "i want to go to the class if there rain is otherwise ground."
   ]
  },
  {
   "cell_type": "code",
   "execution_count": null,
   "id": "52fc58eb-9451-4595-82d2-adb33381b7a8",
   "metadata": {},
   "outputs": [],
   "source": [
    "if : i want to say hello if you know to me \n",
    "if else :i want to go to the class if there rain is otherwise ground\n",
    "if elif else :i want to go to the class i there is rain. \n",
    "               otherwise i will study at home if father is there otherwise ground."
   ]
  },
  {
   "cell_type": "markdown",
   "id": "dfc7040c-cb1c-43cc-8d63-255c41226dc1",
   "metadata": {},
   "source": [
    "## if "
   ]
  },
  {
   "cell_type": "code",
   "execution_count": null,
   "id": "a90bec24-41cf-47e0-bc9e-8f8e37722ed5",
   "metadata": {},
   "outputs": [],
   "source": [
    "if <condition>: \n",
    "    # code line\n",
    "    #\n",
    "    "
   ]
  },
  {
   "cell_type": "code",
   "execution_count": 15,
   "id": "163adbed-8434-422b-a329-67f3fe5d12b2",
   "metadata": {},
   "outputs": [
    {
     "name": "stdout",
     "output_type": "stream",
     "text": [
      "hello\n"
     ]
    }
   ],
   "source": [
    "if 10>1:\n",
    "    print('hello')"
   ]
  },
  {
   "cell_type": "code",
   "execution_count": 17,
   "id": "e40b8e06-4565-4e64-abcc-272b16cd4383",
   "metadata": {},
   "outputs": [
    {
     "name": "stdout",
     "output_type": "stream",
     "text": [
      "hello\n"
     ]
    }
   ],
   "source": [
    "if 10==10:\n",
    "    print(\"hello\")"
   ]
  },
  {
   "cell_type": "code",
   "execution_count": 19,
   "id": "cf592dc4-3134-4189-9821-f84ee727dfeb",
   "metadata": {},
   "outputs": [
    {
     "name": "stdout",
     "output_type": "stream",
     "text": [
      "hello\n"
     ]
    }
   ],
   "source": [
    "if True :\n",
    "    print(\"hello\")\n",
    "    "
   ]
  },
  {
   "cell_type": "markdown",
   "id": "ff87b7d2-10f0-469f-8988-c3f8564286a4",
   "metadata": {},
   "source": [
    "**mistake-1**"
   ]
  },
  {
   "cell_type": "code",
   "execution_count": 21,
   "id": "615acc04-9b81-4297-8f2d-02ac60ded077",
   "metadata": {},
   "outputs": [
    {
     "name": "stdout",
     "output_type": "stream",
     "text": [
      "hello\n"
     ]
    }
   ],
   "source": [
    "if True :\n",
    "    print(\"hello\") # space  # tab\n",
    "    "
   ]
  },
  {
   "cell_type": "code",
   "execution_count": null,
   "id": "2884755b-c52d-4bee-aa71-b99472c7b0ea",
   "metadata": {},
   "outputs": [],
   "source": [
    "if True :\n",
    "    print(\"hello\") # backspace till : then to enter \n"
   ]
  },
  {
   "cell_type": "code",
   "execution_count": 22,
   "id": "6f503839-a9d4-4b19-8f9c-6d93b6a693a7",
   "metadata": {},
   "outputs": [
    {
     "name": "stdout",
     "output_type": "stream",
     "text": [
      "hello\n"
     ]
    }
   ],
   "source": [
    "if True :\n",
    "    print(\"hello\")  #space bar"
   ]
  },
  {
   "cell_type": "code",
   "execution_count": 24,
   "id": "ea1619fb-7b9a-403d-82ad-194ce0662996",
   "metadata": {},
   "outputs": [
    {
     "name": "stdout",
     "output_type": "stream",
     "text": [
      "\n"
     ]
    }
   ],
   "source": [
    "if True:\n",
    "    print('')"
   ]
  },
  {
   "cell_type": "markdown",
   "id": "b0be1366-bb6e-46ac-9440-c43212602904",
   "metadata": {},
   "source": [
    "**mistake-2**"
   ]
  },
  {
   "cell_type": "code",
   "execution_count": 31,
   "id": "d80cfa06-5c63-4230-9231-c4e58755d6b9",
   "metadata": {},
   "outputs": [],
   "source": [
    "if 10>20:\n",
    "    print('hello')\n",
    "    print('hai')"
   ]
  },
  {
   "cell_type": "code",
   "execution_count": 32,
   "id": "e9ccca28-f314-4815-991a-caf3e7a8aeee",
   "metadata": {},
   "outputs": [
    {
     "name": "stdout",
     "output_type": "stream",
     "text": [
      "hello\n",
      "hai\n"
     ]
    }
   ],
   "source": [
    "if 10>0:\n",
    "    print('hello')\n",
    "    print('hai')"
   ]
  },
  {
   "cell_type": "code",
   "execution_count": 33,
   "id": "2f871ef7-1615-4abf-a39e-e9b6d940fa1a",
   "metadata": {},
   "outputs": [
    {
     "ename": "IndentationError",
     "evalue": "unexpected indent (3376419109.py, line 3)",
     "output_type": "error",
     "traceback": [
      "\u001b[1;36m  Cell \u001b[1;32mIn[33], line 3\u001b[1;36m\u001b[0m\n\u001b[1;33m    print('hai')\u001b[0m\n\u001b[1;37m    ^\u001b[0m\n\u001b[1;31mIndentationError\u001b[0m\u001b[1;31m:\u001b[0m unexpected indent\n"
     ]
    }
   ],
   "source": [
    "if 10>0:\n",
    "    print('hello')\n",
    "         print('hai')"
   ]
  },
  {
   "cell_type": "code",
   "execution_count": 34,
   "id": "cde0f4e9-d297-41a1-824f-e85a63f4445f",
   "metadata": {},
   "outputs": [
    {
     "name": "stdout",
     "output_type": "stream",
     "text": [
      "hello\n",
      "hai\n"
     ]
    }
   ],
   "source": [
    "if 10>0:\n",
    "    print('hello')\n",
    "###############  \n",
    "print('hai')"
   ]
  },
  {
   "cell_type": "code",
   "execution_count": 35,
   "id": "6ffcee97-2e01-410c-b128-b3959c77585d",
   "metadata": {},
   "outputs": [
    {
     "name": "stdout",
     "output_type": "stream",
     "text": [
      "hello\n",
      "hai\n",
      "bye\n"
     ]
    }
   ],
   "source": [
    "print('hello')\n",
    "################\n",
    "if True:\n",
    "    print('hai')\n",
    "####################\n",
    "print('bye')"
   ]
  },
  {
   "cell_type": "code",
   "execution_count": 36,
   "id": "4350abd1-c6ad-4712-87b8-b850ad71a946",
   "metadata": {},
   "outputs": [
    {
     "name": "stdout",
     "output_type": "stream",
     "text": [
      "hello\n",
      "bye\n"
     ]
    }
   ],
   "source": [
    "print('hello')\n",
    "################\n",
    "if False:\n",
    "    print('hai')\n",
    "####################\n",
    "print('bye')"
   ]
  },
  {
   "cell_type": "code",
   "execution_count": 37,
   "id": "c85a5922-3a22-4c36-b0bf-8a9fdc21a3eb",
   "metadata": {},
   "outputs": [
    {
     "name": "stdout",
     "output_type": "stream",
     "text": [
      "hello\n",
      "hai\n",
      "hai\n",
      "haa\n",
      "bye\n"
     ]
    }
   ],
   "source": [
    "print('hello')\n",
    "if True:\n",
    "    print('hai')\n",
    "    print('hai')\n",
    "    if True:\n",
    "        print('haa')\n",
    "print('bye')"
   ]
  },
  {
   "cell_type": "code",
   "execution_count": 38,
   "id": "da1d63cf-2411-45ad-b050-2a6ddc2f20ea",
   "metadata": {},
   "outputs": [
    {
     "name": "stdout",
     "output_type": "stream",
     "text": [
      "hello\n",
      "hai\n",
      "hai\n",
      "bye\n"
     ]
    }
   ],
   "source": [
    "print('hello')\n",
    "if True:\n",
    "    print('hai')\n",
    "    print('hai')\n",
    "    if False:\n",
    "        print('haa')\n",
    "print('bye')"
   ]
  },
  {
   "cell_type": "code",
   "execution_count": 42,
   "id": "30141524-0336-448c-a319-5cdaac0b2cc5",
   "metadata": {},
   "outputs": [
    {
     "name": "stdout",
     "output_type": "stream",
     "text": [
      "hello\n",
      "bye\n"
     ]
    }
   ],
   "source": [
    "print('hello')\n",
    "if False:\n",
    "    print('hai')\n",
    "    print('hai')\n",
    "    if True:\n",
    "        print('haa')\n",
    "print('bye')"
   ]
  },
  {
   "cell_type": "code",
   "execution_count": 43,
   "id": "26fbbbfa-778a-44d4-82ef-8db9763082ef",
   "metadata": {},
   "outputs": [
    {
     "name": "stdout",
     "output_type": "stream",
     "text": [
      "hello\n",
      "haa\n",
      "bye\n"
     ]
    }
   ],
   "source": [
    "print('hello')\n",
    "if False:\n",
    "    print('hai')\n",
    "    print('hai')\n",
    "if True:    #sapce are \n",
    "        print('haa')\n",
    "print('bye')"
   ]
  },
  {
   "cell_type": "code",
   "execution_count": 44,
   "id": "bc26dda0-3480-4116-8658-559c9b848e66",
   "metadata": {},
   "outputs": [
    {
     "name": "stdout",
     "output_type": "stream",
     "text": [
      "hello\n",
      "bye\n"
     ]
    }
   ],
   "source": [
    "print('hello')\n",
    "if False:  # no entry \n",
    "    print('hai')\n",
    "    print('hai')\n",
    "    if False:\n",
    "        print('haa')\n",
    "print('bye')"
   ]
  },
  {
   "cell_type": "code",
   "execution_count": 46,
   "id": "5bd44ac5-f6f5-47fd-8cff-5cbdcb55ba77",
   "metadata": {},
   "outputs": [
    {
     "name": "stdout",
     "output_type": "stream",
     "text": [
      "hey\n",
      "haaa\n",
      "bye\n"
     ]
    }
   ],
   "source": [
    "if True:\n",
    "    print('hey')\n",
    "    if True:\n",
    "        print('haaa')\n",
    "        if True:\n",
    "            print('bye')\n",
    "    "
   ]
  },
  {
   "cell_type": "markdown",
   "id": "e8a758aa-688f-467f-ba9a-968a23494685",
   "metadata": {},
   "source": [
    "**if-else**"
   ]
  },
  {
   "cell_type": "code",
   "execution_count": 47,
   "id": "aca1b704-44f8-4c99-8f7f-c1df0357d2ba",
   "metadata": {},
   "outputs": [
    {
     "name": "stdout",
     "output_type": "stream",
     "text": [
      "hello\n"
     ]
    }
   ],
   "source": [
    "if True :\n",
    "    print('hello')\n",
    "else:\n",
    "    print('bye')"
   ]
  },
  {
   "cell_type": "code",
   "execution_count": 48,
   "id": "5e3e0f4c-e915-4f4c-8b80-c5126646003d",
   "metadata": {},
   "outputs": [
    {
     "name": "stdout",
     "output_type": "stream",
     "text": [
      "bye\n"
     ]
    }
   ],
   "source": [
    "if False:\n",
    "    print('hello')\n",
    "else:\n",
    "    print('bye')"
   ]
  },
  {
   "cell_type": "code",
   "execution_count": 49,
   "id": "c9324a11-21fb-4150-b26b-61f92740b321",
   "metadata": {},
   "outputs": [
    {
     "name": "stdout",
     "output_type": "stream",
     "text": [
      "hello\n",
      "bye\n"
     ]
    }
   ],
   "source": [
    "print('hello')\n",
    "if False:\n",
    "    print('hello')\n",
    "else:\n",
    "    print('bye')"
   ]
  },
  {
   "cell_type": "code",
   "execution_count": 51,
   "id": "741299cc-044f-458d-a069-4a15d9f8ef02",
   "metadata": {},
   "outputs": [
    {
     "name": "stdout",
     "output_type": "stream",
     "text": [
      "hello\n",
      "hai\n"
     ]
    }
   ],
   "source": [
    "print('hello')\n",
    "if True:\n",
    "    print('hai')\n",
    "else:\n",
    "    print('bye')"
   ]
  },
  {
   "cell_type": "code",
   "execution_count": 54,
   "id": "9a9647aa-4a56-44ae-a944-d1889960f11f",
   "metadata": {},
   "outputs": [
    {
     "ename": "SyntaxError",
     "evalue": "invalid syntax (3432412274.py, line 5)",
     "output_type": "error",
     "traceback": [
      "\u001b[1;36m  Cell \u001b[1;32mIn[54], line 5\u001b[1;36m\u001b[0m\n\u001b[1;33m    else:\u001b[0m\n\u001b[1;37m    ^\u001b[0m\n\u001b[1;31mSyntaxError\u001b[0m\u001b[1;31m:\u001b[0m invalid syntax\n"
     ]
    }
   ],
   "source": [
    "print('hai')\n",
    "if True:\n",
    "    print('hello')\n",
    "print('arry why are you in middle')\n",
    "else:\n",
    "    print('hai')\n",
    "print('bye')"
   ]
  },
  {
   "cell_type": "code",
   "execution_count": 55,
   "id": "0ea4a981-b694-4f27-85b6-9bf8d84c6116",
   "metadata": {},
   "outputs": [
    {
     "name": "stdout",
     "output_type": "stream",
     "text": [
      "hai\n",
      "hello\n",
      "1\n",
      "bye\n"
     ]
    }
   ],
   "source": [
    "print('hai')\n",
    "if True:\n",
    "    print('hello')\n",
    "    print('1')\n",
    "else:\n",
    "    print('hai')\n",
    "print('bye')"
   ]
  },
  {
   "cell_type": "code",
   "execution_count": null,
   "id": "cfa97762-d3c8-407d-9bff-f8f6d1f0fd8c",
   "metadata": {},
   "outputs": [],
   "source": [
    "print('hai')\n",
    "if True:\n",
    "    print('hello')\n",
    "    print('1')\n",
    "else:\n",
    "    print('hai')\n",
    "print('bye')"
   ]
  },
  {
   "cell_type": "code",
   "execution_count": 57,
   "id": "c1253594-30ff-4bce-a7fd-d13c5ed7405c",
   "metadata": {},
   "outputs": [
    {
     "name": "stdout",
     "output_type": "stream",
     "text": [
      "hai\n",
      "hello\n",
      "1\n",
      "bye\n"
     ]
    }
   ],
   "source": [
    "print('hai')\n",
    "if True:\n",
    "    print('hello')\n",
    "    if True:   # both are frd\n",
    "        print('1')\n",
    "    else:      # both are frd \n",
    "        print('no')\n",
    "else:\n",
    "    print('hai')\n",
    "print('bye')"
   ]
  },
  {
   "cell_type": "code",
   "execution_count": 63,
   "id": "c4ccf7d0-1d94-48f3-a77e-fffbf975e7ed",
   "metadata": {},
   "outputs": [
    {
     "name": "stdout",
     "output_type": "stream",
     "text": [
      "hai\n",
      "hello\n",
      "1\n",
      "2\n",
      "bye\n"
     ]
    }
   ],
   "source": [
    "print('hai')\n",
    "if True:\n",
    "    print('hello')\n",
    "    if True:  \n",
    "        print('1')\n",
    "        if True:\n",
    "            print('2')\n",
    "        else:\n",
    "            print('3')\n",
    "            \n",
    "    else:      \n",
    "        print('no')\n",
    "else:\n",
    "    print('hai')\n",
    "print('bye')"
   ]
  },
  {
   "cell_type": "code",
   "execution_count": 15,
   "id": "6621964f-50ba-4af7-9452-e2c1c7c7df74",
   "metadata": {},
   "outputs": [
    {
     "name": "stdout",
     "output_type": "stream",
     "text": [
      "this\n",
      "banana\n",
      "mango\n",
      "are fruits\n"
     ]
    }
   ],
   "source": [
    "print('this')\n",
    "if True:\n",
    "    print('banana')\n",
    "    if False:  \n",
    "        print('apple')\n",
    "        if True:\n",
    "            print('cherry')\n",
    "        else:\n",
    "            print('chikku')\n",
    "            \n",
    "    else:      \n",
    "        print('mango')\n",
    "else:\n",
    "    print('santra')\n",
    "print('are fruits')"
   ]
  },
  {
   "cell_type": "code",
   "execution_count": 20,
   "id": "ee1056b5-b9ff-4d66-8708-041e7bc83c01",
   "metadata": {},
   "outputs": [
    {
     "name": "stdout",
     "output_type": "stream",
     "text": [
      "HELLO\n",
      "MY NAME\n",
      "IS\n",
      "SAURABH\n",
      "MY NAME IS RUSHI\n",
      "finish\n"
     ]
    }
   ],
   "source": [
    "print ('HELLO')\n",
    "if True:\n",
    "    print('MY NAME')\n",
    "    if True:\n",
    "        print('IS')\n",
    "        if True:\n",
    "            print('SAURABH')\n",
    "            if False:\n",
    "                print('GAIKWAD')\n",
    "            else:\n",
    "                print('MY NAME IS RUSHI')\n",
    "        else:\n",
    "            print('MY NAME IS TEJAS')\n",
    "    else:\n",
    "        print('MY NAME IS OMKAR')\n",
    "else:\n",
    "    print('MY NAME IS PRASAD')\n",
    "print('finish')\n",
    "    "
   ]
  },
  {
   "cell_type": "code",
   "execution_count": null,
   "id": "0139be72-5866-4e2d-a943-43726e655b2c",
   "metadata": {},
   "outputs": [],
   "source": [
    "print('sbfsdf')\n",
    "if "
   ]
  },
  {
   "cell_type": "code",
   "execution_count": 7,
   "id": "12cbf652-0591-4ce7-bffa-1e165831831f",
   "metadata": {},
   "outputs": [
    {
     "name": "stdin",
     "output_type": "stream",
     "text": [
      "enter a number 10\n"
     ]
    },
    {
     "name": "stdout",
     "output_type": "stream",
     "text": [
      " 10 the number is positive\n"
     ]
    }
   ],
   "source": [
    "# Q1) WAP ask the user enter a number print positive if number is greater than >0 otherwise print negative \n",
    "num=eval(input('enter a number'))\n",
    "if num>0:\n",
    "    print(f\" {num} the number is positive\")\n",
    "else:\n",
    "    print(f\"{num} the number is negative\")\n",
    "    "
   ]
  },
  {
   "cell_type": "code",
   "execution_count": 7,
   "id": "f5c2ee5a-63cb-45bd-9da4-795df2141a80",
   "metadata": {},
   "outputs": [
    {
     "name": "stdout",
     "output_type": "stream",
     "text": [
      " 39 the number is positive\n"
     ]
    }
   ],
   "source": [
    "import random\n",
    "num=random.randint(-100,100)\n",
    "if num>0:\n",
    "    print(f\" {num} the number is positive\")\n",
    "else:\n",
    "    print(f\"{num} the number is negative\")\n",
    "    "
   ]
  },
  {
   "cell_type": "code",
   "execution_count": 12,
   "id": "930248a5-e45e-4de6-9e81-70da44663883",
   "metadata": {},
   "outputs": [
    {
     "name": "stdout",
     "output_type": "stream",
     "text": [
      "-36 negative\n"
     ]
    }
   ],
   "source": [
    "# ask the user enter a number \n",
    "# if num>0\n",
    "#    if num>0:\n",
    "#        print(zero)\n",
    "#   else:\n",
    "#       print(positive)\n",
    "# else: \n",
    "#    negative\n",
    "\n",
    "import random\n",
    "num=random.randint(-100,100)\n",
    "if num>0:\n",
    "    if num==0:\n",
    "        print('zero')\n",
    "    else:\n",
    "        print(f'{num} is a positive')\n",
    "else:\n",
    "    print(f'{num} is a negative')"
   ]
  },
  {
   "cell_type": "code",
   "execution_count": 14,
   "id": "89f38125-bd61-449a-9c42-4f46a20c1c41",
   "metadata": {},
   "outputs": [
    {
     "name": "stdin",
     "output_type": "stream",
     "text": [
      "enter the number 1: 25\n",
      "enter the number 2: 22\n"
     ]
    },
    {
     "name": "stdout",
     "output_type": "stream",
     "text": [
      "25 is greater\n"
     ]
    }
   ],
   "source": [
    "# Q3) wap ask the user take two numbers n1 and n2 print is which is greatest number \n",
    "\n",
    "n1=eval(input('enter the number 1:'))\n",
    "n2=eval(input('enter the number 2:'))\n",
    "if n1>n2:\n",
    "    print(f'{n1} is greater')\n",
    "else:\n",
    "    print(f'{n2} is greater')\n"
   ]
  },
  {
   "cell_type": "code",
   "execution_count": 23,
   "id": "e16e80ce-1a7b-49fb-a93a-b710926b9f1a",
   "metadata": {},
   "outputs": [
    {
     "name": "stdout",
     "output_type": "stream",
     "text": [
      "55 is greater\n"
     ]
    }
   ],
   "source": [
    "# Q3) wap ask the user take two numbers n1 and n2 print is which is greatest number \n",
    "\n",
    "import random\n",
    "n1=random.randint(0,100)\n",
    "if n1>n1:\n",
    "     print(f'{n1} is greater')\n",
    "else:\n",
    "    print(f'{n1} is greater')\n"
   ]
  },
  {
   "cell_type": "code",
   "execution_count": 26,
   "id": "4675fd6f-ebef-4c5f-85be-4c2cc9e9f302",
   "metadata": {},
   "outputs": [
    {
     "name": "stdin",
     "output_type": "stream",
     "text": [
      "enter the number 2\n"
     ]
    },
    {
     "name": "stdout",
     "output_type": "stream",
     "text": [
      "won\n"
     ]
    }
   ],
   "source": [
    "# Q3) \n",
    "user_num=eval(input('enter the number'))\n",
    "random_num=random.randint(1,10)\n",
    "if user_num==random_num:\n",
    "    print('won')\n",
    "else:\n",
    "    print('khatam jindagi')"
   ]
  },
  {
   "cell_type": "code",
   "execution_count": 42,
   "id": "6a3d2b92-8577-43b4-9077-adb57137f2ef",
   "metadata": {},
   "outputs": [
    {
     "name": "stdin",
     "output_type": "stream",
     "text": [
      "enter the distance 75\n",
      "km percharge 2\n"
     ]
    },
    {
     "name": "stdout",
     "output_type": "stream",
     "text": [
      "the total prise is50km*2rs=100\n"
     ]
    }
   ],
   "source": [
    "dist=eval(input('enter the distance'))\n",
    "if dist>25:\n",
    "    travel_dis=dist-25\n",
    "    charge=eval(input('km percharge'))\n",
    "    total_price=travel_dis*charge\n",
    "    print(f'the total prise is {travel_dis}km*{charge}rs={total_price}')\n",
    "else:\n",
    "    print('hello')"
   ]
  },
  {
   "cell_type": "code",
   "execution_count": 3,
   "id": "60041cb5-a09b-4948-b346-28e4c23e7be8",
   "metadata": {},
   "outputs": [
    {
     "name": "stdout",
     "output_type": "stream",
     "text": [
      "52 is an odd number\n"
     ]
    }
   ],
   "source": [
    "import random\n",
    "num=random.randint(1,100)\n",
    "if num/2==0:\n",
    "    print(f\"{num} is even number\")\n",
    "else:\n",
    "    print(f\"{num} is an odd number\")"
   ]
  },
  {
   "cell_type": "code",
   "execution_count": 7,
   "id": "5e3b65a7-c298-4ad1-b572-7a29fc972c55",
   "metadata": {},
   "outputs": [
    {
     "name": "stdin",
     "output_type": "stream",
     "text": [
      "enter the cource name : Data science\n",
      "enter the instu name : Naresh IT\n"
     ]
    },
    {
     "name": "stdout",
     "output_type": "stream",
     "text": [
      "life is secure\n"
     ]
    }
   ],
   "source": [
    "cname=input('enter the cource name :')\n",
    "inst_name=input('enter the instu name :')\n",
    "if cname==\"Data science\" and inst_name==\"Naresh IT\":\n",
    "    print('life is secure')\n",
    "else:\n",
    "    print('khatam your jindagi')\n"
   ]
  },
  {
   "cell_type": "code",
   "execution_count": 2,
   "id": "e1b6530d-692b-44db-af9f-92fd0fb02991",
   "metadata": {},
   "outputs": [
    {
     "name": "stdin",
     "output_type": "stream",
     "text": [
      "enter the cource name: data science\n",
      "enter the instuitute name: naresh it\n"
     ]
    },
    {
     "name": "stdout",
     "output_type": "stream",
     "text": [
      "life is secure\n"
     ]
    }
   ],
   "source": [
    "cname=input('enter the cource name:')\n",
    "inst_name=input('enter the instuitute name:')\n",
    "con1=cname.lower()=='Data Science'.lower()\n",
    "con2=inst_name.lower()=='Naresh IT'.lower()\n",
    "if con1 and con2:\n",
    "    print('life is secure')\n",
    "else:\n",
    "    print('khatam your jindagi')\n"
   ]
  },
  {
   "cell_type": "code",
   "execution_count": null,
   "id": "106a9135-2fbb-4159-9a2d-bf78a9dda6fd",
   "metadata": {},
   "outputs": [],
   "source": []
  }
 ],
 "metadata": {
  "kernelspec": {
   "display_name": "Python [conda env:base] *",
   "language": "python",
   "name": "conda-base-py"
  },
  "language_info": {
   "codemirror_mode": {
    "name": "ipython",
    "version": 3
   },
   "file_extension": ".py",
   "mimetype": "text/x-python",
   "name": "python",
   "nbconvert_exporter": "python",
   "pygments_lexer": "ipython3",
   "version": "3.13.5"
  }
 },
 "nbformat": 4,
 "nbformat_minor": 5
}
