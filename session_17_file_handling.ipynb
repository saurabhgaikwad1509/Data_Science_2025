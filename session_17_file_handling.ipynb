{
 "cells": [
  {
   "cell_type": "code",
   "execution_count": null,
   "id": "66f6248a-f751-4552-8e63-91939f27759d",
   "metadata": {},
   "outputs": [],
   "source": [
    "File Name                    Type of file\n",
    "==================== Structures and Semi-Structured ====================\n",
    "Text                         .txt\n",
    "word                         .doc or .docx                            Package required\n",
    "Pdf                          .pdf                                     Package required\n",
    "CSV(Excel)                   .csv (Comma separated value)(tabular)    Package required\n",
    "Excel                        .xlsx (Tabular)                          Package required\n",
    "json                         .json (Dictionary key-value)             Package required\n",
    "\n",
    "==================== Unstructured ====================\n",
    "XML                          .xml (Image data)                        Package required\n",
    "Parquet                      .delta/.parquet (DE)                     Package required\n",
    "Delta                        .delta (DE)                              Package required\n",
    "Image                        .jpg, .JPEG, .png                        Package required\n",
    "Video                        .mp4                                     package required\n",
    "Audio                        .mp3                                     Package required"
   ]
  },
  {
   "cell_type": "markdown",
   "id": "c0ffcf5a-9c2c-4e73-b395-2ccb2030ae5a",
   "metadata": {},
   "source": [
    "**in  order to load the files we need 3 things**\n",
    "\n",
    "- where is file located \n",
    "\n",
    "- whats is the file name\n",
    "\n",
    "- what if the extention "
   ]
  },
  {
   "cell_type": "code",
   "execution_count": null,
   "id": "6ed82632-bc36-48f7-ac86-07cdf7c78a1d",
   "metadata": {},
   "outputs": [],
   "source": [
    "'C:\\Users\\Dell\\Documents\\NareshIT\\data files\\mbox-short.txt'   # dicrectory"
   ]
  },
  {
   "cell_type": "code",
   "execution_count": null,
   "id": "a458657f-f13d-4cda-ac79-85aab463f44b",
   "metadata": {},
   "outputs": [],
   "source": [
    "path=\"C:\\Users\\Dell\\Documents\\NareshIT\\data files\\mbox-short.txt\"    # copy the path direct"
   ]
  },
  {
   "cell_type": "code",
   "execution_count": 3,
   "id": "d7c13948-015b-418b-aba4-60d938baf107",
   "metadata": {},
   "outputs": [],
   "source": [
    "path='C:\\\\Users\\\\Dell\\\\Documents\\\\NareshIT\\\\data files\\\\mbox-short.txt'   # dicrectory"
   ]
  },
  {
   "cell_type": "code",
   "execution_count": 5,
   "id": "d1b2b88f-8964-4c2a-87d4-cdde482a2d00",
   "metadata": {},
   "outputs": [],
   "source": [
    "path=r'C:\\Users\\Dell\\Documents\\NareshIT\\data files\\mbox-short.txt'   # r means "
   ]
  },
  {
   "cell_type": "code",
   "execution_count": 6,
   "id": "26d4e540-6e44-47f5-943d-5c5db5fa4c21",
   "metadata": {},
   "outputs": [],
   "source": [
    "path=r\"C:\\Users\\Dell\\Documents\\NareshIT\\python_sessions\\data files\\mbox-short.txt\""
   ]
  },
  {
   "cell_type": "markdown",
   "id": "821505df-fc41-4907-bd48-5f1204b1cd13",
   "metadata": {},
   "source": [
    "**Method-1**"
   ]
  },
  {
   "cell_type": "code",
   "execution_count": 1,
   "id": "1942a86b-1278-42f4-8b3e-bef352f6ae4a",
   "metadata": {},
   "outputs": [],
   "source": [
    "path=r'C:\\Users\\Dell\\Documents\\NareshIT\\python_sessions\\mbox-short.txt'\n",
    "file=open(path)\n",
    "data=file.read()\n",
    "# print(data)"
   ]
  },
  {
   "cell_type": "markdown",
   "id": "284703c0-8dfa-48ef-bef9-72597a9109a6",
   "metadata": {},
   "source": [
    "- Unicode error\n",
    "\n",
    "- give double slash or mention\n",
    "\n",
    "- file not found entor\n",
    "\n",
    "    - go to that location which you provide ask your self: Am i seeing the \n",
    "\n",
    "    - if the answer is yex check each and every spell\n",
    "\n",
    "    - if everything is correct make sure the concatenation should be correct\n",
    "\n",
    "    - Anaconda it in C drive, file also should be in C drive\n",
    "\n",
    "- permission error\n",
    "\n",
    "    - file already open close the file and read\n",
    "\n",
    "    - even aftery close also coming same enor then restart the machine\n"
   ]
  },
  {
   "cell_type": "markdown",
   "id": "1eac0016-4dc4-4378-b264-4a3ac0ac5b0b",
   "metadata": {},
   "source": [
    "**Methods-2**"
   ]
  },
  {
   "cell_type": "code",
   "execution_count": 10,
   "id": "4d3ea107-f178-4b37-92b6-ddfe1bb1bbc1",
   "metadata": {},
   "outputs": [],
   "source": [
    "file_path=r'mbox-short.txt'\n",
    "file=open(file_path)\n",
    "data=file.read()\n",
    "# print(data)"
   ]
  },
  {
   "cell_type": "markdown",
   "id": "7dda8f66-a57d-4f93-b3f7-bf570557d983",
   "metadata": {},
   "source": [
    "**Method-3**"
   ]
  },
  {
   "cell_type": "code",
   "execution_count": 11,
   "id": "615ebcc1-0b17-43b2-9ef8-68ca0694bfb5",
   "metadata": {},
   "outputs": [],
   "source": [
    "file_path=r'mbox-short.txt'\n",
    "with open(file_path) as file:\n",
    "    data=file.read()\n",
    "# print(data)"
   ]
  },
  {
   "cell_type": "code",
   "execution_count": null,
   "id": "e08cef9f-6010-46fd-b368-8b216a658213",
   "metadata": {},
   "outputs": [],
   "source": [
    "file_path=r'mbox-short.txt'\n",
    "file=open(file_path)\n",
    "data=file.read()\n",
    "# print(data)"
   ]
  },
  {
   "cell_type": "code",
   "execution_count": 18,
   "id": "4ef04e34-0ce8-4c68-abe2-fe4b0eb1853f",
   "metadata": {},
   "outputs": [
    {
     "data": {
      "text/plain": [
       "18"
      ]
     },
     "execution_count": 18,
     "metadata": {},
     "output_type": "execute_result"
    }
   ],
   "source": [
    "path='dummy_file.text'\n",
    "file=open(path,mode='w')\n",
    "file.write('hello good morning')"
   ]
  },
  {
   "cell_type": "code",
   "execution_count": 19,
   "id": "15e883fb-e187-4a75-beda-6ac3ce5baa87",
   "metadata": {},
   "outputs": [
    {
     "data": {
      "text/plain": [
       "'hello good morning'"
      ]
     },
     "execution_count": 19,
     "metadata": {},
     "output_type": "execute_result"
    }
   ],
   "source": [
    "path='dummy_file.text'\n",
    "file=open(path,mode='r')\n",
    "file.read()"
   ]
  },
  {
   "cell_type": "code",
   "execution_count": null,
   "id": "1eda68b9-b417-42a3-a1fa-72c963512255",
   "metadata": {},
   "outputs": [],
   "source": []
  },
  {
   "cell_type": "code",
   "execution_count": null,
   "id": "f5226fd7-30c5-4948-a4a8-ecd7f2a04e03",
   "metadata": {},
   "outputs": [],
   "source": []
  },
  {
   "cell_type": "code",
   "execution_count": null,
   "id": "302ec833-56c0-4f47-a7f1-05b85ed4b677",
   "metadata": {},
   "outputs": [],
   "source": []
  },
  {
   "cell_type": "code",
   "execution_count": 15,
   "id": "8cc68fc7-4b6c-4587-b1d4-6d7429b2b3f1",
   "metadata": {},
   "outputs": [
    {
     "data": {
      "text/plain": [
       "18"
      ]
     },
     "execution_count": 15,
     "metadata": {},
     "output_type": "execute_result"
    }
   ],
   "source": [
    "path='file_w_mode.text'   # this is not existed \n",
    "file=open(path,mode='w')   # create new file and startinh the writing \n",
    "file.write('hello good morning')   # start writing\n",
    " "
   ]
  },
  {
   "cell_type": "code",
   "execution_count": 16,
   "id": "0630fedd-65a5-437c-baf7-2f57fa2a2150",
   "metadata": {},
   "outputs": [
    {
     "data": {
      "text/plain": [
       "'hello good morning'"
      ]
     },
     "execution_count": 16,
     "metadata": {},
     "output_type": "execute_result"
    }
   ],
   "source": [
    "file=open(path,mode='r')  # hello good morning\n",
    "file.read()"
   ]
  },
  {
   "cell_type": "code",
   "execution_count": 17,
   "id": "cc8baee1-f575-459b-97fc-6402a8e88862",
   "metadata": {},
   "outputs": [
    {
     "data": {
      "text/plain": [
       "14"
      ]
     },
     "execution_count": 17,
     "metadata": {},
     "output_type": "execute_result"
    }
   ],
   "source": [
    "path='dummy_file.text'\n",
    "file=open(path,mode='w')\n",
    "file.write('hello good eve')\n"
   ]
  },
  {
   "cell_type": "code",
   "execution_count": 18,
   "id": "fb46a485-a007-4700-80a2-2691aa31c6b5",
   "metadata": {},
   "outputs": [
    {
     "data": {
      "text/plain": [
       "'hello good eve'"
      ]
     },
     "execution_count": 18,
     "metadata": {},
     "output_type": "execute_result"
    }
   ],
   "source": [
    "file=open(path,mode='r')\n",
    "file.read()"
   ]
  },
  {
   "cell_type": "code",
   "execution_count": 1,
   "id": "ff2e0b49-c790-4661-bc1e-e55c3d219a19",
   "metadata": {},
   "outputs": [
    {
     "data": {
      "text/plain": [
       "'C:\\\\Users\\\\Dell\\\\Documents\\\\NareshIT\\\\python_sessions'"
      ]
     },
     "execution_count": 1,
     "metadata": {},
     "output_type": "execute_result"
    }
   ],
   "source": [
    "import os\n",
    "os.getcwd()"
   ]
  },
  {
   "cell_type": "code",
   "execution_count": 2,
   "id": "b2353463-097a-4c84-810e-9bbdf87bed03",
   "metadata": {},
   "outputs": [],
   "source": [
    "path=r'C:\\Users\\Dell\\Documents\\NareshIT\\python_sessions\\mbox-short.txt'\n",
    "file=open(path)\n",
    "data=file.read()"
   ]
  },
  {
   "cell_type": "markdown",
   "id": "a686ed28-2312-4701-a0ec-4f2d972c51a7",
   "metadata": {},
   "source": [
    "## 'w' mode"
   ]
  },
  {
   "cell_type": "code",
   "execution_count": 1,
   "id": "7e61b768-cd5f-4e62-9573-b746ece287b7",
   "metadata": {},
   "outputs": [
    {
     "name": "stdout",
     "output_type": "stream",
     "text": [
      "hello good morning\n",
      "hello good eve\n"
     ]
    }
   ],
   "source": [
    "path='file_w_mode.text'        # this is not existed\n",
    "file=open(path,mode='w')       # created   a new file \n",
    "file.write('hello good morning') # started writing\n",
    "\n",
    "path='file_w_mode.text'       \n",
    "file=open(path,mode='r')       \n",
    "data=file.read()\n",
    "print(data)              # hello good morning \n",
    "\n",
    "\n",
    "path='file_w_mode.text'        # this is time existed\n",
    "file=open(path,mode='w')       # w mode \n",
    "file.write('hello good eve') # started writing\n",
    "\n",
    "path='file_w_mode.text'       \n",
    "file=open(path,mode='r')       \n",
    "data=file.read()\n",
    "print(data)  "
   ]
  },
  {
   "cell_type": "markdown",
   "id": "f4121921-7c61-4ed7-b052-c6df487c2591",
   "metadata": {},
   "source": [
    "## 'a' mode"
   ]
  },
  {
   "cell_type": "code",
   "execution_count": 2,
   "id": "1f020796-233c-4c8c-b043-4bb7f53495bb",
   "metadata": {},
   "outputs": [
    {
     "name": "stdout",
     "output_type": "stream",
     "text": [
      "hello good morning\n",
      "hello good morninghello good eve\n"
     ]
    }
   ],
   "source": [
    "path='file_a_mode.text'        # this is not existed\n",
    "file=open(path,mode='a')       # created   a new file \n",
    "file.write('hello good morning') # started writing\n",
    "\n",
    "path='file_a_mode.text'       \n",
    "file=open(path,mode='r')       \n",
    "data=file.read()\n",
    "print(data)              # hello good morning \n",
    "\n",
    "\n",
    "path='file_a_mode.text'        # this is time existed\n",
    "file=open(path,mode='a')       # w mode \n",
    "file.write('hello good eve') # started writing\n",
    "\n",
    "path='file_a_mode.text'       \n",
    "file=open(path,mode='r')       \n",
    "data=file.read()\n",
    "print(data)  "
   ]
  },
  {
   "cell_type": "markdown",
   "id": "6c1645b9-fc44-4d7f-b5a8-74832be59917",
   "metadata": {},
   "source": [
    "## 'x' mode"
   ]
  },
  {
   "cell_type": "code",
   "execution_count": 4,
   "id": "520bfa2b-620a-4c12-ac74-002bf52d42ae",
   "metadata": {},
   "outputs": [
    {
     "data": {
      "text/plain": [
       "18"
      ]
     },
     "execution_count": 4,
     "metadata": {},
     "output_type": "execute_result"
    }
   ],
   "source": [
    "path='file_x_mode.text'        # allready existed\n",
    "file=open(path,mode='x')       # created   a new file \n",
    "file.write('hello good morning') # started writing"
   ]
  },
  {
   "cell_type": "code",
   "execution_count": 9,
   "id": "f59edc1f-edd9-412c-b292-855c34be5d04",
   "metadata": {},
   "outputs": [
    {
     "ename": "FileExistsError",
     "evalue": "[Errno 17] File exists: 'file_w_mode.text'",
     "output_type": "error",
     "traceback": [
      "\u001b[1;31m---------------------------------------------------------------------------\u001b[0m",
      "\u001b[1;31mFileExistsError\u001b[0m                           Traceback (most recent call last)",
      "Cell \u001b[1;32mIn[9], line 2\u001b[0m\n\u001b[0;32m      1\u001b[0m path\u001b[38;5;241m=\u001b[39m\u001b[38;5;124m'\u001b[39m\u001b[38;5;124mfile_w_mode.text\u001b[39m\u001b[38;5;124m'\u001b[39m        \u001b[38;5;66;03m# allready existed\u001b[39;00m\n\u001b[1;32m----> 2\u001b[0m file\u001b[38;5;241m=\u001b[39m\u001b[38;5;28mopen\u001b[39m(path,mode\u001b[38;5;241m=\u001b[39m\u001b[38;5;124m'\u001b[39m\u001b[38;5;124mx\u001b[39m\u001b[38;5;124m'\u001b[39m)       \u001b[38;5;66;03m# created   a new file \u001b[39;00m\n\u001b[0;32m      3\u001b[0m file\u001b[38;5;241m.\u001b[39mwrite(\u001b[38;5;124m'\u001b[39m\u001b[38;5;124mhello good morning\u001b[39m\u001b[38;5;124m'\u001b[39m)\n",
      "File \u001b[1;32m~\\anaconda3\\Lib\\site-packages\\IPython\\core\\interactiveshell.py:324\u001b[0m, in \u001b[0;36m_modified_open\u001b[1;34m(file, *args, **kwargs)\u001b[0m\n\u001b[0;32m    317\u001b[0m \u001b[38;5;28;01mif\u001b[39;00m file \u001b[38;5;129;01min\u001b[39;00m {\u001b[38;5;241m0\u001b[39m, \u001b[38;5;241m1\u001b[39m, \u001b[38;5;241m2\u001b[39m}:\n\u001b[0;32m    318\u001b[0m     \u001b[38;5;28;01mraise\u001b[39;00m \u001b[38;5;167;01mValueError\u001b[39;00m(\n\u001b[0;32m    319\u001b[0m         \u001b[38;5;124mf\u001b[39m\u001b[38;5;124m\"\u001b[39m\u001b[38;5;124mIPython won\u001b[39m\u001b[38;5;124m'\u001b[39m\u001b[38;5;124mt let you open fd=\u001b[39m\u001b[38;5;132;01m{\u001b[39;00mfile\u001b[38;5;132;01m}\u001b[39;00m\u001b[38;5;124m by default \u001b[39m\u001b[38;5;124m\"\u001b[39m\n\u001b[0;32m    320\u001b[0m         \u001b[38;5;124m\"\u001b[39m\u001b[38;5;124mas it is likely to crash IPython. If you know what you are doing, \u001b[39m\u001b[38;5;124m\"\u001b[39m\n\u001b[0;32m    321\u001b[0m         \u001b[38;5;124m\"\u001b[39m\u001b[38;5;124myou can use builtins\u001b[39m\u001b[38;5;124m'\u001b[39m\u001b[38;5;124m open.\u001b[39m\u001b[38;5;124m\"\u001b[39m\n\u001b[0;32m    322\u001b[0m     )\n\u001b[1;32m--> 324\u001b[0m \u001b[38;5;28;01mreturn\u001b[39;00m io_open(file, \u001b[38;5;241m*\u001b[39margs, \u001b[38;5;241m*\u001b[39m\u001b[38;5;241m*\u001b[39mkwargs)\n",
      "\u001b[1;31mFileExistsError\u001b[0m: [Errno 17] File exists: 'file_w_mode.text'"
     ]
    }
   ],
   "source": [
    "path='file_w_mode.text'        # allready existed\n",
    "file=open(path,mode='x')       # created   a new file \n",
    "file.write('hello good morning') # started writing"
   ]
  },
  {
   "cell_type": "markdown",
   "id": "3151a9f3-d19d-4904-a8e8-456db645b168",
   "metadata": {},
   "source": [
    "## - File Modes in Python: w, a, x"
   ]
  },
  {
   "cell_type": "code",
   "execution_count": null,
   "id": "3651970c-f24e-4f34-b166-ee45c45b3b4b",
   "metadata": {},
   "outputs": [],
   "source": [
    "path = \"demo_file.txt\"  # फ़ाइल का नाम\n",
    "\n",
    "# 1️⃣ Write mode ('w')\n",
    "# अगर फ़ाइल मौजूद नहीं है → बनाएगा\n",
    "# अगर मौजूद है → पुराना डेटा मिटाकर नया लिखेगा\n",
    "file = open(path, mode='w')\n",
    "file.write(\"Hello Good Morning\")  \n",
    "file.close()\n",
    "\n",
    "file = open(path, mode='r')\n",
    "print(\"After 'w' mode write:\", file.read())  # Output: Hello Good Morning\n",
    "file.close()\n",
    "\n",
    "\n",
    "# 2️⃣ Append mode ('a')\n",
    "# अगर फ़ाइल मौजूद नहीं है → बनाएगा\n",
    "# अगर मौजूद है → पुराना डेटा बचाएगा और नया डेटा अंत में जोड़ेगा\n",
    "file = open(path, mode='a')\n",
    "file.write(\" --- Have a nice day!\")  \n",
    "file.close()\n",
    "\n",
    "file = open(path, mode='r')\n",
    "print(\"After 'a' mode append:\", file.read())  # Output: Hello Good Morning --- Have a nice day!\n",
    "file.close()\n",
    "\n",
    "\n",
    "# 3️⃣ Exclusive creation mode ('x')\n",
    "# अगर फ़ाइल मौजूद नहीं है → बनाएगा\n",
    "# अगर मौजूद है → FileExistsError देगा\n",
    "try:\n",
    "    file = open(path, mode='x')\n",
    "    file.write(\"This is X mode content\")\n",
    "    file.close()\n",
    "except FileExistsError:\n",
    "    print(\"Error: File already exists when using 'x' mode\")\n",
    "\n",
    "# Final read to see file content\n",
    "file = open(path, mode='r')\n",
    "print(\"Final file content:\", file.read())\n",
    "file.close()\n"
   ]
  },
  {
   "cell_type": "markdown",
   "id": "29920ddc-4b36-44e1-893d-30f49fde248e",
   "metadata": {},
   "source": [
    "**read line ny line**"
   ]
  },
  {
   "cell_type": "code",
   "execution_count": 2,
   "id": "955a2a0f-47ba-425c-b90d-6dd2606124e8",
   "metadata": {},
   "outputs": [
    {
     "ename": "_IncompleteInputError",
     "evalue": "incomplete input (1264509268.py, line 6)",
     "output_type": "error",
     "traceback": [
      "\u001b[1;36m  Cell \u001b[1;32mIn[2], line 6\u001b[1;36m\u001b[0m\n\u001b[1;33m    # print(line)\u001b[0m\n\u001b[1;37m                 ^\u001b[0m\n\u001b[1;31m_IncompleteInputError\u001b[0m\u001b[1;31m:\u001b[0m incomplete input\n"
     ]
    }
   ],
   "source": [
    "file_path=r'mbox-short.txt'\n",
    "file=open(file_path)\n",
    "# dont read at a time\n",
    "# read line ny line \n",
    "for line in file:\n",
    "    # print(line)"
   ]
  },
  {
   "cell_type": "code",
   "execution_count": 21,
   "id": "19eb5f36-761a-4a1c-bd42-e38e20ff478a",
   "metadata": {},
   "outputs": [
    {
     "name": "stdout",
     "output_type": "stream",
     "text": [
      "1910\n"
     ]
    }
   ],
   "source": [
    "file_path=r'mbox-short.txt'\n",
    "file=open(file_path)\n",
    "count=0\n",
    "for line in file:\n",
    "    count=count+1\n",
    "print(count)"
   ]
  },
  {
   "cell_type": "code",
   "execution_count": 22,
   "id": "a914c3d5-e349-4a80-9509-a151600a3aa0",
   "metadata": {},
   "outputs": [
    {
     "name": "stdout",
     "output_type": "stream",
     "text": [
      "1910\n"
     ]
    }
   ],
   "source": [
    "file_path=r'mbox-short.txt'\n",
    "file=open(file_path)\n",
    "count=0\n",
    "for _ in file:        # for line in file:\n",
    "                      # print(line)\n",
    "    count=count+1\n",
    "print(count)"
   ]
  },
  {
   "cell_type": "markdown",
   "id": "2e722352-3555-4c7f-b2bc-a41a5d83e7e9",
   "metadata": {},
   "source": [
    "**enumerate**\n",
    "\n",
    "    - similer to zip \n",
    "\n",
    "    - enumerate always give id and line "
   ]
  },
  {
   "cell_type": "code",
   "execution_count": 23,
   "id": "5eb3c713-bd0b-40e9-a7f9-35e751d5e039",
   "metadata": {},
   "outputs": [
    {
     "name": "stdout",
     "output_type": "stream",
     "text": [
      "0 From stephen.marquard@uct.ac.za Sat Jan  5 09:14:16 2008\n",
      "\n",
      "1 Return-Path: <postmaster@collab.sakaiproject.org>\n",
      "\n",
      "2 Received: from murder (mail.umich.edu [141.211.14.90])\n",
      "\n",
      "3 \t by frankenstein.mail.umich.edu (Cyrus v2.3.8) with LMTPA;\n",
      "\n",
      "4 \t Sat, 05 Jan 2008 09:14:16 -0500\n",
      "\n",
      "5 X-Sieve: CMU Sieve 2.3\n",
      "\n",
      "6 Received: from murder ([unix socket])\n",
      "\n",
      "7 \t by mail.umich.edu (Cyrus v2.2.12) with LMTPA;\n",
      "\n",
      "8 \t Sat, 05 Jan 2008 09:14:16 -0500\n",
      "\n",
      "9 Received: from holes.mr.itd.umich.edu (holes.mr.itd.umich.edu [141.211.14.79])\n",
      "\n",
      "10 \tby flawless.mail.umich.edu () with ESMTP id m05EEFR1013674;\n",
      "\n"
     ]
    }
   ],
   "source": [
    "file_path=r'mbox-short.txt'\n",
    "file=open(file_path)\n",
    "for Id ,line in enumerate(file):\n",
    "    print(Id,line)\n",
    "    if Id==10:\n",
    "        break"
   ]
  },
  {
   "cell_type": "code",
   "execution_count": 32,
   "id": "e1b98667-5b8d-49b3-8e7a-34131a860aa8",
   "metadata": {},
   "outputs": [
    {
     "name": "stdout",
     "output_type": "stream",
     "text": [
      "0 From stephen.marquard@uct.ac.za Sat Jan  5 09:14:16 2008\n",
      "1 Return-Path: <postmaster@collab.sakaiproject.org>\n",
      "2 Received: from murder (mail.umich.edu [141.211.14.90])\n",
      "3 by frankenstein.mail.umich.edu (Cyrus v2.3.8) with LMTPA;\n",
      "4 Sat, 05 Jan 2008 09:14:16 -0500\n",
      "5 X-Sieve: CMU Sieve 2.3\n",
      "6 Received: from murder ([unix socket])\n",
      "7 by mail.umich.edu (Cyrus v2.2.12) with LMTPA;\n",
      "8 Sat, 05 Jan 2008 09:14:16 -0500\n",
      "9 Received: from holes.mr.itd.umich.edu (holes.mr.itd.umich.edu [141.211.14.79])\n",
      "10 by flawless.mail.umich.edu () with ESMTP id m05EEFR1013674;\n"
     ]
    }
   ],
   "source": [
    "file_path=r'mbox-short.txt'\n",
    "file=open(file_path)\n",
    "for Id ,line in enumerate(file):\n",
    "    print(Id,line.strip())\n",
    "    if Id==10:\n",
    "        break"
   ]
  },
  {
   "cell_type": "code",
   "execution_count": 36,
   "id": "5d5d801b-5ad8-4b5c-b205-02cb2cf022a4",
   "metadata": {},
   "outputs": [
    {
     "name": "stdout",
     "output_type": "stream",
     "text": [
      "1909\n"
     ]
    }
   ],
   "source": [
    "file_path=r'mbox-short.txt'\n",
    "file=open(file_path)\n",
    "for Id ,_ in enumerate(file):\n",
    "    pass\n",
    "print(Id) "
   ]
  },
  {
   "cell_type": "code",
   "execution_count": 38,
   "id": "39e6020b-1d75-4051-81e0-7aed57dde62c",
   "metadata": {},
   "outputs": [
    {
     "name": "stdout",
     "output_type": "stream",
     "text": [
      "1910\n"
     ]
    }
   ],
   "source": [
    "file_path=r'mbox-short.txt'\n",
    "file=open(file_path)\n",
    "for Id ,_ in enumerate(file):\n",
    "    pass\n",
    "print(Id+1) \n",
    "\n",
    "# why i am doing \n",
    "# i want to how many numbers of line\n",
    "#   counter enumerate\n",
    "# enumerate ==== id and line \n",
    "# for i in range (4)"
   ]
  },
  {
   "cell_type": "code",
   "execution_count": null,
   "id": "04fdc5fe-d606-4573-abbf-78fa7ac06d1f",
   "metadata": {},
   "outputs": [],
   "source": []
  }
 ],
 "metadata": {
  "kernelspec": {
   "display_name": "Python [conda env:base] *",
   "language": "python",
   "name": "conda-base-py"
  },
  "language_info": {
   "codemirror_mode": {
    "name": "ipython",
    "version": 3
   },
   "file_extension": ".py",
   "mimetype": "text/x-python",
   "name": "python",
   "nbconvert_exporter": "python",
   "pygments_lexer": "ipython3",
   "version": "3.13.5"
  }
 },
 "nbformat": 4,
 "nbformat_minor": 5
}
