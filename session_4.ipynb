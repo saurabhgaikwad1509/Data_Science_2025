{
 "cells": [
  {
   "cell_type": "code",
   "execution_count": 1,
   "id": "13c96e21-7964-4e40-9629-68c6e9899e82",
   "metadata": {},
   "outputs": [
    {
     "name": "stdout",
     "output_type": "stream",
     "text": [
      "10\n",
      "20\n"
     ]
    }
   ],
   "source": [
    "a=10\n",
    "b=20\n",
    "print(a)\n",
    "print(b)\n"
   ]
  },
  {
   "cell_type": "code",
   "execution_count": 2,
   "id": "f8eaeba1-2886-4cd6-a0fc-54a9ae29ea5f",
   "metadata": {},
   "outputs": [
    {
     "data": {
      "text/plain": [
       "(10, 20)"
      ]
     },
     "execution_count": 2,
     "metadata": {},
     "output_type": "execute_result"
    }
   ],
   "source": [
    "a=10\n",
    "b=20\n",
    "a,b"
   ]
  },
  {
   "cell_type": "code",
   "execution_count": 12,
   "id": "4b02aedd-0385-433c-b4d4-637f4668bae1",
   "metadata": {},
   "outputs": [
    {
     "name": "stdout",
     "output_type": "stream",
     "text": [
      "sum of 10 ans 20 is 30\n",
      "sum of a and b is c\n",
      "sum of 10 and 20 is 30\n"
     ]
    }
   ],
   "source": [
    "a=10\n",
    "b=20\n",
    "c=a+b\n",
    "print(\"sum of 10 ans 20 is 30\") \n",
    "print(\"sum of a and b is c\")\n",
    "print(\"sum of\",a,\"and\",b,\"is\",c)"
   ]
  },
  {
   "cell_type": "code",
   "execution_count": 15,
   "id": "71c9b229-ed01-4958-8680-a0a09c6bb3c1",
   "metadata": {},
   "outputs": [
    {
     "name": "stdout",
     "output_type": "stream",
     "text": [
      "my name is saurabh im 21 year old come form hydrabad\n"
     ]
    }
   ],
   "source": [
    "name='saurabh'\n",
    "age=21\n",
    "city='hydrabad'\n",
    "print(\"my name is\",name,\"im\",age,\"year old\",\"come form\",city)\n",
    "#print(\"my name is\",saurabh,\"im\",21,\"year old\",\"come form\",hydrabad) ---it is not working\n",
    "#my name is saurabh im 21 year old come form hydrabad"
   ]
  },
  {
   "cell_type": "markdown",
   "id": "0eb6bc2e-4c1f-4ca0-9e58-967015c71b78",
   "metadata": {},
   "source": [
    "**Method-2:format**"
   ]
  },
  {
   "cell_type": "code",
   "execution_count": 21,
   "id": "64c6aff5-3fd3-43a6-9f63-d3b993b0417b",
   "metadata": {},
   "outputs": [
    {
     "name": "stdout",
     "output_type": "stream",
     "text": [
      "sum of 10 ans 20 is 30\n",
      "sum of {}and{}is{}\n",
      "sum of 10 and 20 is 30\n"
     ]
    }
   ],
   "source": [
    "a=10\n",
    "b=20\n",
    "c=a+b\n",
    "print(\"sum of 10 ans 20 is 30\") \n",
    "print(\"sum of {}and {} is{}\")  #it is work but no sum  \n",
    "print(\"sum of {} and {} is {}\".format(a,b,c))"
   ]
  },
  {
   "cell_type": "markdown",
   "id": "50232332-6217-411b-ae61-c85cc88e1e19",
   "metadata": {},
   "source": [
    "**Method-3:fstring**"
   ]
  },
  {
   "cell_type": "code",
   "execution_count": 22,
   "id": "20ed086e-f8d1-4a0e-a0aa-8027904cb308",
   "metadata": {},
   "outputs": [
    {
     "name": "stdout",
     "output_type": "stream",
     "text": [
      "sum of 10 ans 20 is 30\n",
      "sum of 10 and 20 is 30\n"
     ]
    }
   ],
   "source": [
    "a=10\n",
    "b=20\n",
    "c=a+b\n",
    "print(\"sum of 10 ans 20 is 30\")  \n",
    "print(f\"sum of {a} and {b} is {c}\")"
   ]
  },
  {
   "cell_type": "code",
   "execution_count": 28,
   "id": "703af6b7-caae-459e-b7a7-73946b0e8a06",
   "metadata": {},
   "outputs": [
    {
     "name": "stdout",
     "output_type": "stream",
     "text": [
      "mul of 100 and 200 is equle to 300.\n",
      "add of 100 and 200 is equle to 20000.\n",
      "div of 100 and 200 is equle to -100.\n",
      "sub of 100 and 200 is equle to 0.5.\n"
     ]
    }
   ],
   "source": [
    "a=100\n",
    "b=200\n",
    "print(f\"mul of {a} and {b} is equle to {a+b}.\")\n",
    "print(f\"add of {a} and {b} is equle to {a*b}.\")\n",
    "print(f\"div of {a} and {b} is equle to {a-b}.\")\n",
    "print(f\"sub of {a} and {b} is equle to {a/b}.\")"
   ]
  },
  {
   "cell_type": "code",
   "execution_count": 39,
   "id": "b2a91293-287e-4f0c-9172-ca2cc4a0dfa9",
   "metadata": {},
   "outputs": [
    {
     "name": "stdout",
     "output_type": "stream",
     "text": [
      "The avg of 100,200 and 300 is:200.0\n"
     ]
    }
   ],
   "source": [
    "a=100\n",
    "b=200\n",
    "c=300\n",
    "avg=(a+b+c)/3 #this formula is very imp \n",
    "print(f\"The avg of {a},{b} and {c} is:{avg}\")"
   ]
  },
  {
   "cell_type": "markdown",
   "id": "0789f47f-24d6-4171-b78a-3bd75f882c67",
   "metadata": {},
   "source": [
    "**Round**"
   ]
  },
  {
   "cell_type": "code",
   "execution_count": 40,
   "id": "42db4d0a-82b9-433e-bb11-18dfe95c2dcf",
   "metadata": {},
   "outputs": [
    {
     "data": {
      "text/plain": [
       "34"
      ]
     },
     "execution_count": 40,
     "metadata": {},
     "output_type": "execute_result"
    }
   ],
   "source": [
    "round(34.47)"
   ]
  },
  {
   "cell_type": "code",
   "execution_count": 41,
   "id": "97dcd071-cbfa-4b03-84df-65848851a3c4",
   "metadata": {},
   "outputs": [
    {
     "data": {
      "text/plain": [
       "35"
      ]
     },
     "execution_count": 41,
     "metadata": {},
     "output_type": "execute_result"
    }
   ],
   "source": [
    "round(34.57)"
   ]
  },
  {
   "cell_type": "code",
   "execution_count": 43,
   "id": "96270dae-78fa-43a8-a14e-d2fa0163efb8",
   "metadata": {},
   "outputs": [
    {
     "data": {
      "text/plain": [
       "34.478"
      ]
     },
     "execution_count": 43,
     "metadata": {},
     "output_type": "execute_result"
    }
   ],
   "source": [
    "round(34.47777,1) #34.4\n",
    "round(34.47777,2) #34.48\n",
    "round(34.47777,3) #34.478"
   ]
  },
  {
   "cell_type": "markdown",
   "id": "33e819b3-998e-4cac-954a-2bf0a6d835b3",
   "metadata": {},
   "source": [
    "**wap ask the user take 3 numbers find the average**"
   ]
  },
  {
   "cell_type": "code",
   "execution_count": 3,
   "id": "1e2bce10-2a9c-42ef-8709-e9c02081df48",
   "metadata": {},
   "outputs": [
    {
     "name": "stdout",
     "output_type": "stream",
     "text": [
      "The avg of 100,200 and 300 is:200.0\n"
     ]
    }
   ],
   "source": [
    "a=100\n",
    "b=200\n",
    "c=300\n",
    "avg1=(a+b+c)/3                   #this formula is very imp \n",
    "print(f\"The avg of {a},{b} and {c} is:{avg1}\")"
   ]
  },
  {
   "cell_type": "markdown",
   "id": "7f46fe90-ab09-47e7-9055-67275d3d2c88",
   "metadata": {},
   "source": [
    "**wap ask the user take the radius find the area of circle**"
   ]
  },
  {
   "cell_type": "code",
   "execution_count": 58,
   "id": "210644d3-ac81-4942-903e-febf6b802887",
   "metadata": {},
   "outputs": [
    {
     "name": "stdout",
     "output_type": "stream",
     "text": [
      "the area of circle is:314.0\n",
      "314.0\n"
     ]
    }
   ],
   "source": [
    "r=10\n",
    "pi=3.14\n",
    "areaofcircle=(pi*r*r)\n",
    "print(f\"the area of circle is:{areaofcircle}\")\n",
    "print(areaofcircle)"
   ]
  },
  {
   "cell_type": "markdown",
   "id": "c97b8e3d-a231-461d-a078-db7f56891e84",
   "metadata": {},
   "source": [
    "**wap ask the user take height and breadth find the area of traingle**"
   ]
  },
  {
   "cell_type": "code",
   "execution_count": 61,
   "id": "c3ed9740-7d6b-41eb-851f-8f0343ba78f5",
   "metadata": {},
   "outputs": [
    {
     "name": "stdout",
     "output_type": "stream",
     "text": [
      "the area triangle:100.0\n"
     ]
    }
   ],
   "source": [
    "h=10\n",
    "b=20\n",
    "area_of_triangle=0.5*b*h\n",
    "print(f\"the area triangle:{area_of_triangle}\")"
   ]
  },
  {
   "cell_type": "markdown",
   "id": "e708075b-2c6f-4a31-a8d7-5289cf7884ef",
   "metadata": {},
   "source": [
    "**wap ask the user take the bill amount and tip anount calculate total bill**"
   ]
  },
  {
   "cell_type": "code",
   "execution_count": 62,
   "id": "c80e5e02-8570-416c-bca2-2558e1e42cf8",
   "metadata": {},
   "outputs": [
    {
     "name": "stdout",
     "output_type": "stream",
     "text": [
      "total bill is:500\n"
     ]
    }
   ],
   "source": [
    "bill=200\n",
    "tip=300\n",
    "total_bill=bill+tip\n",
    "print(f\"total bill is:{total_bill}\")"
   ]
  },
  {
   "cell_type": "markdown",
   "id": "e88b2a8e-81ef-4d26-8eaf-55109f419350",
   "metadata": {},
   "source": [
    "**wap ask the user take the salary, percetage of tax calculate tax amount**"
   ]
  },
  {
   "cell_type": "code",
   "execution_count": 2,
   "id": "183df6a8-f2f3-41c0-b2a0-153d5eef4e56",
   "metadata": {},
   "outputs": [
    {
     "name": "stdout",
     "output_type": "stream",
     "text": [
      "salary aften tax:80000.0\n"
     ]
    }
   ],
   "source": [
    "salary=100000\n",
    "tax=20\n",
    "tax_percentage=(tax/100)*salary\n",
    "print(f\"salary aften tax:{salary-tax_percentage}\")"
   ]
  },
  {
   "cell_type": "markdown",
   "id": "17ad69f8-63d6-4b35-9e5f-5dea8f3322f7",
   "metadata": {},
   "source": [
    "**wap ask the user take the value in dollar convert into rupees**"
   ]
  },
  {
   "cell_type": "code",
   "execution_count": 41,
   "id": "ff75b8f0-f0a2-4a0d-b18f-81cab20cd6d2",
   "metadata": {},
   "outputs": [
    {
     "name": "stdout",
     "output_type": "stream",
     "text": [
      "The total amount of ruppes is :4000\n"
     ]
    }
   ],
   "source": [
    "doller=50\n",
    "ruppes=doller*80\n",
    "print(f\"The total amount of ruppes is :{ruppes}\")\n"
   ]
  },
  {
   "cell_type": "markdown",
   "id": "5cee5a37-d0bb-42ed-98ae-473bec6416f8",
   "metadata": {},
   "source": [
    "**wap ask the use take weight in kgs convert into pounds**"
   ]
  },
  {
   "cell_type": "code",
   "execution_count": 53,
   "id": "9b94188b-56a8-47f1-b549-ccad48531d8f",
   "metadata": {},
   "outputs": [
    {
     "name": "stdout",
     "output_type": "stream",
     "text": [
      "Weight in pounds is:150.0\n"
     ]
    }
   ],
   "source": [
    "weight=60\n",
    "pounds=weight*2.5\n",
    "print(f\"Weight in pounds is:{pounds}\")"
   ]
  },
  {
   "cell_type": "code",
   "execution_count": 4,
   "id": "4c981872-c42b-4c3c-8b4b-b2735b125ccf",
   "metadata": {},
   "outputs": [
    {
     "name": "stdout",
     "output_type": "stream",
     "text": [
      "the total bill is :110.0\n"
     ]
    }
   ],
   "source": [
    "# wap ask the user take the salary, percetage of tax calculate tax amount\n",
    "bill_amount=100\n",
    "tip_percentage=10\n",
    "tip_amount=bill_amount*tip_percentage/100\n",
    "total_amount=bill_amount+tip_amount\n",
    "print(f\"the total bill is :{total_amount}\")"
   ]
  },
  {
   "cell_type": "code",
   "execution_count": 22,
   "id": "fe6b86d3-ec67-4c40-9d22-2a14046a9028",
   "metadata": {},
   "outputs": [
    {
     "name": "stdout",
     "output_type": "stream",
     "text": [
      "total amount in ruppes :5$*80rs=400\n",
      "total amount in ruppes:{}$*{}={}\n",
      "total amount in ruppes:{dollar}$*{ruppes_value)={total}rs\n",
      "toatal amount in ruppes :5$*80=400\n"
     ]
    }
   ],
   "source": [
    "#wap ask the user take the value in dollar convert into rupees\n",
    "dollar=5\n",
    "ruppes_value=80\n",
    "total=dollar*ruppes_value\n",
    "print(\"total amount in ruppes :5$*80rs=400\") #fix the write\n",
    "print(\"total amount in ruppes:{}$*{}={}\")   #apply curly \n",
    "print(\"total amount in ruppes:{dollar}$*{ruppes_value)={total}rs\") # then fill the value \n",
    "print(f\"toatal amount in ruppes :{dollar}$*{ruppes_value}={total}\") #the fill the actual value of the code "
   ]
  },
  {
   "cell_type": "code",
   "execution_count": null,
   "id": "2233dd7f-48ff-417c-93ad-b65f0602f850",
   "metadata": {},
   "outputs": [],
   "source": []
  }
 ],
 "metadata": {
  "kernelspec": {
   "display_name": "Python [conda env:base] *",
   "language": "python",
   "name": "conda-base-py"
  },
  "language_info": {
   "codemirror_mode": {
    "name": "ipython",
    "version": 3
   },
   "file_extension": ".py",
   "mimetype": "text/x-python",
   "name": "python",
   "nbconvert_exporter": "python",
   "pygments_lexer": "ipython3",
   "version": "3.13.5"
  }
 },
 "nbformat": 4,
 "nbformat_minor": 5
}
