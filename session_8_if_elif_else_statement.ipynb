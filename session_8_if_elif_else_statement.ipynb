{
 "cells": [
  {
   "cell_type": "code",
   "execution_count": 13,
   "id": "f6c77d79-7db4-48d0-9a13-e38ecd05950f",
   "metadata": {},
   "outputs": [
    {
     "name": "stdout",
     "output_type": "stream",
     "text": [
      "one\n"
     ]
    }
   ],
   "source": [
    "num=2\n",
    "if num>1:\n",
    "    print('one')\n",
    "elif num==2:\n",
    "    print('two')\n",
    "elif num==3:\n",
    "    print('three')\n",
    "else:\n",
    "    print('enter the valid number')"
   ]
  },
  {
   "cell_type": "code",
   "execution_count": 8,
   "id": "a761d7ce-31e7-4142-a4f2-1648529b4e52",
   "metadata": {},
   "outputs": [
    {
     "name": "stdout",
     "output_type": "stream",
     "text": [
      "two\n"
     ]
    }
   ],
   "source": [
    "num=2\n",
    "if num<1:\n",
    "    print('one')\n",
    "elif num==2:\n",
    "    print('two')\n",
    "elif num<3:\n",
    "    print('three')\n",
    "else:\n",
    "    print('enter the valid number')"
   ]
  },
  {
   "cell_type": "code",
   "execution_count": 11,
   "id": "c0679de7-4e1d-4f05-9c49-19bff2bac7f6",
   "metadata": {},
   "outputs": [
    {
     "name": "stdout",
     "output_type": "stream",
     "text": [
      "one\n",
      "two\n"
     ]
    }
   ],
   "source": [
    "num=2\n",
    "if num>1:    # both{if} means conditin are check\n",
    "    print('one')\n",
    "if num==2:  # both{if} means conditin are check\n",
    "    print('two')\n",
    "elif num<3:\n",
    "    print('three')\n",
    "else:\n",
    "    print('enter the valid number')"
   ]
  },
  {
   "cell_type": "code",
   "execution_count": null,
   "id": "946a412e-670a-4f21-8481-8b297995d22d",
   "metadata": {},
   "outputs": [],
   "source": [
    "if is not pass === elif(condition)\n",
    "# two  can condition \n",
    "# if first === dont check\n",
    "if is pass === if(condition)\n",
    "if if not pass === else(condition)\n"
   ]
  },
  {
   "cell_type": "code",
   "execution_count": 23,
   "id": "3f5b510d-cb7c-435c-9fb7-c23d908bedd4",
   "metadata": {},
   "outputs": [
    {
     "name": "stdin",
     "output_type": "stream",
     "text": [
      "enter the percentage: 85\n"
     ]
    },
    {
     "name": "stdout",
     "output_type": "stream",
     "text": [
      "A grade\n"
     ]
    }
   ],
   "source": [
    "# ask the user enter the percentage of marks \n",
    "# if marks are greater than 75 then print A grade\n",
    "# if marks beetween 60 to 75  then print B grade  \n",
    "# if mark beetwewen 45 to 60 then print c grade \n",
    "# otherwise print fail \n",
    "# if == elif == if == else \n",
    "\n",
    "num=eval(input('enter the percentage:'))\n",
    "if num>=75:     # 90>=75 True  \n",
    "    print('A grade')\n",
    "elif num>=60 and num<=75:   #60<num<75\n",
    "    print('B grade')\n",
    "elif num>=45 and num<==65:  \n",
    "    print('C grade')\n",
    "else:\n",
    "    print('fail')"
   ]
  },
  {
   "cell_type": "code",
   "execution_count": 30,
   "id": "a3d7a2e2-333b-41a7-811d-192528ac70bd",
   "metadata": {},
   "outputs": [
    {
     "name": "stdin",
     "output_type": "stream",
     "text": [
      "enter the percentage: 90\n"
     ]
    },
    {
     "name": "stdout",
     "output_type": "stream",
     "text": [
      "A grade\n"
     ]
    }
   ],
   "source": [
    "num=eval(input('enter the percentage:'))\n",
    "if num>=75:     # 90>=75 True \n",
    "    print('A grade')\n",
    "elif num>=60:  # 60<num<75\n",
    "    print('B grade')\n",
    "#elif60<num<75\n",
    "elif num>=45:\n",
    "    print('C grade')\n",
    "else:\n",
    "    print('fail')"
   ]
  },
  {
   "cell_type": "code",
   "execution_count": 40,
   "id": "853934ee-57e1-4c34-b2e5-bf6ff0d21f24",
   "metadata": {},
   "outputs": [
    {
     "name": "stdin",
     "output_type": "stream",
     "text": [
      "enter your age 1\n"
     ]
    },
    {
     "name": "stdout",
     "output_type": "stream",
     "text": [
      "teen\n"
     ]
    }
   ],
   "source": [
    "# WAP the user take a age \n",
    "# if age> 100 print unlucky person\n",
    "# if age between 60 to 100 then print senior c \n",
    "# if age between 30 to 60 print MA\n",
    "# if ag is between 13 to 19 print teen \n",
    "# else \n",
    "# kid\n",
    "# if elif elif elif elif else\n",
    "\n",
    "age=eval(input('enter your age'))\n",
    "if age>=100:   # 100>100 T\n",
    "    print('you are unlucky person')\n",
    "elif age>60>100:  # 50<\n",
    "    print('you are senior citizen')\n",
    "elif age>30>60:\n",
    "    print('you are MA')\n",
    "elif age>13>9:\n",
    "    print('you are teen')\n",
    "else:\n",
    "    print('teen') "
   ]
  },
  {
   "cell_type": "code",
   "execution_count": 3,
   "id": "13e4553f-862d-4064-a29a-44d909ee7500",
   "metadata": {},
   "outputs": [
    {
     "name": "stdin",
     "output_type": "stream",
     "text": [
      "enter the number1: 25\n",
      "enter the number2: 25\n"
     ]
    },
    {
     "name": "stdout",
     "output_type": "stream",
     "text": [
      "enter 1 for addition \n",
      ",enter 2 for substraction\n",
      ", enter 3 for multiplication\n",
      ", enter 4 for division\n",
      " \n"
     ]
    },
    {
     "name": "stdin",
     "output_type": "stream",
     "text": [
      "enter a number 1-4 3\n"
     ]
    },
    {
     "name": "stdout",
     "output_type": "stream",
     "text": [
      "division opreation selected\n",
      "the division of 25 and 25 is : 1.0\n"
     ]
    }
   ],
   "source": [
    "# WAP ask the user enter the two number \n",
    "# num1eval()\n",
    "# num2eval() \n",
    "# ask the user print some statement \n",
    "# print('enter the 1 for addition ,  2 for sub ,3 multi ,4 div ') \n",
    "# if opreation==1 \n",
    "#  pritn('the addition opreation sle')\n",
    "#      \n",
    "\n",
    "\n",
    "\n",
    "num1=eval(input(\"enter the number1:\"))\n",
    "num2=eval(input(\"enter the number2:\"))\n",
    "print('enter 1 for addition \\n,enter 2 for substraction\\n, enter 3 for multiplication\\n, enter 4 for division\\n ')\n",
    "operation=eval(input('enter a number 1-4'))\n",
    "if operation==1:\n",
    "    print(\"addition opreation selected\")\n",
    "    add=num1+num2\n",
    "    print(f\"the addition of {num1} and {num2} is :{add}\")\n",
    "elif operation==2:\n",
    "    print(\"substraction opreation selected\")\n",
    "    sub=num1-num2\n",
    "    print(f\"the substration of {num1} and {num2} is :{sub}\")\n",
    "elif operation==3:\n",
    "    print(\"division opreation selected\")\n",
    "    div=num1/num2\n",
    "    print(f\"the division of {num1} and {num2} is : {div}\")\n",
    "elif operation==4:\n",
    "    print(\"multiplication operation selected\")\n",
    "    mul==num1*num2\n",
    "    print(f\"the multiplication of {num1} and {num2} is: {mul}\")\n",
    "else:\n",
    "    print(\"enter the valid number\")"
   ]
  },
  {
   "cell_type": "code",
   "execution_count": null,
   "id": "f2f5e0c0-4d63-4794-9825-df8185cc09b2",
   "metadata": {},
   "outputs": [],
   "source": [
    "# syntax error\n",
    "# not define error\n",
    "# indetation error\n",
    "# type error\n",
    "# name error\n",
    "# zero division error\n",
    "# value error\n",
    "# mudule not found error\n",
    "# attribute error\n",
    "# usage error "
   ]
  },
  {
   "cell_type": "code",
   "execution_count": 5,
   "id": "ae98c34b-7c75-4e9e-95bf-96397e92f5b7",
   "metadata": {},
   "outputs": [
    {
     "ename": "SyntaxError",
     "evalue": "unterminated string literal (detected at line 1) (1040585027.py, line 1)",
     "output_type": "error",
     "traceback": [
      "\u001b[1;36m  Cell \u001b[1;32mIn[5], line 1\u001b[1;36m\u001b[0m\n\u001b[1;33m    print(\"hello')\u001b[0m\n\u001b[1;37m          ^\u001b[0m\n\u001b[1;31mSyntaxError\u001b[0m\u001b[1;31m:\u001b[0m unterminated string literal (detected at line 1)\n"
     ]
    }
   ],
   "source": [
    "print(\"hello')"
   ]
  },
  {
   "cell_type": "code",
   "execution_count": 6,
   "id": "c59e3f77-9b3e-4d1a-8b83-43ab802cfc5a",
   "metadata": {},
   "outputs": [
    {
     "ename": "NameError",
     "evalue": "name 'x' is not defined",
     "output_type": "error",
     "traceback": [
      "\u001b[1;31m---------------------------------------------------------------------------\u001b[0m",
      "\u001b[1;31mNameError\u001b[0m                                 Traceback (most recent call last)",
      "Cell \u001b[1;32mIn[6], line 1\u001b[0m\n\u001b[1;32m----> 1\u001b[0m \u001b[38;5;28mprint\u001b[39m(x)\n",
      "\u001b[1;31mNameError\u001b[0m: name 'x' is not defined"
     ]
    }
   ],
   "source": [
    "print(x)"
   ]
  },
  {
   "cell_type": "code",
   "execution_count": 7,
   "id": "860bc21e-7607-4750-8b2d-86d12e3be87e",
   "metadata": {},
   "outputs": [
    {
     "ename": "TypeError",
     "evalue": "can only concatenate str (not \"int\") to str",
     "output_type": "error",
     "traceback": [
      "\u001b[1;31m---------------------------------------------------------------------------\u001b[0m",
      "\u001b[1;31mTypeError\u001b[0m                                 Traceback (most recent call last)",
      "Cell \u001b[1;32mIn[7], line 1\u001b[0m\n\u001b[1;32m----> 1\u001b[0m a\u001b[38;5;241m=\u001b[39m\u001b[38;5;124m\"\u001b[39m\u001b[38;5;124m5\u001b[39m\u001b[38;5;124m\"\u001b[39m\u001b[38;5;241m+\u001b[39m\u001b[38;5;241m2\u001b[39m\n",
      "\u001b[1;31mTypeError\u001b[0m: can only concatenate str (not \"int\") to str"
     ]
    }
   ],
   "source": [
    "a=\"5\"+2"
   ]
  },
  {
   "cell_type": "code",
   "execution_count": 8,
   "id": "b7c4d77e-0218-4ae0-91a6-ddd0ee5f89c6",
   "metadata": {},
   "outputs": [
    {
     "ename": "ValueError",
     "evalue": "invalid literal for int() with base 10: 'hello'",
     "output_type": "error",
     "traceback": [
      "\u001b[1;31m---------------------------------------------------------------------------\u001b[0m",
      "\u001b[1;31mValueError\u001b[0m                                Traceback (most recent call last)",
      "Cell \u001b[1;32mIn[8], line 1\u001b[0m\n\u001b[1;32m----> 1\u001b[0m num \u001b[38;5;241m=\u001b[39m\u001b[38;5;28mint\u001b[39m(\u001b[38;5;124m\"\u001b[39m\u001b[38;5;124mhello\u001b[39m\u001b[38;5;124m\"\u001b[39m)\n",
      "\u001b[1;31mValueError\u001b[0m: invalid literal for int() with base 10: 'hello'"
     ]
    }
   ],
   "source": [
    "num =int(\"hello\")"
   ]
  },
  {
   "cell_type": "code",
   "execution_count": 11,
   "id": "0f29da49-3a94-4a26-9358-a6bef66c66e5",
   "metadata": {},
   "outputs": [
    {
     "ename": "IndexError",
     "evalue": "list index out of range",
     "output_type": "error",
     "traceback": [
      "\u001b[1;31m---------------------------------------------------------------------------\u001b[0m",
      "\u001b[1;31mIndexError\u001b[0m                                Traceback (most recent call last)",
      "Cell \u001b[1;32mIn[11], line 2\u001b[0m\n\u001b[0;32m      1\u001b[0m lst \u001b[38;5;241m=\u001b[39m[\u001b[38;5;241m1\u001b[39m,\u001b[38;5;241m2\u001b[39m,\u001b[38;5;241m3\u001b[39m]\n\u001b[1;32m----> 2\u001b[0m \u001b[38;5;28mprint\u001b[39m(lst[\u001b[38;5;241m5\u001b[39m])\n",
      "\u001b[1;31mIndexError\u001b[0m: list index out of range"
     ]
    }
   ],
   "source": [
    "lst =[1,2,3]\n",
    "print(lst[5])"
   ]
  },
  {
   "cell_type": "code",
   "execution_count": 14,
   "id": "123ce0ce-c369-4ec6-b7ee-813857bd6bb6",
   "metadata": {},
   "outputs": [
    {
     "ename": "IndentationError",
     "evalue": "expected an indented block after 'if' statement on line 1 (3814570068.py, line 2)",
     "output_type": "error",
     "traceback": [
      "\u001b[1;36m  Cell \u001b[1;32mIn[14], line 2\u001b[1;36m\u001b[0m\n\u001b[1;33m    print(\"hello\")\u001b[0m\n\u001b[1;37m    ^\u001b[0m\n\u001b[1;31mIndentationError\u001b[0m\u001b[1;31m:\u001b[0m expected an indented block after 'if' statement on line 1\n"
     ]
    }
   ],
   "source": [
    "if True:\n",
    "print(\"hello\")"
   ]
  },
  {
   "cell_type": "code",
   "execution_count": 15,
   "id": "669da4cf-6bc5-4030-993b-a89281c1817a",
   "metadata": {},
   "outputs": [
    {
     "ename": "ModuleNotFoundError",
     "evalue": "No module named 'non_existing_module'",
     "output_type": "error",
     "traceback": [
      "\u001b[1;31m---------------------------------------------------------------------------\u001b[0m",
      "\u001b[1;31mModuleNotFoundError\u001b[0m                       Traceback (most recent call last)",
      "Cell \u001b[1;32mIn[15], line 1\u001b[0m\n\u001b[1;32m----> 1\u001b[0m \u001b[38;5;28;01mimport\u001b[39;00m\u001b[38;5;250m \u001b[39m\u001b[38;5;21;01mnon_existing_module\u001b[39;00m\n",
      "\u001b[1;31mModuleNotFoundError\u001b[0m: No module named 'non_existing_module'"
     ]
    }
   ],
   "source": [
    "import non_existing_module"
   ]
  },
  {
   "cell_type": "code",
   "execution_count": 17,
   "id": "7e04edcf-3b68-4c77-9572-eca579e58a8b",
   "metadata": {},
   "outputs": [
    {
     "ename": "AttributeError",
     "evalue": "'str' object has no attribute 'append'",
     "output_type": "error",
     "traceback": [
      "\u001b[1;31m---------------------------------------------------------------------------\u001b[0m",
      "\u001b[1;31mAttributeError\u001b[0m                            Traceback (most recent call last)",
      "Cell \u001b[1;32mIn[17], line 2\u001b[0m\n\u001b[0;32m      1\u001b[0m x \u001b[38;5;241m=\u001b[39m \u001b[38;5;124m\"\u001b[39m\u001b[38;5;124mhello\u001b[39m\u001b[38;5;124m\"\u001b[39m\n\u001b[1;32m----> 2\u001b[0m x\u001b[38;5;241m.\u001b[39mappend(\u001b[38;5;124m\"\u001b[39m\u001b[38;5;124mhello\u001b[39m\u001b[38;5;124m\"\u001b[39m)\n",
      "\u001b[1;31mAttributeError\u001b[0m: 'str' object has no attribute 'append'"
     ]
    }
   ],
   "source": [
    "x = \"hello\"\n",
    "x.append(\"hello\")"
   ]
  },
  {
   "cell_type": "code",
   "execution_count": 19,
   "id": "01386e23-93d5-4700-ab18-7fb2a6999d2b",
   "metadata": {},
   "outputs": [
    {
     "ename": "ZeroDivisionError",
     "evalue": "division by zero",
     "output_type": "error",
     "traceback": [
      "\u001b[1;31m---------------------------------------------------------------------------\u001b[0m",
      "\u001b[1;31mZeroDivisionError\u001b[0m                         Traceback (most recent call last)",
      "Cell \u001b[1;32mIn[19], line 1\u001b[0m\n\u001b[1;32m----> 1\u001b[0m a\u001b[38;5;241m=\u001b[39m\u001b[38;5;241m10\u001b[39m \u001b[38;5;241m/\u001b[39m \u001b[38;5;241m0\u001b[39m\n",
      "\u001b[1;31mZeroDivisionError\u001b[0m: division by zero"
     ]
    }
   ],
   "source": [
    "a=10 / 0 "
   ]
  },
  {
   "cell_type": "code",
   "execution_count": null,
   "id": "3df792f9-2039-4e33-b47c-4323a7a7834c",
   "metadata": {},
   "outputs": [],
   "source": [
    "- now onword we will write our code using try-except\n",
    "- there are two block\n",
    "   - try block\n",
    "   - except block\n",
    "- write i your code in try block\n",
    "- if any error occures in try block (original code) that code will catch except block\n"
   ]
  },
  {
   "cell_type": "code",
   "execution_count": 26,
   "id": "ff175716-6b99-4670-aea3-ede842934ac4",
   "metadata": {},
   "outputs": [
    {
     "name": "stdout",
     "output_type": "stream",
     "text": [
      "the addition of 10 and 20 is 30\n"
     ]
    }
   ],
   "source": [
    "a=10\n",
    "b=20\n",
    "c=a+b\n",
    "print(f'the addition of {a} and {b} is {c}')"
   ]
  },
  {
   "cell_type": "code",
   "execution_count": 7,
   "id": "e97fa5b3-8285-4b7b-aa16-996823466581",
   "metadata": {},
   "outputs": [
    {
     "name": "stdout",
     "output_type": "stream",
     "text": [
      "10\n",
      "20\n",
      "division by zero\n",
      "error mil gaya \n"
     ]
    }
   ],
   "source": [
    "try:\n",
    "    a=10  #corect\n",
    "    print(a) #correct\n",
    "    b=20     #correct\n",
    "    print(b) #correct\n",
    "    c=a/0   # wrong error\n",
    "    print(f'the addition of {a} and {b} is {c}')\n",
    "except Exception as e:\n",
    "    print(e)\n",
    "    print('error mil gaya ')"
   ]
  },
  {
   "cell_type": "code",
   "execution_count": 9,
   "id": "a308b631-8f89-4f8a-add8-47db2c1e71ca",
   "metadata": {},
   "outputs": [
    {
     "name": "stdout",
     "output_type": "stream",
     "text": [
      "can only concatenate str (not \"int\") to str\n"
     ]
    }
   ],
   "source": [
    "try:\n",
    "    'a'+100\n",
    "except Exception as e:\n",
    "    print(e)"
   ]
  },
  {
   "cell_type": "code",
   "execution_count": 10,
   "id": "65c84543-bdb0-4c51-a9a9-730c02da6b04",
   "metadata": {},
   "outputs": [
    {
     "name": "stdout",
     "output_type": "stream",
     "text": [
      "division by zero\n"
     ]
    }
   ],
   "source": [
    "try:\n",
    "    a=10 / 0 \n",
    "except Exception as e:\n",
    "    print(e)"
   ]
  },
  {
   "cell_type": "code",
   "execution_count": 11,
   "id": "ba28c6cf-da79-42d6-9c36-a821737085b4",
   "metadata": {},
   "outputs": [
    {
     "name": "stdout",
     "output_type": "stream",
     "text": [
      "list index out of range\n"
     ]
    }
   ],
   "source": [
    "try:\n",
    "    lst =[1,2,3]\n",
    "    print(lst[5])\n",
    "except Exception as e:\n",
    "    print(e)"
   ]
  },
  {
   "cell_type": "code",
   "execution_count": 16,
   "id": "6effbf20-db21-4855-a1f0-cbb46638eee1",
   "metadata": {},
   "outputs": [
    {
     "name": "stdout",
     "output_type": "stream",
     "text": [
      "module 'random' has no attribute 'random1'\n"
     ]
    }
   ],
   "source": [
    "try:\n",
    "    import random\n",
    "    random.random1()\n",
    "except Exception as apple:\n",
    "    print(apple)"
   ]
  },
  {
   "cell_type": "code",
   "execution_count": null,
   "id": "ed8724cb-3875-407a-ae22-be2610c070fe",
   "metadata": {},
   "outputs": [],
   "source": [
    "funtion"
   ]
  },
  {
   "cell_type": "code",
   "execution_count": 8,
   "id": "1ff16552-b076-4078-9e0c-85705e948dd7",
   "metadata": {},
   "outputs": [
    {
     "name": "stdin",
     "output_type": "stream",
     "text": [
      "enter the number 1: 258\n",
      "enter the number 2: 5564\n"
     ]
    },
    {
     "name": "stdout",
     "output_type": "stream",
     "text": [
      " 1 for the addition,\n",
      " 2 for the sub,\n",
      " 3 for the mult,\n",
      " 4 for the div\n"
     ]
    },
    {
     "name": "stdin",
     "output_type": "stream",
     "text": [
      "enter the number 1-4 4\n"
     ]
    },
    {
     "name": "stdout",
     "output_type": "stream",
     "text": [
      "You are seleted division\n",
      "The division of 258 and 5564 is : 0.04636951833213515\n"
     ]
    }
   ],
   "source": [
    "num1=eval(input('enter the number 1:'))\n",
    "num2=eval(input('enter the number 2:'))\n",
    "print(' 1 for the addition,\\n 2 for the sub,\\n 3 for the mult,\\n 4 for the div')\n",
    "operation=eval(input('enter the number 1-4'))\n",
    "if operation==1:\n",
    "    print(\"You are the selected  addition\")\n",
    "    add=num1+num2\n",
    "    print(f\"The addition of {num1} and {num2} is: {add}\")\n",
    "elif operation==2:\n",
    "    print(\"You are the selcted subtraction\")\n",
    "    sub=num1-num2\n",
    "    print(f\"The subtraction of {num1} and {num2} is : {sub}\")\n",
    "elif operation==3:\n",
    "    print(\"You are selected multiplication\")\n",
    "    mul=num1=num2\n",
    "    print(f\"The multiplication of {num1} and {num2} is :{mul}\")\n",
    "elif operation==4:\n",
    "    print(\"You are seleted division\")\n",
    "    div=num1/num2\n",
    "    print(f\"The division of {num1} and {num2} is : {div}\")\n",
    "else:\n",
    "    print(\"Enter the correct number\")"
   ]
  },
  {
   "cell_type": "markdown",
   "id": "80c8272d-e08d-42b7-8f85-93245f1643b9",
   "metadata": {},
   "source": []
  },
  {
   "cell_type": "code",
   "execution_count": null,
   "id": "15d02f57-bd1b-4f4c-a539-29d7746481db",
   "metadata": {},
   "outputs": [],
   "source": [
    "num1=eval(input('enter the number 1'))\n",
    "num2=eval(input('enter the number 2'))\n",
    "print(' 1 for addition , 2 for substraction , 3 for multiplication , 4 for division ')\n",
    "operation=eval(input('enter the number of 1-4'))\n",
    "if operation==1:\n",
    "    print="
   ]
  },
  {
   "cell_type": "code",
   "execution_count": null,
   "id": "6b0824b6-7664-4fa8-9d3f-f87fc9459e22",
   "metadata": {},
   "outputs": [],
   "source": []
  }
 ],
 "metadata": {
  "kernelspec": {
   "display_name": "Python [conda env:base] *",
   "language": "python",
   "name": "conda-base-py"
  },
  "language_info": {
   "codemirror_mode": {
    "name": "ipython",
    "version": 3
   },
   "file_extension": ".py",
   "mimetype": "text/x-python",
   "name": "python",
   "nbconvert_exporter": "python",
   "pygments_lexer": "ipython3",
   "version": "3.13.5"
  }
 },
 "nbformat": 4,
 "nbformat_minor": 5
}
