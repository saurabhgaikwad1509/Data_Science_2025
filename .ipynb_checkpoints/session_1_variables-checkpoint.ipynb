{
 "cells": [
  {
   "cell_type": "code",
   "execution_count": 1,
   "id": "46beed56-62e6-494e-939f-f6d8da3dfc61",
   "metadata": {},
   "outputs": [
    {
     "data": {
      "text/plain": [
       "60"
      ]
     },
     "execution_count": 1,
     "metadata": {},
     "output_type": "execute_result"
    }
   ],
   "source": [
    "a=10\n",
    "b=50\n",
    "c=a+b\n",
    "c"
   ]
  },
  {
   "cell_type": "code",
   "execution_count": 5,
   "id": "dda8eff7-9cb4-486d-bca5-dd34b20eae59",
   "metadata": {},
   "outputs": [
    {
     "data": {
      "text/plain": [
       "400"
      ]
     },
     "execution_count": 5,
     "metadata": {},
     "output_type": "execute_result"
    }
   ],
   "source": [
    "a=200\n",
    "b=200\n",
    "c=a+b\n",
    "c          #shift + enter \n"
   ]
  },
  {
   "cell_type": "code",
   "execution_count": null,
   "id": "04e48d76-46f4-4d37-9b23-c036273b3bce",
   "metadata": {},
   "outputs": [],
   "source": [
    "import time\n",
    "time.sleep(100)\n",
    "print('hello')"
   ]
  },
  {
   "cell_type": "markdown",
   "id": "b2af6b74-a7e7-478e-9536-7ce0cc7c6daa",
   "metadata": {},
   "source": [
    "i am learning python code , python code is easy "
   ]
  },
  {
   "cell_type": "code",
   "execution_count": null,
   "id": "29e07609-991c-4866-9c79-4fb5e653778f",
   "metadata": {},
   "outputs": [],
   "source": [
    "# i am saurabh"
   ]
  },
  {
   "cell_type": "markdown",
   "id": "db891797-c0ea-48b8-8c87-901639ed12b0",
   "metadata": {},
   "source": [
    "## python"
   ]
  },
  {
   "cell_type": "markdown",
   "id": "b76ae6d2-cd63-43db-9828-2f04543ed187",
   "metadata": {},
   "source": [
    "### python "
   ]
  },
  {
   "cell_type": "markdown",
   "id": "ced50527-4f5f-43bc-9ce0-c7163e589196",
   "metadata": {},
   "source": [
    "- today im learnig the python \n",
    "- python is very easy laguage \n",
    "- python is good "
   ]
  },
  {
   "cell_type": "code",
   "execution_count": 5,
   "id": "9b6bc04b-91d2-4b11-a2ea-17327d72127d",
   "metadata": {},
   "outputs": [
    {
     "data": {
      "text/plain": [
       "40"
      ]
     },
     "execution_count": 5,
     "metadata": {},
     "output_type": "execute_result"
    }
   ],
   "source": [
    "a=20\n",
    "b=20\n",
    "c=a+b\n",
    "c"
   ]
  },
  {
   "cell_type": "code",
   "execution_count": 6,
   "id": "ac95fd61-39b5-49df-b40d-145c017f99b1",
   "metadata": {},
   "outputs": [],
   "source": [
    "# esc + M is the short cut of markdoun mode \n",
    "# esc + Y is the short cut of code mode "
   ]
  },
  {
   "cell_type": "markdown",
   "id": "bf810811-0a23-4a04-a19a-849fa764858c",
   "metadata": {},
   "source": [
    "## variables"
   ]
  },
  {
   "cell_type": "markdown",
   "id": "1b1ba0e1-8a41-4f11-94e9-8d69a86ac2fa",
   "metadata": {},
   "source": [
    "- store the value \n",
    "- change the value \n"
   ]
  },
  {
   "cell_type": "code",
   "execution_count": 7,
   "id": "814c149a-6eae-4cc4-896e-46d1d89ffd81",
   "metadata": {},
   "outputs": [],
   "source": [
    "number=100\n",
    "# 100 is a value stored in an varaible called number "
   ]
  },
  {
   "cell_type": "code",
   "execution_count": 8,
   "id": "2b60f06b-376e-4502-b86d-df0c40af21ef",
   "metadata": {},
   "outputs": [
    {
     "name": "stdout",
     "output_type": "stream",
     "text": [
      "100\n"
     ]
    }
   ],
   "source": [
    "print(number)"
   ]
  },
  {
   "cell_type": "code",
   "execution_count": 9,
   "id": "17330777-661c-4ad5-a404-87211f80f66e",
   "metadata": {},
   "outputs": [
    {
     "data": {
      "text/plain": [
       "200"
      ]
     },
     "execution_count": 9,
     "metadata": {},
     "output_type": "execute_result"
    }
   ],
   "source": [
    "number=200\n",
    "number\n"
   ]
  },
  {
   "cell_type": "code",
   "execution_count": 10,
   "id": "677d3071-917d-4d30-9013-7ff019041319",
   "metadata": {},
   "outputs": [
    {
     "name": "stdout",
     "output_type": "stream",
     "text": [
      "200\n"
     ]
    }
   ],
   "source": [
    "number=200\n",
    "print(number)"
   ]
  },
  {
   "cell_type": "code",
   "execution_count": 12,
   "id": "8febd494-1cf1-4465-8d90-51371589f28d",
   "metadata": {},
   "outputs": [
    {
     "name": "stdout",
     "output_type": "stream",
     "text": [
      "200\n",
      "900\n",
      "1100\n"
     ]
    }
   ],
   "source": [
    "number1=200\n",
    "number2=900\n",
    "print(number1)\n",
    "print(number2)\n",
    "print(number1+number2)"
   ]
  },
  {
   "cell_type": "code",
   "execution_count": 17,
   "id": "1b746ae1-e030-453d-bb44-7b56517fdb12",
   "metadata": {},
   "outputs": [
    {
     "data": {
      "text/plain": [
       "100"
      ]
     },
     "execution_count": 17,
     "metadata": {},
     "output_type": "execute_result"
    }
   ],
   "source": [
    "number1=200\n",
    "number2=100\n",
    "number1\n",
    "number2\n",
    "#print(number1)"
   ]
  },
  {
   "cell_type": "code",
   "execution_count": 2,
   "id": "e0837bc5-64ec-4f36-8903-ac8b74ed9765",
   "metadata": {},
   "outputs": [],
   "source": [
    "number=100\n",
    "NUMBER=200"
   ]
  },
  {
   "cell_type": "code",
   "execution_count": 3,
   "id": "7ab0d69c-e0cf-4661-aa7b-e6a34b26934b",
   "metadata": {},
   "outputs": [
    {
     "data": {
      "text/plain": [
       "100"
      ]
     },
     "execution_count": 3,
     "metadata": {},
     "output_type": "execute_result"
    }
   ],
   "source": [
    "number"
   ]
  },
  {
   "cell_type": "code",
   "execution_count": 4,
   "id": "e44456f2-6e69-444e-b7f2-78f1c7cb63fe",
   "metadata": {},
   "outputs": [
    {
     "data": {
      "text/plain": [
       "200"
      ]
     },
     "execution_count": 4,
     "metadata": {},
     "output_type": "execute_result"
    }
   ],
   "source": [
    "NUMBER"
   ]
  },
  {
   "cell_type": "code",
   "execution_count": 5,
   "id": "fba91629-e4c2-4079-8f4d-92f046cc19ec",
   "metadata": {},
   "outputs": [
    {
     "data": {
      "text/plain": [
       "400"
      ]
     },
     "execution_count": 5,
     "metadata": {},
     "output_type": "execute_result"
    }
   ],
   "source": [
    "number123=400\n",
    "number123"
   ]
  },
  {
   "cell_type": "code",
   "execution_count": null,
   "id": "3f020667-f720-461c-991e-7d559588752b",
   "metadata": {},
   "outputs": [],
   "source": [
    "number   #smoll  \n",
    "NUMBER   #capital\n",
    "number123 # number asa prefix"
   ]
  },
  {
   "cell_type": "code",
   "execution_count": 7,
   "id": "1442fd26-5a05-44d1-ac02-a2621a4868ee",
   "metadata": {},
   "outputs": [
    {
     "ename": "SyntaxError",
     "evalue": "invalid decimal literal (1959083865.py, line 1)",
     "output_type": "error",
     "traceback": [
      "\u001b[1;36m  Cell \u001b[1;32mIn[7], line 1\u001b[1;36m\u001b[0m\n\u001b[1;33m    123number=500\u001b[0m\n\u001b[1;37m      ^\u001b[0m\n\u001b[1;31mSyntaxError\u001b[0m\u001b[1;31m:\u001b[0m invalid decimal literal\n"
     ]
    }
   ],
   "source": [
    "123number=500 "
   ]
  },
  {
   "cell_type": "code",
   "execution_count": null,
   "id": "aafec216-c5b5-40be-aacb-d5a2220f7e6c",
   "metadata": {},
   "outputs": [],
   "source": [
    "number   # work \n",
    "NUMBER   # work \n",
    "number123 # work\n",
    "123number # fail\n",
    "number@ # fail "
   ]
  },
  {
   "cell_type": "code",
   "execution_count": null,
   "id": "1cb41719-c84a-4e7d-b354-fefe31f34e3b",
   "metadata": {},
   "outputs": [],
   "source": [
    "number\n",
    "NUMBER\n",
    "number123\n",
    "123"
   ]
  },
  {
   "cell_type": "code",
   "execution_count": 10,
   "id": "1824832a-2e3d-4c46-9203-164fc39a19ce",
   "metadata": {},
   "outputs": [
    {
     "data": {
      "text/plain": [
       "800"
      ]
     },
     "execution_count": 10,
     "metadata": {},
     "output_type": "execute_result"
    }
   ],
   "source": [
    "number_one=800\n",
    "number_one"
   ]
  },
  {
   "cell_type": "code",
   "execution_count": null,
   "id": "dc5d49d2-0773-4d77-b234-d5c9e6adbd0d",
   "metadata": {},
   "outputs": [],
   "source": [
    "areaoftraingle=100 # work \n",
    "area_of_traingle=100  #work \n",
    "area of traingle=100   # fail _ becouse the sapce is not allowed "
   ]
  },
  {
   "cell_type": "code",
   "execution_count": null,
   "id": "7c0d9f93-b6e5-4e54-a914-dbb5c8bf7a50",
   "metadata": {},
   "outputs": [],
   "source": [
    "number=100   #work\n",
    "Number=200   # work\n",
    "NUMBER=300   #work\n",
    "number one=400   #fail\n",
    "number_one=500  # work\n",
    "_=600        #work\n",
    "number@=800    #fail\n",
    "if=800     #fail\n",
    "else=900   #fail\n"
   ]
  },
  {
   "cell_type": "code",
   "execution_count": 11,
   "id": "737679d5-99be-415e-8e63-cd34fed8e160",
   "metadata": {},
   "outputs": [
    {
     "name": "stdout",
     "output_type": "stream",
     "text": [
      "100\n"
     ]
    }
   ],
   "source": [
    "print(100)\n"
   ]
  },
  {
   "cell_type": "markdown",
   "id": "052710e8-6563-40fa-9e3a-73991fadfa40",
   "metadata": {},
   "source": [
    "- variable are case sensitive \n",
    "\n",
    "        -number and NUMBER\n",
    "\n",
    "- variable can be CAPITAL letters ans SMALL letters \n",
    "\n",
    "- number as starting dose not allowed as variables \n",
    "\n",
    "     -123 number are not allowed \n",
    "\n",
    "\n",
    "- variables dose not enclude spl charector \n",
    "\n",
    "     -number@ not allowed \n",
    "\n",
    "- variables keyword or reserved word look like green also not allowed\n",
    "\n",
    "        -ex:if else for true False elif def etc "
   ]
  },
  {
   "cell_type": "code",
   "execution_count": 15,
   "id": "172f154d-dffd-455c-b1ed-793adcb283f0",
   "metadata": {},
   "outputs": [
    {
     "name": "stdout",
     "output_type": "stream",
     "text": [
      "100\n"
     ]
    }
   ],
   "source": [
    "num=100\n",
    "print(num)"
   ]
  },
  {
   "cell_type": "code",
   "execution_count": 17,
   "id": "ba1eb229-cb47-4c13-9097-f63a9c2a85c6",
   "metadata": {},
   "outputs": [
    {
     "data": {
      "text/plain": [
       "int"
      ]
     },
     "execution_count": 17,
     "metadata": {},
     "output_type": "execute_result"
    }
   ],
   "source": [
    "type(num)"
   ]
  },
  {
   "cell_type": "code",
   "execution_count": 18,
   "id": "f9ff4d2a-3260-4449-b4e5-a3d7e933a92d",
   "metadata": {},
   "outputs": [
    {
     "data": {
      "text/plain": [
       "100"
      ]
     },
     "execution_count": 18,
     "metadata": {},
     "output_type": "execute_result"
    }
   ],
   "source": [
    "sum=100\n",
    "sum #dont use \n",
    "   #some use case is "
   ]
  },
  {
   "cell_type": "code",
   "execution_count": 1,
   "id": "c7054ad3-9936-4285-ab92-1551e3266888",
   "metadata": {},
   "outputs": [
    {
     "data": {
      "text/plain": [
       "300"
      ]
     },
     "execution_count": 1,
     "metadata": {},
     "output_type": "execute_result"
    }
   ],
   "source": [
    "sum([100,200])"
   ]
  },
  {
   "cell_type": "markdown",
   "id": "00287887-5f07-411a-a351-94bb6cee6a69",
   "metadata": {},
   "source": [
    "**varialble should be black color**"
   ]
  },
  {
   "cell_type": "code",
   "execution_count": 3,
   "id": "f9badef0-ff0a-41c7-82af-451001625af3",
   "metadata": {},
   "outputs": [],
   "source": [
    "Sum=300 #this is correct way \n",
    "sum=200 # this is wrong way "
   ]
  },
  {
   "cell_type": "code",
   "execution_count": 4,
   "id": "fe123014-02e4-4c9a-a5b9-9bcd386a2598",
   "metadata": {},
   "outputs": [],
   "source": [
    "max=500 #wrong way it will work \n",
    "max=500 #correct way "
   ]
  },
  {
   "cell_type": "code",
   "execution_count": 1,
   "id": "e3e21789-435f-4a3f-aa04-51e3f2759181",
   "metadata": {},
   "outputs": [
    {
     "data": {
      "text/plain": [
       "200"
      ]
     },
     "execution_count": 1,
     "metadata": {},
     "output_type": "execute_result"
    }
   ],
   "source": [
    "max([100,200])"
   ]
  },
  {
   "cell_type": "code",
   "execution_count": 2,
   "id": "46772bb2-da37-4902-9355-0f59ab9f0190",
   "metadata": {},
   "outputs": [
    {
     "data": {
      "text/plain": [
       "400"
      ]
     },
     "execution_count": 2,
     "metadata": {},
     "output_type": "execute_result"
    }
   ],
   "source": [
    "min([900,400]) #it is working "
   ]
  },
  {
   "cell_type": "code",
   "execution_count": 6,
   "id": "377e5a43-c70c-4694-9bdf-b5aca913b015",
   "metadata": {},
   "outputs": [
    {
     "name": "stdout",
     "output_type": "stream",
     "text": [
      "[100, 200]\n"
     ]
    },
    {
     "data": {
      "text/plain": [
       "2"
      ]
     },
     "execution_count": 6,
     "metadata": {},
     "output_type": "execute_result"
    }
   ],
   "source": [
    "print([100,200]) #print\n",
    "type([100,200])  #type list \n",
    "sum([100,200])   #300\n",
    "max([100,200])   #200\n",
    "min([100,200])   #100\n",
    "len([100,200])   #2\n",
    "\n",
    "# sum=\n",
    "# print=\n",
    "# max=\n"
   ]
  },
  {
   "cell_type": "code",
   "execution_count": null,
   "id": "3c1c9fd0-27dd-4418-9847-9b687c65cd4a",
   "metadata": {},
   "outputs": [],
   "source": [
    "number  #work\n",
    "Number  #work\n",
    "NUMBER  #work\n",
    "number123 #work\n",
    "number_one #work\n",
    "number one #fail\n",
    "number@ #fail\n",
    "123number #fail\n",
    "if    #fail\n",
    "else  #fail\n",
    "max     #works but not good representation \n",
    "min     # works but not good representaion\n"
   ]
  },
  {
   "cell_type": "code",
   "execution_count": null,
   "id": "a4783e2d-84f0-4fee-a784-0aa012c16a15",
   "metadata": {},
   "outputs": [],
   "source": []
  }
 ],
 "metadata": {
  "kernelspec": {
   "display_name": "Python [conda env:base] *",
   "language": "python",
   "name": "conda-base-py"
  },
  "language_info": {
   "codemirror_mode": {
    "name": "ipython",
    "version": 3
   },
   "file_extension": ".py",
   "mimetype": "text/x-python",
   "name": "python",
   "nbconvert_exporter": "python",
   "pygments_lexer": "ipython3",
   "version": "3.13.5"
  }
 },
 "nbformat": 4,
 "nbformat_minor": 5
}
