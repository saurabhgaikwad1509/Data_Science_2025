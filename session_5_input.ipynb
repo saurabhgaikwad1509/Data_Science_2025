{
 "cells": [
  {
   "cell_type": "code",
   "execution_count": 2,
   "id": "b34466d5-4f19-4763-83df-28b5f55549de",
   "metadata": {},
   "outputs": [
    {
     "data": {
      "text/plain": [
       "<bound method Kernel.raw_input of <ipykernel.ipkernel.IPythonKernel object at 0x000001370333D160>>"
      ]
     },
     "execution_count": 2,
     "metadata": {},
     "output_type": "execute_result"
    }
   ],
   "source": [
    "input"
   ]
  },
  {
   "cell_type": "markdown",
   "id": "dcc25237-86d8-4beb-a0d1-1f9767452205",
   "metadata": {},
   "source": [
    "- method\n",
    "\n",
    "- funtion \n",
    "\n",
    "- we need  to add brackets\n",
    "\n"
   ]
  },
  {
   "cell_type": "code",
   "execution_count": 7,
   "id": "551d5dcd-543c-4b2f-adb6-1cc13afc473f",
   "metadata": {},
   "outputs": [
    {
     "name": "stdin",
     "output_type": "stream",
     "text": [
      " hi \n",
      " hi\n"
     ]
    },
    {
     "data": {
      "text/plain": [
       "'hi'"
      ]
     },
     "execution_count": 7,
     "metadata": {},
     "output_type": "execute_result"
    }
   ],
   "source": [
    "input()"
   ]
  },
  {
   "cell_type": "code",
   "execution_count": 1,
   "id": "229778c2-9b5a-4e98-b531-fcc6ad4fc230",
   "metadata": {},
   "outputs": [
    {
     "name": "stdin",
     "output_type": "stream",
     "text": [
      "enter the number1: 10\n",
      "enter the number2: 20\n"
     ]
    },
    {
     "data": {
      "text/plain": [
       "'20'"
      ]
     },
     "execution_count": 1,
     "metadata": {},
     "output_type": "execute_result"
    }
   ],
   "source": [
    "input(\"enter the number1:\")\n",
    "input(\"enter the number2:\")"
   ]
  },
  {
   "cell_type": "code",
   "execution_count": 4,
   "id": "3f66e8ba-c7f2-4eb0-a0c6-57bd07c65c9d",
   "metadata": {},
   "outputs": [
    {
     "name": "stdin",
     "output_type": "stream",
     "text": [
      "enter the number1: 10\n",
      "enter the number2: 20\n"
     ]
    },
    {
     "data": {
      "text/plain": [
       "'1020'"
      ]
     },
     "execution_count": 4,
     "metadata": {},
     "output_type": "execute_result"
    }
   ],
   "source": [
    "a=input(\"enter the number1:\")\n",
    "b=input(\"enter the number2:\")\n",
    "c=a+b\n",
    "c"
   ]
  },
  {
   "cell_type": "code",
   "execution_count": 7,
   "id": "113ee9e0-c654-4aa3-8afc-c0d97f85d8af",
   "metadata": {},
   "outputs": [
    {
     "name": "stdin",
     "output_type": "stream",
     "text": [
      "enter the number1: 10\n",
      "enter the number2: 20\n"
     ]
    },
    {
     "data": {
      "text/plain": [
       "30"
      ]
     },
     "execution_count": 7,
     "metadata": {},
     "output_type": "execute_result"
    }
   ],
   "source": [
    "a=int(input(\"enter the number1:\")) #  int('10')\n",
    "b=int(input(\"enter the number2:\"))\n",
    "c=a+b\n",
    "c"
   ]
  },
  {
   "cell_type": "code",
   "execution_count": 8,
   "id": "7bb60920-f0d1-452f-982f-6666b3a0650d",
   "metadata": {},
   "outputs": [
    {
     "name": "stdin",
     "output_type": "stream",
     "text": [
      "enter the number1: 10\n",
      "enter the number2: 20\n"
     ]
    },
    {
     "data": {
      "text/plain": [
       "30"
      ]
     },
     "execution_count": 8,
     "metadata": {},
     "output_type": "execute_result"
    }
   ],
   "source": [
    "a=eval(input(\"enter the number1:\")) #  int('10')\n",
    "b=eval(input(\"enter the number2:\"))\n",
    "c=a+b\n",
    "c\n",
    "\n",
    "\n",
    "\n",
    "# eval of input of"
   ]
  },
  {
   "cell_type": "code",
   "execution_count": 1,
   "id": "e0a89681-40ec-468e-bbe0-6cea2500bc61",
   "metadata": {},
   "outputs": [
    {
     "name": "stdin",
     "output_type": "stream",
     "text": [
      " 10\n",
      "enter the number 20\n",
      "enter the number 20\n"
     ]
    },
    {
     "name": "stdout",
     "output_type": "stream",
     "text": [
      "2020\n"
     ]
    },
    {
     "name": "stdin",
     "output_type": "stream",
     "text": [
      "enter the number1: 20\n",
      "enter the number2: 20\n"
     ]
    },
    {
     "name": "stdout",
     "output_type": "stream",
     "text": [
      "40\n"
     ]
    }
   ],
   "source": [
    "input\n",
    "input()\n",
    "a=input('enter the number')\n",
    "b=input('enter the number')\n",
    "c=a+b\n",
    "print(c)\n",
    "\n",
    "a=eval(input(\"enter the number1:\"))\n",
    "b=eval(input(\"enter the number2:\"))\n",
    "print(a+b)"
   ]
  },
  {
   "cell_type": "code",
   "execution_count": 10,
   "id": "933e0d9f-14fb-4a9d-a46f-95ec576804dc",
   "metadata": {},
   "outputs": [
    {
     "data": {
      "text/plain": [
       "10"
      ]
     },
     "execution_count": 10,
     "metadata": {},
     "output_type": "execute_result"
    }
   ],
   "source": [
    "float('10.5')\n",
    "int('10')"
   ]
  },
  {
   "cell_type": "code",
   "execution_count": 11,
   "id": "3a1b4142-82f1-4f0f-946b-2bc4f70b8160",
   "metadata": {},
   "outputs": [
    {
     "data": {
      "text/plain": [
       "10.5"
      ]
     },
     "execution_count": 11,
     "metadata": {},
     "output_type": "execute_result"
    }
   ],
   "source": [
    "eval('10')\n",
    "eval('10.5')"
   ]
  },
  {
   "cell_type": "code",
   "execution_count": 15,
   "id": "da8bf6d4-7222-4499-a649-c5a3363d89b1",
   "metadata": {},
   "outputs": [
    {
     "name": "stdin",
     "output_type": "stream",
     "text": [
      "enter the number1 10\n",
      "enter the number 10\n"
     ]
    },
    {
     "name": "stdout",
     "output_type": "stream",
     "text": [
      "0\n"
     ]
    },
    {
     "name": "stdin",
     "output_type": "stream",
     "text": [
      "enter the number1 10\n",
      "enter the number 10\n"
     ]
    },
    {
     "name": "stdout",
     "output_type": "stream",
     "text": [
      "20\n"
     ]
    },
    {
     "name": "stdin",
     "output_type": "stream",
     "text": [
      "enter the number1 10\n",
      "enter the number 10\n"
     ]
    },
    {
     "name": "stdout",
     "output_type": "stream",
     "text": [
      "1.0\n"
     ]
    },
    {
     "name": "stdin",
     "output_type": "stream",
     "text": [
      "enter the number1 10\n",
      "enter the number 5\n"
     ]
    },
    {
     "name": "stdout",
     "output_type": "stream",
     "text": [
      "50\n"
     ]
    }
   ],
   "source": [
    "a=eval(input('enter the number1'))\n",
    "b=eval(input('enter the number2'))\n",
    "c=a-b\n",
    "print(a-b)\n",
    "\n",
    "a=eval(input('enter the number1'))\n",
    "b=eval(input('enter the number2'))\n",
    "print(a+b)\n",
    "\n",
    "a=eval(input('enter the number1'))\n",
    "b=eval(input('enter the number2'))\n",
    "print(a/b)\n",
    "\n",
    "a=eval(input('enter the number1'))\n",
    "b=eval(input('enter the number2'))\n",
    "print(a*b)"
   ]
  },
  {
   "cell_type": "markdown",
   "id": "a96a07d4-5563-46de-b702-60a3c32f6d16",
   "metadata": {},
   "source": [
    "**wap ask the user take the radius find the area of circle**"
   ]
  },
  {
   "cell_type": "code",
   "execution_count": 21,
   "id": "de60a9fd-81f4-446e-bc7c-d4c233fb4030",
   "metadata": {},
   "outputs": [
    {
     "name": "stdin",
     "output_type": "stream",
     "text": [
      "enter the radius of circle  20\n"
     ]
    },
    {
     "name": "stdout",
     "output_type": "stream",
     "text": [
      "the area of circle is:1256.0\n"
     ]
    }
   ],
   "source": [
    "r=eval(input('enter the radius of circle '))\n",
    "pi=3.14\n",
    "areaofcircle=(pi*r*r)\n",
    "print(f\"the area of circle is:{areaofcircle}\")"
   ]
  },
  {
   "cell_type": "markdown",
   "id": "64850f39-1aaf-4eb7-a079-53582e8056a0",
   "metadata": {},
   "source": [
    "**wap ask the user take height and breadth find the area of traingle**"
   ]
  },
  {
   "cell_type": "code",
   "execution_count": 23,
   "id": "36837c0a-1366-4329-96a0-f70a000c8aa5",
   "metadata": {},
   "outputs": [
    {
     "name": "stdin",
     "output_type": "stream",
     "text": [
      "enter the height of triangle 10\n",
      "enter the breath of triangle 20\n"
     ]
    },
    {
     "name": "stdout",
     "output_type": "stream",
     "text": [
      "the area triangle:100.0\n"
     ]
    }
   ],
   "source": [
    "h=eval(input('enter the height of triangle'))\n",
    "b=eval(input('enter the breath of triangle'))\n",
    "area_of_triangle=0.5*b*h\n",
    "print(f\"the area triangle:{area_of_triangle}\")"
   ]
  },
  {
   "cell_type": "markdown",
   "id": "21d50045-6e2e-46e5-8b07-aa0fd92a9257",
   "metadata": {},
   "source": [
    "**wap ask the user take 3 numbers find the average**"
   ]
  },
  {
   "cell_type": "code",
   "execution_count": 27,
   "id": "79ab39d3-9296-40a3-9189-b1d7ca85515f",
   "metadata": {},
   "outputs": [
    {
     "name": "stdin",
     "output_type": "stream",
     "text": [
      "enter the number1  100\n",
      "enter rthe number2 200\n",
      "enter the number 3 300\n"
     ]
    },
    {
     "name": "stdout",
     "output_type": "stream",
     "text": [
      "The avg of 100,200 and 300 is:200.0\n"
     ]
    }
   ],
   "source": [
    "a=eval(input('enter the number1 '))\n",
    "b=eval(input('enter rthe number2'))\n",
    "c=eval(input('enter the number 3'))\n",
    "avg1=(a+b+c)/3                  \n",
    "print(f\"The avg of {a},{b} and {c} is:{avg1}\")"
   ]
  },
  {
   "cell_type": "markdown",
   "id": "4018d851-6dec-4074-85ee-a7a39969c465",
   "metadata": {},
   "source": [
    "**wap ask the user take the bill amount and tip anount calculate total bill**"
   ]
  },
  {
   "cell_type": "code",
   "execution_count": 28,
   "id": "4869559c-e2e2-4b43-8df8-9cd379634d96",
   "metadata": {},
   "outputs": [
    {
     "name": "stdin",
     "output_type": "stream",
     "text": [
      "enter the bill 200\n",
      "enter the tip 300\n"
     ]
    },
    {
     "name": "stdout",
     "output_type": "stream",
     "text": [
      "total bill is:500\n"
     ]
    }
   ],
   "source": [
    "bill=eval(input('enter the bill'))\n",
    "tip=eval(input('enter the tip'))\n",
    "total_bill=bill+tip          \n",
    "print(f\"total bill is:{total_bill}\")"
   ]
  },
  {
   "cell_type": "markdown",
   "id": "d30ef28f-e1c2-4592-9a26-d9fa4d8e550a",
   "metadata": {},
   "source": [
    "**wap ask the user take the salary, percetage of tax calculate tax amount**"
   ]
  },
  {
   "cell_type": "code",
   "execution_count": 29,
   "id": "e6826435-1abc-4adb-aebc-c35af5dcdbcf",
   "metadata": {},
   "outputs": [
    {
     "name": "stdin",
     "output_type": "stream",
     "text": [
      "enter the salary  50000\n",
      "enter the tax 20\n"
     ]
    },
    {
     "name": "stdout",
     "output_type": "stream",
     "text": [
      "salary aften tax:40000.0\n",
      "salary aften tax:80000.0\n"
     ]
    }
   ],
   "source": [
    "salary=eval(input('enter the salary '))\n",
    "tax=eval(input('enter the tax'))\n",
    "tax_percentage=(tax/100)*salary\n",
    "print(f\"salary aften tax:{salary-tax_percentage}\")\n",
    "salary=100000\n",
    "tax=20\n",
    "tax_percentage=(tax/100)*salary\n",
    "print(f\"salary aften tax:{salary-tax_percentage}\")"
   ]
  },
  {
   "cell_type": "markdown",
   "id": "f1ffebc3-9984-4545-bfbc-d95e1652c33f",
   "metadata": {},
   "source": [
    "**wap ask the user take the value in dollar convert into rupees**"
   ]
  },
  {
   "cell_type": "code",
   "execution_count": 30,
   "id": "4a028e0d-0170-4698-9b9f-3c145b849e37",
   "metadata": {},
   "outputs": [
    {
     "name": "stdin",
     "output_type": "stream",
     "text": [
      "enter the dollar 50\n"
     ]
    },
    {
     "name": "stdout",
     "output_type": "stream",
     "text": [
      "The total amount of ruppes is :4000\n"
     ]
    }
   ],
   "source": [
    "doller=eval(input('enter the dollar'))\n",
    "ruppes=doller*80\n",
    "print(f\"The total amount of ruppes is :{ruppes}\")\n"
   ]
  },
  {
   "cell_type": "markdown",
   "id": "ce9ec4db-038d-47de-a5c4-8eb9b682423a",
   "metadata": {},
   "source": [
    "**wap ask the use take weight in kgs convert into pounds**"
   ]
  },
  {
   "cell_type": "code",
   "execution_count": 31,
   "id": "e3348c0e-ab98-4211-8bd3-32a29f8b8b7a",
   "metadata": {},
   "outputs": [
    {
     "name": "stdin",
     "output_type": "stream",
     "text": [
      "enter the weight 50\n"
     ]
    },
    {
     "name": "stdout",
     "output_type": "stream",
     "text": [
      "Weight in pounds is:125.0\n"
     ]
    }
   ],
   "source": [
    "weight=eval(input('enter the weight'))\n",
    "pounds=weight*2.5\n",
    "print(f\"Weight in pounds is:{pounds}\")  "
   ]
  },
  {
   "cell_type": "code",
   "execution_count": null,
   "id": "b077e0dc-4f05-498b-b73d-d29126e39189",
   "metadata": {},
   "outputs": [],
   "source": []
  }
 ],
 "metadata": {
  "kernelspec": {
   "display_name": "Python [conda env:base] *",
   "language": "python",
   "name": "conda-base-py"
  },
  "language_info": {
   "codemirror_mode": {
    "name": "ipython",
    "version": 3
   },
   "file_extension": ".py",
   "mimetype": "text/x-python",
   "name": "python",
   "nbconvert_exporter": "python",
   "pygments_lexer": "ipython3",
   "version": "3.13.5"
  }
 },
 "nbformat": 4,
 "nbformat_minor": 5
}
