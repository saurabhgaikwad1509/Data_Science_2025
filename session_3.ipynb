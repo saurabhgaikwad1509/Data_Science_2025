{
 "cells": [
  {
   "cell_type": "code",
   "execution_count": null,
   "id": "5dd42878-95ac-4962-884c-720e450c1131",
   "metadata": {},
   "outputs": [],
   "source": [
    "number1=10   #int \n",
    "number=10.5 # float\n",
    "name='NareshIT'  #string\n",
    "value=True     #boolean\n",
    "##################################################\n",
    "fruites=['Apple','banana','cherry']   #list\n",
    "names=('Ramesh','Suresh','Satish')   # tuple\n",
    "age={20,22,24}    #set \n",
    "data={'Ramesh':20,'Suresh':22,'Satish':24}   #dict"
   ]
  },
  {
   "cell_type": "code",
   "execution_count": 1,
   "id": "dc7e323e-cb99-4e5f-997a-bb3a9856e0ad",
   "metadata": {},
   "outputs": [
    {
     "data": {
      "text/plain": [
       "'100200'"
      ]
     },
     "execution_count": 1,
     "metadata": {},
     "output_type": "execute_result"
    }
   ],
   "source": [
    "n1='100'\n",
    "n2='200'\n",
    "n1+n2  #100+200=300"
   ]
  },
  {
   "cell_type": "markdown",
   "id": "5bc4360f-693b-4752-8be7-6f7887a7b433",
   "metadata": {},
   "source": [
    "## TYPE CASTING"
   ]
  },
  {
   "cell_type": "markdown",
   "id": "34cc6bfb-b19c-49d0-9cb3-f885019610c4",
   "metadata": {},
   "source": [
    "type casting : convert one data type to anather data type "
   ]
  },
  {
   "cell_type": "markdown",
   "id": "bbd34eb2-dd70-4546-ab44-603a96ec3d64",
   "metadata": {},
   "source": [
    "case-1\n",
    "    - int to float\n",
    "    \n",
    "    - int to str \n",
    "    \n",
    "    - int to bool"
   ]
  },
  {
   "cell_type": "code",
   "execution_count": 2,
   "id": "f4c356be-9533-4bb8-aead-2541d36493d6",
   "metadata": {},
   "outputs": [
    {
     "data": {
      "text/plain": [
       "10.0"
      ]
     },
     "execution_count": 2,
     "metadata": {},
     "output_type": "execute_result"
    }
   ],
   "source": [
    "number=10\n",
    "#int to float \n",
    "float(number)"
   ]
  },
  {
   "cell_type": "code",
   "execution_count": 3,
   "id": "c06bc238-f3e8-42d0-b3fd-9d777e3e4bc0",
   "metadata": {},
   "outputs": [
    {
     "data": {
      "text/plain": [
       "True"
      ]
     },
     "execution_count": 3,
     "metadata": {},
     "output_type": "execute_result"
    }
   ],
   "source": [
    "number=10\n",
    "#int to bool \n",
    "bool(number)"
   ]
  },
  {
   "cell_type": "code",
   "execution_count": 4,
   "id": "9a832f58-be07-41cc-ad71-2de42d910af7",
   "metadata": {},
   "outputs": [
    {
     "data": {
      "text/plain": [
       "(10.0, '10', True)"
      ]
     },
     "execution_count": 4,
     "metadata": {},
     "output_type": "execute_result"
    }
   ],
   "source": [
    "number=-10\n",
    "#int to float \n",
    "float(number),str(number),bool(number)"
   ]
  },
  {
   "cell_type": "code",
   "execution_count": 8,
   "id": "8a912b29-adb9-4b59-beb0-754ba0a3d4dc",
   "metadata": {},
   "outputs": [
    {
     "data": {
      "text/plain": [
       "(-10.0, '-10', True)"
      ]
     },
     "execution_count": 8,
     "metadata": {},
     "output_type": "execute_result"
    }
   ],
   "source": [
    "number=-10\n",
    "#int to float \n",
    "float(number),str(number),bool(number)"
   ]
  },
  {
   "cell_type": "code",
   "execution_count": 9,
   "id": "f963f53e-7238-4468-a964-3b90f87c6d1a",
   "metadata": {},
   "outputs": [
    {
     "data": {
      "text/plain": [
       "(0.0, '0', False)"
      ]
     },
     "execution_count": 9,
     "metadata": {},
     "output_type": "execute_result"
    }
   ],
   "source": [
    "number=-0\n",
    "#int to float \n",
    "float(number),str(number),bool(number)"
   ]
  },
  {
   "cell_type": "code",
   "execution_count": 10,
   "id": "4d3e7b49-a58a-4ce8-bd9a-97c34e62505d",
   "metadata": {},
   "outputs": [
    {
     "data": {
      "text/plain": [
       "(-10.0, '-10', True)"
      ]
     },
     "execution_count": 10,
     "metadata": {},
     "output_type": "execute_result"
    }
   ],
   "source": [
    "float(-10),str(-10),bool(-10)\n",
    "#-10.0      #-10     #true"
   ]
  },
  {
   "cell_type": "code",
   "execution_count": 11,
   "id": "87b07bd3-cbbd-4c05-8713-8499dd34f9d9",
   "metadata": {},
   "outputs": [
    {
     "data": {
      "text/plain": [
       "(0.0, '0', False)"
      ]
     },
     "execution_count": 11,
     "metadata": {},
     "output_type": "execute_result"
    }
   ],
   "source": [
    "float(0),str(0),bool(0)\n",
    "#0.0     #'0'    #false"
   ]
  },
  {
   "cell_type": "markdown",
   "id": "12cea1e0-7deb-443e-a691-7d483b1e275f",
   "metadata": {},
   "source": [
    "**Float to  other data types**"
   ]
  },
  {
   "cell_type": "code",
   "execution_count": 13,
   "id": "03d2ab8c-f716-4075-b09a-b19a5bcfa398",
   "metadata": {},
   "outputs": [
    {
     "data": {
      "text/plain": [
       "(-10, '-10.5', True)"
      ]
     },
     "execution_count": 13,
     "metadata": {},
     "output_type": "execute_result"
    }
   ],
   "source": [
    "number1=-10.5\n",
    "int(number1),str(number1),bool(number1)\n"
   ]
  },
  {
   "cell_type": "code",
   "execution_count": 14,
   "id": "02bdce5a-163f-467a-8a51-f0c7ebc80472",
   "metadata": {},
   "outputs": [
    {
     "data": {
      "text/plain": [
       "(-10, '-10.5', True)"
      ]
     },
     "execution_count": 14,
     "metadata": {},
     "output_type": "execute_result"
    }
   ],
   "source": [
    "int(-10.5),str(-10.5),bool(-10.5)\n"
   ]
  },
  {
   "cell_type": "code",
   "execution_count": 16,
   "id": "69baef71-c6d1-4b12-b44a-2146cde47678",
   "metadata": {},
   "outputs": [
    {
     "data": {
      "text/plain": [
       "(0, '0.0', True)"
      ]
     },
     "execution_count": 16,
     "metadata": {},
     "output_type": "execute_result"
    }
   ],
   "source": [
    "int(0.0),str(0.0),bool(0.00001)"
   ]
  },
  {
   "cell_type": "code",
   "execution_count": 17,
   "id": "ca46f663-735e-487c-a7a7-34270da06424",
   "metadata": {},
   "outputs": [
    {
     "data": {
      "text/plain": [
       "(0, '0.0', False)"
      ]
     },
     "execution_count": 17,
     "metadata": {},
     "output_type": "execute_result"
    }
   ],
   "source": [
    "int(0.0),str(0.0),bool(0.0)"
   ]
  },
  {
   "cell_type": "code",
   "execution_count": null,
   "id": "1dc09adf-e09c-4866-84fa-ac151535a971",
   "metadata": {},
   "outputs": [],
   "source": [
    "0 0.0   False OFF \n",
    "        True ON\n"
   ]
  },
  {
   "cell_type": "markdown",
   "id": "b18a7176-9d86-4249-b85d-69ec0533ebaf",
   "metadata": {},
   "source": [
    "**String to other data type**"
   ]
  },
  {
   "cell_type": "code",
   "execution_count": null,
   "id": "bb62d30c-0352-4458-8179-4eda87cdaa82",
   "metadata": {},
   "outputs": [],
   "source": [
    "s1='10'\n",
    "s2='10.5'\n",
    "s3='Apple'"
   ]
  },
  {
   "cell_type": "code",
   "execution_count": 21,
   "id": "7cacbcda-c357-472f-9d48-7bcd877c89e5",
   "metadata": {},
   "outputs": [
    {
     "ename": "ValueError",
     "evalue": "invalid literal for int() with base 10: '10.5'",
     "output_type": "error",
     "traceback": [
      "\u001b[1;31m---------------------------------------------------------------------------\u001b[0m",
      "\u001b[1;31mValueError\u001b[0m                                Traceback (most recent call last)",
      "Cell \u001b[1;32mIn[21], line 1\u001b[0m\n\u001b[1;32m----> 1\u001b[0m \u001b[38;5;28mprint\u001b[39m(\u001b[38;5;28mint\u001b[39m(\u001b[38;5;124m'\u001b[39m\u001b[38;5;124m10.5\u001b[39m\u001b[38;5;124m'\u001b[39m))\n\u001b[0;32m      2\u001b[0m \u001b[38;5;28mprint\u001b[39m(\u001b[38;5;28mfloat\u001b[39m(\u001b[38;5;124m'\u001b[39m\u001b[38;5;124m10.5\u001b[39m\u001b[38;5;124m'\u001b[39m))\n\u001b[0;32m      3\u001b[0m \u001b[38;5;28mprint\u001b[39m(\u001b[38;5;28mbool\u001b[39m(\u001b[38;5;124m'\u001b[39m\u001b[38;5;124m10.5\u001b[39m\u001b[38;5;124m'\u001b[39m))\n",
      "\u001b[1;31mValueError\u001b[0m: invalid literal for int() with base 10: '10.5'"
     ]
    }
   ],
   "source": [
    "print(int('10.5'))\n",
    "print(float('10.5'))\n",
    "print(bool('10.5'))"
   ]
  },
  {
   "cell_type": "code",
   "execution_count": 25,
   "id": "37d0dde0-0259-4e47-99c4-cab5604203fa",
   "metadata": {},
   "outputs": [
    {
     "name": "stdout",
     "output_type": "stream",
     "text": [
      "10\n",
      "20\n"
     ]
    },
    {
     "ename": "NameError",
     "evalue": "name 'Lenavo' is not defined",
     "output_type": "error",
     "traceback": [
      "\u001b[1;31m---------------------------------------------------------------------------\u001b[0m",
      "\u001b[1;31mNameError\u001b[0m                                 Traceback (most recent call last)",
      "Cell \u001b[1;32mIn[25], line 6\u001b[0m\n\u001b[0;32m      4\u001b[0m \u001b[38;5;28mprint\u001b[39m(n2)\n\u001b[0;32m      5\u001b[0m n4\u001b[38;5;241m=\u001b[39m\u001b[38;5;241m100\u001b[39m\n\u001b[1;32m----> 6\u001b[0m n3\u001b[38;5;241m=\u001b[39mLenavo\n\u001b[0;32m      7\u001b[0m n4\u001b[38;5;241m=\u001b[39m\u001b[38;5;241m100\u001b[39m\n\u001b[0;32m      8\u001b[0m n5\u001b[38;5;241m=\u001b[39m\u001b[38;5;241m600\u001b[39m\n",
      "\u001b[1;31mNameError\u001b[0m: name 'Lenavo' is not defined"
     ]
    }
   ],
   "source": [
    "n1=10\n",
    "print(n1)\n",
    "n2=20\n",
    "print(n2)\n",
    "n4=100\n",
    "n3=Lenavo\n",
    "n4=100\n",
    "n5=600"
   ]
  },
  {
   "cell_type": "code",
   "execution_count": 1,
   "id": "7ac899d4-a6d6-4387-a41d-1bf5705ab14e",
   "metadata": {},
   "outputs": [],
   "source": [
    "float=('10.5'),int('10')"
   ]
  },
  {
   "cell_type": "code",
   "execution_count": 5,
   "id": "5dbcc205-1e22-4dd0-a9d1-109e37714a70",
   "metadata": {},
   "outputs": [
    {
     "ename": "SyntaxError",
     "evalue": "invalid syntax (3053349672.py, line 6)",
     "output_type": "error",
     "traceback": [
      "\u001b[1;36m  Cell \u001b[1;32mIn[5], line 6\u001b[1;36m\u001b[0m\n\u001b[1;33m    float(10.5) 10.5\u001b[0m\n\u001b[1;37m                ^\u001b[0m\n\u001b[1;31mSyntaxError\u001b[0m\u001b[1;31m:\u001b[0m invalid syntax\n"
     ]
    }
   ],
   "source": [
    "int(10)   #10\n",
    "int(10.5)  #10\n",
    "int('10')   #10 \n",
    "int('10.5') #error\n",
    "float(10)   #10.5\n",
    "float(10.5) 10.5"
   ]
  },
  {
   "cell_type": "code",
   "execution_count": 1,
   "id": "0ea8c552-31ab-4691-9b93-81493b04b192",
   "metadata": {},
   "outputs": [
    {
     "data": {
      "text/plain": [
       "(0, 0.0, True)"
      ]
     },
     "execution_count": 1,
     "metadata": {},
     "output_type": "execute_result"
    }
   ],
   "source": [
    "int('0'),float('0'),bool('0')"
   ]
  },
  {
   "cell_type": "code",
   "execution_count": 5,
   "id": "8d7b12a8-11cb-4694-84fc-fd36a32c18e7",
   "metadata": {},
   "outputs": [
    {
     "data": {
      "text/plain": [
       "(26, 0, 5)"
      ]
     },
     "execution_count": 5,
     "metadata": {},
     "output_type": "execute_result"
    }
   ],
   "source": [
    "len('chhtrapati sambhjai nagar '),len(''),len('Apple')\n",
    "#yes    #NO          #yes "
   ]
  },
  {
   "cell_type": "code",
   "execution_count": 2,
   "id": "026d95e8-7cac-4ab4-b9cd-81d035886331",
   "metadata": {},
   "outputs": [
    {
     "ename": "ValueError",
     "evalue": "invalid literal for int() with base 10: '0.0'",
     "output_type": "error",
     "traceback": [
      "\u001b[1;31m---------------------------------------------------------------------------\u001b[0m",
      "\u001b[1;31mValueError\u001b[0m                                Traceback (most recent call last)",
      "Cell \u001b[1;32mIn[2], line 1\u001b[0m\n\u001b[1;32m----> 1\u001b[0m \u001b[38;5;28mint\u001b[39m(\u001b[38;5;124m'\u001b[39m\u001b[38;5;124m0.0\u001b[39m\u001b[38;5;124m'\u001b[39m),\u001b[38;5;28mfloat\u001b[39m(\u001b[38;5;124m'\u001b[39m\u001b[38;5;124m0.0\u001b[39m\u001b[38;5;124m'\u001b[39m),\u001b[38;5;28mbool\u001b[39m(\u001b[38;5;124m'\u001b[39m\u001b[38;5;124m0.0\u001b[39m\u001b[38;5;124m'\u001b[39m)\n",
      "\u001b[1;31mValueError\u001b[0m: invalid literal for int() with base 10: '0.0'"
     ]
    }
   ],
   "source": [
    "int('0.0'),float('0.0'),bool('0.0')"
   ]
  },
  {
   "cell_type": "code",
   "execution_count": 4,
   "id": "419dd4fe-a032-40a9-9185-6d3de45cd9b2",
   "metadata": {},
   "outputs": [
    {
     "ename": "ValueError",
     "evalue": "could not convert string to float: 'Apple'",
     "output_type": "error",
     "traceback": [
      "\u001b[1;31m---------------------------------------------------------------------------\u001b[0m",
      "\u001b[1;31mValueError\u001b[0m                                Traceback (most recent call last)",
      "Cell \u001b[1;32mIn[4], line 1\u001b[0m\n\u001b[1;32m----> 1\u001b[0m \u001b[38;5;28mfloat\u001b[39m(\u001b[38;5;124m'\u001b[39m\u001b[38;5;124mApple\u001b[39m\u001b[38;5;124m'\u001b[39m)\n\u001b[0;32m      2\u001b[0m \u001b[38;5;28mint\u001b[39m(\u001b[38;5;124m'\u001b[39m\u001b[38;5;124mApple\u001b[39m\u001b[38;5;124m'\u001b[39m)\n\u001b[0;32m      3\u001b[0m \u001b[38;5;28mbool\u001b[39m(\u001b[38;5;124m'\u001b[39m\u001b[38;5;124mApple\u001b[39m\u001b[38;5;124m'\u001b[39m)\n",
      "\u001b[1;31mValueError\u001b[0m: could not convert string to float: 'Apple'"
     ]
    }
   ],
   "source": [
    "float('Apple')\n",
    "int('Apple')\n",
    "bool('Apple')"
   ]
  },
  {
   "cell_type": "code",
   "execution_count": 2,
   "id": "7c7f4913-9972-4fb1-b17d-d9fd08bcdda6",
   "metadata": {},
   "outputs": [
    {
     "data": {
      "text/plain": [
       "(1, 1.0, True)"
      ]
     },
     "execution_count": 2,
     "metadata": {},
     "output_type": "execute_result"
    }
   ],
   "source": [
    "int(True),float(True),bool(True)\n",
    "  #1        #1.0       #'True'"
   ]
  },
  {
   "cell_type": "code",
   "execution_count": 1,
   "id": "cbd22b6e-bf79-4103-96fa-54610084a405",
   "metadata": {},
   "outputs": [
    {
     "data": {
      "text/plain": [
       "(0, 0.0, 'False')"
      ]
     },
     "execution_count": 1,
     "metadata": {},
     "output_type": "execute_result"
    }
   ],
   "source": [
    "int(False),float(False),str(False)"
   ]
  },
  {
   "cell_type": "code",
   "execution_count": 7,
   "id": "4d774d87-e90f-46e3-850f-3724a11ac6b1",
   "metadata": {},
   "outputs": [
    {
     "data": {
      "text/plain": [
       "10"
      ]
     },
     "execution_count": 7,
     "metadata": {},
     "output_type": "execute_result"
    }
   ],
   "source": [
    "int(float(10.5))"
   ]
  },
  {
   "cell_type": "code",
   "execution_count": 10,
   "id": "753575eb-5041-4649-a6dc-e1c368383c6b",
   "metadata": {},
   "outputs": [
    {
     "data": {
      "text/plain": [
       "300"
      ]
     },
     "execution_count": 10,
     "metadata": {},
     "output_type": "execute_result"
    }
   ],
   "source": [
    "n1=int('100')\n",
    "n2=int('200')\n",
    "n1+n2"
   ]
  },
  {
   "cell_type": "code",
   "execution_count": 1,
   "id": "e2df372b-f0ed-4db3-899a-57a3f02fe08b",
   "metadata": {},
   "outputs": [
    {
     "data": {
      "text/plain": [
       "300"
      ]
     },
     "execution_count": 1,
     "metadata": {},
     "output_type": "execute_result"
    }
   ],
   "source": [
    "n1=int('100')\n",
    "n2=int('200')\n",
    "n1+n2    #'100'+'200'"
   ]
  },
  {
   "cell_type": "code",
   "execution_count": 23,
   "id": "2ec1747f-8231-4811-bee5-3075f70318d2",
   "metadata": {},
   "outputs": [
    {
     "data": {
      "text/plain": [
       "300"
      ]
     },
     "execution_count": 23,
     "metadata": {},
     "output_type": "execute_result"
    }
   ],
   "source": [
    "n1=('100')\n",
    "n2=('200')\n",
    "int(n1)+int(n2)  \n"
   ]
  },
  {
   "cell_type": "code",
   "execution_count": 28,
   "id": "e2406065-ce2d-476f-8591-562d48df8bac",
   "metadata": {},
   "outputs": [
    {
     "data": {
      "text/plain": [
       "300.5"
      ]
     },
     "execution_count": 28,
     "metadata": {},
     "output_type": "execute_result"
    }
   ],
   "source": [
    "n1=float('100.5')   # float ('100.5')=100.5\n",
    "n2=float('200')     # int('200')=200\n",
    "n1+n2  "
   ]
  },
  {
   "cell_type": "markdown",
   "id": "b750d5a6-9683-4db7-9e79-c459b929a879",
   "metadata": {},
   "source": [
    "**eval**"
   ]
  },
  {
   "cell_type": "code",
   "execution_count": 33,
   "id": "777302bb-8e65-4575-a1c1-e4bd075417d1",
   "metadata": {},
   "outputs": [
    {
     "name": "stdout",
     "output_type": "stream",
     "text": [
      "200\n",
      "200\n"
     ]
    }
   ],
   "source": [
    "n1=eval('100.5')   # float ('100.5')=100.5\n",
    "print(n2)\n",
    "n2=eval('200')     # int('200')=200\n",
    "print(n2)\n",
    "\n",
    "n1+n2  \n",
    "n1=float('100.5')\n",
    "n2=float('200')"
   ]
  },
  {
   "cell_type": "code",
   "execution_count": 35,
   "id": "fc58a1b9-91b5-4a16-9fa7-d12fe3b46718",
   "metadata": {},
   "outputs": [
    {
     "name": "stdout",
     "output_type": "stream",
     "text": [
      "100200\n",
      "100*****\n",
      "100.5200\n"
     ]
    }
   ],
   "source": [
    "print('100'+'200')  \n",
    "print('100'+'*****')\n",
    "print('100.5'+'200')"
   ]
  },
  {
   "cell_type": "code",
   "execution_count": null,
   "id": "26a7c7b5-a4a6-4541-ae9d-19cb71cf605b",
   "metadata": {},
   "outputs": [],
   "source": []
  }
 ],
 "metadata": {
  "kernelspec": {
   "display_name": "Python [conda env:base] *",
   "language": "python",
   "name": "conda-base-py"
  },
  "language_info": {
   "codemirror_mode": {
    "name": "ipython",
    "version": 3
   },
   "file_extension": ".py",
   "mimetype": "text/x-python",
   "name": "python",
   "nbconvert_exporter": "python",
   "pygments_lexer": "ipython3",
   "version": "3.13.5"
  }
 },
 "nbformat": 4,
 "nbformat_minor": 5
}
