{
 "cells": [
  {
   "cell_type": "markdown",
   "id": "a1105c14-df64-410c-bdda-67527dc0f416",
   "metadata": {},
   "source": [
    "## String\n",
    "\n",
    "- initilizations\n",
    "\n",
    "- inbuild function \n",
    "\n",
    "    - print\n",
    "\n",
    "    - type\n",
    "\n",
    "    - len\n",
    "\n",
    "    - min \n",
    "\n",
    "    - max\n",
    "\n",
    "    - sum \n",
    "\n",
    "    - sorted\n",
    "\n",
    "    - reversed\n",
    "\n",
    "- concatenation\n",
    "\n",
    "- Index opreation \n",
    "\n",
    "- Mutable vs Immutable \n",
    "\n",
    "- slices\n",
    "\n",
    "- methods "
   ]
  },
  {
   "cell_type": "markdown",
   "id": "eb7aa022-7677-4748-b4e9-3e9740ead67e",
   "metadata": {},
   "source": [
    "## Intialization"
   ]
  },
  {
   "cell_type": "code",
   "execution_count": 1,
   "id": "ea723687-e073-4509-aae5-ae821c3a5ec7",
   "metadata": {},
   "outputs": [],
   "source": [
    "str1='python'"
   ]
  },
  {
   "cell_type": "code",
   "execution_count": 4,
   "id": "065210d5-aac8-4b0c-8064-2d6ad75e6418",
   "metadata": {},
   "outputs": [],
   "source": [
    "str2=\"python\""
   ]
  },
  {
   "cell_type": "code",
   "execution_count": 6,
   "id": "f6c2a41f-5ae0-4654-a43f-76fca8ae1365",
   "metadata": {},
   "outputs": [
    {
     "data": {
      "text/plain": [
       "'i like python'"
      ]
     },
     "execution_count": 6,
     "metadata": {},
     "output_type": "execute_result"
    }
   ],
   "source": [
    "str3=\"i like python\"\n",
    "str3"
   ]
  },
  {
   "cell_type": "code",
   "execution_count": 9,
   "id": "53177d3b-98f3-4348-817c-9474e640dc95",
   "metadata": {},
   "outputs": [
    {
     "data": {
      "text/plain": [
       "'i like \"python\"  '"
      ]
     },
     "execution_count": 9,
     "metadata": {},
     "output_type": "execute_result"
    }
   ],
   "source": [
    "str4='i like \"python\"  '\n",
    "str4\n"
   ]
  },
  {
   "cell_type": "code",
   "execution_count": null,
   "id": "b2a9b210-e917-4888-bb1e-684c75191374",
   "metadata": {},
   "outputs": [],
   "source": [
    "type()\n",
    "print()\n",
    "len()\n",
    "min()\n",
    "max()\n",
    "sum()\n",
    "sorted()\n",
    "reversed()\n"
   ]
  },
  {
   "cell_type": "code",
   "execution_count": 5,
   "id": "5609fa12-888d-45a2-ac2a-65c177fec70c",
   "metadata": {},
   "outputs": [
    {
     "name": "stdout",
     "output_type": "stream",
     "text": [
      "python\n"
     ]
    }
   ],
   "source": [
    "str1='python'\n",
    "print(str1)"
   ]
  },
  {
   "cell_type": "code",
   "execution_count": 6,
   "id": "062e0f8b-e576-4d51-8d98-26f21accd6cc",
   "metadata": {},
   "outputs": [
    {
     "data": {
      "text/plain": [
       "7"
      ]
     },
     "execution_count": 6,
     "metadata": {},
     "output_type": "execute_result"
    }
   ],
   "source": [
    "str2=('saurabh')\n",
    "len(str2)"
   ]
  },
  {
   "cell_type": "code",
   "execution_count": 8,
   "id": "ef8b4319-db39-4edb-a6f1-c75791cb366b",
   "metadata": {},
   "outputs": [
    {
     "data": {
      "text/plain": [
       "100"
      ]
     },
     "execution_count": 8,
     "metadata": {},
     "output_type": "execute_result"
    }
   ],
   "source": [
    "str3=(100,200)\n",
    "min(str3)"
   ]
  },
  {
   "cell_type": "code",
   "execution_count": 9,
   "id": "eb416e78-d1da-4875-961d-0ddc7c7348e0",
   "metadata": {},
   "outputs": [
    {
     "data": {
      "text/plain": [
       "200"
      ]
     },
     "execution_count": 9,
     "metadata": {},
     "output_type": "execute_result"
    }
   ],
   "source": [
    "str4=(100,200)\n",
    "max(str4)"
   ]
  },
  {
   "cell_type": "code",
   "execution_count": 12,
   "id": "438b2ca0-5d88-4fbf-9ba9-d6144c274b3c",
   "metadata": {},
   "outputs": [
    {
     "data": {
      "text/plain": [
       "3"
      ]
     },
     "execution_count": 12,
     "metadata": {},
     "output_type": "execute_result"
    }
   ],
   "source": [
    "str5=(1,2)\n",
    "sum(str5)"
   ]
  },
  {
   "cell_type": "code",
   "execution_count": 15,
   "id": "854158fc-3ba1-4d3b-b6bd-47e1817c3219",
   "metadata": {},
   "outputs": [
    {
     "data": {
      "text/plain": [
       "<reversed at 0x21e00427730>"
      ]
     },
     "execution_count": 15,
     "metadata": {},
     "output_type": "execute_result"
    }
   ],
   "source": [
    "str6=(\"saurabh\")\n",
    "reversed(str6)"
   ]
  },
  {
   "cell_type": "code",
   "execution_count": 20,
   "id": "a47c4a95-40d5-4893-836a-998de5ded9a4",
   "metadata": {},
   "outputs": [
    {
     "data": {
      "text/plain": [
       "(49, 112)"
      ]
     },
     "execution_count": 20,
     "metadata": {},
     "output_type": "execute_result"
    }
   ],
   "source": [
    "min('123')\n",
    "ord('1'),ord('p')"
   ]
  },
  {
   "cell_type": "code",
   "execution_count": 19,
   "id": "637972b5-8f97-414b-8772-6f84e60aa73f",
   "metadata": {},
   "outputs": [
    {
     "data": {
      "text/plain": [
       "'1'"
      ]
     },
     "execution_count": 19,
     "metadata": {},
     "output_type": "execute_result"
    }
   ],
   "source": [
    "min('python123')"
   ]
  },
  {
   "cell_type": "code",
   "execution_count": null,
   "id": "5d988718-422b-41de-993f-de7698ad1b48",
   "metadata": {},
   "outputs": [],
   "source": [
    "type()\n",
    "print()\n",
    "len()\n",
    "max() \n",
    "min()\n",
    "\n"
   ]
  },
  {
   "cell_type": "code",
   "execution_count": null,
   "id": "c608bb62-1990-446f-a763-7d7c0132b70a",
   "metadata": {},
   "outputs": [],
   "source": [
    "sorted('python')"
   ]
  },
  {
   "cell_type": "markdown",
   "id": "d540d2c5-b294-4967-b88c-288c76286239",
   "metadata": {},
   "source": [
    "**Iterable**\n",
    "\n",
    "- anything can iterate  thought loop \n",
    "\n",
    "- string list tuple dictinory "
   ]
  },
  {
   "cell_type": "code",
   "execution_count": 25,
   "id": "2d21371e-7fb3-4135-aad9-b50943b638a5",
   "metadata": {},
   "outputs": [
    {
     "data": {
      "text/plain": [
       "['h', 'n', 'o', 'p', 't', 'y']"
      ]
     },
     "execution_count": 25,
     "metadata": {},
     "output_type": "execute_result"
    }
   ],
   "source": [
    "sorted('python',reverse=False)\n",
    "# asending order"
   ]
  },
  {
   "cell_type": "code",
   "execution_count": 26,
   "id": "928e85a5-20e0-41f1-b1b3-36a2d29de366",
   "metadata": {},
   "outputs": [
    {
     "data": {
      "text/plain": [
       "['y', 't', 'p', 'o', 'n', 'h']"
      ]
     },
     "execution_count": 26,
     "metadata": {},
     "output_type": "execute_result"
    }
   ],
   "source": [
    "sorted('python',reverse=True)\n",
    "# desending order"
   ]
  },
  {
   "cell_type": "code",
   "execution_count": null,
   "id": "b73d8618-cd00-4c13-b723-92a66e64fc38",
   "metadata": {},
   "outputs": [],
   "source": [
    "sorted('python')\n",
    "sorted('python',reverse=False)\n",
    "sorted('python',reverse=True)"
   ]
  },
  {
   "cell_type": "markdown",
   "id": "ec374fae-85e7-428f-8ff2-d1339f4ae197",
   "metadata": {},
   "source": [
    "**reversed**\n",
    "\n",
    "- sequnce means string list tuple dictinory "
   ]
  },
  {
   "cell_type": "code",
   "execution_count": 34,
   "id": "3f3e55c5-a5f3-4e39-bcb5-8d79bc82cd88",
   "metadata": {},
   "outputs": [
    {
     "data": {
      "text/plain": [
       "<reversed at 0x21e0059d000>"
      ]
     },
     "execution_count": 34,
     "metadata": {},
     "output_type": "execute_result"
    }
   ],
   "source": [
    "reversed('python')\n",
    "# it is allready revesed\n",
    "# answer located memory \n",
    "# <memory>"
   ]
  },
  {
   "cell_type": "code",
   "execution_count": 29,
   "id": "e5f9c669-0104-4ffd-b74d-d2a5cb4113cf",
   "metadata": {},
   "outputs": [
    {
     "name": "stdout",
     "output_type": "stream",
     "text": [
      "n o h t y p "
     ]
    }
   ],
   "source": [
    "out=reversed('python') \n",
    "for i in out:\n",
    "    print(i,end=' ')"
   ]
  },
  {
   "cell_type": "code",
   "execution_count": 30,
   "id": "fdd94a7a-16a6-448e-9152-dbeb1ae03f43",
   "metadata": {},
   "outputs": [
    {
     "data": {
      "text/plain": [
       "['n', 'o', 'h', 't', 'y', 'p']"
      ]
     },
     "execution_count": 30,
     "metadata": {},
     "output_type": "execute_result"
    }
   ],
   "source": [
    "list(reversed('python'))"
   ]
  },
  {
   "cell_type": "code",
   "execution_count": 33,
   "id": "7d5d5d6a-09a0-485c-9698-4c17fa185d9d",
   "metadata": {},
   "outputs": [
    {
     "data": {
      "text/plain": [
       "['n', 'o', 'h', 't', 'y', 'p']"
      ]
     },
     "execution_count": 33,
     "metadata": {},
     "output_type": "execute_result"
    }
   ],
   "source": [
    "list(reversed('python'))"
   ]
  },
  {
   "cell_type": "markdown",
   "id": "ab5e7040-5312-4b11-b634-a0c547c45239",
   "metadata": {},
   "source": [
    "## Concatenation"
   ]
  },
  {
   "cell_type": "code",
   "execution_count": 35,
   "id": "1819dfae-3a3d-45dc-97a1-e10a5b16754c",
   "metadata": {},
   "outputs": [],
   "source": [
    "str1='hello'\n",
    "str2='python'"
   ]
  },
  {
   "cell_type": "code",
   "execution_count": 36,
   "id": "21522073-bed4-4898-8094-07f764adf78c",
   "metadata": {},
   "outputs": [
    {
     "data": {
      "text/plain": [
       "'hellopython'"
      ]
     },
     "execution_count": 36,
     "metadata": {},
     "output_type": "execute_result"
    }
   ],
   "source": [
    "str1+str2"
   ]
  },
  {
   "cell_type": "code",
   "execution_count": 37,
   "id": "07eac3c2-f30e-43a5-bd41-d7d7a5da641b",
   "metadata": {},
   "outputs": [
    {
     "ename": "TypeError",
     "evalue": "unsupported operand type(s) for -: 'str' and 'str'",
     "output_type": "error",
     "traceback": [
      "\u001b[1;31m---------------------------------------------------------------------------\u001b[0m",
      "\u001b[1;31mTypeError\u001b[0m                                 Traceback (most recent call last)",
      "Cell \u001b[1;32mIn[37], line 1\u001b[0m\n\u001b[1;32m----> 1\u001b[0m str1\u001b[38;5;241m-\u001b[39mstr2\n",
      "\u001b[1;31mTypeError\u001b[0m: unsupported operand type(s) for -: 'str' and 'str'"
     ]
    }
   ],
   "source": [
    "str1-str2"
   ]
  },
  {
   "cell_type": "code",
   "execution_count": 40,
   "id": "3cfde08c-22bb-4245-b4fa-764235a5f61d",
   "metadata": {},
   "outputs": [
    {
     "data": {
      "text/plain": [
       "'hellohello'"
      ]
     },
     "execution_count": 40,
     "metadata": {},
     "output_type": "execute_result"
    }
   ],
   "source": [
    "str1*2"
   ]
  },
  {
   "cell_type": "code",
   "execution_count": 42,
   "id": "c6bd9310-2680-407d-b592-eef69f3e7ff9",
   "metadata": {},
   "outputs": [
    {
     "ename": "TypeError",
     "evalue": "unsupported operand type(s) for /: 'str' and 'str'",
     "output_type": "error",
     "traceback": [
      "\u001b[1;31m---------------------------------------------------------------------------\u001b[0m",
      "\u001b[1;31mTypeError\u001b[0m                                 Traceback (most recent call last)",
      "Cell \u001b[1;32mIn[42], line 1\u001b[0m\n\u001b[1;32m----> 1\u001b[0m str1\u001b[38;5;241m/\u001b[39mstr2\n",
      "\u001b[1;31mTypeError\u001b[0m: unsupported operand type(s) for /: 'str' and 'str'"
     ]
    }
   ],
   "source": [
    "str1/str2"
   ]
  },
  {
   "cell_type": "code",
   "execution_count": 43,
   "id": "e718b97f-1e92-4d5f-b473-3f7c97aa803e",
   "metadata": {},
   "outputs": [
    {
     "data": {
      "text/plain": [
       "'hellohello'"
      ]
     },
     "execution_count": 43,
     "metadata": {},
     "output_type": "execute_result"
    }
   ],
   "source": [
    "str1*2"
   ]
  },
  {
   "cell_type": "code",
   "execution_count": 45,
   "id": "28c2e430-6f37-4c7e-8967-11cf819bd6be",
   "metadata": {},
   "outputs": [
    {
     "data": {
      "text/plain": [
       "'python-python'"
      ]
     },
     "execution_count": 45,
     "metadata": {},
     "output_type": "execute_result"
    }
   ],
   "source": [
    "'python'+'-python'"
   ]
  },
  {
   "cell_type": "code",
   "execution_count": 46,
   "id": "6fe4fbe2-aab8-4562-8492-6c0477ad48b1",
   "metadata": {},
   "outputs": [
    {
     "data": {
      "text/plain": [
       "'pythonpython'"
      ]
     },
     "execution_count": 46,
     "metadata": {},
     "output_type": "execute_result"
    }
   ],
   "source": [
    "'python'*2"
   ]
  },
  {
   "cell_type": "markdown",
   "id": "abc8034a-1947-4fd3-9690-3c46e6a06627",
   "metadata": {},
   "source": [
    "## Index"
   ]
  },
  {
   "cell_type": "code",
   "execution_count": null,
   "id": "0e58611d-93e5-45b9-b59b-0d74f1573941",
   "metadata": {},
   "outputs": [],
   "source": [
    "# () indicates function call\n",
    "# [] access the elements  or values \n"
   ]
  },
  {
   "cell_type": "code",
   "execution_count": null,
   "id": "6e988b0e-41e1-4c96-891d-f39abcd761e8",
   "metadata": {},
   "outputs": [],
   "source": [
    "-6  -5  -4  -3  -2  -1\n",
    "p   y   t   h   o   n \n",
    "0   1   2   3   4   5 "
   ]
  },
  {
   "cell_type": "code",
   "execution_count": 48,
   "id": "2457f725-b67d-48c1-b5f5-c4df9c3410b4",
   "metadata": {},
   "outputs": [
    {
     "data": {
      "text/plain": [
       "('p', 'p')"
      ]
     },
     "execution_count": 48,
     "metadata": {},
     "output_type": "execute_result"
    }
   ],
   "source": [
    "str1='python'\n",
    "str1[0],str1[-6]"
   ]
  },
  {
   "cell_type": "raw",
   "id": "bb6f7981-4ac4-46d7-a051-a16ec21fbba0",
   "metadata": {},
   "source": []
  },
  {
   "cell_type": "code",
   "execution_count": 58,
   "id": "cd555989-241a-45d8-972b-02cd0f83384f",
   "metadata": {},
   "outputs": [
    {
     "name": "stdout",
     "output_type": "stream",
     "text": [
      "p\n",
      "y\n",
      "t\n",
      "h\n",
      "o\n",
      "n\n"
     ]
    }
   ],
   "source": [
    "str1='python'\n",
    "n=len(str1)\n",
    "for i in range(6):\n",
    "    print(str1[i])"
   ]
  },
  {
   "cell_type": "code",
   "execution_count": 60,
   "id": "c305758b-942a-4b72-9735-c074961c89bd",
   "metadata": {},
   "outputs": [
    {
     "name": "stdout",
     "output_type": "stream",
     "text": [
      "s\n",
      "a\n",
      "u\n",
      "r\n",
      "a\n",
      "b\n"
     ]
    }
   ],
   "source": [
    "str2='saurabh'\n",
    "for i in range(6):  # i in range in number (range)\n",
    "    print(str2[i])\n",
    "\n",
    "# missong the \"H\""
   ]
  },
  {
   "cell_type": "code",
   "execution_count": 61,
   "id": "e0d2f07b-1a47-42d3-84d8-d43ff56ac533",
   "metadata": {},
   "outputs": [
    {
     "name": "stdout",
     "output_type": "stream",
     "text": [
      "p y t h o n "
     ]
    }
   ],
   "source": [
    "for i in str1:   # direct element \n",
    "    print(i,end=' ')"
   ]
  },
  {
   "cell_type": "code",
   "execution_count": null,
   "id": "7d9e1852-540e-4947-b65d-4eea067b161f",
   "metadata": {},
   "outputs": [],
   "source": [
    "i in range()  ===  i behave as number\n",
    "str1=[i]    \n",
    "i in str1     === i behave is elements\n",
    "i"
   ]
  },
  {
   "cell_type": "markdown",
   "id": "8271c73f-a926-43a5-99ca-f9cdbcabe38e",
   "metadata": {},
   "source": [
    "**Note**\n",
    "\n",
    "-  when you have a use case with index then use range method accces \n",
    "\n",
    "-  when you have a use case with out index then use in method access \n",
    "\n"
   ]
  },
  {
   "cell_type": "code",
   "execution_count": 70,
   "id": "93309ce4-e1a7-43e0-85b1-5b622353caee",
   "metadata": {},
   "outputs": [
    {
     "name": "stdout",
     "output_type": "stream",
     "text": [
      "11 h 0\n",
      "10 a 1\n",
      "1\n",
      "9 i 2\n",
      "8   3\n",
      "7 h 4\n",
      "6 a 5\n",
      "5\n",
      "5 i 6\n",
      "4   7\n",
      "3 h 8\n",
      "2 a 9\n",
      "9\n",
      "1 i 10\n"
     ]
    }
   ],
   "source": [
    "# wap ask the user get a indexes of 'a' from a given string \n",
    "#     str1'hai hai hai'\n",
    "#     ans 1,5,9\n",
    "\n",
    "\n",
    "# idea:\n",
    "# step1:- itereate each letter using range \n",
    "# step2:- if str1=[i]  ='a'\n",
    "# step2:- \n",
    "str1='hai hai hai'\n",
    "n=len(str1)\n",
    "for i in range(n):\n",
    "    print(n-i,str1[i],i)\n",
    "    if str1[i]=='a':\n",
    "        print(i)"
   ]
  },
  {
   "cell_type": "code",
   "execution_count": 71,
   "id": "0dddad94-492f-4a68-bb5a-d983f5d52d69",
   "metadata": {},
   "outputs": [
    {
     "name": "stdout",
     "output_type": "stream",
     "text": [
      "11 h 0\n",
      "10 a 1\n",
      "9 i 2\n",
      "8   3\n",
      "7 h 4\n",
      "6 a 5\n",
      "5 i 6\n",
      "4   7\n",
      "3 h 8\n",
      "2 a 9\n",
      "1 i 10\n",
      "3\n"
     ]
    }
   ],
   "source": [
    "# wap ask the user how many 'a' i present \n",
    "#   str1='hai hai hai'  ans=3\n",
    "str1='hai hai hai'\n",
    "n=len(str1)\n",
    "count=0\n",
    "for i in range(n):\n",
    "    print(n-i,str1[i],i)\n",
    "    if str1[i]=='a':\n",
    "        count=count+1\n",
    "print(count)"
   ]
  },
  {
   "cell_type": "code",
   "execution_count": 73,
   "id": "8057a967-d5c0-4e83-97db-15d7485968e6",
   "metadata": {},
   "outputs": [
    {
     "name": "stdout",
     "output_type": "stream",
     "text": [
      "3\n"
     ]
    }
   ],
   "source": [
    "str1='hai hai hai'\n",
    "count=0\n",
    "for i in str1:\n",
    "    if i=='a':\n",
    "        count=count+1\n",
    "print(count)"
   ]
  },
  {
   "cell_type": "code",
   "execution_count": 81,
   "id": "bed058d6-fd96-42ea-9a6f-1acdd9b50f9c",
   "metadata": {},
   "outputs": [
    {
     "name": "stdout",
     "output_type": "stream",
     "text": [
      "['e', 'o', ' ', 'a', 'i', ' ', 'o', ' ', 'a', 'e', ' ', 'o', 'u', ' ']\n"
     ]
    },
    {
     "data": {
      "text/plain": [
       "1"
      ]
     },
     "execution_count": 81,
     "metadata": {},
     "output_type": "execute_result"
    }
   ],
   "source": [
    "import string\n",
    "text='hello hai how are you '\n",
    "count=0\n",
    "vovels='aeiou AEIOU'\n",
    "found_vovels=[]\n",
    "for char in text:\n",
    "    if char in vovels:\n",
    "        found_vovels.append(char)\n",
    "print(found_vovels)\n",
    "count+1\n"
   ]
  },
  {
   "cell_type": "code",
   "execution_count": 80,
   "id": "69f80219-60ba-4ef1-ae60-5cbcb2b9c83d",
   "metadata": {},
   "outputs": [
    {
     "name": "stdout",
     "output_type": "stream",
     "text": [
      "e ,o ,a ,i ,o ,a ,e ,o ,u ,"
     ]
    }
   ],
   "source": [
    "# wap ask the users fine the all vovels (a,e,i,o,u)\n",
    "# str1 'hello'hai how are you'\n",
    "# all vovels and count also \n",
    "str1='hello hai how are you'\n",
    "for i in str1:\n",
    "    if i in 'aeiou':\n",
    "        print(i,end=' ,')"
   ]
  },
  {
   "cell_type": "code",
   "execution_count": null,
   "id": "822d7dc9-e34b-4700-b18a-e882fa82b8d8",
   "metadata": {},
   "outputs": [],
   "source": [
    "# Q4) Update our code with only one volvels \n",
    "# not repted in each letters "
   ]
  },
  {
   "cell_type": "markdown",
   "id": "af95bf4d-a776-4951-8c56-7e3dd1ce6f4e",
   "metadata": {},
   "source": [
    "**Empty String**"
   ]
  },
  {
   "cell_type": "code",
   "execution_count": 2,
   "id": "a42ef1e6-6753-403d-bfb2-d4be0c0f8db6",
   "metadata": {},
   "outputs": [
    {
     "data": {
      "text/plain": [
       "'py'"
      ]
     },
     "execution_count": 2,
     "metadata": {},
     "output_type": "execute_result"
    }
   ],
   "source": [
    "s=''\n",
    "s=s+'p'\n",
    "s=s+'y'\n",
    "s"
   ]
  },
  {
   "cell_type": "markdown",
   "id": "f6ff1b15-dc94-4df0-95d5-80a1e118b677",
   "metadata": {},
   "source": [
    "**mutable vs immutable**"
   ]
  },
  {
   "cell_type": "markdown",
   "id": "acb99a4a-b727-4289-8831-3d6af3a69ee7",
   "metadata": {},
   "source": [
    "- mutable means change the charecter **using index**\n",
    "\n",
    "- immutable means not able to chnage charecter **using index**"
   ]
  },
  {
   "cell_type": "code",
   "execution_count": 1,
   "id": "19da747f-72df-41ac-b4ff-c74e0dc637f5",
   "metadata": {},
   "outputs": [
    {
     "ename": "TypeError",
     "evalue": "'str' object does not support item assignment",
     "output_type": "error",
     "traceback": [
      "\u001b[1;31m---------------------------------------------------------------------------\u001b[0m",
      "\u001b[1;31mTypeError\u001b[0m                                 Traceback (most recent call last)",
      "Cell \u001b[1;32mIn[1], line 4\u001b[0m\n\u001b[0;32m      1\u001b[0m str1\u001b[38;5;241m=\u001b[39m\u001b[38;5;124m'\u001b[39m\u001b[38;5;124mwelcome\u001b[39m\u001b[38;5;124m'\u001b[39m\n\u001b[0;32m      2\u001b[0m \u001b[38;5;66;03m# 'l'   'L'\u001b[39;00m\n\u001b[0;32m      3\u001b[0m \u001b[38;5;66;03m# weLcome \u001b[39;00m\n\u001b[1;32m----> 4\u001b[0m str1[\u001b[38;5;241m2\u001b[39m]\u001b[38;5;241m=\u001b[39m\u001b[38;5;124m'\u001b[39m\u001b[38;5;124mL\u001b[39m\u001b[38;5;124m'\u001b[39m\n",
      "\u001b[1;31mTypeError\u001b[0m: 'str' object does not support item assignment"
     ]
    }
   ],
   "source": [
    "str1='welcome'\n",
    "# 'l'   'L'\n",
    "# weLcome \n",
    "# str1[2]='L'   mutable"
   ]
  },
  {
   "cell_type": "code",
   "execution_count": 2,
   "id": "8c0a383b-7100-4ea5-873d-2a9210080f1c",
   "metadata": {},
   "outputs": [
    {
     "data": {
      "text/plain": [
       "[10, 20, 300, 40]"
      ]
     },
     "execution_count": 2,
     "metadata": {},
     "output_type": "execute_result"
    }
   ],
   "source": [
    "l=[10,20,30,40]\n",
    "l[2]=300\n",
    "l"
   ]
  },
  {
   "cell_type": "code",
   "execution_count": null,
   "id": "2eeaf738-29ff-431e-9a9a-ced996fc1411",
   "metadata": {},
   "outputs": [],
   "source": []
  },
  {
   "cell_type": "markdown",
   "id": "95859a8f-2ddf-4ca6-8eac-74ec0833522b",
   "metadata": {},
   "source": [
    "**slice**\n",
    "\n",
    "- Extract the portion of string : sub string\n"
   ]
  },
  {
   "cell_type": "code",
   "execution_count": 3,
   "id": "c8ed6425-157a-4a3c-bf35-3a59c5717d76",
   "metadata": {},
   "outputs": [
    {
     "data": {
      "text/plain": [
       "15"
      ]
     },
     "execution_count": 3,
     "metadata": {},
     "output_type": "execute_result"
    }
   ],
   "source": [
    "str1='hai how are you'\n",
    "len(str1)"
   ]
  },
  {
   "cell_type": "code",
   "execution_count": null,
   "id": "d9aaace6-979d-43a0-9a97-fac52e692390",
   "metadata": {},
   "outputs": [],
   "source": [
    "-15 -14 -13 -12 -11 -10 -9  -8  -7  -6   -5   -4   -3   -2   -1  \n",
    "h   a   i        h   o   w       a   r   e         y    o    u \n",
    "0   1   2   3    4   5   6   7   8   9   10   11   12   13   14 "
   ]
  },
  {
   "cell_type": "markdown",
   "id": "0050c9f1-9b75-49fe-88dd-5bc4658915ce",
   "metadata": {},
   "source": [
    "**str1[start:stop:step]====>range(start:stop:step)**"
   ]
  },
  {
   "cell_type": "markdown",
   "id": "52652472-f627-4fa8-b972-dcadb31bbb82",
   "metadata": {},
   "source": [
    "**case 1**\n",
    "\n",
    "- str1[start:stop]  range(start:stop) (start=start,+1,last=stop-1)"
   ]
  },
  {
   "cell_type": "code",
   "execution_count": 5,
   "id": "d79613f9-1ace-4378-bd7d-0819c162a2cd",
   "metadata": {},
   "outputs": [
    {
     "data": {
      "text/plain": [
       "'i how ar'"
      ]
     },
     "execution_count": 5,
     "metadata": {},
     "output_type": "execute_result"
    }
   ],
   "source": [
    "str1[2:10]"
   ]
  },
  {
   "cell_type": "code",
   "execution_count": 6,
   "id": "fae06d5c-e844-46cb-9fac-924f2d8f87ad",
   "metadata": {},
   "outputs": [
    {
     "data": {
      "text/plain": [
       "'ioa '"
      ]
     },
     "execution_count": 6,
     "metadata": {},
     "output_type": "execute_result"
    }
   ],
   "source": [
    "str1[2:14:3]"
   ]
  },
  {
   "cell_type": "code",
   "execution_count": 7,
   "id": "c1abdfca-8d97-4024-b0eb-7f39d32f8b17",
   "metadata": {},
   "outputs": [
    {
     "data": {
      "text/plain": [
       "'i how are'"
      ]
     },
     "execution_count": 7,
     "metadata": {},
     "output_type": "execute_result"
    }
   ],
   "source": [
    "str1[2:-4]"
   ]
  },
  {
   "cell_type": "code",
   "execution_count": 8,
   "id": "41502e28-acd2-4171-884c-81b6f34e0a02",
   "metadata": {},
   "outputs": [
    {
     "data": {
      "text/plain": [
       "'ai how '"
      ]
     },
     "execution_count": 8,
     "metadata": {},
     "output_type": "execute_result"
    }
   ],
   "source": [
    "str1[-14:8]"
   ]
  },
  {
   "cell_type": "code",
   "execution_count": 9,
   "id": "8ef608a9-a2f8-47c2-bafe-4198f700a476",
   "metadata": {},
   "outputs": [
    {
     "data": {
      "text/plain": [
       "'ihwaey'"
      ]
     },
     "execution_count": 9,
     "metadata": {},
     "output_type": "execute_result"
    }
   ],
   "source": [
    "str1[2:-1:2]"
   ]
  },
  {
   "cell_type": "code",
   "execution_count": null,
   "id": "620621cd-5c3e-46ca-a913-0d04aa162c92",
   "metadata": {},
   "outputs": [],
   "source": [
    "-15 -14 -13 -12 -11 -10 -9  -8  -7  -6   -5   -4   -3   -2   -1  \n",
    "h   a   i        h   o   w       a   r   e         y    o    u \n",
    "0   1   2   3    4   5   6   7   8   9   10   11   12   13   14"
   ]
  },
  {
   "cell_type": "code",
   "execution_count": 11,
   "id": "38ec3dd0-a6e1-4a69-9962-a5736ff925db",
   "metadata": {},
   "outputs": [
    {
     "data": {
      "text/plain": [
       "'u ao'"
      ]
     },
     "execution_count": 11,
     "metadata": {},
     "output_type": "execute_result"
    }
   ],
   "source": [
    "str1[-1:4:-3]"
   ]
  },
  {
   "cell_type": "code",
   "execution_count": 12,
   "id": "ffb6f651-fe10-408d-b1c0-5954dcc3d99f",
   "metadata": {},
   "outputs": [
    {
     "data": {
      "text/plain": [
       "''"
      ]
     },
     "execution_count": 12,
     "metadata": {},
     "output_type": "execute_result"
    }
   ],
   "source": [
    "str1[0:5:-2]"
   ]
  },
  {
   "cell_type": "code",
   "execution_count": 29,
   "id": "4974c7f0-4f7d-4d1b-b0b1-e03fd79e3597",
   "metadata": {},
   "outputs": [
    {
     "data": {
      "text/plain": [
       "'a o r '"
      ]
     },
     "execution_count": 29,
     "metadata": {},
     "output_type": "execute_result"
    }
   ],
   "source": [
    "str1[1:-3:2]"
   ]
  },
  {
   "cell_type": "code",
   "execution_count": 14,
   "id": "fcb22aa1-0d86-4209-9b32-c959ef8d72ea",
   "metadata": {},
   "outputs": [
    {
     "data": {
      "text/plain": [
       "'o r o '"
      ]
     },
     "execution_count": 14,
     "metadata": {},
     "output_type": "execute_result"
    }
   ],
   "source": [
    "str1[13:-14:-2]"
   ]
  },
  {
   "cell_type": "code",
   "execution_count": 19,
   "id": "aa666955-d477-40d4-a406-c22125d698b6",
   "metadata": {},
   "outputs": [
    {
     "data": {
      "text/plain": [
       "'uoy'"
      ]
     },
     "execution_count": 19,
     "metadata": {},
     "output_type": "execute_result"
    }
   ],
   "source": [
    "str1[-1:11:-1]"
   ]
  },
  {
   "cell_type": "code",
   "execution_count": 22,
   "id": "b898fe98-00d1-487b-9641-a41ee6832010",
   "metadata": {},
   "outputs": [
    {
     "data": {
      "text/plain": [
       "'hai how are you'"
      ]
     },
     "execution_count": 22,
     "metadata": {},
     "output_type": "execute_result"
    }
   ],
   "source": [
    "str1[0:100]"
   ]
  },
  {
   "cell_type": "code",
   "execution_count": 23,
   "id": "a046e5be-966a-4d56-9542-437a8b636b45",
   "metadata": {
    "jp-MarkdownHeadingCollapsed": true
   },
   "outputs": [
    {
     "data": {
      "text/plain": [
       "'hai how are you'"
      ]
     },
     "execution_count": 23,
     "metadata": {},
     "output_type": "execute_result"
    }
   ],
   "source": [
    "str1[:]"
   ]
  },
  {
   "cell_type": "code",
   "execution_count": 30,
   "id": "ef241bb8-5c08-4d8e-9ba4-2ff13baa25a0",
   "metadata": {},
   "outputs": [
    {
     "data": {
      "text/plain": [
       "'hai how are you'"
      ]
     },
     "execution_count": 30,
     "metadata": {},
     "output_type": "execute_result"
    }
   ],
   "source": [
    "str1[::]  # [<start: stop:step]"
   ]
  },
  {
   "cell_type": "code",
   "execution_count": 31,
   "id": "cecc1ca4-758c-4c1b-8a3c-1ecdf9ffc215",
   "metadata": {},
   "outputs": [
    {
     "data": {
      "text/plain": [
       "'uoy era woh iah'"
      ]
     },
     "execution_count": 31,
     "metadata": {},
     "output_type": "execute_result"
    }
   ],
   "source": [
    "str1[::-1]"
   ]
  },
  {
   "cell_type": "code",
   "execution_count": 32,
   "id": "87f8f437-d6fb-40b2-aabb-433794ddf202",
   "metadata": {},
   "outputs": [
    {
     "data": {
      "text/plain": [
       "'uoy era woh iah'"
      ]
     },
     "execution_count": 32,
     "metadata": {},
     "output_type": "execute_result"
    }
   ],
   "source": [
    "str1[::-1]"
   ]
  },
  {
   "cell_type": "code",
   "execution_count": null,
   "id": "9cb495f6-9fd9-4d4b-91bf-3e38c3773bdb",
   "metadata": {},
   "outputs": [],
   "source": [
    "**part 1**\n",
    "\n",
    "- initilaization \n",
    "\n",
    "- inbuild function \n",
    "\n",
    "- concatenation \n",
    "\n",
    "- in dex range vs in \n",
    "\n",
    "- mutable vs immutable\n",
    "\n",
    "- slice "
   ]
  },
  {
   "cell_type": "code",
   "execution_count": null,
   "id": "4c3a0ba3-9203-4db8-8ceb-b26208e74909",
   "metadata": {},
   "outputs": [],
   "source": [
    "l=[10,20,30,40] s='python'\n",
    "type()\n",
    "len()\n",
    "min()"
   ]
  },
  {
   "cell_type": "markdown",
   "id": "f8d37d21-ae00-4ee2-b239-7277737cb385",
   "metadata": {},
   "source": [
    "**Methods**"
   ]
  },
  {
   "cell_type": "code",
   "execution_count": 35,
   "id": "cef92707-949e-4868-97bf-3f58ee40c63e",
   "metadata": {},
   "outputs": [
    {
     "data": {
      "text/plain": [
       "['BPF',\n",
       " 'LOG4',\n",
       " 'NV_MAGICCONST',\n",
       " 'RECIP_BPF',\n",
       " 'Random',\n",
       " 'SG_MAGICCONST',\n",
       " 'SystemRandom',\n",
       " 'TWOPI',\n",
       " '_ONE',\n",
       " '_Sequence',\n",
       " '__all__',\n",
       " '__builtins__',\n",
       " '__cached__',\n",
       " '__doc__',\n",
       " '__file__',\n",
       " '__loader__',\n",
       " '__name__',\n",
       " '__package__',\n",
       " '__spec__',\n",
       " '_accumulate',\n",
       " '_acos',\n",
       " '_bisect',\n",
       " '_ceil',\n",
       " '_cos',\n",
       " '_e',\n",
       " '_exp',\n",
       " '_fabs',\n",
       " '_floor',\n",
       " '_index',\n",
       " '_inst',\n",
       " '_isfinite',\n",
       " '_lgamma',\n",
       " '_log',\n",
       " '_log2',\n",
       " '_os',\n",
       " '_parse_args',\n",
       " '_pi',\n",
       " '_random',\n",
       " '_repeat',\n",
       " '_sha512',\n",
       " '_sin',\n",
       " '_sqrt',\n",
       " '_test',\n",
       " '_test_generator',\n",
       " '_urandom',\n",
       " 'betavariate',\n",
       " 'binomialvariate',\n",
       " 'choice',\n",
       " 'choices',\n",
       " 'expovariate',\n",
       " 'gammavariate',\n",
       " 'gauss',\n",
       " 'getrandbits',\n",
       " 'getstate',\n",
       " 'lognormvariate',\n",
       " 'main',\n",
       " 'normalvariate',\n",
       " 'paretovariate',\n",
       " 'randbytes',\n",
       " 'randint',\n",
       " 'random',\n",
       " 'randrange',\n",
       " 'sample',\n",
       " 'seed',\n",
       " 'setstate',\n",
       " 'shuffle',\n",
       " 'triangular',\n",
       " 'uniform',\n",
       " 'vonmisesvariate',\n",
       " 'weibullvariate']"
      ]
     },
     "execution_count": 35,
     "metadata": {},
     "output_type": "execute_result"
    }
   ],
   "source": [
    "import random\n",
    "dir(random)"
   ]
  },
  {
   "cell_type": "code",
   "execution_count": 36,
   "id": "32f8463a-cba3-4b8c-9cd6-149d226880ad",
   "metadata": {},
   "outputs": [
    {
     "data": {
      "text/plain": [
       "['__add__',\n",
       " '__class__',\n",
       " '__contains__',\n",
       " '__delattr__',\n",
       " '__dir__',\n",
       " '__doc__',\n",
       " '__eq__',\n",
       " '__format__',\n",
       " '__ge__',\n",
       " '__getattribute__',\n",
       " '__getitem__',\n",
       " '__getnewargs__',\n",
       " '__getstate__',\n",
       " '__gt__',\n",
       " '__hash__',\n",
       " '__init__',\n",
       " '__init_subclass__',\n",
       " '__iter__',\n",
       " '__le__',\n",
       " '__len__',\n",
       " '__lt__',\n",
       " '__mod__',\n",
       " '__mul__',\n",
       " '__ne__',\n",
       " '__new__',\n",
       " '__reduce__',\n",
       " '__reduce_ex__',\n",
       " '__repr__',\n",
       " '__rmod__',\n",
       " '__rmul__',\n",
       " '__setattr__',\n",
       " '__sizeof__',\n",
       " '__str__',\n",
       " '__subclasshook__',\n",
       " 'capitalize',\n",
       " 'casefold',\n",
       " 'center',\n",
       " 'count',\n",
       " 'encode',\n",
       " 'endswith',\n",
       " 'expandtabs',\n",
       " 'find',\n",
       " 'format',\n",
       " 'format_map',\n",
       " 'index',\n",
       " 'isalnum',\n",
       " 'isalpha',\n",
       " 'isascii',\n",
       " 'isdecimal',\n",
       " 'isdigit',\n",
       " 'isidentifier',\n",
       " 'islower',\n",
       " 'isnumeric',\n",
       " 'isprintable',\n",
       " 'isspace',\n",
       " 'istitle',\n",
       " 'isupper',\n",
       " 'join',\n",
       " 'ljust',\n",
       " 'lower',\n",
       " 'lstrip',\n",
       " 'maketrans',\n",
       " 'partition',\n",
       " 'removeprefix',\n",
       " 'removesuffix',\n",
       " 'replace',\n",
       " 'rfind',\n",
       " 'rindex',\n",
       " 'rjust',\n",
       " 'rpartition',\n",
       " 'rsplit',\n",
       " 'rstrip',\n",
       " 'split',\n",
       " 'splitlines',\n",
       " 'startswith',\n",
       " 'strip',\n",
       " 'swapcase',\n",
       " 'title',\n",
       " 'translate',\n",
       " 'upper',\n",
       " 'zfill']"
      ]
     },
     "execution_count": 36,
     "metadata": {},
     "output_type": "execute_result"
    }
   ],
   "source": [
    "str1='python'\n",
    "dir(str1)\n"
   ]
  },
  {
   "cell_type": "code",
   "execution_count": 39,
   "id": "74ffdadd-fe48-499f-956a-dc59d4b87da5",
   "metadata": {},
   "outputs": [
    {
     "data": {
      "text/plain": [
       "['__add__',\n",
       " '__class__',\n",
       " '__contains__',\n",
       " '__delattr__',\n",
       " '__dir__',\n",
       " '__doc__',\n",
       " '__eq__',\n",
       " '__format__',\n",
       " '__ge__',\n",
       " '__getattribute__',\n",
       " '__getitem__',\n",
       " '__getnewargs__',\n",
       " '__getstate__',\n",
       " '__gt__',\n",
       " '__hash__',\n",
       " '__init__',\n",
       " '__init_subclass__',\n",
       " '__iter__',\n",
       " '__le__',\n",
       " '__len__',\n",
       " '__lt__',\n",
       " '__mod__',\n",
       " '__mul__',\n",
       " '__ne__',\n",
       " '__new__',\n",
       " '__reduce__',\n",
       " '__reduce_ex__',\n",
       " '__repr__',\n",
       " '__rmod__',\n",
       " '__rmul__',\n",
       " '__setattr__',\n",
       " '__sizeof__',\n",
       " '__str__',\n",
       " '__subclasshook__',\n",
       " 'capitalize',\n",
       " 'casefold',\n",
       " 'center',\n",
       " 'count',\n",
       " 'encode',\n",
       " 'endswith',\n",
       " 'expandtabs',\n",
       " 'find',\n",
       " 'format',\n",
       " 'format_map',\n",
       " 'index',\n",
       " 'isalnum',\n",
       " 'isalpha',\n",
       " 'isascii',\n",
       " 'isdecimal',\n",
       " 'isdigit',\n",
       " 'isidentifier',\n",
       " 'islower',\n",
       " 'isnumeric',\n",
       " 'isprintable',\n",
       " 'isspace',\n",
       " 'istitle',\n",
       " 'isupper',\n",
       " 'join',\n",
       " 'ljust',\n",
       " 'lower',\n",
       " 'lstrip',\n",
       " 'maketrans',\n",
       " 'partition',\n",
       " 'removeprefix',\n",
       " 'removesuffix',\n",
       " 'replace',\n",
       " 'rfind',\n",
       " 'rindex',\n",
       " 'rjust',\n",
       " 'rpartition',\n",
       " 'rsplit',\n",
       " 'rstrip',\n",
       " 'split',\n",
       " 'splitlines',\n",
       " 'startswith',\n",
       " 'strip',\n",
       " 'swapcase',\n",
       " 'title',\n",
       " 'translate',\n",
       " 'upper',\n",
       " 'zfill']"
      ]
     },
     "execution_count": 39,
     "metadata": {},
     "output_type": "execute_result"
    }
   ],
   "source": [
    "dir('python')"
   ]
  },
  {
   "cell_type": "markdown",
   "id": "4f7f9852-99f6-47c2-aa32-c07c350b5730",
   "metadata": {},
   "source": [
    "**upper**"
   ]
  },
  {
   "cell_type": "code",
   "execution_count": 48,
   "id": "28722e42-6685-4ed6-95c6-b7fa3b63abdd",
   "metadata": {},
   "outputs": [
    {
     "data": {
      "text/plain": [
       "'SAURABH           '"
      ]
     },
     "execution_count": 48,
     "metadata": {},
     "output_type": "execute_result"
    }
   ],
   "source": [
    "str1='saurabh           '\n",
    "str1.upper()"
   ]
  },
  {
   "cell_type": "code",
   "execution_count": null,
   "id": "606682cd-7442-46ff-bf4a-189350855567",
   "metadata": {},
   "outputs": [],
   "source": [
    "upper(str1)  # wrong\n",
    "type(str1)\n",
    "print(str1)"
   ]
  },
  {
   "cell_type": "markdown",
   "id": "0f9e913a-1a16-47ce-be0f-afeb7f18e878",
   "metadata": {},
   "source": [
    "- lower\n",
    "\n",
    "- capitalize\n",
    "\n",
    "- titile\n",
    "\n",
    "- casefold \n",
    "\n",
    "- center\n",
    "\n",
    "- "
   ]
  },
  {
   "cell_type": "code",
   "execution_count": 43,
   "id": "82fc6022-89ab-41d7-b4a6-46169eeaebd4",
   "metadata": {},
   "outputs": [
    {
     "data": {
      "text/plain": [
       "'saurabh'"
      ]
     },
     "execution_count": 43,
     "metadata": {},
     "output_type": "execute_result"
    }
   ],
   "source": [
    "str1.casefold()"
   ]
  },
  {
   "cell_type": "code",
   "execution_count": 44,
   "id": "6da975fd-ca45-4a21-96e1-475fb039b1ea",
   "metadata": {},
   "outputs": [
    {
     "data": {
      "text/plain": [
       "'Saurabh'"
      ]
     },
     "execution_count": 44,
     "metadata": {},
     "output_type": "execute_result"
    }
   ],
   "source": [
    "str1.title()"
   ]
  },
  {
   "cell_type": "code",
   "execution_count": 53,
   "id": "b4e33d9e-4f5d-4e6a-ac16-0a6845cac7fd",
   "metadata": {},
   "outputs": [
    {
     "data": {
      "text/plain": [
       "'saurabh           '"
      ]
     },
     "execution_count": 53,
     "metadata": {},
     "output_type": "execute_result"
    }
   ],
   "source": [
    "str1.center(1)"
   ]
  },
  {
   "cell_type": "code",
   "execution_count": 54,
   "id": "d709d0f6-7144-422b-a4b6-ce82f8f2d930",
   "metadata": {},
   "outputs": [
    {
     "data": {
      "text/plain": [
       "'saurabh           '"
      ]
     },
     "execution_count": 54,
     "metadata": {},
     "output_type": "execute_result"
    }
   ],
   "source": [
    "str1.lower()"
   ]
  },
  {
   "cell_type": "code",
   "execution_count": 59,
   "id": "6aef3076-3b5b-482c-ad47-45bb288c1010",
   "metadata": {},
   "outputs": [
    {
     "data": {
      "text/plain": [
       "'Saurabh           '"
      ]
     },
     "execution_count": 59,
     "metadata": {},
     "output_type": "execute_result"
    }
   ],
   "source": [
    "str1.capitalize()"
   ]
  },
  {
   "cell_type": "code",
   "execution_count": 62,
   "id": "c714979a-e67d-476c-88c5-bfb48909c48f",
   "metadata": {},
   "outputs": [
    {
     "data": {
      "text/plain": [
       "'Hello Hou Are You'"
      ]
     },
     "execution_count": 62,
     "metadata": {},
     "output_type": "execute_result"
    }
   ],
   "source": [
    "str1='hello hou are you'\n",
    "str1.title()"
   ]
  },
  {
   "cell_type": "code",
   "execution_count": 63,
   "id": "0577dfc1-a7fb-4380-95ce-1c8aa4e33a40",
   "metadata": {},
   "outputs": [
    {
     "data": {
      "text/plain": [
       "'how are you '"
      ]
     },
     "execution_count": 63,
     "metadata": {},
     "output_type": "execute_result"
    }
   ],
   "source": [
    "str1='HOW ARE YOU '\n",
    "str1.casefold() "
   ]
  },
  {
   "cell_type": "code",
   "execution_count": 68,
   "id": "15f7ae0b-e543-46d9-b6bb-a2f6993ffb62",
   "metadata": {},
   "outputs": [
    {
     "data": {
      "text/plain": [
       "'  python  '"
      ]
     },
     "execution_count": 68,
     "metadata": {},
     "output_type": "execute_result"
    }
   ],
   "source": [
    "str2=\"python\"\n",
    "str2.center(10) "
   ]
  },
  {
   "cell_type": "code",
   "execution_count": 70,
   "id": "f2656c37-4592-4ab8-a44a-c46058d0fcb6",
   "metadata": {},
   "outputs": [
    {
     "data": {
      "text/plain": [
       "'**python**'"
      ]
     },
     "execution_count": 70,
     "metadata": {},
     "output_type": "execute_result"
    }
   ],
   "source": [
    "str2=\"python\"\n",
    "str2.center(10,'*')     #"
   ]
  },
  {
   "cell_type": "markdown",
   "id": "836b3bb9-3735-492f-9eee-145021f65d24",
   "metadata": {},
   "source": [
    "**Count**"
   ]
  },
  {
   "cell_type": "code",
   "execution_count": 74,
   "id": "9f741d6b-0d50-49a3-b681-9c3b7331eda6",
   "metadata": {},
   "outputs": [
    {
     "name": "stdout",
     "output_type": "stream",
     "text": [
      "2\n"
     ]
    }
   ],
   "source": [
    "str1='hai how are you'\n",
    "count=0\n",
    "for i in str1:\n",
    "    if i == 'a':\n",
    "        count = count+1\n",
    "print(count)\n",
    "        \n",
    "        "
   ]
  },
  {
   "cell_type": "code",
   "execution_count": 79,
   "id": "ea891aff-e954-4335-8ed3-11bac64e0894",
   "metadata": {},
   "outputs": [
    {
     "data": {
      "text/plain": [
       "2"
      ]
     },
     "execution_count": 79,
     "metadata": {},
     "output_type": "execute_result"
    }
   ],
   "source": [
    "# str1.count(sub,start,end)\n",
    "str1.count('a')"
   ]
  },
  {
   "cell_type": "code",
   "execution_count": 81,
   "id": "4ccb21e3-da2e-48e5-9dfb-546607f28063",
   "metadata": {},
   "outputs": [
    {
     "data": {
      "text/plain": [
       "3"
      ]
     },
     "execution_count": 81,
     "metadata": {},
     "output_type": "execute_result"
    }
   ],
   "source": [
    "str1='ola ola ola ola'\n",
    "#     01234\n",
    "str1.count('a',4)"
   ]
  },
  {
   "cell_type": "code",
   "execution_count": 94,
   "id": "07175ad9-e082-4ece-b180-6317bed425fe",
   "metadata": {},
   "outputs": [
    {
     "data": {
      "text/plain": [
       "1"
      ]
     },
     "execution_count": 94,
     "metadata": {},
     "output_type": "execute_result"
    }
   ],
   "source": [
    "#     \n",
    "str1='ola ola ola ola'\n",
    "#     01234\n",
    "str1.count('a',4,10)\n",
    "#        (sub,start,end)\n"
   ]
  },
  {
   "cell_type": "code",
   "execution_count": 95,
   "id": "312cbff5-aebd-4647-9323-bfabb4d0a30e",
   "metadata": {},
   "outputs": [
    {
     "data": {
      "text/plain": [
       "'ola ol'"
      ]
     },
     "execution_count": 95,
     "metadata": {},
     "output_type": "execute_result"
    }
   ],
   "source": [
    "str1[4:10]"
   ]
  },
  {
   "cell_type": "code",
   "execution_count": 96,
   "id": "5101d340-2e3d-4f23-a810-c302c28aa437",
   "metadata": {},
   "outputs": [
    {
     "data": {
      "text/plain": [
       "0"
      ]
     },
     "execution_count": 96,
     "metadata": {},
     "output_type": "execute_result"
    }
   ],
   "source": [
    "str1.count('z')"
   ]
  },
  {
   "cell_type": "code",
   "execution_count": 97,
   "id": "1c026fab-cf79-4cac-8163-f967c09d954a",
   "metadata": {},
   "outputs": [
    {
     "data": {
      "text/plain": [
       "1"
      ]
     },
     "execution_count": 97,
     "metadata": {},
     "output_type": "execute_result"
    }
   ],
   "source": [
    "str1='ola ola ola ola'\n",
    "str1.count('ola ola ola ola')\n",
    "str1.count(str1)"
   ]
  },
  {
   "cell_type": "code",
   "execution_count": 9,
   "id": "dd441e5b-f9d2-4b81-9d61-33ecb28f7fa3",
   "metadata": {},
   "outputs": [
    {
     "name": "stdout",
     "output_type": "stream",
     "text": [
      "ola la  a o  ol ola la  a o  ol ola la  a o  ol ola la a \" 4 \"\n"
     ]
    }
   ],
   "source": [
    "str1='ola ola ola ola'\n",
    "count=0\n",
    "for i in range(len(str1)):\n",
    "    print(str1[i:i+3] , end=' ')  #print(str1[i:i+3])\n",
    "    if str1[i:i+3] == 'ola':\n",
    "        count=count+1\n",
    "print(f'\" {count} \"')"
   ]
  },
  {
   "cell_type": "code",
   "execution_count": 1,
   "id": "6c343d9c-4226-4705-9279-9303549215dd",
   "metadata": {},
   "outputs": [
    {
     "data": {
      "text/plain": [
       "4"
      ]
     },
     "execution_count": 1,
     "metadata": {},
     "output_type": "execute_result"
    }
   ],
   "source": [
    "str1=\"sad sad sad sad sad\"\n",
    "#     \n",
    "str1.count('a',4,23)"
   ]
  },
  {
   "cell_type": "code",
   "execution_count": 16,
   "id": "ed703e0c-12b8-4b3f-91ad-32b15fc0df49",
   "metadata": {},
   "outputs": [
    {
     "data": {
      "text/plain": [
       "' hallo h'"
      ]
     },
     "execution_count": 16,
     "metadata": {},
     "output_type": "execute_result"
    }
   ],
   "source": [
    "str1[3:11]"
   ]
  },
  {
   "cell_type": "code",
   "execution_count": 17,
   "id": "2eba21f6-c964-4cf4-a43b-5626347b30cc",
   "metadata": {},
   "outputs": [
    {
     "data": {
      "text/plain": [
       "3"
      ]
     },
     "execution_count": 17,
     "metadata": {},
     "output_type": "execute_result"
    }
   ],
   "source": [
    "str1.count('a',5,-3)"
   ]
  },
  {
   "cell_type": "code",
   "execution_count": 19,
   "id": "c68b6efd-f966-43ab-b489-c057169445f0",
   "metadata": {},
   "outputs": [
    {
     "name": "stdout",
     "output_type": "stream",
     "text": [
      "ta\n",
      "at\n",
      "ta\n",
      "a \n",
      " t\n",
      "ta\n",
      "at\n",
      "ta\n",
      "a \n",
      " t\n",
      "ta\n",
      "at\n",
      "ta\n",
      "a \n",
      " t\n",
      "ta\n",
      "at\n",
      "ta\n",
      "a \n",
      " t\n",
      "ta\n",
      "at\n",
      "ta\n",
      "a\n"
     ]
    }
   ],
   "source": [
    "str3='tata tata tata tata tata'\n",
    "count=0\n",
    "for i in range(len(str3)):\n",
    "    print(str3[i:i+2])\n",
    "    "
   ]
  },
  {
   "cell_type": "markdown",
   "id": "65fe8022-6b25-4ded-90c5-bb3695602898",
   "metadata": {},
   "source": [
    "**lstrip-rstrip-strip**"
   ]
  },
  {
   "cell_type": "code",
   "execution_count": 3,
   "id": "883b273f-f688-4332-a2d0-af02f11d44bd",
   "metadata": {},
   "outputs": [
    {
     "data": {
      "text/plain": [
       "('python', 'python  ', '  python')"
      ]
     },
     "execution_count": 3,
     "metadata": {},
     "output_type": "execute_result"
    }
   ],
   "source": [
    "str1='  python  '\n",
    "str1.strip(),str1.lstrip(),str1.rstrip()"
   ]
  },
  {
   "cell_type": "code",
   "execution_count": 7,
   "id": "e218c1cf-983a-49fd-b5c0-99a41481fc00",
   "metadata": {},
   "outputs": [
    {
     "data": {
      "text/plain": [
       "('python', 'python**', '**python')"
      ]
     },
     "execution_count": 7,
     "metadata": {},
     "output_type": "execute_result"
    }
   ],
   "source": [
    "str1='**python**'\n",
    "str1.strip('*'), str1.lstrip('*') , str1.rstrip('*')"
   ]
  },
  {
   "cell_type": "code",
   "execution_count": 9,
   "id": "187d955e-a7ac-4f21-ad0c-da430aabb7c5",
   "metadata": {},
   "outputs": [
    {
     "data": {
      "text/plain": [
       "('python@@', 'python@@', '**python')"
      ]
     },
     "execution_count": 9,
     "metadata": {},
     "output_type": "execute_result"
    }
   ],
   "source": [
    "str1='**python@@'\n",
    "str1.strip('*'), str1.lstrip('*') , str1.rstrip('@')"
   ]
  },
  {
   "cell_type": "code",
   "execution_count": 11,
   "id": "1896ff81-3925-4c93-9f43-da85e3ae5e95",
   "metadata": {},
   "outputs": [
    {
     "data": {
      "text/plain": [
       "('python', 'python@@%', '**python@@%')"
      ]
     },
     "execution_count": 11,
     "metadata": {},
     "output_type": "execute_result"
    }
   ],
   "source": [
    "str1='**python@@%'\n",
    "str1.strip('*@%'), str1.lstrip('*') , str1.rstrip('@')"
   ]
  },
  {
   "cell_type": "code",
   "execution_count": 13,
   "id": "b57dbd76-82bb-4a76-987a-39951f6675ae",
   "metadata": {},
   "outputs": [
    {
     "name": "stdout",
     "output_type": "stream",
     "text": [
      "**python\n",
      "python\n"
     ]
    }
   ],
   "source": [
    "str2='**python@@%'\n",
    "print(str2.strip('@%'))\n",
    "print(str2.strip('*@%'))  "
   ]
  },
  {
   "cell_type": "markdown",
   "id": "3cd01103-ba5c-4d1e-b889-70b20b8d79f7",
   "metadata": {},
   "source": [
    "**index_find opretor**"
   ]
  },
  {
   "cell_type": "code",
   "execution_count": 35,
   "id": "e8d34d1f-a09a-4b9b-95f3-c9c4e908a410",
   "metadata": {},
   "outputs": [
    {
     "data": {
      "text/plain": [
       "2"
      ]
     },
     "execution_count": 35,
     "metadata": {},
     "output_type": "execute_result"
    }
   ],
   "source": [
    "str1='ola ola ola ola'  # 2,6,10,14\n",
    "# str1.index(sub,start,end)\n",
    "str1.index('a')  # Return the lowest index "
   ]
  },
  {
   "cell_type": "code",
   "execution_count": 45,
   "id": "1ce53b6a-3650-4830-a74e-2ddb77dc059a",
   "metadata": {},
   "outputs": [
    {
     "data": {
      "text/plain": [
       "2"
      ]
     },
     "execution_count": 45,
     "metadata": {},
     "output_type": "execute_result"
    }
   ],
   "source": [
    "# o  l  a     o  l  a     o  l  a    o  l  a    o   l    a\n",
    "# 0  1  2  3  4  5  6  7  8  9  10   11   12   13   14   15\n",
    "str1='ola ola ola ola'\n",
    "str1.index('a')   # 2 lowest index "
   ]
  },
  {
   "cell_type": "code",
   "execution_count": 46,
   "id": "6f085e01-70c5-4a80-ba89-e5cb38d239ed",
   "metadata": {},
   "outputs": [
    {
     "data": {
      "text/plain": [
       "6"
      ]
     },
     "execution_count": 46,
     "metadata": {},
     "output_type": "execute_result"
    }
   ],
   "source": [
    "# o  l  a     o  l  a     o  l  a    o  l  a    o   l    a\n",
    "# 0  1  2  3  4  5  6  7  8  9  10   11   12   13   14   15\n",
    "str1='ola ola ola ola'\n",
    "str1.index('a',3)     # lowest index"
   ]
  },
  {
   "cell_type": "code",
   "execution_count": 47,
   "id": "0ed6dbb9-7eff-402c-b245-99cf0c304f82",
   "metadata": {},
   "outputs": [
    {
     "data": {
      "text/plain": [
       "6"
      ]
     },
     "execution_count": 47,
     "metadata": {},
     "output_type": "execute_result"
    }
   ],
   "source": [
    "# o  l  a     o  l  a     o  l  a    o  l  a    o   l    a\n",
    "# 0  1  2  3  4  5  6  7  8  9  10   11   12   13   14   15\n",
    "str1='ola ola ola ola'\n",
    "str1.index('a',3,11)  # lowest index"
   ]
  },
  {
   "cell_type": "markdown",
   "id": "871d7781-e9e8-47b1-8360-aa4d5d674ca3",
   "metadata": {},
   "source": [
    "**find**"
   ]
  },
  {
   "cell_type": "code",
   "execution_count": 52,
   "id": "a47dd485-2200-4709-89b9-54eb8af73417",
   "metadata": {},
   "outputs": [
    {
     "data": {
      "text/plain": [
       "2"
      ]
     },
     "execution_count": 52,
     "metadata": {},
     "output_type": "execute_result"
    }
   ],
   "source": [
    "#       \n",
    "# o  l  a     o  l  a     o  l  a    o  l  a    o   l    a\n",
    "# 0  1  2  3  4  5  6  7  8  9  10   11   12   13   14   15\n",
    "str1='ola ola ola ola'\n",
    "str1.find('a',2,13)    # lowest index are print  a-2  a-12  a-10   / lowest are the \"2\""
   ]
  },
  {
   "cell_type": "code",
   "execution_count": 51,
   "id": "7556dde8-6683-4c13-b689-870308581682",
   "metadata": {},
   "outputs": [
    {
     "data": {
      "text/plain": [
       "2"
      ]
     },
     "execution_count": 51,
     "metadata": {},
     "output_type": "execute_result"
    }
   ],
   "source": [
    "str1.find('a')"
   ]
  },
  {
   "cell_type": "code",
   "execution_count": 54,
   "id": "795f3dc2-e797-42f0-971c-f64d9a6419b9",
   "metadata": {},
   "outputs": [
    {
     "data": {
      "text/plain": [
       "(2, 6, 10, 14)"
      ]
     },
     "execution_count": 54,
     "metadata": {},
     "output_type": "execute_result"
    }
   ],
   "source": [
    "str1='ola ola ola ola'\n",
    "i1=str1.index('a')\n",
    "i2=str1.index('a',i1+1)    #3\n",
    "i3=str1.index('a',i2+1)    #7\n",
    "i4=str1.index('a',i3+1)    #10\n",
    "i1,i2,i3,i4\n",
    "\n",
    "# above code are impiment for / while loop and for loop "
   ]
  },
  {
   "cell_type": "code",
   "execution_count": 57,
   "id": "1faebeab-a226-402f-99d5-71bb3ef61825",
   "metadata": {},
   "outputs": [
    {
     "data": {
      "text/plain": [
       "'how'"
      ]
     },
     "execution_count": 57,
     "metadata": {},
     "output_type": "execute_result"
    }
   ],
   "source": [
    "str1='hello.hai.how.areyou'\n",
    "fist_dot=str1.index('.')\n",
    "sec_dot=str1.index('.',fist_dot+1)\n",
    "t_dot=str1.index('.',sec_dot+1)\n",
    "str1[sec_dot+1:t_dot]"
   ]
  },
  {
   "cell_type": "code",
   "execution_count": 68,
   "id": "97642e5a-c2a8-4aee-a530-9929af4af541",
   "metadata": {},
   "outputs": [],
   "source": [
    "str1='virat.kohli@rcb.com'\n",
    "str2='rohit.sharma@mi.com'\n",
    "str3='ms.dhoni@csk.com'\n",
    "# fist name \n",
    "# second name\n",
    "# company name "
   ]
  },
  {
   "cell_type": "code",
   "execution_count": 76,
   "id": "bdbb4bcf-44bd-49d9-92e9-0b5e687604fe",
   "metadata": {},
   "outputs": [
    {
     "name": "stdout",
     "output_type": "stream",
     "text": [
      "virat kohli rcb\n"
     ]
    }
   ],
   "source": [
    "str1 = 'virat.kohli@rcb.com'\n",
    "\n",
    "# Find index positions\n",
    "dot1 = str1.index('.')           # index of first dot\n",
    "at = str1.index('@')             # index of @\n",
    "dot2 = str1.index('.', at)       # index of dot after @\n",
    "\n",
    "# Slice parts using index positions\n",
    "first = str1[:dot1]              # 'virat'\n",
    "last = str1[dot1+1:at]           # 'kohli'\n",
    "domain = str1[name+1:dot2]         # 'rcb'\n",
    "\n",
    "# Final output\n",
    "print(first, last, domain)\n"
   ]
  },
  {
   "cell_type": "code",
   "execution_count": 82,
   "id": "3039004c-5106-43ae-8241-4a9721021100",
   "metadata": {},
   "outputs": [],
   "source": [
    "str1 = 'virat.kohli@rcb.com'\n",
    "i1_dot=str1.index('.')\n",
    "i2_dot=str1.index('.',i1_dot+1)\n",
    "i_at=str1.index('@')\n",
    "fname=str1[:i1_dot]\n",
    "sname=str1[:i1_dot+1:i_at]\n",
    "cname=str1[:]"
   ]
  },
  {
   "cell_type": "markdown",
   "id": "f5cdaacc-c4b9-4548-bcb9-c42332e8fd02",
   "metadata": {},
   "source": [
    "**replace**"
   ]
  },
  {
   "cell_type": "code",
   "execution_count": 85,
   "id": "43723343-3f99-47cd-8720-571a9f469b09",
   "metadata": {},
   "outputs": [
    {
     "name": "stdout",
     "output_type": "stream",
     "text": [
      "welcome\n"
     ]
    }
   ],
   "source": [
    "str1=\"welcome\"\n",
    "str1.replace('l','L')\n",
    "print(str1)"
   ]
  },
  {
   "cell_type": "code",
   "execution_count": 86,
   "id": "6bb79d30-5c25-48b6-99b5-ab656edb73e3",
   "metadata": {},
   "outputs": [
    {
     "data": {
      "text/plain": [
       "'weLcome weLcome'"
      ]
     },
     "execution_count": 86,
     "metadata": {},
     "output_type": "execute_result"
    }
   ],
   "source": [
    "str1='welcome welcome'\n",
    "str1.replace('l','L')"
   ]
  },
  {
   "cell_type": "code",
   "execution_count": 89,
   "id": "2a55617b-ed54-4278-9b84-dbdc7b976cc9",
   "metadata": {},
   "outputs": [
    {
     "data": {
      "text/plain": [
       "'weLcome weLcome'"
      ]
     },
     "execution_count": 89,
     "metadata": {},
     "output_type": "execute_result"
    }
   ],
   "source": [
    "str1='welcome welcome'\n",
    "str1.replace('l','L')\n",
    "str1.replace('l','L')"
   ]
  },
  {
   "cell_type": "code",
   "execution_count": 88,
   "id": "e8893b25-fa23-451a-8237-e8a4b116fb70",
   "metadata": {},
   "outputs": [
    {
     "data": {
      "text/plain": [
       "'weLcome weLcome'"
      ]
     },
     "execution_count": 88,
     "metadata": {},
     "output_type": "execute_result"
    }
   ],
   "source": [
    "str1='welcome welcome'\n",
    "str1.replace('l','L',2)"
   ]
  },
  {
   "cell_type": "code",
   "execution_count": 1,
   "id": "260faecb-f269-490d-a0ef-480d9e8d532a",
   "metadata": {},
   "outputs": [
    {
     "data": {
      "text/plain": [
       "'resta$t'"
      ]
     },
     "execution_count": 1,
     "metadata": {},
     "output_type": "execute_result"
    }
   ],
   "source": [
    "str1='restart'\n",
    "str1[::-1].replace('r','$',1)[::-1]\n"
   ]
  },
  {
   "cell_type": "markdown",
   "id": "9b94b7c9-564e-4b36-a60e-addbb32ec765",
   "metadata": {},
   "source": [
    "**startwith and endswith**\n"
   ]
  },
  {
   "cell_type": "code",
   "execution_count": 1,
   "id": "d3dd8b6e-f4de-4b2a-b8e3-5b024ba38767",
   "metadata": {},
   "outputs": [
    {
     "data": {
      "text/plain": [
       "True"
      ]
     },
     "execution_count": 1,
     "metadata": {},
     "output_type": "execute_result"
    }
   ],
   "source": [
    "str1=\"hai how are you\"\n",
    "str1.startswith('hai')"
   ]
  },
  {
   "cell_type": "code",
   "execution_count": 5,
   "id": "137fac5a-7f7c-48d0-832b-679a43ec92f9",
   "metadata": {},
   "outputs": [
    {
     "data": {
      "text/plain": [
       "True"
      ]
     },
     "execution_count": 5,
     "metadata": {},
     "output_type": "execute_result"
    }
   ],
   "source": [
    "str1.startswith(\"h\")"
   ]
  },
  {
   "cell_type": "code",
   "execution_count": 2,
   "id": "0235743b-4880-4664-8a25-5d94db94e851",
   "metadata": {},
   "outputs": [
    {
     "data": {
      "text/plain": [
       "True"
      ]
     },
     "execution_count": 2,
     "metadata": {},
     "output_type": "execute_result"
    }
   ],
   "source": [
    "str1.endswith(\"you\")"
   ]
  },
  {
   "cell_type": "code",
   "execution_count": 6,
   "id": "ebb0f60e-a8e9-4fce-b406-83863caa575b",
   "metadata": {},
   "outputs": [
    {
     "data": {
      "text/plain": [
       "True"
      ]
     },
     "execution_count": 6,
     "metadata": {},
     "output_type": "execute_result"
    }
   ],
   "source": [
    "str1.endswith(\"u\")"
   ]
  },
  {
   "cell_type": "markdown",
   "id": "929de31f-ee0b-4bf4-a12f-821daea4812a",
   "metadata": {},
   "source": [
    "**split**"
   ]
  },
  {
   "cell_type": "code",
   "execution_count": 16,
   "id": "193fff6c-b974-47b2-bdcc-957b6e1827ad",
   "metadata": {},
   "outputs": [
    {
     "data": {
      "text/plain": [
       "['hai', 'how', 'are', 'you']"
      ]
     },
     "execution_count": 16,
     "metadata": {},
     "output_type": "execute_result"
    }
   ],
   "source": [
    "str1=\"hai how are you\"\n",
    "str1.split()   # by default space is taken "
   ]
  },
  {
   "cell_type": "code",
   "execution_count": 17,
   "id": "61f3e946-1882-4719-aa0a-7810060abd70",
   "metadata": {},
   "outputs": [
    {
     "data": {
      "text/plain": [
       "['hai how ', ' are you']"
      ]
     },
     "execution_count": 17,
     "metadata": {},
     "output_type": "execute_result"
    }
   ],
   "source": [
    "str1=\"hai how , are you\"\n",
    "str1.split(',')   # , comma"
   ]
  },
  {
   "cell_type": "code",
   "execution_count": 20,
   "id": "c1f1c5db-eb77-4277-865c-7b4b42ee7924",
   "metadata": {},
   "outputs": [
    {
     "data": {
      "text/plain": [
       "['h', 'i how,', 're you']"
      ]
     },
     "execution_count": 20,
     "metadata": {},
     "output_type": "execute_result"
    }
   ],
   "source": [
    "str1=\"hai how,are you\"\n",
    "str1.split('a') "
   ]
  },
  {
   "cell_type": "code",
   "execution_count": 24,
   "id": "e45803a4-9ca7-4964-b8b3-6ac03730ec67",
   "metadata": {},
   "outputs": [
    {
     "data": {
      "text/plain": [
       "['__add__',\n",
       " '__class__',\n",
       " '__contains__',\n",
       " '__delattr__',\n",
       " '__dir__',\n",
       " '__doc__',\n",
       " '__eq__',\n",
       " '__format__',\n",
       " '__ge__',\n",
       " '__getattribute__',\n",
       " '__getitem__',\n",
       " '__getnewargs__',\n",
       " '__getstate__',\n",
       " '__gt__',\n",
       " '__hash__',\n",
       " '__init__',\n",
       " '__init_subclass__',\n",
       " '__iter__',\n",
       " '__le__',\n",
       " '__len__',\n",
       " '__lt__',\n",
       " '__mod__',\n",
       " '__mul__',\n",
       " '__ne__',\n",
       " '__new__',\n",
       " '__reduce__',\n",
       " '__reduce_ex__',\n",
       " '__repr__',\n",
       " '__rmod__',\n",
       " '__rmul__',\n",
       " '__setattr__',\n",
       " '__sizeof__',\n",
       " '__str__',\n",
       " '__subclasshook__',\n",
       " 'capitalize',\n",
       " 'casefold',\n",
       " 'center',\n",
       " 'count',\n",
       " 'encode',\n",
       " 'endswith',\n",
       " 'expandtabs',\n",
       " 'find',\n",
       " 'format',\n",
       " 'format_map',\n",
       " 'index',\n",
       " 'isalnum',\n",
       " 'isalpha',\n",
       " 'isascii',\n",
       " 'isdecimal',\n",
       " 'isdigit',\n",
       " 'isidentifier',\n",
       " 'islower',\n",
       " 'isnumeric',\n",
       " 'isprintable',\n",
       " 'isspace',\n",
       " 'istitle',\n",
       " 'isupper',\n",
       " 'join',\n",
       " 'ljust',\n",
       " 'lower',\n",
       " 'lstrip',\n",
       " 'maketrans',\n",
       " 'partition',\n",
       " 'removeprefix',\n",
       " 'removesuffix',\n",
       " 'replace',\n",
       " 'rfind',\n",
       " 'rindex',\n",
       " 'rjust',\n",
       " 'rpartition',\n",
       " 'rsplit',\n",
       " 'rstrip',\n",
       " 'split',\n",
       " 'splitlines',\n",
       " 'startswith',\n",
       " 'strip',\n",
       " 'swapcase',\n",
       " 'title',\n",
       " 'translate',\n",
       " 'upper',\n",
       " 'zfill']"
      ]
     },
     "execution_count": 24,
     "metadata": {},
     "output_type": "execute_result"
    }
   ],
   "source": [
    "dir('')"
   ]
  },
  {
   "cell_type": "code",
   "execution_count": 4,
   "id": "12d48ac4-265d-4ad6-aeb9-e7922b5d5593",
   "metadata": {},
   "outputs": [
    {
     "data": {
      "text/plain": [
       "60"
      ]
     },
     "execution_count": 4,
     "metadata": {},
     "output_type": "execute_result"
    }
   ],
   "source": [
    "str1=\"10 20 30\"\n",
    "l=str1.split(' ')\n",
    "summ=0\n",
    "for i in l:\n",
    "    summ=summ+int(i)\n",
    "summ"
   ]
  },
  {
   "cell_type": "code",
   "execution_count": null,
   "id": "f9543cc3-f2da-49e2-837d-9393f88517a0",
   "metadata": {},
   "outputs": [],
   "source": []
  },
  {
   "cell_type": "code",
   "execution_count": null,
   "id": "9f1e2b2c-02cc-4fcd-a349-dd79123d422b",
   "metadata": {},
   "outputs": [],
   "source": []
  }
 ],
 "metadata": {
  "kernelspec": {
   "display_name": "Python [conda env:base] *",
   "language": "python",
   "name": "conda-base-py"
  },
  "language_info": {
   "codemirror_mode": {
    "name": "ipython",
    "version": 3
   },
   "file_extension": ".py",
   "mimetype": "text/x-python",
   "name": "python",
   "nbconvert_exporter": "python",
   "pygments_lexer": "ipython3",
   "version": "3.13.5"
  }
 },
 "nbformat": 4,
 "nbformat_minor": 5
}
