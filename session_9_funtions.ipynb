{
 "cells": [
  {
   "cell_type": "markdown",
   "id": "2c4c0d03-aa40-4cd1-9f7c-0db36c6a1a47",
   "metadata": {},
   "source": [
    "## Functions"
   ]
  },
  {
   "cell_type": "markdown",
   "id": "75f9f07d-a165-47d5-994f-d539c5a5d61c",
   "metadata": {},
   "source": [
    "- ____reuse block of code____\n",
    "\n",
    "- first we need define the function   \n",
    "\n",
    "- we need to name the funtion \n",
    "\n",
    "- we need to attach some code of that function  \n",
    "\n",
    "- we need to call funtion    \n",
    "\n",
    "- that function will run that attach the code  "
   ]
  },
  {
   "cell_type": "code",
   "execution_count": null,
   "id": "195ef672-84b0-4dc4-ae3e-3816bf8b0c16",
   "metadata": {},
   "outputs": [],
   "source": [
    "def <name>():\n",
    "    #start write your code her "
   ]
  },
  {
   "cell_type": "code",
   "execution_count": 1,
   "id": "c8498b23-149c-4b7d-b215-d15a050fa1bd",
   "metadata": {},
   "outputs": [
    {
     "name": "stdout",
     "output_type": "stream",
     "text": [
      "the addtion of10  and 20 is 30\n"
     ]
    }
   ],
   "source": [
    "num1=10\n",
    "num2=20\n",
    "add=num1+num2\n",
    "print(f'the addtion of{num1}  and {num2} is {add}')"
   ]
  },
  {
   "cell_type": "code",
   "execution_count": 6,
   "id": "baaac8ba-0dca-4239-be54-67fcbc85d354",
   "metadata": {},
   "outputs": [],
   "source": [
    "def addition():\n",
    "    num1=10\n",
    "    num2=20\n",
    "    add=num1+num2\n",
    "    print(f'the addition of {num1} and {num2} is:{add}')\n",
    "    "
   ]
  },
  {
   "cell_type": "code",
   "execution_count": 7,
   "id": "a351e530-a192-47a3-b907-3224a1210636",
   "metadata": {},
   "outputs": [
    {
     "name": "stdout",
     "output_type": "stream",
     "text": [
      "the addition of 10 and 20 is:30\n"
     ]
    }
   ],
   "source": [
    "addition()"
   ]
  },
  {
   "cell_type": "code",
   "execution_count": 21,
   "id": "5e550992-9416-49a0-8120-f4186b6a3764",
   "metadata": {},
   "outputs": [
    {
     "name": "stdin",
     "output_type": "stream",
     "text": [
      "enter the num 1: 20\n",
      "enter the num 2: 20\n"
     ]
    },
    {
     "name": "stdout",
     "output_type": "stream",
     "text": [
      "the addition of 20 and 20 is:40\n"
     ]
    }
   ],
   "source": [
    "def addition():\n",
    "    num1=eval(input('enter the num 1:'))\n",
    "    num2=eval(input('enter the num 2:'))\n",
    "    add=num1+num2\n",
    "    print(f'the addition of {num1} and {num2} is:{add}')\n",
    "    \n",
    "addition()"
   ]
  },
  {
   "cell_type": "code",
   "execution_count": 8,
   "id": "d2a33357-67eb-4717-a097-e59e1da3df98",
   "metadata": {},
   "outputs": [
    {
     "name": "stdout",
     "output_type": "stream",
     "text": [
      "the addition of 10 and 20 is:30\n"
     ]
    }
   ],
   "source": [
    "addition()"
   ]
  },
  {
   "cell_type": "markdown",
   "id": "ba69fa9b-06f8-46b7-b240-2d17ea97c4b2",
   "metadata": {},
   "source": [
    "- function name rule s as same as variables name rules \n",
    "\n",
    "- your function name should not be same as variable names\n",
    "\n",
    "    - those variables yo are using inside the function \n",
    "\n",
    "- your function name should not be same as file name \n",
    "\n",
    "- your function name should not be package or attribute name "
   ]
  },
  {
   "cell_type": "code",
   "execution_count": 11,
   "id": "822e8d56-b353-4d6f-8496-131e072f640f",
   "metadata": {},
   "outputs": [
    {
     "name": "stdin",
     "output_type": "stream",
     "text": [
      "enter the num 1: 10\n",
      "enter the num 2: 10\n"
     ]
    },
    {
     "name": "stdout",
     "output_type": "stream",
     "text": [
      "the addition of 10 and 10 is:20\n"
     ]
    }
   ],
   "source": [
    "def addition1():     # do not use the pre  function name \n",
    "    num1=eval(input('enter the num 1:'))\n",
    "    num2=eval(input('enter the num 2:'))\n",
    "    add=num1+num2\n",
    "    print(f'the addition of {num1} and {num2} is:{add}')\n",
    "    \n",
    "addition1()"
   ]
  },
  {
   "cell_type": "code",
   "execution_count": 20,
   "id": "49cec719-d474-4c7a-bc56-5a6e3d1b06de",
   "metadata": {},
   "outputs": [
    {
     "name": "stdout",
     "output_type": "stream",
     "text": [
      "the addition of 33 and 24 is:57\n"
     ]
    }
   ],
   "source": [
    "import random\n",
    "def package():\n",
    "    num1=random.randint(1,100)\n",
    "    num2=random.randint(1,100)\n",
    "    add=num1+num2\n",
    "    print(f'the addition of {num1} and {num2} is:{add}')\n",
    "    \n",
    "package()    # this call function is imp"
   ]
  },
  {
   "cell_type": "code",
   "execution_count": null,
   "id": "1d3ed40a-9f5d-45e7-80a1-f2bf95a8d8bd",
   "metadata": {},
   "outputs": [],
   "source": [
    "addition1()\n",
    "addition()"
   ]
  },
  {
   "cell_type": "markdown",
   "id": "b8e5833e-3da6-42d4-b0aa-34ea24c05bf1",
   "metadata": {},
   "source": [
    "**how to use try-except**"
   ]
  },
  {
   "cell_type": "code",
   "execution_count": null,
   "id": "b75808ce-8597-401c-ba5b-da26c03af8ae",
   "metadata": {},
   "outputs": [],
   "source": [
    "- apply the ** for entire the code \n",
    "- apply the ** for inside the code\n",
    "- which code is catch \n",
    "- inside will catch \n"
   ]
  },
  {
   "cell_type": "code",
   "execution_count": 30,
   "id": "d7cc7ea1-bb76-447c-992d-7a0b6b689edb",
   "metadata": {},
   "outputs": [
    {
     "name": "stdin",
     "output_type": "stream",
     "text": [
      "enter the num 1: 20\n",
      "enter the num 2: 20\n"
     ]
    },
    {
     "name": "stdout",
     "output_type": "stream",
     "text": [
      "the addition of 20 and 20 is:40\n"
     ]
    }
   ],
   "source": [
    "def addition():\n",
    "    try:   # indentation is imp  \n",
    "        num1=eval(input('enter the num 1:'))\n",
    "        num2=eval(input('enter the num 2:'))\n",
    "        add=num1+num2\n",
    "        print(f'the addition of {num1} and {num2} is:{add}')\n",
    "    except Exception as e:\n",
    "        print(e)\n",
    "addition()"
   ]
  },
  {
   "cell_type": "code",
   "execution_count": 43,
   "id": "c58821e0-bcbf-4abc-b06a-662c7ec50169",
   "metadata": {},
   "outputs": [
    {
     "name": "stdout",
     "output_type": "stream",
     "text": [
      "the addition of 60 and 65 is:125\n"
     ]
    }
   ],
   "source": [
    "try:\n",
    "    import random\n",
    "    def package1():\n",
    "        num1=random.randint(1,100)\n",
    "        num2=random.randint(1,100)\n",
    "        add=num1+num2\n",
    "        print(f'the addition of {num1} and {num2} is:{add}')\n",
    "except Exception as p:\n",
    "    print(p)\n",
    "    \n",
    "package1()"
   ]
  },
  {
   "cell_type": "code",
   "execution_count": 36,
   "id": "4977b981-b84e-4958-8a27-d6956de80c06",
   "metadata": {},
   "outputs": [
    {
     "name": "stdout",
     "output_type": "stream",
     "text": [
      "name 'num233' is not defined\n"
     ]
    }
   ],
   "source": [
    "def add5():\n",
    "    try:\n",
    "        num1=random.randint(1,100)\n",
    "        num2=random.randint(1,100)\n",
    "        add=num1+num233\n",
    "        print(f'the addition of {num1} and {num2} is:{add}')\n",
    "    except Exception as e:\n",
    "        print(e)\n",
    "\n",
    "add5()     \n",
    "    "
   ]
  },
  {
   "cell_type": "code",
   "execution_count": null,
   "id": "c9fae090-6b0f-4cb6-875e-2955769e57fa",
   "metadata": {},
   "outputs": [],
   "source": [
    "# function define is not enough\n",
    "\n",
    "# calling the function then w ecan see \n",
    "\n",
    "#"
   ]
  },
  {
   "cell_type": "code",
   "execution_count": null,
   "id": "56f5b214-24d8-4c01-b8ea-637bb2cd3d38",
   "metadata": {},
   "outputs": [],
   "source": [
    "# create a function for bill \n",
    "# create a function for area for area of triangle \n",
    "# create a function for even or odd\n",
    "# create a function for avg 3 numbers \n",
    "# create a function for poly a game code "
   ]
  },
  {
   "cell_type": "code",
   "execution_count": 46,
   "id": "1e5977bb-e475-4690-b80b-4e52d1963740",
   "metadata": {},
   "outputs": [
    {
     "name": "stdin",
     "output_type": "stream",
     "text": [
      "enter the bill 15\n",
      "enter the tip 25\n"
     ]
    },
    {
     "name": "stdout",
     "output_type": "stream",
     "text": [
      "name 'tip11' is not defined\n"
     ]
    }
   ],
   "source": [
    "def bill():\n",
    "    try:\n",
    "        bill=eval(input('enter the bill'))\n",
    "        tip=eval(input('enter the tip'))\n",
    "        total_bill=bill+tip11   \n",
    "        print(f\"total bill is:{total_bill}\")\n",
    "    except Exception as e:\n",
    "        print(e)\n",
    "bill()"
   ]
  },
  {
   "cell_type": "code",
   "execution_count": 50,
   "id": "7b47c2a5-644c-4442-991b-edbbc65d6c8c",
   "metadata": {},
   "outputs": [
    {
     "name": "stdin",
     "output_type": "stream",
     "text": [
      "enter the height of triangle 25\n",
      "enter the breath of triangle 25\n"
     ]
    },
    {
     "name": "stdout",
     "output_type": "stream",
     "text": [
      "the area triangle:312.5\n"
     ]
    }
   ],
   "source": [
    "def triangle():\n",
    "    try:\n",
    "        h=eval(input('enter the height of triangle'))\n",
    "        b=eval(input('enter the breath of triangle'))\n",
    "        area_of_triangle=0.5*b*h\n",
    "        print(f\"the area triangle:{area_of_triangle}\")\n",
    "    except Exception as e:\n",
    "        print(e)\n",
    "triangle()"
   ]
  },
  {
   "cell_type": "code",
   "execution_count": 54,
   "id": "4a406496-ad9b-4911-b1fd-d312f6637185",
   "metadata": {},
   "outputs": [
    {
     "name": "stdin",
     "output_type": "stream",
     "text": [
      "enter the number 25\n"
     ]
    },
    {
     "name": "stdout",
     "output_type": "stream",
     "text": [
      " the 25 is odd\n"
     ]
    }
   ],
   "source": [
    "def evenodd():\n",
    "    try:\n",
    "        num=eval(input('enter the number'))\n",
    "        if num%2==0:\n",
    "            print(f\" the {num} is even\")\n",
    "        else:\n",
    "            print(f\" the {num} is odd\")\n",
    "    except Exception as e:\n",
    "        print(e)\n",
    "evenodd()\n"
   ]
  },
  {
   "cell_type": "code",
   "execution_count": 56,
   "id": "2d67e135-42a8-4036-8bfe-1dcf3d3e345b",
   "metadata": {},
   "outputs": [
    {
     "name": "stdin",
     "output_type": "stream",
     "text": [
      "Enter number 1 : 25\n",
      "Enter number 2 : 25\n",
      "Enter number 3 : 25\n"
     ]
    },
    {
     "name": "stdout",
     "output_type": "stream",
     "text": [
      "The average of the three numbers is 25.0\n"
     ]
    }
   ],
   "source": [
    "def avg():\n",
    "    import math\n",
    "    num1 = eval(input(\"Enter number 1 :\"))\n",
    "    num2 = eval(input(\"Enter number 2 :\"))\n",
    "    num3 = eval(input(\"Enter number 3 :\"))\n",
    "    average=(num1+num2+num3)/3\n",
    "    print(f\"The average of the three numbers is {average:}\")\n",
    "avg()"
   ]
  },
  {
   "cell_type": "code",
   "execution_count": 50,
   "id": "17d0f292-df98-4a4e-877f-bce7a7926c5c",
   "metadata": {},
   "outputs": [
    {
     "name": "stdin",
     "output_type": "stream",
     "text": [
      "enter number 2\n"
     ]
    },
    {
     "name": "stdout",
     "output_type": "stream",
     "text": [
      "num 2\n",
      "you fail the game\n"
     ]
    }
   ],
   "source": [
    "def game():\n",
    "    try:\n",
    "        num=eval(input('enter number'))\n",
    "        print('num',num)\n",
    "        if num==random.randint(1,50):\n",
    "            print('you win the game')\n",
    "        else:\n",
    "            print(\"you fail the game\")\n",
    "    except Exception as e:\n",
    "        print(e)\n",
    "game()\n"
   ]
  },
  {
   "cell_type": "code",
   "execution_count": 8,
   "id": "80c57e53-9625-4f02-a5d9-a42303c969c6",
   "metadata": {},
   "outputs": [],
   "source": [
    "import random\n",
    "def add5():\n",
    "    try:\n",
    "        num1=random.randint(1,100)\n",
    "        num2=random.randint(1,100)\n",
    "        add=num1+num\n",
    "        print(f'the addition of {num1} and {num2} is:{add}')\n",
    "    except Exception as e:\n",
    "        print(e)\n",
    "\n",
    "def evenodd():\n",
    "    try:\n",
    "        num=eval(input('enter the number'))\n",
    "        if num%2==0:\n",
    "            print(f\" the {num} is even\")\n",
    "        else:\n",
    "            print(f\" the {num} is odd\")\n",
    "    except Exception as e:\n",
    "        print(e)\n",
    "\n",
    "\n",
    "def triangle():\n",
    "    try:\n",
    "        h=eval(input('enter the height of triangle'))\n",
    "        b=eval(input('enter the breath of triangle'))\n",
    "        area_of_triangle=0.5*b*h\n",
    "        print(f\"the area triangle:{area_of_triangle}\")\n",
    "    except Exception as e:\n",
    "        print(e)\n",
    "\n",
    "def avg():\n",
    "    import math\n",
    "    num1 = eval(input(\"Enter number 1 :\"))\n",
    "    num2 = eval(input(\"Enter number 2 :\"))\n",
    "    num3 = eval(input(\"Enter number 3 :\"))\n",
    "    average=(num1+num2+num3)/3\n",
    "    print(f\"The average of the three numbers is {average:}\")\n",
    "\n",
    "\n",
    "    \n",
    "def bill():\n",
    "    try:\n",
    "        bill=eval(input('enter the bill'))\n",
    "        tip=eval(input('enter the tip'))\n",
    "        total_bill=bill+tip11   \n",
    "        print(f\"total bill is:{total_bill}\")\n",
    "    except Exception as e:\n",
    "        print(e)\n"
   ]
  },
  {
   "cell_type": "markdown",
   "id": "3de0b951-b3e6-4ce0-b71f-46855ea81f82",
   "metadata": {},
   "source": [
    "##### print(\"==========add funtion start=========\")\n",
    "add5()\n",
    "print(\"=========bill funtion start=========\")\n",
    "bill()\n",
    "print(\"=============avg funtion start==============\")\n",
    "avg()\n",
    "print(\"===============tri  funtion start=============\")\n",
    "triangle()"
   ]
  },
  {
   "cell_type": "markdown",
   "id": "ddca3ec6-2823-44bc-8a75-f6fe859643ce",
   "metadata": {},
   "source": [
    "**funtion without arguments**"
   ]
  },
  {
   "cell_type": "code",
   "execution_count": 11,
   "id": "70ce086f-ed6d-4180-9d38-33695bbb83f6",
   "metadata": {},
   "outputs": [
    {
     "ename": "NameError",
     "evalue": "name 'addition' is not defined",
     "output_type": "error",
     "traceback": [
      "\u001b[1;31m---------------------------------------------------------------------------\u001b[0m",
      "\u001b[1;31mNameError\u001b[0m                                 Traceback (most recent call last)",
      "Cell \u001b[1;32mIn[11], line 1\u001b[0m\n\u001b[1;32m----> 1\u001b[0m addition()\n",
      "\u001b[1;31mNameError\u001b[0m: name 'addition' is not defined"
     ]
    }
   ],
   "source": [
    "add5()  # brackets are empty-- no arguments\n",
    "avg()   #  brackets are empty --no arguments \n",
    "bill()  # brackets are empty --no arguments\n",
    "evenodd()  #  brackets are empty -- no arguments\n"
   ]
  },
  {
   "cell_type": "code",
   "execution_count": 14,
   "id": "38a51890-dc89-4c65-9b6a-b65cdf6e82d4",
   "metadata": {},
   "outputs": [
    {
     "name": "stdin",
     "output_type": "stream",
     "text": [
      "enter the num 1: 200\n",
      "enter the num 2: 200\n"
     ]
    },
    {
     "name": "stdout",
     "output_type": "stream",
     "text": [
      "the addition of 200 and 200 is:400\n"
     ]
    }
   ],
   "source": [
    "def addition(): \n",
    "    \"\"\"\n",
    "     addition program\n",
    "    \"\"\"\n",
    "    num1=eval(input('enter the num 1:'))\n",
    "    num2=eval(input('enter the num 2:'))\n",
    "    add=num1+num2\n",
    "    print(f'the addition of {num1} and {num2} is:{add}')\n",
    "    \n",
    "addition()"
   ]
  },
  {
   "cell_type": "markdown",
   "id": "c8f4cc86-62ec-4390-83c9-9edb3372fcd0",
   "metadata": {},
   "source": [
    "**function with arguments**\n",
    "- in addition function how many variable are three: num1 ,num2,add\n",
    "\n",
    "- how many input variables are two : num1 and num2 \n",
    "\n",
    "- how many output variables are one : add\n",
    "\n",
    "- **DO NOT TOUCH THE OUTPUT VARIABLE**\n",
    "\n",
    "- keep those input variable inside the brackets : addition1(num1,num2)\n",
    "\n",
    "- two extra lines related two input variable remove it "
   ]
  },
  {
   "cell_type": "code",
   "execution_count": 26,
   "id": "895ba7d1-cb78-4e15-bf89-361df106a801",
   "metadata": {},
   "outputs": [],
   "source": [
    "def addition1(num1,num2):\n",
    "    print('num1',num1)\n",
    "    print('num2',num2)\n",
    "    add=num1+num2\n",
    "    print(f'the addition of {num1} and {num2} is:{add}')\n",
    " "
   ]
  },
  {
   "cell_type": "code",
   "execution_count": 27,
   "id": "fb254f55-5c0f-4328-b548-d7594eab5e97",
   "metadata": {},
   "outputs": [
    {
     "name": "stdout",
     "output_type": "stream",
     "text": [
      "num1 100\n",
      "num2 200\n",
      "the addition of 100 and 200 is:300\n"
     ]
    }
   ],
   "source": [
    "addition1(100,200)  # input in value inside the brackets"
   ]
  },
  {
   "cell_type": "code",
   "execution_count": 28,
   "id": "8eed6b6e-a445-4a90-bb1e-a347c59ade61",
   "metadata": {},
   "outputs": [],
   "source": [
    "def triangle(h,b):\n",
    "    #h=eval(input('enter the height of triangle'))\n",
    "    #b=eval(input('enter the breath of triangle'))\n",
    "    area_of_triangle=0.5*b*h\n",
    "    print(f\"the area triangle:{area_of_triangle}\")\n"
   ]
  },
  {
   "cell_type": "code",
   "execution_count": 30,
   "id": "4658c7eb-5852-4d10-bfad-f81d810f453d",
   "metadata": {},
   "outputs": [
    {
     "name": "stdout",
     "output_type": "stream",
     "text": [
      "the area triangle:150.0\n"
     ]
    }
   ],
   "source": [
    "triangle(15,20)"
   ]
  },
  {
   "cell_type": "code",
   "execution_count": 31,
   "id": "3b530d96-6ba9-4c76-8107-6b15011de4cf",
   "metadata": {},
   "outputs": [],
   "source": [
    "def avg(num1,num2,num3):\n",
    "    import math\n",
    "    #num1 = eval(input(\"Enter number 1 :\"))\n",
    "    #num2 = eval(input(\"Enter number 2 :\"))\n",
    "    #num3 = eval(input(\"Enter number 3 :\"))\n",
    "    average=(num1+num2+num3)/3\n",
    "    print(f\"The average of the three numbers is {average:}\")"
   ]
  },
  {
   "cell_type": "code",
   "execution_count": 32,
   "id": "97aa44dc-2221-407a-8191-9742ca50b736",
   "metadata": {},
   "outputs": [
    {
     "name": "stdout",
     "output_type": "stream",
     "text": [
      "The average of the three numbers is 200.0\n"
     ]
    }
   ],
   "source": [
    "avg(100,200,300)"
   ]
  },
  {
   "cell_type": "code",
   "execution_count": 37,
   "id": "73ba570c-01b8-452f-8e32-ffefacc76795",
   "metadata": {},
   "outputs": [],
   "source": [
    "def num(num1):\n",
    "    #num=eval(input('enter the number'))\n",
    "        if num1%2==0:\n",
    "            print(f\" the {num} is even\")\n",
    "        else:\n",
    "            print(f\" the {num} is odd\")"
   ]
  },
  {
   "cell_type": "code",
   "execution_count": 38,
   "id": "0660782c-ad78-41ce-bdd8-15d626623eaa",
   "metadata": {},
   "outputs": [
    {
     "name": "stdout",
     "output_type": "stream",
     "text": [
      " the 22 is even\n"
     ]
    }
   ],
   "source": [
    "num(22)"
   ]
  },
  {
   "cell_type": "code",
   "execution_count": 43,
   "id": "bc6b0e41-6ff9-4bea-93ca-a7d5e661441e",
   "metadata": {},
   "outputs": [],
   "source": [
    "def bill1(bill,tip):\n",
    "    #bill=eval(input('enter the bill'))\n",
    "    #tip=eval(input('enter the tip'))\n",
    "    total_bill=bill+tip\n",
    "    print(f\"total bill is:{total_bill}\")"
   ]
  },
  {
   "cell_type": "code",
   "execution_count": 44,
   "id": "d144d49a-4c0e-4f2f-be4f-fdd33b1895fd",
   "metadata": {},
   "outputs": [
    {
     "name": "stdout",
     "output_type": "stream",
     "text": [
      "total bill is:500\n"
     ]
    }
   ],
   "source": [
    "bill1(200,300)"
   ]
  },
  {
   "cell_type": "code",
   "execution_count": 52,
   "id": "67583c5c-0894-4a1a-8fbc-3171b52d80d3",
   "metadata": {},
   "outputs": [],
   "source": [
    "def triangle(h,b):\n",
    "    #h=eval(input('enter the height of triangle'))\n",
    "    #b=eval(input('enter the breath of triangle'))\n",
    "    area_of_triangle=0.5*b*h\n",
    "    print(f\"the area triangle:{area_of_triangle}\")\n",
    "\n",
    "def avg(num1,num2,num3):\n",
    "    import math\n",
    "    #num1 = eval(input(\"Enter number 1 :\"))\n",
    "    #num2 = eval(input(\"Enter number 2 :\"))\n",
    "    #num3 = eval(input(\"Enter number 3 :\"))\n",
    "    average=(num1+num2+num3)/3\n",
    "    print(f\"The average of the three numbers is {average:}\")\n",
    "\n",
    "def num(num):\n",
    "    #num=eval(input('enter the number'))\n",
    "        if num%2==0:\n",
    "            print(f\" the {num} is even\")\n",
    "        else:\n",
    "            print(f\" the {num} is odd\")\n",
    "\n",
    "def bill1(bill,tip=200):\n",
    "    #bill=eval(input('enter the bill'))\n",
    "    #tip=eval(input('enter the tip'))\n",
    "    total_bill=bill+tip\n",
    "    print(f\"total bill is:{total_bill}\")"
   ]
  },
  {
   "cell_type": "code",
   "execution_count": 53,
   "id": "2d693537-cef8-4042-86d0-135be36ca6b5",
   "metadata": {},
   "outputs": [
    {
     "name": "stdout",
     "output_type": "stream",
     "text": [
      "the area triangle:375.0\n",
      "The average of the three numbers is 46.666666666666664\n",
      " the 54 is even\n",
      "total bill is:300\n"
     ]
    }
   ],
   "source": [
    "triangle(25,30)\n",
    "avg(30,50,60)\n",
    "num(54)\n",
    "bill1(100)"
   ]
  },
  {
   "cell_type": "markdown",
   "id": "cb3a567b-742b-4778-b294-653e344b9b52",
   "metadata": {},
   "source": [
    "**Function with default argument**\n",
    "- some times we will fix the argument value \n",
    "\n",
    "- if we dont give it will consider that fixed value\n",
    "\n",
    "- if you give any value , it will take that value only \n",
    "\n",
    "## Note :- default arguments always last "
   ]
  },
  {
   "cell_type": "code",
   "execution_count": 54,
   "id": "6be549c8-49b8-48e5-8aad-66582850f997",
   "metadata": {},
   "outputs": [],
   "source": [
    "def avg1(n1,n2,n3=100):\n",
    "    import math\n",
    "    average=(n1+n2+n3)/3\n",
    "    print(f\"The average of the three numbers is {average:}\")\n"
   ]
  },
  {
   "cell_type": "code",
   "execution_count": 55,
   "id": "25dfea5b-70b9-4c2d-b976-9fa277f8e1a6",
   "metadata": {},
   "outputs": [
    {
     "name": "stdout",
     "output_type": "stream",
     "text": [
      "The average of the three numbers is 133.33333333333334\n"
     ]
    }
   ],
   "source": [
    "avg1(100,200)\n"
   ]
  },
  {
   "cell_type": "code",
   "execution_count": 20,
   "id": "88c184b4-647b-49d8-9b0d-47ee3d67f272",
   "metadata": {},
   "outputs": [],
   "source": [
    "def avg1(n1,n3,n2=200):\n",
    "    import math\n",
    "    average=(n1+n2+n3)/3\n",
    "    print(f\"The average of the three numbers is {average:}\")\n"
   ]
  },
  {
   "cell_type": "code",
   "execution_count": 15,
   "id": "00b63d8f-acf4-44bd-9816-eaf97959f0ec",
   "metadata": {},
   "outputs": [
    {
     "name": "stdout",
     "output_type": "stream",
     "text": [
      "The average of the three numbers is 166.66666666666666\n"
     ]
    }
   ],
   "source": [
    "avg1(100,200)"
   ]
  },
  {
   "cell_type": "code",
   "execution_count": 48,
   "id": "14dd82bb-5a2a-41f3-9301-51e2c810810c",
   "metadata": {},
   "outputs": [],
   "source": [
    "def add3():\n",
    "    import random\n",
    "    try:\n",
    "        num1=random.randint(1,10)\n",
    "        num2=random.randint(1,10)\n",
    "        add=num1+num2\n",
    "        print(f'The addition of {num1} and {num2} is:{add}')\n",
    "    \n",
    "    except Exception as e:\n",
    "        print(e)"
   ]
  },
  {
   "cell_type": "code",
   "execution_count": 49,
   "id": "c1d18c00-9db9-48ca-9069-3133514c4876",
   "metadata": {},
   "outputs": [
    {
     "name": "stdout",
     "output_type": "stream",
     "text": [
      "The addition of 7 and 2 is:9\n"
     ]
    }
   ],
   "source": [
    "add3()"
   ]
  },
  {
   "cell_type": "code",
   "execution_count": 55,
   "id": "75c99e1c-0538-48d3-bb57-376849634ed7",
   "metadata": {},
   "outputs": [],
   "source": [
    "def average():\n",
    "    a= eval(input(\"Entea a:\"))\n",
    "    b= eval(input(\"Enter b:\"))\n",
    "    c= eval(input(\"Enter c:\"))\n",
    "    average=(a+b+c)/3\n",
    "    print(f\"The average of {a} , {b} and {c} is {average:}\")\n",
    "######################################################################\n",
    "def average1(a):\n",
    "    b= eval(input(\"Enter b:\"))\n",
    "    c= eval(input(\"Enter c:\"))\n",
    "    average=(a+b+c)/3\n",
    "    print(f\"The average of {a} , {b} and {c} is {average:}\")\n",
    "\n",
    "def average2(a,b):\n",
    "    c= eval(input(\"Enter c:\"))\n",
    "    average=(a+b+c)/3\n",
    "    print(f\"The average of {a} , {b} and {c} is {average:}\")\n",
    "\n",
    "def average3(a,b,c):\n",
    "    average=(a+b+c)/3\n",
    "    print(f\"The average of {a} , {b} and {c} is {average:}\")\n",
    "    "
   ]
  },
  {
   "cell_type": "code",
   "execution_count": 58,
   "id": "96b45469-4a44-44c7-99c1-8071e938d3c3",
   "metadata": {},
   "outputs": [
    {
     "name": "stdin",
     "output_type": "stream",
     "text": [
      "Entea a: 100\n",
      "Enter b: 200\n",
      "Enter c: 300\n"
     ]
    },
    {
     "name": "stdout",
     "output_type": "stream",
     "text": [
      "The average of 100 , 200 and 300is 200.0\n"
     ]
    },
    {
     "name": "stdin",
     "output_type": "stream",
     "text": [
      "Enter b: 200\n",
      "Enter c: 300\n"
     ]
    },
    {
     "name": "stdout",
     "output_type": "stream",
     "text": [
      "The average of 10 , 200 and 300is 170.0\n"
     ]
    },
    {
     "name": "stdin",
     "output_type": "stream",
     "text": [
      "Enter c: 100\n"
     ]
    },
    {
     "name": "stdout",
     "output_type": "stream",
     "text": [
      "The average of 20 , 20 and 100is 46.666666666666664\n",
      "The average of 20 , 20 and 20is 20.0\n"
     ]
    }
   ],
   "source": [
    "average()\n",
    "average1(100)\n",
    "average2(100,200)\n",
    "average3(100,200,300)"
   ]
  },
  {
   "cell_type": "code",
   "execution_count": 59,
   "id": "7c1c98d8-ea39-4339-bc90-74db0cf22348",
   "metadata": {},
   "outputs": [
    {
     "data": {
      "text/plain": [
       "(3+2j)"
      ]
     },
     "execution_count": 59,
     "metadata": {},
     "output_type": "execute_result"
    }
   ],
   "source": [
    "complex(3,2) #3+2j"
   ]
  },
  {
   "cell_type": "code",
   "execution_count": 60,
   "id": "60eec83e-1699-418b-8d6e-b812eacc5867",
   "metadata": {},
   "outputs": [
    {
     "data": {
      "text/plain": [
       "(3+2j)"
      ]
     },
     "execution_count": 60,
     "metadata": {},
     "output_type": "execute_result"
    }
   ],
   "source": [
    "complex(real=3,imag=2)"
   ]
  },
  {
   "cell_type": "code",
   "execution_count": null,
   "id": "0f3a64c6-542f-4bc3-ba49-7f2c05b3e72c",
   "metadata": {},
   "outputs": [],
   "source": [
    "complex()       # w\n",
    "complex(3,2)    # w\n",
    "complex(real=3,imag=2)   # w\n",
    "complex(3,imag=2)    # w\n",
    "complex(real=3,2)    # f"
   ]
  },
  {
   "cell_type": "code",
   "execution_count": 1,
   "id": "d3d6e15a-61e7-4e6c-9cb7-e4d25a15a41b",
   "metadata": {},
   "outputs": [
    {
     "ename": "TypeError",
     "evalue": "math.pow() takes no keyword arguments",
     "output_type": "error",
     "traceback": [
      "\u001b[1;31m---------------------------------------------------------------------------\u001b[0m",
      "\u001b[1;31mTypeError\u001b[0m                                 Traceback (most recent call last)",
      "Cell \u001b[1;32mIn[1], line 3\u001b[0m\n\u001b[0;32m      1\u001b[0m \u001b[38;5;28;01mimport\u001b[39;00m\u001b[38;5;250m \u001b[39m\u001b[38;5;21;01mmath\u001b[39;00m\n\u001b[0;32m      2\u001b[0m math\u001b[38;5;241m.\u001b[39mpow(\u001b[38;5;241m2\u001b[39m,\u001b[38;5;241m3\u001b[39m)\n\u001b[1;32m----> 3\u001b[0m math\u001b[38;5;241m.\u001b[39mpow(x\u001b[38;5;241m=\u001b[39m\u001b[38;5;241m2\u001b[39m,y\u001b[38;5;241m=\u001b[39m\u001b[38;5;241m3\u001b[39m)\n",
      "\u001b[1;31mTypeError\u001b[0m: math.pow() takes no keyword arguments"
     ]
    }
   ],
   "source": [
    "import math\n",
    "math.pow(2,3)\n",
    "math.pow(x=2,y=3)"
   ]
  },
  {
   "cell_type": "code",
   "execution_count": 18,
   "id": "f2554551-24ce-45bf-8df1-600b2e29d2ff",
   "metadata": {},
   "outputs": [
    {
     "name": "stdout",
     "output_type": "stream",
     "text": [
      " hello python  and my age is 20\n"
     ]
    }
   ],
   "source": [
    "def greet(name,age):\n",
    "    print(f\" hello {name}  and my age is {age}\")\n",
    "    \n",
    "greet('python',20)"
   ]
  },
  {
   "cell_type": "markdown",
   "id": "b634d496-afa4-4563-9e92-cf7c06e16f89",
   "metadata": {},
   "source": [
    "## Example"
   ]
  },
  {
   "cell_type": "code",
   "execution_count": 11,
   "id": "b8e71229-85d9-4166-92f7-878be05650b0",
   "metadata": {},
   "outputs": [],
   "source": [
    "def greet1(name,/,age):\n",
    "    print(f\"hello {name} and my name is {age}\")"
   ]
  },
  {
   "cell_type": "code",
   "execution_count": 12,
   "id": "ff8b05c5-6f7d-4f1d-9eef-9f1c1d649947",
   "metadata": {},
   "outputs": [
    {
     "name": "stdout",
     "output_type": "stream",
     "text": [
      "hello python and my name is 20\n"
     ]
    }
   ],
   "source": [
    "greet1('python',20)\n"
   ]
  },
  {
   "cell_type": "code",
   "execution_count": 7,
   "id": "9b7781d8-70f3-460e-a7ba-5e158a990621",
   "metadata": {},
   "outputs": [
    {
     "ename": "SyntaxError",
     "evalue": "positional argument follows keyword argument (3655133449.py, line 1)",
     "output_type": "error",
     "traceback": [
      "\u001b[1;36m  Cell \u001b[1;32mIn[7], line 1\u001b[1;36m\u001b[0m\n\u001b[1;33m    greet1(name='python',20)\u001b[0m\n\u001b[1;37m                           ^\u001b[0m\n\u001b[1;31mSyntaxError\u001b[0m\u001b[1;31m:\u001b[0m positional argument follows keyword argument\n"
     ]
    }
   ],
   "source": [
    "greet1(name='python',20)"
   ]
  },
  {
   "cell_type": "code",
   "execution_count": 13,
   "id": "69756884-f378-4752-bd54-67c2813b01b8",
   "metadata": {},
   "outputs": [
    {
     "name": "stdout",
     "output_type": "stream",
     "text": [
      "hello python and my name is 20\n"
     ]
    }
   ],
   "source": [
    "greet1('python',age=20)"
   ]
  },
  {
   "cell_type": "code",
   "execution_count": 14,
   "id": "79c611c9-33ca-4e2d-88ee-df39742691d2",
   "metadata": {},
   "outputs": [
    {
     "ename": "TypeError",
     "evalue": "greet1() got some positional-only arguments passed as keyword arguments: 'name'",
     "output_type": "error",
     "traceback": [
      "\u001b[1;31m---------------------------------------------------------------------------\u001b[0m",
      "\u001b[1;31mTypeError\u001b[0m                                 Traceback (most recent call last)",
      "Cell \u001b[1;32mIn[14], line 1\u001b[0m\n\u001b[1;32m----> 1\u001b[0m greet1(name\u001b[38;5;241m=\u001b[39m\u001b[38;5;124m'\u001b[39m\u001b[38;5;124mpython\u001b[39m\u001b[38;5;124m'\u001b[39m,age\u001b[38;5;241m=\u001b[39m\u001b[38;5;241m20\u001b[39m)\n",
      "\u001b[1;31mTypeError\u001b[0m: greet1() got some positional-only arguments passed as keyword arguments: 'name'"
     ]
    }
   ],
   "source": [
    "greet1(name='python',age=20)"
   ]
  },
  {
   "cell_type": "markdown",
   "id": "fc9d5c58-3062-4a62-95e4-45b5619a6396",
   "metadata": {},
   "source": [
    "- before slash and after slash \n",
    "\n",
    "- before : positional argument \n",
    "\n",
    "    - do not provide the varibale name \n",
    "\n",
    "- after: keyword argument \n",
    "\n",
    "     - we can provide the variable name\n",
    "\n",
    "- we no need to provide the variable name "
   ]
  },
  {
   "cell_type": "code",
   "execution_count": 19,
   "id": "7ef0732e-6ba7-4801-b6e4-5cea9785031f",
   "metadata": {},
   "outputs": [],
   "source": [
    "def greet3(name,*,age):\n",
    "    print(f\"hello {name} and my name is {age}\")"
   ]
  },
  {
   "cell_type": "code",
   "execution_count": 20,
   "id": "acc09767-0473-484e-bf18-99918a091a39",
   "metadata": {},
   "outputs": [
    {
     "ename": "TypeError",
     "evalue": "greet3() takes 1 positional argument but 2 were given",
     "output_type": "error",
     "traceback": [
      "\u001b[1;31m---------------------------------------------------------------------------\u001b[0m",
      "\u001b[1;31mTypeError\u001b[0m                                 Traceback (most recent call last)",
      "Cell \u001b[1;32mIn[20], line 1\u001b[0m\n\u001b[1;32m----> 1\u001b[0m greet3(\u001b[38;5;124m'\u001b[39m\u001b[38;5;124mpython\u001b[39m\u001b[38;5;124m'\u001b[39m,\u001b[38;5;241m20\u001b[39m)\n",
      "\u001b[1;31mTypeError\u001b[0m: greet3() takes 1 positional argument but 2 were given"
     ]
    }
   ],
   "source": [
    "greet3('python',20)\n",
    "# before * not there ====>wrong\n",
    "# after * not there =====> wrong"
   ]
  },
  {
   "cell_type": "code",
   "execution_count": 23,
   "id": "31badb77-3949-4e27-8400-a53bf0e73ae1",
   "metadata": {},
   "outputs": [
    {
     "name": "stdout",
     "output_type": "stream",
     "text": [
      "hello python and my name is 20\n"
     ]
    }
   ],
   "source": [
    "greet3('python',age=20)\n",
    "# before *  there ====>wrong\n",
    "# after * not there =====> wrong"
   ]
  },
  {
   "cell_type": "code",
   "execution_count": 21,
   "id": "58ef29a4-0cb1-4550-bb25-1f746d048c79",
   "metadata": {},
   "outputs": [
    {
     "ename": "SyntaxError",
     "evalue": "positional argument follows keyword argument (4066428748.py, line 1)",
     "output_type": "error",
     "traceback": [
      "\u001b[1;36m  Cell \u001b[1;32mIn[21], line 1\u001b[1;36m\u001b[0m\n\u001b[1;33m    greet3(name='python',20)\u001b[0m\n\u001b[1;37m                           ^\u001b[0m\n\u001b[1;31mSyntaxError\u001b[0m\u001b[1;31m:\u001b[0m positional argument follows keyword argument\n"
     ]
    }
   ],
   "source": [
    "greet3(name='python',20)\n",
    "# before * not there ====>correct\n",
    "# after * there =====> wrong"
   ]
  },
  {
   "cell_type": "code",
   "execution_count": 22,
   "id": "f74fbb93-64da-4a95-be86-916ed59afb50",
   "metadata": {},
   "outputs": [
    {
     "name": "stdout",
     "output_type": "stream",
     "text": [
      "hello python and my name is 20\n"
     ]
    }
   ],
   "source": [
    "greet3(name='python',age=20)\n",
    "# before * there ====> correct\n",
    "# after * there =====> correct"
   ]
  },
  {
   "cell_type": "markdown",
   "id": "cc09cc8d-a280-483b-b7a6-6f2e8ea579d8",
   "metadata": {},
   "source": [
    "- / before slash nahi chayiye  - after slash our wish\n",
    "    \n",
    "- (*)before start our wish - after start chayiye"
   ]
  },
  {
   "cell_type": "markdown",
   "id": "54cf313a-990b-47cb-a35b-510112ee014a",
   "metadata": {},
   "source": [
    "## Concept no-3 local and globle variable concept  \n",
    "\n",
    "- the variables use out side the function is colled the **globle variable**\n",
    "\n",
    "- the variables use inside the function is colled the **local variable**\n",
    "\n",
    "- global variable does not have any restriction , it can anywhere inthe entire the code \n",
    "\n",
    "- local variable can not use outside the function"
   ]
  },
  {
   "cell_type": "code",
   "execution_count": 32,
   "id": "22ef5f5e-c592-4ed7-a6fd-f05c10e4236c",
   "metadata": {},
   "outputs": [
    {
     "name": "stdout",
     "output_type": "stream",
     "text": [
      "the addition of 1000 ,200 and 300 is 1500\n"
     ]
    }
   ],
   "source": [
    "a=1000       # a is the globle variable\n",
    "def ADD():\n",
    "    b=200    # b and c is the local variable \n",
    "    c=300\n",
    "    addition=a+b+c    # addition is the local variable\n",
    "    print(f\"the addition of {a} ,{b} and {c} is {addition}\")\n",
    "\n",
    "ADD()"
   ]
  },
  {
   "cell_type": "code",
   "execution_count": 43,
   "id": "546152b1-7a3b-499e-8401-d076da68bf14",
   "metadata": {},
   "outputs": [
    {
     "name": "stdout",
     "output_type": "stream",
     "text": [
      "the addition of 1000 ,100 and 300 is 1400\n"
     ]
    }
   ],
   "source": [
    "a=1000\n",
    "b=200   \n",
    "def ADD1():\n",
    "    global addition,b\n",
    "    b=100\n",
    "    c=300\n",
    "    addition=a+b+c    \n",
    "    print(f\"the addition of {a} ,{b} and {c} is {addition}\")\n",
    "\n",
    "ADD1()"
   ]
  },
  {
   "cell_type": "code",
   "execution_count": 44,
   "id": "656113e8-d016-4224-b0fd-df6ceec14856",
   "metadata": {},
   "outputs": [
    {
     "name": "stdout",
     "output_type": "stream",
     "text": [
      "the addition of 1000 ,200 and 300 is 1500\n"
     ]
    }
   ],
   "source": [
    "ADD()  "
   ]
  },
  {
   "cell_type": "markdown",
   "id": "491f26aa-fe71-4b7d-9dc5-d96c6eb67810",
   "metadata": {},
   "source": [
    "-  values            a=1000   \n",
    "\n",
    "- define the function look inside the brackets\n",
    "\n",
    "- call the function  look inside the brackets\n",
    "\n",
    "- run the function   look inside the function"
   ]
  },
  {
   "cell_type": "code",
   "execution_count": 50,
   "id": "3da5bbd5-4aca-4f71-87aa-d175f8d479a8",
   "metadata": {},
   "outputs": [
    {
     "name": "stdout",
     "output_type": "stream",
     "text": [
      "the addition of 300 ,100 and 300 is 700\n"
     ]
    }
   ],
   "source": [
    "a=1000\n",
    "def ADD1():\n",
    "    a=300\n",
    "    b=100\n",
    "    c=300\n",
    "    addition=a+b+c    \n",
    "    print(f\"the addition of {a} ,{b} and {c} is {addition}\")\n",
    "\n",
    "ADD1()   # this is the inside the function \n"
   ]
  },
  {
   "cell_type": "code",
   "execution_count": 54,
   "id": "ebb34d99-7573-42ad-b5d7-5ee37386f42f",
   "metadata": {},
   "outputs": [
    {
     "name": "stdout",
     "output_type": "stream",
     "text": [
      "the addition of 300 ,100 and 300 is 700\n"
     ]
    }
   ],
   "source": [
    "def ADD1():\n",
    "    a=300\n",
    "    b=100\n",
    "    c=300\n",
    "    addition=a+b+c    \n",
    "    print(f\"the addition of {a} ,{b} and {c} is {addition}\")\n",
    "    \n",
    "a=1000\n",
    "\n",
    "ADD1()\n",
    "\n",
    "# define the function  no a is empty \n",
    "# a=1000\n",
    "# call a=1000\n",
    "# run a= 1000"
   ]
  },
  {
   "cell_type": "code",
   "execution_count": 59,
   "id": "a5df778c-5a82-43ef-90bf-8ab7f8a1ccae",
   "metadata": {},
   "outputs": [
    {
     "name": "stdout",
     "output_type": "stream",
     "text": [
      "the addition of 900 ,100 and 300 is 1300\n"
     ]
    }
   ],
   "source": [
    "a=1000\n",
    "def ADD1(a=200):\n",
    "    b=100\n",
    "    a=900\n",
    "    c=300\n",
    "    addition=a+b+c    \n",
    "    print(f\"the addition of {a} ,{b} and {c} is {addition}\")\n",
    "ADD1(600)"
   ]
  },
  {
   "cell_type": "code",
   "execution_count": 2,
   "id": "cded53c4-4cfb-44e8-8c26-21747d12a7f7",
   "metadata": {},
   "outputs": [
    {
     "name": "stdout",
     "output_type": "stream",
     "text": [
      "the addition of 1000 ,200 and 300 is 1500\n"
     ]
    }
   ],
   "source": [
    "# case 1\n",
    "def ADD1():\n",
    "    a=1000\n",
    "    b=200\n",
    "    c=300\n",
    "    addition=a+b+c\n",
    "    print(f'the addition of {a} ,{b} and {c} is {addition}')\n",
    "ADD1()\n",
    "# all are local variables"
   ]
  },
  {
   "cell_type": "code",
   "execution_count": 3,
   "id": "844d8d81-15d5-475c-a2f6-4d23fcc95138",
   "metadata": {},
   "outputs": [
    {
     "name": "stdout",
     "output_type": "stream",
     "text": [
      "the addition of 1000 ,200 and 300 is 1500\n"
     ]
    }
   ],
   "source": [
    "# case 2\n",
    "a=1000\n",
    "def ADD2():\n",
    "    b=200\n",
    "    c=300\n",
    "    addition=a+b+c\n",
    "    print(f'the addition of {a} ,{b} and {c} is {addition}')\n",
    "ADD2()\n",
    "\n",
    "# a: is globle :   b and c :is local"
   ]
  },
  {
   "cell_type": "code",
   "execution_count": 4,
   "id": "94435189-1914-4308-a916-c1ed43299d53",
   "metadata": {},
   "outputs": [
    {
     "name": "stdout",
     "output_type": "stream",
     "text": [
      "the addition of 1000 ,200 and 300 is 1500\n"
     ]
    }
   ],
   "source": [
    "# case 3\n",
    "a=1000\n",
    "def ADD3():\n",
    "    a=1500\n",
    "    b=200\n",
    "    c=300\n",
    "    addition=a+b+c\n",
    "    print(f'the addition of {a} ,{b} and {c} is {addition}')\n",
    "ADD3()\n",
    "\n",
    "# funtion always give local variables first \n",
    "# then globle variabels"
   ]
  },
  {
   "cell_type": "code",
   "execution_count": 6,
   "id": "0e545379-58c1-40ea-a10a-72167bf3ade1",
   "metadata": {},
   "outputs": [
    {
     "name": "stdout",
     "output_type": "stream",
     "text": [
      "the addition of 1500 ,200 and 300 is 2000\n"
     ]
    }
   ],
   "source": [
    "# case 4\n",
    "a=1000   #gv\n",
    "def ADD4():\n",
    "    a=1500\n",
    "    b=200\n",
    "    c=300\n",
    "    addition=a+b+c\n",
    "    print(f'the addition of {a} ,{b} and {c} is {addition}')\n",
    "a=2000 #gv\n",
    "ADD4()\n",
    "\n",
    "# a: is globle :   b and c :is local"
   ]
  },
  {
   "cell_type": "code",
   "execution_count": 9,
   "id": "855fd062-1c4a-45b5-9625-ef9275a1d312",
   "metadata": {},
   "outputs": [
    {
     "name": "stdout",
     "output_type": "stream",
     "text": [
      "the addition of 2000 ,200 and 300 is 2500\n"
     ]
    }
   ],
   "source": [
    "# case 5\n",
    "a=1000   #gv\n",
    "def ADD5():\n",
    "    b=200\n",
    "    c=300\n",
    "    addition=a+b+c\n",
    "    print(f'the addition of {a} ,{b} and {c} is {addition}')\n",
    "a=2000 #gv\n",
    "ADD5()\n"
   ]
  },
  {
   "cell_type": "code",
   "execution_count": 12,
   "id": "5d4489d1-0820-4a27-90fe-3fea0ef9d0e9",
   "metadata": {},
   "outputs": [
    {
     "name": "stdout",
     "output_type": "stream",
     "text": [
      "the addition of 3000 ,200 and 300 is 3500\n"
     ]
    }
   ],
   "source": [
    "# case 6\n",
    "a=1000   #gv\n",
    "def ADD6(a):\n",
    "    b=200\n",
    "    c=300\n",
    "    addition=a+b+c\n",
    "    print(f'the addition of {a} ,{b} and {c} is {addition}')\n",
    "a=2000 #gv\n",
    "ADD6(a=3000)\n"
   ]
  },
  {
   "cell_type": "code",
   "execution_count": 16,
   "id": "4bc78881-f83f-480a-88d1-4c39f32127a6",
   "metadata": {},
   "outputs": [
    {
     "name": "stdout",
     "output_type": "stream",
     "text": [
      "the addition of 4000 ,200 and 300 is 4500\n"
     ]
    }
   ],
   "source": [
    "# case 7\n",
    "a=1000   #gv\n",
    "def ADD7(a=4000):\n",
    "    b=200  #work\n",
    "    c=300  #work\n",
    "    addition=a+b+c\n",
    "    print(f'the addition of {a} ,{b} and {c} is {addition}')\n",
    "a=2000 #gv\n",
    "ADD7()  #work "
   ]
  },
  {
   "cell_type": "code",
   "execution_count": 18,
   "id": "85db3b56-63df-4031-8271-54ce4cdeed29",
   "metadata": {},
   "outputs": [
    {
     "name": "stdout",
     "output_type": "stream",
     "text": [
      "the addition of 6000 ,200 and 300 is 4500\n"
     ]
    }
   ],
   "source": [
    "# case 8\n",
    "a=1000   #gv\n",
    "def ADD8(a=4000):\n",
    "    b=200\n",
    "    c=300\n",
    "    addition=a+b+c\n",
    "    a=6000\n",
    "    print(f'the addition of {a} ,{b} and {c} is {addition}')\n",
    "a=2000 #gv\n",
    "ADD8()"
   ]
  },
  {
   "cell_type": "code",
   "execution_count": null,
   "id": "619f7002-3513-42ad-970e-5a2526cb3611",
   "metadata": {},
   "outputs": [],
   "source": [
    "# case 9\n",
    "a=1000   #gv\n",
    "def ADD9(a=4000):\n",
    "    b=200\n",
    "    c=300\n",
    "    addition=a+b+c\n",
    "    a=6000\n",
    "    print(f'the addition of {a} ,{b} and {c} is {addition}')\n",
    "a=2000\n",
    "ADD9()"
   ]
  },
  {
   "cell_type": "code",
   "execution_count": 24,
   "id": "74ea8e8f-c2ca-4a5b-9bfb-f75e81f69a97",
   "metadata": {},
   "outputs": [
    {
     "name": "stdout",
     "output_type": "stream",
     "text": [
      "110\n"
     ]
    }
   ],
   "source": [
    "s=10\n",
    "s=s+100\n",
    "print(s)"
   ]
  },
  {
   "cell_type": "code",
   "execution_count": 26,
   "id": "237ef6c4-a5e7-469e-97d5-3c2566f35a49",
   "metadata": {},
   "outputs": [
    {
     "ename": "UnboundLocalError",
     "evalue": "cannot access local variable 's1' where it is not associated with a value",
     "output_type": "error",
     "traceback": [
      "\u001b[1;31m---------------------------------------------------------------------------\u001b[0m",
      "\u001b[1;31mUnboundLocalError\u001b[0m                         Traceback (most recent call last)",
      "Cell \u001b[1;32mIn[26], line 4\u001b[0m\n\u001b[0;32m      2\u001b[0m     s1\u001b[38;5;241m=\u001b[39ms1\u001b[38;5;241m+\u001b[39m\u001b[38;5;241m100\u001b[39m\n\u001b[0;32m      3\u001b[0m     s1\u001b[38;5;241m=\u001b[39m\u001b[38;5;241m10\u001b[39m\n\u001b[1;32m----> 4\u001b[0m math()\n",
      "Cell \u001b[1;32mIn[26], line 2\u001b[0m, in \u001b[0;36mmath\u001b[1;34m()\u001b[0m\n\u001b[0;32m      1\u001b[0m \u001b[38;5;28;01mdef\u001b[39;00m\u001b[38;5;250m \u001b[39m\u001b[38;5;21mmath\u001b[39m():\n\u001b[1;32m----> 2\u001b[0m     s1\u001b[38;5;241m=\u001b[39ms1\u001b[38;5;241m+\u001b[39m\u001b[38;5;241m100\u001b[39m\n\u001b[0;32m      3\u001b[0m     s1\u001b[38;5;241m=\u001b[39m\u001b[38;5;241m10\u001b[39m\n",
      "\u001b[1;31mUnboundLocalError\u001b[0m: cannot access local variable 's1' where it is not associated with a value"
     ]
    }
   ],
   "source": [
    "def math():\n",
    "    s1=s1+100\n",
    "    s1=10\n",
    "math()\n",
    "# s1=100 globle variable can access anywhere \n",
    "# s1=100 gv  s1=10 lv\n",
    "# UnboundLocalError"
   ]
  },
  {
   "cell_type": "markdown",
   "id": "00bf386b-35aa-4285-80aa-f997dd0e66c5",
   "metadata": {},
   "source": [
    "**Unbound Local Error**"
   ]
  },
  {
   "cell_type": "code",
   "execution_count": 8,
   "id": "a1290ee9-9f08-4730-9f67-ef067e5a4ba0",
   "metadata": {},
   "outputs": [
    {
     "name": "stdout",
     "output_type": "stream",
     "text": [
      "110\n"
     ]
    }
   ],
   "source": [
    "#s1=10\n",
    "def math():\n",
    "    s1=10\n",
    "    s1=s1+100 # s1 we are using locally where is s1?\n",
    "    print(s1)\n",
    "\n",
    "math()"
   ]
  },
  {
   "cell_type": "code",
   "execution_count": 2,
   "id": "199c1fcf-0c87-4f7a-8ce4-0b239d9d5df2",
   "metadata": {},
   "outputs": [
    {
     "name": "stdout",
     "output_type": "stream",
     "text": [
      "110\n"
     ]
    }
   ],
   "source": [
    "def math(s1=10):\n",
    "    s1=10\n",
    "    s1=s1+100 # s1 we are using locally wherer is s1?\n",
    "    print(s1)\n",
    "math()"
   ]
  },
  {
   "cell_type": "code",
   "execution_count": 33,
   "id": "9aecbcbb-6c1f-4f5c-9616-62db3659918c",
   "metadata": {},
   "outputs": [
    {
     "name": "stdout",
     "output_type": "stream",
     "text": [
      "110\n"
     ]
    }
   ],
   "source": [
    "s1=10\n",
    "def math():\n",
    "    value=s1+100 # s1 we are using locally wherer is s1?\n",
    "    print(value)\n",
    "math()"
   ]
  },
  {
   "cell_type": "code",
   "execution_count": 4,
   "id": "eb986ce6-6b69-496b-a3e7-b176c375a587",
   "metadata": {},
   "outputs": [
    {
     "name": "stdout",
     "output_type": "stream",
     "text": [
      "200\n"
     ]
    },
    {
     "ename": "UnboundLocalError",
     "evalue": "cannot access local variable 's1' where it is not associated with a value",
     "output_type": "error",
     "traceback": [
      "\u001b[1;31m---------------------------------------------------------------------------\u001b[0m",
      "\u001b[1;31mUnboundLocalError\u001b[0m                         Traceback (most recent call last)",
      "Cell \u001b[1;32mIn[4], line 11\u001b[0m\n\u001b[0;32m      9\u001b[0m     val\u001b[38;5;241m=\u001b[39ms1\u001b[38;5;241m+\u001b[39m\u001b[38;5;241m100\u001b[39m\n\u001b[0;32m     10\u001b[0m     s1\u001b[38;5;241m=\u001b[39m\u001b[38;5;241m100\u001b[39m\n\u001b[1;32m---> 11\u001b[0m saurabh()\n",
      "Cell \u001b[1;32mIn[4], line 9\u001b[0m, in \u001b[0;36msaurabh\u001b[1;34m()\u001b[0m\n\u001b[0;32m      8\u001b[0m \u001b[38;5;28;01mdef\u001b[39;00m\u001b[38;5;250m \u001b[39m\u001b[38;5;21msaurabh\u001b[39m():\n\u001b[1;32m----> 9\u001b[0m     val\u001b[38;5;241m=\u001b[39ms1\u001b[38;5;241m+\u001b[39m\u001b[38;5;241m100\u001b[39m\n\u001b[0;32m     10\u001b[0m     s1\u001b[38;5;241m=\u001b[39m\u001b[38;5;241m100\u001b[39m\n",
      "\u001b[1;31mUnboundLocalError\u001b[0m: cannot access local variable 's1' where it is not associated with a value"
     ]
    }
   ],
   "source": [
    "s1=100   # s1=gv\n",
    "def saurabh():\n",
    "    val=s1+100\n",
    "    print(val)  # no error\n",
    "saurabh()         \n",
    "\n",
    "s1=100   #gv\n",
    "def saurabh():\n",
    "    val=s1+100  #error\n",
    "    s1=100    #assign to same variacle s1 lv\n",
    "              # python immidiatly see \n",
    "saurabh()\n"
   ]
  },
  {
   "cell_type": "markdown",
   "id": "2542c6f7-1534-4a8b-801d-22c12660c1d5",
   "metadata": {},
   "source": [
    "- first defination funtiction scan \n",
    "\n",
    "- inside function s1=s1=100\n",
    "\n",
    "- s1 is local variable avilable\n",
    "\n",
    "- what is this local variable = s1+100\n",
    "\n",
    "- s1+100 able to get it :NOOOO error \n",
    "\n",
    "- val=s1+100\n",
    "\n",
    "- val and s1 both are diffrent \n",
    "\n",
    "- s1 is outside"
   ]
  },
  {
   "cell_type": "markdown",
   "id": "592a4152-4baa-4103-9aa2-e8a0deaba12e",
   "metadata": {},
   "source": [
    "**Return statement**\n",
    "\n",
    "- function wants to give something of the user \n",
    "\n",
    "- thta we need to save using return "
   ]
  },
  {
   "cell_type": "code",
   "execution_count": 19,
   "id": "20cc660d-702c-49a0-a7b6-bbf21aecc905",
   "metadata": {},
   "outputs": [
    {
     "name": "stdout",
     "output_type": "stream",
     "text": [
      "The average of 10 ,20 and 30 is 20.0\n"
     ]
    }
   ],
   "source": [
    "def Average(a,b,c):\n",
    "    add=(a+b+c)/3\n",
    "    avg=round(add,2)\n",
    "    print(f\"The average of {a} ,{b} and {c} is {avg}\")\n",
    "    return(avg,add)\n",
    "    # return(add) wrong\n",
    "\n",
    "avg=Average(10,20,30)"
   ]
  },
  {
   "cell_type": "code",
   "execution_count": 1,
   "id": "62bd0f9d-3030-4025-bd06-eb656479875f",
   "metadata": {},
   "outputs": [],
   "source": [
    "a=10\n",
    "b=20\n",
    "a,b=10,20\n",
    "a=10,20\n",
    "# all works"
   ]
  },
  {
   "cell_type": "code",
   "execution_count": 25,
   "id": "431e94f6-6e42-4d9b-b7d1-e8c5cca41bcf",
   "metadata": {},
   "outputs": [
    {
     "ename": "TypeError",
     "evalue": "cannot unpack non-iterable int object",
     "output_type": "error",
     "traceback": [
      "\u001b[1;31m---------------------------------------------------------------------------\u001b[0m",
      "\u001b[1;31mTypeError\u001b[0m                                 Traceback (most recent call last)",
      "Cell \u001b[1;32mIn[25], line 1\u001b[0m\n\u001b[1;32m----> 1\u001b[0m a,b\u001b[38;5;241m=\u001b[39m\u001b[38;5;241m10\u001b[39m\n",
      "\u001b[1;31mTypeError\u001b[0m: cannot unpack non-iterable int object"
     ]
    }
   ],
   "source": [
    "a,b=10 # fail"
   ]
  },
  {
   "cell_type": "markdown",
   "id": "067b9f81-c006-4710-9d7d-24ebfe002f4e",
   "metadata": {},
   "source": [
    "**funtction in function**"
   ]
  },
  {
   "cell_type": "code",
   "execution_count": 1,
   "id": "0752c3bd-4e66-42e7-a119-ad02e0ed3d91",
   "metadata": {},
   "outputs": [],
   "source": [
    "def greet1():\n",
    "    print('good morning')"
   ]
  },
  {
   "cell_type": "code",
   "execution_count": 2,
   "id": "eb5ad13a-17e7-4df8-be42-f6cabd207392",
   "metadata": {},
   "outputs": [],
   "source": [
    "def greet2():\n",
    "    print('good night')"
   ]
  },
  {
   "cell_type": "code",
   "execution_count": 3,
   "id": "01e88d09-5a14-4fa4-a37b-4e6cb39a23ef",
   "metadata": {},
   "outputs": [
    {
     "name": "stdout",
     "output_type": "stream",
     "text": [
      "good morning\n",
      "good night\n"
     ]
    }
   ],
   "source": [
    "greet1()\n",
    "greet2()"
   ]
  },
  {
   "cell_type": "code",
   "execution_count": 5,
   "id": "cc52c5f7-5459-498b-a18c-1b35aa0f9b57",
   "metadata": {},
   "outputs": [
    {
     "name": "stdout",
     "output_type": "stream",
     "text": [
      "good mornig\n",
      "good night\n"
     ]
    }
   ],
   "source": [
    "def greet1():\n",
    "    print('good mornig')\n",
    "\n",
    "def greet2():   #you are here\n",
    "    greet1()    # you are here \n",
    "    print('good night')\n",
    "\n",
    "greet2()"
   ]
  },
  {
   "cell_type": "code",
   "execution_count": 7,
   "id": "86fd5107-94cd-4852-ad52-390f20a67d9f",
   "metadata": {},
   "outputs": [
    {
     "name": "stdout",
     "output_type": "stream",
     "text": [
      "good morning\n"
     ]
    }
   ],
   "source": [
    "def greet1():\n",
    "    greet2\n",
    "    print('good morning')\n",
    "\n",
    "def greet2():   #you are here   \n",
    "    print('good night')\n",
    "\n",
    "greet1()"
   ]
  },
  {
   "cell_type": "code",
   "execution_count": 18,
   "id": "6ce8c473-26e7-4ec2-8069-0b0be47c640a",
   "metadata": {},
   "outputs": [
    {
     "name": "stdout",
     "output_type": "stream",
     "text": [
      "good night\n",
      "good night\n"
     ]
    }
   ],
   "source": [
    "#example\n",
    "def greet1():\n",
    "        def greet2():\n",
    "            print('good night')\n",
    "            print('good morning')\n",
    "        print('good night')\n",
    "\n",
    "greet2()"
   ]
  },
  {
   "cell_type": "code",
   "execution_count": 23,
   "id": "98cd99a3-03bb-402a-b9e2-c6ea3c29fb86",
   "metadata": {},
   "outputs": [
    {
     "name": "stdout",
     "output_type": "stream",
     "text": [
      "good morning\n",
      "good night\n"
     ]
    }
   ],
   "source": [
    "def greet1():\n",
    "    def greet2():\n",
    "        print('good night')\n",
    "    print('good morning')\n",
    "    greet2()\n",
    "greet1()"
   ]
  },
  {
   "cell_type": "code",
   "execution_count": 30,
   "id": "e03bf5da-27c6-4fe2-b6d1-e0a6a939f9f4",
   "metadata": {},
   "outputs": [
    {
     "name": "stdout",
     "output_type": "stream",
     "text": [
      "add: 300\n",
      "mul: 50\n"
     ]
    }
   ],
   "source": [
    "def MATH():\n",
    "    def add(a,b):\n",
    "        print('add:',a+b)\n",
    "    def mul(a,b):\n",
    "        print('mul:',a*b)\n",
    "    add(100,200)\n",
    "    mul(10,5)\n",
    "MATH()"
   ]
  },
  {
   "cell_type": "code",
   "execution_count": 32,
   "id": "e37f0613-fb7d-4f4e-9bc5-98209dc891fa",
   "metadata": {},
   "outputs": [],
   "source": [
    "def MATH():\n",
    "    def add(a,b):\n",
    "        print('add:',a+b)\n",
    "        add(100,200)\n",
    "    def mul(a,b):\n",
    "        print('mul:',a*b)\n",
    "        mul(10,5)\n",
    "MATH()"
   ]
  },
  {
   "cell_type": "code",
   "execution_count": 37,
   "id": "fdb8a70f-1019-43c4-84d7-33a30cf8da1c",
   "metadata": {},
   "outputs": [
    {
     "name": "stdout",
     "output_type": "stream",
     "text": [
      "add: 300\n",
      "mul: 50\n"
     ]
    }
   ],
   "source": [
    "def BIGMATH():\n",
    "    def MATH():\n",
    "        def add(a,b):\n",
    "            print('add:',a+b)\n",
    "        def mul(a,b):\n",
    "            print('mul:',a*b)\n",
    "        add(100,200)\n",
    "        mul(10,5)\n",
    "    MATH()\n",
    "    \n",
    "BIGMATH()"
   ]
  },
  {
   "cell_type": "code",
   "execution_count": 39,
   "id": "8ced7693-b099-42ea-8cd5-ace7a81ce5b9",
   "metadata": {},
   "outputs": [
    {
     "name": "stdout",
     "output_type": "stream",
     "text": [
      "add: 30\n",
      "mul: 200\n"
     ]
    }
   ],
   "source": [
    "def MATH(a,b):\n",
    "    def add():\n",
    "        print('add:',a+b)\n",
    "    def mul():\n",
    "        print('mul:',a*b)\n",
    "    add()\n",
    "    mul()\n",
    "MATH(10,20)"
   ]
  },
  {
   "cell_type": "code",
   "execution_count": 9,
   "id": "1bd3fb10-7afb-4add-a886-161e42399abc",
   "metadata": {},
   "outputs": [
    {
     "name": "stdout",
     "output_type": "stream",
     "text": [
      "6\n",
      "5\n",
      "4\n",
      "3\n",
      "2\n",
      "1\n",
      "0\n"
     ]
    }
   ],
   "source": [
    "def number(n):\n",
    "    print(n)\n",
    "    if n > 0:\n",
    "        number(n-1)\n",
    "number(6)\n",
    "# step 1 :- print(0) print(1)\n",
    "# step 2:- print(6) print(5)\n",
    "# step 3:- print(5) print(4)\n",
    "# step 4:- print(4) print(3) \n",
    "# step 5:- print(3) print(2)\n",
    "# step 6:- print(2) print(1)\n",
    "# step 7:- print(1) print(2)"
   ]
  },
  {
   "cell_type": "code",
   "execution_count": 14,
   "id": "c0fd3436-1006-4147-81b0-54149e18d7f5",
   "metadata": {},
   "outputs": [
    {
     "name": "stdout",
     "output_type": "stream",
     "text": [
      "6\n",
      "5\n",
      "4\n",
      "3\n",
      "2\n",
      "1\n"
     ]
    }
   ],
   "source": [
    "def number(n):\n",
    "    if n==0:\n",
    "        return(0)\n",
    "    print(n)\n",
    "    number(n-1)\n",
    "number(6)"
   ]
  },
  {
   "cell_type": "code",
   "execution_count": 20,
   "id": "f20c693d-e9fb-4174-9660-e3d3443100aa",
   "metadata": {},
   "outputs": [
    {
     "ename": "IndentationError",
     "evalue": "unexpected indent (2965626711.py, line 4)",
     "output_type": "error",
     "traceback": [
      "\u001b[1;36m  Cell \u001b[1;32mIn[20], line 4\u001b[1;36m\u001b[0m\n\u001b[1;33m    number == 6:\u001b[0m\n\u001b[1;37m    ^\u001b[0m\n\u001b[1;31mIndentationError\u001b[0m\u001b[1;31m:\u001b[0m unexpected indent\n"
     ]
    }
   ],
   "source": [
    "# factorial \n",
    "#6!=6*5*4*3*2*1\n",
    "num=6\n",
    "\n",
    "    number == 6:\n",
    "    factorial = 6 * 5 * 4 * 3 * 2 * 1\n",
    "    print(factorial)\n",
    "    "
   ]
  },
  {
   "cell_type": "code",
   "execution_count": 21,
   "id": "050f5a73-44c1-48b7-926f-9fdeef60464d",
   "metadata": {},
   "outputs": [
    {
     "name": "stdout",
     "output_type": "stream",
     "text": [
      "factorial of 6 is 720\n"
     ]
    }
   ],
   "source": [
    "num=6 \n",
    "factorial= 1\n",
    "if num == 6:\n",
    "    factorial= 6 * 5 * 4 * 3 * 2 * 1\n",
    "    print(f'factorial of 6 is',factorial)\n",
    "else:\n",
    "    print('enter the correct number')"
   ]
  },
  {
   "cell_type": "code",
   "execution_count": 33,
   "id": "aece45f1-54e2-4568-b0da-bca85fa9919e",
   "metadata": {},
   "outputs": [
    {
     "name": "stdout",
     "output_type": "stream",
     "text": [
      "720\n"
     ]
    }
   ],
   "source": [
    "def fact(n):\n",
    "    if n==0:\n",
    "        return 1\n",
    "    else:\n",
    "        return (n * fact(n - 1))\n",
    "print(fact(6))"
   ]
  },
  {
   "cell_type": "code",
   "execution_count": 21,
   "id": "66e0a458-7276-456b-96db-74158d37c96e",
   "metadata": {},
   "outputs": [
    {
     "name": "stdout",
     "output_type": "stream",
     "text": [
      "the avg of 10 20 and 30 is: 20.0\n"
     ]
    }
   ],
   "source": [
    "def Average(a,b,c):  # a arguments\n",
    "    add=(a+b+c)/3\n",
    "    avg=round(add,2)\n",
    "    print(f'the avg of {a} {b} and {c} is: {avg}')\n",
    "    return avg\n",
    "avg=Average(10,20,30) "
   ]
  },
  {
   "cell_type": "code",
   "execution_count": null,
   "id": "727d0c67-8802-4404-959c-12bb2486768c",
   "metadata": {},
   "outputs": [],
   "source": []
  },
  {
   "cell_type": "code",
   "execution_count": null,
   "id": "895d0ea8-1893-4cee-9d8e-3ac63e92db98",
   "metadata": {},
   "outputs": [],
   "source": []
  }
 ],
 "metadata": {
  "kernelspec": {
   "display_name": "Python [conda env:base] *",
   "language": "python",
   "name": "conda-base-py"
  },
  "language_info": {
   "codemirror_mode": {
    "name": "ipython",
    "version": 3
   },
   "file_extension": ".py",
   "mimetype": "text/x-python",
   "name": "python",
   "nbconvert_exporter": "python",
   "pygments_lexer": "ipython3",
   "version": "3.13.5"
  }
 },
 "nbformat": 4,
 "nbformat_minor": 5
}
