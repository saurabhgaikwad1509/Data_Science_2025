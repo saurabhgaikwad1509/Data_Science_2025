{
 "cells": [
  {
   "cell_type": "code",
   "execution_count": 13,
   "id": "7ebe9cf8-54af-4868-9258-db9043843392",
   "metadata": {},
   "outputs": [
    {
     "name": "stdout",
     "output_type": "stream",
     "text": [
      "Ramesh 20\n",
      "the Ramesh age is :20\n",
      "Suresh 22\n",
      "the Suresh age is :22\n",
      "Mahesh 24\n",
      "the Mahesh age is :24\n"
     ]
    }
   ],
   "source": [
    "names=['Ramesh','Suresh','Mahesh']\n",
    "age=[20,22,24]\n",
    "# Ramesh age is 20\n",
    "# Suresh age is 22\n",
    "for i in range(len(names)):\n",
    "    print(names[i],age[i])\n",
    "    print(f'the {names[i]} age is :{age[i]}')"
   ]
  },
  {
   "cell_type": "markdown",
   "id": "41b415c0-9d40-4c80-9d34-df1950fce206",
   "metadata": {},
   "source": [
    "**zip**"
   ]
  },
  {
   "cell_type": "code",
   "execution_count": 14,
   "id": "1f886f92-95bd-4f8b-ae2f-7e563bbc2c56",
   "metadata": {},
   "outputs": [
    {
     "data": {
      "text/plain": [
       "[('ramesh', 20), ('suresh', 22), ('mahesh', 24)]"
      ]
     },
     "execution_count": 14,
     "metadata": {},
     "output_type": "execute_result"
    }
   ],
   "source": [
    "names=['ramesh','suresh','mahesh']\n",
    "age=[20,22,24]\n",
    "# these two list are together\n",
    "# ramesh is related with 20\n",
    "# we can combined both in the form of zip\n",
    "list(zip(names,age))"
   ]
  },
  {
   "cell_type": "code",
   "execution_count": 15,
   "id": "28bf8dbf-7768-4f3e-a47c-82a4f0a4607f",
   "metadata": {},
   "outputs": [
    {
     "name": "stdout",
     "output_type": "stream",
     "text": [
      "('ramesh', 20)\n",
      "('suresh', 22)\n",
      "('mahesh', 24)\n"
     ]
    }
   ],
   "source": [
    "for i in zip(names,age):\n",
    "    print(i)"
   ]
  },
  {
   "cell_type": "code",
   "execution_count": 16,
   "id": "60d538d6-eb46-4a9f-964f-d9516108d421",
   "metadata": {},
   "outputs": [
    {
     "data": {
      "text/plain": [
       "20"
      ]
     },
     "execution_count": 16,
     "metadata": {},
     "output_type": "execute_result"
    }
   ],
   "source": [
    "a,b=(20,30)\n",
    "a"
   ]
  },
  {
   "cell_type": "code",
   "execution_count": 17,
   "id": "aa473ebe-8e90-4f1b-9b30-485cfff1ecd8",
   "metadata": {},
   "outputs": [
    {
     "name": "stdout",
     "output_type": "stream",
     "text": [
      " ramesh age is: 20\n",
      " suresh age is: 22\n",
      " mahesh age is: 24\n"
     ]
    }
   ],
   "source": [
    "for i,j in zip(names,age):\n",
    "    print(f\" {i} age is: {j}\")"
   ]
  },
  {
   "cell_type": "markdown",
   "id": "b71eb1db-c93c-443c-a718-906bb6761e7d",
   "metadata": {},
   "source": [
    "**pair concept**\n",
    "\n",
    "- dictonary is the concept of related pair the items\n",
    "\n",
    "- it is reprasentes the curly braces : { }\n",
    "\n",
    "- two items : key and value\n",
    "\n",
    "- dictonory is called as {key:value}pair"
   ]
  },
  {
   "cell_type": "code",
   "execution_count": 19,
   "id": "886085d8-f165-4001-980f-1ed569b23830",
   "metadata": {},
   "outputs": [
    {
     "data": {
      "text/plain": [
       "{'ramesh': 20, 'suresh': 22, 'mahesh': 24}"
      ]
     },
     "execution_count": 19,
     "metadata": {},
     "output_type": "execute_result"
    }
   ],
   "source": [
    "dict(zip(names,age))"
   ]
  },
  {
   "cell_type": "code",
   "execution_count": 20,
   "id": "03086237-37be-4842-aa36-56c9c4c96680",
   "metadata": {},
   "outputs": [
    {
     "data": {
      "text/plain": [
       "{'ramesh': 20, 'suresh': 22, 'mahesh': 24}"
      ]
     },
     "execution_count": 20,
     "metadata": {},
     "output_type": "execute_result"
    }
   ],
   "source": [
    "d={'ramesh': 20, 'suresh': 22, 'mahesh': 24}\n",
    "d"
   ]
  },
  {
   "cell_type": "code",
   "execution_count": null,
   "id": "e324f81e-f184-45ca-a350-827f14c85f50",
   "metadata": {},
   "outputs": [],
   "source": [
    "# in above key are :ramesh ,suresh , mahesh \n",
    "#       values are :20,22,24"
   ]
  },
  {
   "cell_type": "markdown",
   "id": "c18851b8-6ae7-4a2d-9dd7-bd43c4d3be98",
   "metadata": {},
   "source": [
    "**Initialization.**"
   ]
  },
  {
   "cell_type": "code",
   "execution_count": 22,
   "id": "9fd4a25d-05eb-49d4-9c1a-03eb30ff721f",
   "metadata": {},
   "outputs": [
    {
     "data": {
      "text/plain": [
       "{20: 'ramesh', 22: 'suresh', 24: 'mahesh'}"
      ]
     },
     "execution_count": 22,
     "metadata": {},
     "output_type": "execute_result"
    }
   ],
   "source": [
    "d1={'ramesh': 20, 'suresh': 22, 'mahesh': 24}\n",
    "d2={20:'ramesh', 22:'suresh', 24:'mahesh'}\n",
    "d2"
   ]
  },
  {
   "cell_type": "code",
   "execution_count": null,
   "id": "f047b207-43d9-4f40-b735-ec187b21290b",
   "metadata": {},
   "outputs": [],
   "source": [
    "dict1={'ramesh':20,'suresh':22,'mahesh':24}\n",
    "dict2={20:'ramesh',22:'suresh',24:'mahesh'}\n",
    "dict3={'20':'ramesh','22':'suresh','24':'mahesh'}\n",
    "dict4={20:20,22:22,25:25}\n",
    "dict5={'ramesh':20,'ramesh':22}\n",
    "dict6={'ramesh':20,'ramesh':20}"
   ]
  },
  {
   "cell_type": "code",
   "execution_count": 25,
   "id": "d4c15c9d-a324-4411-a890-83afec720573",
   "metadata": {},
   "outputs": [
    {
     "data": {
      "text/plain": [
       "{'ramesh': 20, 'suresh': 22, 'mahesh': 24}"
      ]
     },
     "execution_count": 25,
     "metadata": {},
     "output_type": "execute_result"
    }
   ],
   "source": [
    "dict1={'ramesh':20,'suresh':22,'mahesh':24}\n",
    "dict1"
   ]
  },
  {
   "cell_type": "code",
   "execution_count": 26,
   "id": "91dbf152-72bd-41b5-9ee2-0063035bc496",
   "metadata": {},
   "outputs": [
    {
     "data": {
      "text/plain": [
       "3"
      ]
     },
     "execution_count": 26,
     "metadata": {},
     "output_type": "execute_result"
    }
   ],
   "source": [
    "len(dict1)"
   ]
  },
  {
   "cell_type": "code",
   "execution_count": 28,
   "id": "d9160e0c-56aa-4395-b41f-553ef0eb58c9",
   "metadata": {},
   "outputs": [
    {
     "data": {
      "text/plain": [
       "'suresh'"
      ]
     },
     "execution_count": 28,
     "metadata": {},
     "output_type": "execute_result"
    }
   ],
   "source": [
    "max(dict1)"
   ]
  },
  {
   "cell_type": "code",
   "execution_count": 30,
   "id": "3e054654-340c-4336-81e5-5494e9e4ae6e",
   "metadata": {},
   "outputs": [
    {
     "data": {
      "text/plain": [
       "('suresh', 114, 115, 109)"
      ]
     },
     "execution_count": 30,
     "metadata": {},
     "output_type": "execute_result"
    }
   ],
   "source": [
    "max(dict1),ord('r'),ord('s'),ord('m')   # all leter are ord is max"
   ]
  },
  {
   "cell_type": "markdown",
   "id": "d22f5cfa-59e7-47aa-b5ea-953b4074cb52",
   "metadata": {},
   "source": [
    "**keys are important**"
   ]
  },
  {
   "cell_type": "code",
   "execution_count": 31,
   "id": "0fed6df2-5e27-4049-998d-a98f257954ec",
   "metadata": {},
   "outputs": [
    {
     "ename": "TypeError",
     "evalue": "unsupported operand type(s) for +: 'int' and 'str'",
     "output_type": "error",
     "traceback": [
      "\u001b[1;31m---------------------------------------------------------------------------\u001b[0m",
      "\u001b[1;31mTypeError\u001b[0m                                 Traceback (most recent call last)",
      "Cell \u001b[1;32mIn[31], line 1\u001b[0m\n\u001b[1;32m----> 1\u001b[0m \u001b[38;5;28msum\u001b[39m(dict1)\n",
      "\u001b[1;31mTypeError\u001b[0m: unsupported operand type(s) for +: 'int' and 'str'"
     ]
    }
   ],
   "source": [
    "sum(dict1)"
   ]
  },
  {
   "cell_type": "code",
   "execution_count": 33,
   "id": "e1fe1c90-7596-4e0c-a9df-6b5b95379bdc",
   "metadata": {},
   "outputs": [
    {
     "ename": "TypeError",
     "evalue": "'builtin_function_or_method' object is not subscriptable",
     "output_type": "error",
     "traceback": [
      "\u001b[1;31m---------------------------------------------------------------------------\u001b[0m",
      "\u001b[1;31mTypeError\u001b[0m                                 Traceback (most recent call last)",
      "Cell \u001b[1;32mIn[33], line 1\u001b[0m\n\u001b[1;32m----> 1\u001b[0m \u001b[38;5;28msum\u001b[39m[\u001b[38;5;124m'\u001b[39m\u001b[38;5;124mr\u001b[39m\u001b[38;5;124m'\u001b[39m,\u001b[38;5;124m'\u001b[39m\u001b[38;5;124mm\u001b[39m\u001b[38;5;124m'\u001b[39m,\u001b[38;5;124m'\u001b[39m\u001b[38;5;124mm\u001b[39m\u001b[38;5;124m'\u001b[39m]\n",
      "\u001b[1;31mTypeError\u001b[0m: 'builtin_function_or_method' object is not subscriptable"
     ]
    }
   ],
   "source": [
    "sum['r','m','m']"
   ]
  },
  {
   "cell_type": "code",
   "execution_count": 34,
   "id": "2a729600-707e-4293-9178-b5c6f0a7d412",
   "metadata": {},
   "outputs": [
    {
     "data": {
      "text/plain": [
       "['mahesh', 'ramesh', 'suresh']"
      ]
     },
     "execution_count": 34,
     "metadata": {},
     "output_type": "execute_result"
    }
   ],
   "source": [
    "sorted(dict1)"
   ]
  },
  {
   "cell_type": "code",
   "execution_count": 36,
   "id": "133ad99e-8e2a-4c53-9d7a-3e6fa0be2c7f",
   "metadata": {},
   "outputs": [
    {
     "data": {
      "text/plain": [
       "['mahesh', 'suresh', 'ramesh']"
      ]
     },
     "execution_count": 36,
     "metadata": {},
     "output_type": "execute_result"
    }
   ],
   "source": [
    "list(reversed(dict1))   # ascci value is depend "
   ]
  },
  {
   "cell_type": "code",
   "execution_count": 40,
   "id": "353fffe2-cbdb-41cb-b753-60c8de08648e",
   "metadata": {},
   "outputs": [
    {
     "name": "stdout",
     "output_type": "stream",
     "text": [
      "20\n",
      "24\n",
      "66\n",
      "[20, 22, 24]\n",
      "[24, 22, 20]\n"
     ]
    }
   ],
   "source": [
    "dict2={20:'ramesh',22:'suresh',24:'mahesh'}\n",
    "print(min(dict2))    \n",
    "print(max(dict2))\n",
    "print(sum(dict2))\n",
    "print(sorted(dict2))\n",
    "print(list(reversed(dict2)))"
   ]
  },
  {
   "cell_type": "code",
   "execution_count": 41,
   "id": "0e908221-042e-4d44-905d-f1749d9dc04a",
   "metadata": {},
   "outputs": [
    {
     "data": {
      "text/plain": [
       "{'20': 'ramesh', '22': 'suresh', '24': 'mahesh'}"
      ]
     },
     "execution_count": 41,
     "metadata": {},
     "output_type": "execute_result"
    }
   ],
   "source": [
    "dict3={'20':'ramesh','22':'suresh','24':'mahesh'}\n",
    "dict3"
   ]
  },
  {
   "cell_type": "code",
   "execution_count": 42,
   "id": "d318f494-c8b7-4aa5-bdf0-4796a56d042c",
   "metadata": {},
   "outputs": [
    {
     "data": {
      "text/plain": [
       "{20: 20, 22: 22, 25: 25}"
      ]
     },
     "execution_count": 42,
     "metadata": {},
     "output_type": "execute_result"
    }
   ],
   "source": [
    "dict4={20:20,22:22,25:25}\n",
    "dict4"
   ]
  },
  {
   "cell_type": "code",
   "execution_count": 46,
   "id": "f249fae6-657a-4481-ab22-ac22182cca60",
   "metadata": {},
   "outputs": [
    {
     "data": {
      "text/plain": [
       "{'Ramesh': 22}"
      ]
     },
     "execution_count": 46,
     "metadata": {},
     "output_type": "execute_result"
    }
   ],
   "source": [
    "dict5={'Ramesh':20,'Ramesh':22}\n",
    "dict5   # latest value are output"
   ]
  },
  {
   "cell_type": "code",
   "execution_count": 48,
   "id": "714fd373-8ac1-4fb8-9e94-e4824f7b55f4",
   "metadata": {},
   "outputs": [
    {
     "data": {
      "text/plain": [
       "{'Ramesh': 20}"
      ]
     },
     "execution_count": 48,
     "metadata": {},
     "output_type": "execute_result"
    }
   ],
   "source": [
    "dict6={'Ramesh':20,'Ramesh':20}\n",
    "dict6   # latest value are output"
   ]
  },
  {
   "cell_type": "code",
   "execution_count": 50,
   "id": "8bbbdca9-6ea1-4748-9e9e-77a25dd147ff",
   "metadata": {},
   "outputs": [
    {
     "data": {
      "text/plain": [
       "{'Ramesh': 20, 'Suresh': 20}"
      ]
     },
     "execution_count": 50,
     "metadata": {},
     "output_type": "execute_result"
    }
   ],
   "source": [
    "dict7={'Ramesh':20,'Suresh':20}\n",
    "dict7"
   ]
  },
  {
   "cell_type": "code",
   "execution_count": null,
   "id": "98aa28dc-5e07-4fd0-901d-6c6bdb32223c",
   "metadata": {},
   "outputs": [],
   "source": [
    "dict5={'Ramesh':20,'Ramesh':22}  \n",
    "dict6={'Ramesh':20,'Ramesh':20}\n",
    "dict7={'Ramesh':20,'Suresh':20}"
   ]
  },
  {
   "cell_type": "code",
   "execution_count": 51,
   "id": "731f126d-b668-4566-be3a-38b2f9a694c7",
   "metadata": {},
   "outputs": [
    {
     "data": {
      "text/plain": [
       "{'Names': ['rames', 'suresh', 'mahesh']}"
      ]
     },
     "execution_count": 51,
     "metadata": {},
     "output_type": "execute_result"
    }
   ],
   "source": [
    "dict9={'Names':(['rames','suresh','mahesh'])}\n",
    "dict9"
   ]
  },
  {
   "cell_type": "code",
   "execution_count": 52,
   "id": "427d788f-e5dc-47e6-885c-d4d49b24f3ee",
   "metadata": {},
   "outputs": [
    {
     "ename": "TypeError",
     "evalue": "unhashable type: 'list'",
     "output_type": "error",
     "traceback": [
      "\u001b[1;31m---------------------------------------------------------------------------\u001b[0m",
      "\u001b[1;31mTypeError\u001b[0m                                 Traceback (most recent call last)",
      "Cell \u001b[1;32mIn[52], line 1\u001b[0m\n\u001b[1;32m----> 1\u001b[0m dict10\u001b[38;5;241m=\u001b[39m{([\u001b[38;5;124m'\u001b[39m\u001b[38;5;124mrames\u001b[39m\u001b[38;5;124m'\u001b[39m,\u001b[38;5;124m'\u001b[39m\u001b[38;5;124msuresh\u001b[39m\u001b[38;5;124m'\u001b[39m,\u001b[38;5;124m'\u001b[39m\u001b[38;5;124mmahesh\u001b[39m\u001b[38;5;124m'\u001b[39m]):\u001b[38;5;124m'\u001b[39m\u001b[38;5;124mNames\u001b[39m\u001b[38;5;124m'\u001b[39m}\n\u001b[0;32m      2\u001b[0m dict10\n",
      "\u001b[1;31mTypeError\u001b[0m: unhashable type: 'list'"
     ]
    }
   ],
   "source": [
    "dict10={(['rames','suresh','mahesh']):'Names'}\n",
    "dict10 \n",
    "\n",
    "# list are mutable"
   ]
  },
  {
   "cell_type": "code",
   "execution_count": 53,
   "id": "930c00a5-9f0c-4c71-a312-fb57e8ae0d00",
   "metadata": {},
   "outputs": [
    {
     "data": {
      "text/plain": [
       "{('rames', 'suresh', 'mahesh'): 'Names'}"
      ]
     },
     "execution_count": 53,
     "metadata": {},
     "output_type": "execute_result"
    }
   ],
   "source": [
    "dict11={('rames','suresh','mahesh'):'Names'}\n",
    "dict11"
   ]
  },
  {
   "cell_type": "code",
   "execution_count": 55,
   "id": "dc782e5a-3319-4067-b163-6a97c6138ec9",
   "metadata": {
    "scrolled": true
   },
   "outputs": [
    {
     "ename": "TypeError",
     "evalue": "unhashable type: 'dict'",
     "output_type": "error",
     "traceback": [
      "\u001b[1;31m---------------------------------------------------------------------------\u001b[0m",
      "\u001b[1;31mTypeError\u001b[0m                                 Traceback (most recent call last)",
      "Cell \u001b[1;32mIn[55], line 1\u001b[0m\n\u001b[1;32m----> 1\u001b[0m dict12\u001b[38;5;241m=\u001b[39m{{\u001b[38;5;124m'\u001b[39m\u001b[38;5;124mRamesh\u001b[39m\u001b[38;5;124m'\u001b[39m:\u001b[38;5;241m20\u001b[39m}:\u001b[38;5;241m22\u001b[39m}\n\u001b[0;32m      2\u001b[0m dict12\n",
      "\u001b[1;31mTypeError\u001b[0m: unhashable type: 'dict'"
     ]
    }
   ],
   "source": [
    "dict12={{'Ramesh':20}:22}\n",
    "dict12"
   ]
  },
  {
   "cell_type": "markdown",
   "id": "2b6e1fff-5d30-4f32-8c73-3a0d84943015",
   "metadata": {},
   "source": [
    "**Dictionory are mutable**"
   ]
  },
  {
   "cell_type": "code",
   "execution_count": null,
   "id": "5c8df964-a94e-42fb-8a68-0edeaa2dca39",
   "metadata": {},
   "outputs": [],
   "source": [
    "{<list>:<values>} #fail mutable\n",
    "{<tuple>:<values>}  # works immuntable\n",
    "{<dict>:<values>}   # fail mutabel\n",
    "Fast data understand the past data when new data\n",
    ", when new data comes, it will predict the. When predict the answer\n"
   ]
  },
  {
   "cell_type": "markdown",
   "id": "1389fc9e-0adf-4786-acbe-f555a63fbe28",
   "metadata": {},
   "source": [
    "**Concatenation.**"
   ]
  },
  {
   "cell_type": "code",
   "execution_count": 56,
   "id": "a42cae71-e729-45eb-864f-1bed4703395b",
   "metadata": {},
   "outputs": [
    {
     "ename": "TypeError",
     "evalue": "unsupported operand type(s) for +: 'dict' and 'dict'",
     "output_type": "error",
     "traceback": [
      "\u001b[1;31m---------------------------------------------------------------------------\u001b[0m",
      "\u001b[1;31mTypeError\u001b[0m                                 Traceback (most recent call last)",
      "Cell \u001b[1;32mIn[56], line 3\u001b[0m\n\u001b[0;32m      1\u001b[0m dict1\u001b[38;5;241m=\u001b[39m{\u001b[38;5;124m'\u001b[39m\u001b[38;5;124mramesh\u001b[39m\u001b[38;5;124m'\u001b[39m:\u001b[38;5;241m20\u001b[39m,\u001b[38;5;124m'\u001b[39m\u001b[38;5;124msuresh\u001b[39m\u001b[38;5;124m'\u001b[39m:\u001b[38;5;241m22\u001b[39m,\u001b[38;5;124m'\u001b[39m\u001b[38;5;124mmahesh\u001b[39m\u001b[38;5;124m'\u001b[39m:\u001b[38;5;241m24\u001b[39m}\n\u001b[0;32m      2\u001b[0m dict2\u001b[38;5;241m=\u001b[39m{\u001b[38;5;241m20\u001b[39m:\u001b[38;5;124m'\u001b[39m\u001b[38;5;124mramesh\u001b[39m\u001b[38;5;124m'\u001b[39m,\u001b[38;5;241m22\u001b[39m:\u001b[38;5;124m'\u001b[39m\u001b[38;5;124msuresh\u001b[39m\u001b[38;5;124m'\u001b[39m,\u001b[38;5;241m24\u001b[39m:\u001b[38;5;124m'\u001b[39m\u001b[38;5;124mmahesh\u001b[39m\u001b[38;5;124m'\u001b[39m}\n\u001b[1;32m----> 3\u001b[0m dict1\u001b[38;5;241m+\u001b[39mdict2\n",
      "\u001b[1;31mTypeError\u001b[0m: unsupported operand type(s) for +: 'dict' and 'dict'"
     ]
    }
   ],
   "source": [
    "dict1={'ramesh':20,'suresh':22,'mahesh':24}\n",
    "dict2={20:'ramesh',22:'suresh',24:'mahesh'}\n",
    "dict1+dict2"
   ]
  },
  {
   "cell_type": "code",
   "execution_count": 57,
   "id": "c3de24c8-c9c9-4b6b-8621-1a7db880c7b8",
   "metadata": {},
   "outputs": [
    {
     "data": {
      "text/plain": [
       "True"
      ]
     },
     "execution_count": 57,
     "metadata": {},
     "output_type": "execute_result"
    }
   ],
   "source": [
    "dict1={'ramesh':20,'suresh':22,'mahesh':24}\n",
    "'ramesh' in dict1\n",
    "'suresh' in dict1\n",
    "'mahesh' in dict1"
   ]
  },
  {
   "cell_type": "code",
   "execution_count": 58,
   "id": "40c47d15-7a6b-4b81-bef2-b67c5c88e12d",
   "metadata": {},
   "outputs": [
    {
     "data": {
      "text/plain": [
       "True"
      ]
     },
     "execution_count": 58,
     "metadata": {},
     "output_type": "execute_result"
    }
   ],
   "source": [
    "'ramesh' in ['ramesh' ,'suresh','mahesh']"
   ]
  },
  {
   "cell_type": "code",
   "execution_count": 59,
   "id": "db46a5ac-6c8a-4b46-94b4-9da090cb7e37",
   "metadata": {},
   "outputs": [
    {
     "name": "stdout",
     "output_type": "stream",
     "text": [
      "ramesh\n",
      "suresh\n",
      "mahesh\n"
     ]
    }
   ],
   "source": [
    "for i in dict1:\n",
    "    print(i)"
   ]
  },
  {
   "cell_type": "markdown",
   "id": "c3a07e11-e2e7-4c33-9e5a-7342a5f9fffb",
   "metadata": {},
   "source": [
    "**Index**"
   ]
  },
  {
   "cell_type": "code",
   "execution_count": 62,
   "id": "c990c2c6-e087-4be8-8a72-e0af7d993784",
   "metadata": {},
   "outputs": [
    {
     "ename": "KeyError",
     "evalue": "0",
     "output_type": "error",
     "traceback": [
      "\u001b[1;31m---------------------------------------------------------------------------\u001b[0m",
      "\u001b[1;31mKeyError\u001b[0m                                  Traceback (most recent call last)",
      "Cell \u001b[1;32mIn[62], line 2\u001b[0m\n\u001b[0;32m      1\u001b[0m dict1\u001b[38;5;241m=\u001b[39m{\u001b[38;5;124m'\u001b[39m\u001b[38;5;124mramesh\u001b[39m\u001b[38;5;124m'\u001b[39m:\u001b[38;5;241m20\u001b[39m,\u001b[38;5;124m'\u001b[39m\u001b[38;5;124msuresh\u001b[39m\u001b[38;5;124m'\u001b[39m:\u001b[38;5;241m22\u001b[39m,\u001b[38;5;124m'\u001b[39m\u001b[38;5;124mmahesh\u001b[39m\u001b[38;5;124m'\u001b[39m:\u001b[38;5;241m24\u001b[39m}\n\u001b[1;32m----> 2\u001b[0m dict1[\u001b[38;5;241m0\u001b[39m]\n",
      "\u001b[1;31mKeyError\u001b[0m: 0"
     ]
    }
   ],
   "source": [
    "dict1={'ramesh':20,'suresh':22,'mahesh':24}\n",
    "dict1[0]\n"
   ]
  },
  {
   "cell_type": "code",
   "execution_count": 65,
   "id": "7dad31d7-7f37-45d6-a7b1-1509cd65ca21",
   "metadata": {},
   "outputs": [
    {
     "data": {
      "text/plain": [
       "20"
      ]
     },
     "execution_count": 65,
     "metadata": {},
     "output_type": "execute_result"
    }
   ],
   "source": [
    "dict1={'ramesh':20,'suresh':22,'mahesh':24}\n",
    "dict1['ramesh']   \n",
    "# dict1[key] then value will come"
   ]
  },
  {
   "cell_type": "markdown",
   "id": "dc16265e-86a8-4f69-879d-5e891ee03980",
   "metadata": {},
   "source": [
    "**mutable-immutable**"
   ]
  },
  {
   "cell_type": "markdown",
   "id": "d001ab15-0242-409e-8d1b-66053fb1d925",
   "metadata": {},
   "source": [
    "- we need to change the value of a specific key  then it is concider as a mutable"
   ]
  },
  {
   "cell_type": "code",
   "execution_count": 2,
   "id": "572619af-782c-4770-b5f0-17c952f155c5",
   "metadata": {},
   "outputs": [
    {
     "data": {
      "text/plain": [
       "{'Ramesh': 22}"
      ]
     },
     "execution_count": 2,
     "metadata": {},
     "output_type": "execute_result"
    }
   ],
   "source": [
    "{'Ramesh':20,'Ramesh':22}"
   ]
  },
  {
   "cell_type": "code",
   "execution_count": 3,
   "id": "52f779ac-3b10-4bbe-b64e-138f1e5e59f7",
   "metadata": {},
   "outputs": [
    {
     "data": {
      "text/plain": [
       "{'ramesh': 20, 'suresh': 22, 'mahesh': 30}"
      ]
     },
     "execution_count": 3,
     "metadata": {},
     "output_type": "execute_result"
    }
   ],
   "source": [
    "dict1={'ramesh':20,'suresh':22,'mahesh':24}\n",
    "dict1['mahesh']=30\n",
    "dict1\n"
   ]
  },
  {
   "cell_type": "code",
   "execution_count": 4,
   "id": "e9adf981-58e7-4cd5-b65c-068e8bb05fbf",
   "metadata": {},
   "outputs": [
    {
     "ename": "KeyError",
     "evalue": "slice(0, 2, None)",
     "output_type": "error",
     "traceback": [
      "\u001b[1;31m---------------------------------------------------------------------------\u001b[0m",
      "\u001b[1;31mKeyError\u001b[0m                                  Traceback (most recent call last)",
      "Cell \u001b[1;32mIn[4], line 1\u001b[0m\n\u001b[1;32m----> 1\u001b[0m dict1[\u001b[38;5;241m0\u001b[39m:\u001b[38;5;241m2\u001b[39m]\n",
      "\u001b[1;31mKeyError\u001b[0m: slice(0, 2, None)"
     ]
    }
   ],
   "source": [
    "dict1[0:2]"
   ]
  },
  {
   "cell_type": "markdown",
   "id": "e46eab42-dbb1-4e72-8cea-49f4722051dd",
   "metadata": {},
   "source": [
    "**slice is not possible becouse in dict onlt key value concept**"
   ]
  },
  {
   "cell_type": "code",
   "execution_count": 5,
   "id": "725a6bd8-d6f7-4b6a-adf3-fae1b0e4633a",
   "metadata": {},
   "outputs": [
    {
     "data": {
      "text/plain": [
       "'apple'"
      ]
     },
     "execution_count": 5,
     "metadata": {},
     "output_type": "execute_result"
    }
   ],
   "source": [
    "dict1={'fruits':'apple'}\n",
    "dict1['fruits']"
   ]
  },
  {
   "cell_type": "code",
   "execution_count": 7,
   "id": "15f21d0f-b049-4558-a19d-1fe30122efab",
   "metadata": {},
   "outputs": [
    {
     "data": {
      "text/plain": [
       "'cherry'"
      ]
     },
     "execution_count": 7,
     "metadata": {},
     "output_type": "execute_result"
    }
   ],
   "source": [
    "dict1={'fruites':['apple','cherry']}\n",
    " # key:fruites value :[apple]\n",
    "dict1['fruites'][1]"
   ]
  },
  {
   "cell_type": "code",
   "execution_count": 8,
   "id": "56e61e30-3a24-4d5a-9873-a4d948675018",
   "metadata": {},
   "outputs": [
    {
     "data": {
      "text/plain": [
       "'apple'"
      ]
     },
     "execution_count": 8,
     "metadata": {},
     "output_type": "execute_result"
    }
   ],
   "source": [
    "dict1={'fruites':['apple','cherry']}\n",
    " # key:fruites value :[apple]\n",
    "dict1['fruites'][0]"
   ]
  },
  {
   "cell_type": "code",
   "execution_count": 18,
   "id": "691194d0-42a2-478c-985e-d824d16f0011",
   "metadata": {},
   "outputs": [
    {
     "data": {
      "text/plain": [
       "'banana'"
      ]
     },
     "execution_count": 18,
     "metadata": {},
     "output_type": "execute_result"
    }
   ],
   "source": [
    "dict1={'fruites':['apple','cherry','banana'],\n",
    "      'cost':[20,5,2]}\n",
    "# which are the lower cost item in the list\n",
    "# step1:- extract the cost list \n",
    "# step2:- apply min(list)\n",
    "# step3:- extract the index using list.index(min):id=2\n",
    "# step4:- extract the fruites list\n",
    "# step5:- apply that id\n",
    "\n",
    "l=dict1['cost']\n",
    "MIN=min(l)\n",
    "ID=l.index(MIN)\n",
    "dict1['fruites'][ID]"
   ]
  },
  {
   "cell_type": "code",
   "execution_count": 21,
   "id": "ec2a7438-3404-4bb1-891b-3fb3a914063d",
   "metadata": {},
   "outputs": [
    {
     "data": {
      "text/plain": [
       "'cherry'"
      ]
     },
     "execution_count": 21,
     "metadata": {},
     "output_type": "execute_result"
    }
   ],
   "source": [
    "d={'fruites':[{'items':['apple','cherry']}]}\n",
    "d\n",
    "# i want the cherry\n",
    "d['fruites'][0]['items'][1]"
   ]
  },
  {
   "cell_type": "code",
   "execution_count": 26,
   "id": "be800a40-717c-43f0-97b6-b7e38667a305",
   "metadata": {},
   "outputs": [
    {
     "data": {
      "text/plain": [
       "'apple'"
      ]
     },
     "execution_count": 26,
     "metadata": {},
     "output_type": "execute_result"
    }
   ],
   "source": [
    "d={'fruites':{'items':'apple'}}\n",
    "# i want the cherry\n",
    "d['fruites']['items']"
   ]
  },
  {
   "cell_type": "markdown",
   "id": "7c55df3b-9228-40a4-9fc4-224bcb653815",
   "metadata": {},
   "source": [
    "**methods**"
   ]
  },
  {
   "cell_type": "raw",
   "id": "8c93a9b2-5922-4899-bae1-c57507178dec",
   "metadata": {},
   "source": []
  },
  {
   "cell_type": "code",
   "execution_count": 2,
   "id": "2027078c-04bd-4345-a816-f70a71c073af",
   "metadata": {},
   "outputs": [
    {
     "data": {
      "text/plain": [
       "['__class__',\n",
       " '__class_getitem__',\n",
       " '__contains__',\n",
       " '__delattr__',\n",
       " '__delitem__',\n",
       " '__dir__',\n",
       " '__doc__',\n",
       " '__eq__',\n",
       " '__format__',\n",
       " '__ge__',\n",
       " '__getattribute__',\n",
       " '__getitem__',\n",
       " '__getstate__',\n",
       " '__gt__',\n",
       " '__hash__',\n",
       " '__init__',\n",
       " '__init_subclass__',\n",
       " '__ior__',\n",
       " '__iter__',\n",
       " '__le__',\n",
       " '__len__',\n",
       " '__lt__',\n",
       " '__ne__',\n",
       " '__new__',\n",
       " '__or__',\n",
       " '__reduce__',\n",
       " '__reduce_ex__',\n",
       " '__repr__',\n",
       " '__reversed__',\n",
       " '__ror__',\n",
       " '__setattr__',\n",
       " '__setitem__',\n",
       " '__sizeof__',\n",
       " '__str__',\n",
       " '__subclasshook__',\n",
       " 'clear',\n",
       " 'copy',\n",
       " 'fromkeys',\n",
       " 'get',\n",
       " 'items',\n",
       " 'keys',\n",
       " 'pop',\n",
       " 'popitem',\n",
       " 'setdefault',\n",
       " 'update',\n",
       " 'values']"
      ]
     },
     "execution_count": 2,
     "metadata": {},
     "output_type": "execute_result"
    }
   ],
   "source": [
    "dir(dict)"
   ]
  },
  {
   "cell_type": "code",
   "execution_count": null,
   "id": "db909708-a58f-4a5a-b3c1-87d33a05836d",
   "metadata": {},
   "outputs": [],
   "source": []
  }
 ],
 "metadata": {
  "kernelspec": {
   "display_name": "Python [conda env:base] *",
   "language": "python",
   "name": "conda-base-py"
  },
  "language_info": {
   "codemirror_mode": {
    "name": "ipython",
    "version": 3
   },
   "file_extension": ".py",
   "mimetype": "text/x-python",
   "name": "python",
   "nbconvert_exporter": "python",
   "pygments_lexer": "ipython3",
   "version": "3.13.5"
  }
 },
 "nbformat": 4,
 "nbformat_minor": 5
}
