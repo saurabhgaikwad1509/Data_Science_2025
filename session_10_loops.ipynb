{
 "cells": [
  {
   "cell_type": "markdown",
   "id": "3a0316ad-05b0-4cac-b07a-f50b0ed63aaf",
   "metadata": {},
   "source": [
    "**Loops**\n",
    "\n",
    "-  lop are use to repeat of block of code multiple times\n",
    "\n",
    "-  funcntion means reuse of code \n",
    "\n",
    "-  when ever  you think about how many times then think about loops "
   ]
  },
  {
   "cell_type": "markdown",
   "id": "49baf7fc-d157-4956-81c7-119c1ffca4af",
   "metadata": {},
   "source": [
    "**for loop**"
   ]
  },
  {
   "cell_type": "markdown",
   "id": "8a360040-c9f2-4de0-ad21-93e6c0d59962",
   "metadata": {},
   "source": [
    "**case-1 range(stop)**\n",
    "\n",
    "-  range(3)\n",
    "\n",
    "- start==0\n",
    "\n",
    "- increament by 1\n",
    "\n",
    "- last==stop-1 = 3-1= 2\n",
    "\n",
    "- 0 1 2"
   ]
  },
  {
   "cell_type": "code",
   "execution_count": null,
   "id": "1a903804-4055-4c7f-87d1-e0972a3f622b",
   "metadata": {},
   "outputs": [],
   "source": [
    "# syntax \n",
    "for i in range(3):\n",
    "    #write your line \n",
    "    print(i)\n",
    "\n",
    "# i=0 print(0)\n",
    "# i=1 print(1)\n",
    "# i=2 print(2) "
   ]
  },
  {
   "cell_type": "code",
   "execution_count": null,
   "id": "0f27bcd8-585a-4f76-af80-4a81162ee5e0",
   "metadata": {},
   "outputs": [],
   "source": [
    "for i in  range(3):\n",
    "    print('hello')"
   ]
  },
  {
   "cell_type": "code",
   "execution_count": null,
   "id": "231ba3d6-a7a3-472a-9e52-630ebb050e96",
   "metadata": {},
   "outputs": [],
   "source": [
    "# Q) wap ask the user take a number print sqare of the number \n",
    "# ask the reapet  the task of 3 times \n",
    "\n",
    "# step -1 num=eval()\n",
    "# step -2 (num*num)\n",
    "\n",
    "# \n",
    "\n",
    "for num in range(5):\n",
    "    num=eval(input('enter the number'))\n",
    "    print(num*num)\n",
    "    print(f\"the square root of {num} is {num*num}\")"
   ]
  },
  {
   "cell_type": "code",
   "execution_count": null,
   "id": "3c90a466-d695-43ad-b6a4-63b0bade54ff",
   "metadata": {},
   "outputs": [],
   "source": [
    "# Q2) print the 7th table\n",
    "for i in range(0,11):\n",
    "    print(i*7)"
   ]
  },
  {
   "cell_type": "code",
   "execution_count": null,
   "id": "6904a121-89bc-4325-9b91-4535fd2bdde7",
   "metadata": {},
   "outputs": [],
   "source": [
    "for i in  range(11):\n",
    "    print(f'7x{i}={7*i}')"
   ]
  },
  {
   "cell_type": "markdown",
   "id": "97f7f167-f7c3-4880-9401-9cdeeb677da3",
   "metadata": {},
   "source": [
    "**case -2 :range(start,stop)**\n",
    "\n",
    "- range(10,20)\n",
    "\n",
    "- start=stop=10\n",
    "\n",
    "- increment by 1\n",
    "\n",
    "- last stop-=15-1=14\n",
    "\n",
    "- 10,11,12,13,14"
   ]
  },
  {
   "cell_type": "code",
   "execution_count": null,
   "id": "78482d88-49b9-44d3-81fe-2893e751c5e2",
   "metadata": {},
   "outputs": [],
   "source": [
    "print(\"hello\",end='----->')\n",
    "print(\"hi\",end='****')\n",
    "print('hey')"
   ]
  },
  {
   "cell_type": "code",
   "execution_count": null,
   "id": "11a1cb99-03ca-4888-9a4c-8a2f8c8e897b",
   "metadata": {},
   "outputs": [],
   "source": [
    "for i in range(10,20):\n",
    "    print(i,end=' ')   # end is used of the space in output "
   ]
  },
  {
   "cell_type": "code",
   "execution_count": null,
   "id": "e411be0c-a533-4d67-8dba-0827d9e2211b",
   "metadata": {},
   "outputs": [],
   "source": [
    "# q)ask the user enter the number print even and odd \n",
    "#    repeat the task 5 times \n",
    "\n",
    "# q) ask the user get the randon number between 1 to 100 print even and odd \n",
    "# repeat the task 5 times \n",
    "\n",
    "# case 1 an dcase 2 \n",
    "\n",
    "\n",
    "for even in range(5):\n",
    "    num=eval(input(\"enter teh value\"))\n",
    "    if num%2==0:\n",
    "        print(\"even\")\n",
    "    else:\n",
    "        print(\"odd\")\n",
    "\n"
   ]
  },
  {
   "cell_type": "code",
   "execution_count": null,
   "id": "64c4cd0e-2776-4273-ab8e-3d9d445c4b30",
   "metadata": {},
   "outputs": [],
   "source": [
    "import random\n",
    "for num in range(5):\n",
    "    random.randint(1,100)\n",
    "    if num%2==0:\n",
    "        print(\"even\",num)\n",
    "    else:\n",
    "        print(\"odd\",num)\n",
    "\n",
    "\n"
   ]
  },
  {
   "cell_type": "code",
   "execution_count": null,
   "id": "ae2a9d59-1ee2-4fab-bbd9-7690b49fe509",
   "metadata": {},
   "outputs": [],
   "source": [
    "for i in range (5):\n",
    "    num=eval(input('enter the number'))\n",
    "    if num%2==0:\n",
    "        print(\"even\")\n",
    "    else:\n",
    "        print(\"odd\")"
   ]
  },
  {
   "cell_type": "code",
   "execution_count": null,
   "id": "8d72a3ae-8044-4cd5-b1b7-6fd8787d3c8c",
   "metadata": {},
   "outputs": [],
   "source": [
    "case 1- range(stop) = range(5)\n",
    "case 2- range(start,stop) = range(5,10)\n"
   ]
  },
  {
   "cell_type": "markdown",
   "id": "5443ccf5-6bc5-4452-ba09-c8e68d353016",
   "metadata": {},
   "source": [
    "**case 3:range(start ,stop,step)**\n",
    "\n",
    "- step : positive value or negative value\n",
    "\n",
    "    - range(1,20,2) step=2  positive increment \n",
    "    - range(1,20,-2) step=-2 nigative decremnet \n",
    "\n",
    "-start = start \n",
    "\n",
    "- if we  have positive step \n",
    "\n",
    "    - last=stop-1\n",
    "\n",
    "- if we  have negative step \n",
    "\n",
    "    - last stop=step+1\n",
    "\n",
    "range(1,22,2)\n",
    "start=1    step=2   last =11-1=10\n"
   ]
  },
  {
   "cell_type": "code",
   "execution_count": null,
   "id": "685b98dd-b8b7-4b72-b838-42ceac8e33ce",
   "metadata": {},
   "outputs": [],
   "source": [
    "for i in range (2,20,3):\n",
    "    print(i,end=' ')\n",
    "# start=2 step=3 last="
   ]
  },
  {
   "cell_type": "code",
   "execution_count": null,
   "id": "8785eb15-80df-4afe-970a-e25399f00b91",
   "metadata": {},
   "outputs": [],
   "source": [
    "for i in range (2,-20,-3):\n",
    "    print(i,end=' ')"
   ]
  },
  {
   "cell_type": "code",
   "execution_count": null,
   "id": "f26d9ac5-0eca-40bd-8b05-2665ca3fb2ff",
   "metadata": {},
   "outputs": [],
   "source": [
    "for i in range (20,2,-3):\n",
    "    print(i,end=' ')\n",
    "\n",
    "# start=20   step=-3   last=stop+1 2+1=3"
   ]
  },
  {
   "cell_type": "code",
   "execution_count": null,
   "id": "4e2329c7-3fc4-40c5-a7b0-a96d7178f89e",
   "metadata": {},
   "outputs": [],
   "source": [
    "for i in range (-20,2,-3):\n",
    "    print(i,end=' ')\n",
    "# start=-20   step=-3  last=stop+1 "
   ]
  },
  {
   "cell_type": "code",
   "execution_count": null,
   "id": "55ff1d24-3804-4c0b-ac5e-30b04a0adf4b",
   "metadata": {},
   "outputs": [],
   "source": [
    "num=75\n",
    "print(f'divisor fo number are {num}')\n",
    "for i in range(1,num+1):\n",
    "    if num%i==0:\n",
    "        print('i')"
   ]
  },
  {
   "cell_type": "code",
   "execution_count": null,
   "id": "62038804-45a2-4513-a83e-821ca6caabdc",
   "metadata": {},
   "outputs": [],
   "source": [
    "num=eval(input('which divisor user wants'))\n",
    "for i in range(1,num+1):\n",
    "    if num%i==0:\n",
    "        print(f\" {i} is a divisor of {num}\")"
   ]
  },
  {
   "cell_type": "code",
   "execution_count": null,
   "id": "a0158894-8494-4b77-8a72-d26cf76bf79b",
   "metadata": {},
   "outputs": [],
   "source": [
    "# wsp ask the user enter a number \n",
    "# ask the user get random number\n",
    "# if both are equle print won \n",
    "# other wise print lost \n",
    "# give threee chanses fo\n",
    "import random\n",
    "for i in range(1,4):\n",
    "    random_num=random.randint(1,100)\n",
    "    user_num=eval(input('enter the number 1-10'))\n",
    "    if random_num==user_num:\n",
    "        print('won')\n",
    "    else:\n",
    "        print('lost')"
   ]
  },
  {
   "cell_type": "markdown",
   "id": "e931c246-33b8-47ce-ba16-cda2f1816d3a",
   "metadata": {},
   "source": [
    "**Sum and counter**"
   ]
  },
  {
   "cell_type": "code",
   "execution_count": null,
   "id": "560aa17c-32ff-4a52-ae9e-f9a9b610d553",
   "metadata": {},
   "outputs": [],
   "source": [
    "Sum=0\n",
    "for i in range(1,11):\n",
    "    print(i)\n",
    "    Sum=Sum+i\n",
    "print(f'the sum of all num :{Sum}')\n"
   ]
  },
  {
   "cell_type": "code",
   "execution_count": null,
   "id": "7e7b5799-2341-4349-8f9a-e6136c517c49",
   "metadata": {},
   "outputs": [],
   "source": [
    "\n",
    "num=75\n",
    "for i in range(1,num+1):\n",
    "    if num%i==0:\n",
    "        sum=i+i\n",
    "        print(f'sum:{sum}')\n"
   ]
  },
  {
   "cell_type": "code",
   "execution_count": null,
   "id": "a42fab15-d2bf-462f-bcfa-f855c9484048",
   "metadata": {},
   "outputs": [],
   "source": [
    "Summ=0\n",
    "num=eval(input('which divisor user wants'))\n",
    "for i in range(1,num+1):\n",
    "    if num%i==0:\n",
    "        print(f\" {i} is a divisor of {num}\")\n",
    "        Summ=Sum+i"
   ]
  },
  {
   "cell_type": "code",
   "execution_count": null,
   "id": "3de930f2-c7e3-47c9-949d-382849b94518",
   "metadata": {},
   "outputs": [],
   "source": [
    "# wap to get a user to a random number 1 to 100\n",
    "# find even or odd\n",
    "# get the sum of even or odd \n",
    "# get 5 random number (for 5 time)\n",
    "# even_sum=0\n",
    "# odd_sum=0\n",
    "even_sum=0\n",
    "odd_sum=0\n",
    "for i in range(5):\n",
    "    num=random.randint(1,100)\n",
    "    if num%2==0:\n",
    "        print(f'{num} is an even')\n",
    "        even_sum=even_sum+num\n",
    "    else:\n",
    "        print(f'{num} is an odd')\n",
    "        odd_sum+=num     # odd_sum=odd_sum+num\n",
    "print('sum of even number:',even_sum)\n",
    "print('sum of odd number:',odd_sum)"
   ]
  },
  {
   "cell_type": "markdown",
   "id": "6cae04d7-46ce-4584-8eb9-0eca4aa26828",
   "metadata": {},
   "source": [
    "**Counter program**\n",
    "\n",
    "- summestion program when succes it will add the number\n",
    "\n",
    "    - sum=0 then sum = sum+i or sum=sum+num base on condition \n",
    "\n",
    "\n",
    "- Count=0 Count=Count+1"
   ]
  },
  {
   "cell_type": "code",
   "execution_count": null,
   "id": "3a0e3d08-fef1-4711-b724-3d2de3bb0842",
   "metadata": {},
   "outputs": [],
   "source": [
    "even_sum,odd_sum=0,0\n",
    "even_count,odd_count=0,0\n",
    "for i in range(5):\n",
    "    import random\n",
    "    num=random.randint(1,100)\n",
    "    if num%2==0:\n",
    "        print(f'{num} is an even')\n",
    "        even_sum=even_sum+num\n",
    "    else:\n",
    "        print(f'{num} is an odd')\n",
    "        odd_sum+=num"
   ]
  },
  {
   "cell_type": "markdown",
   "id": "22c5e728-9a50-4539-b6d5-c1bd998d1a34",
   "metadata": {},
   "source": [
    "**in opreator**"
   ]
  },
  {
   "cell_type": "code",
   "execution_count": null,
   "id": "b6c111cc-eb15-4017-9a68-973492b14624",
   "metadata": {},
   "outputs": [],
   "source": [
    "'p' in 'python'\n",
    "'y' in 'python'\n",
    "'t' in 'python'\n",
    "'h' in 'python'\n",
    "'o' in 'python'\n",
    "'n' in 'python'"
   ]
  },
  {
   "cell_type": "code",
   "execution_count": null,
   "id": "0f23cae0-72dd-40f1-8da3-8e16fed30993",
   "metadata": {},
   "outputs": [],
   "source": [
    "for i in 'Python':\n",
    "    print(i)"
   ]
  },
  {
   "cell_type": "code",
   "execution_count": null,
   "id": "fea9781f-0c9c-4871-ac97-5c1b720489e9",
   "metadata": {},
   "outputs": [],
   "source": [
    "for i in 'Python':\n",
    "    print(i,end=' ')"
   ]
  },
  {
   "cell_type": "code",
   "execution_count": null,
   "id": "e233523e-47a1-4104-9d53-7ecbd58ee992",
   "metadata": {},
   "outputs": [],
   "source": [
    "name='python'\n",
    "for i in name:\n",
    "    print(i,end=' ')"
   ]
  },
  {
   "cell_type": "code",
   "execution_count": null,
   "id": "a8327702-12ec-4666-8578-6167687a620d",
   "metadata": {},
   "outputs": [],
   "source": [
    "'p'>'p'"
   ]
  },
  {
   "cell_type": "markdown",
   "id": "4ae3f7e7-8359-452c-a0ce-43bb5b9bb016",
   "metadata": {},
   "source": [
    "**ASCII**\n",
    "- Americun staderd code for international interchage \n"
   ]
  },
  {
   "cell_type": "code",
   "execution_count": null,
   "id": "96ad428b-f7f8-44e9-8473-5ec5a6029e3b",
   "metadata": {},
   "outputs": [],
   "source": [
    "ord('A')"
   ]
  },
  {
   "cell_type": "code",
   "execution_count": null,
   "id": "6be18d90-f937-4554-99ca-8cdc0fccdebd",
   "metadata": {},
   "outputs": [],
   "source": [
    "ord('p'),ord('p'),'p'>'p' "
   ]
  },
  {
   "cell_type": "code",
   "execution_count": null,
   "id": "1e45f318-d9df-4992-9942-d0818c21b8bb",
   "metadata": {},
   "outputs": [],
   "source": [
    "chr(112)"
   ]
  },
  {
   "cell_type": "code",
   "execution_count": null,
   "id": "4e2610b5-7609-498d-b435-9b561821328c",
   "metadata": {},
   "outputs": [],
   "source": [
    "for i in range(1):\n",
    "    import random\n",
    "    num=random.randint(1,100)\n",
    "    if num%2==0:\n",
    "        print(f'{num} is an even')\n",
    "        print(f'{num} / 2 = {num} even number')\n",
    "    else:\n",
    "        print(f'{num} is odd')\n",
    "        print(f'{num} not divided by 2 so = {num} odd number')\n",
    "    "
   ]
  },
  {
   "cell_type": "code",
   "execution_count": null,
   "id": "bc0eb853-0c89-4b46-aa9d-3030fce82b43",
   "metadata": {},
   "outputs": [],
   "source": [
    "import random\n",
    "for i in range(2):\n",
    "    system=random.randint(1,100)\n",
    "    user=eval(input('enter the number'))\n",
    "   \n",
    "    if system == user:\n",
    "        print('you won')\n",
    "        break\n",
    "    else:\n",
    "        print('you fail')"
   ]
  },
  {
   "cell_type": "code",
   "execution_count": null,
   "id": "94770b34-18aa-4d43-9645-817053dd268a",
   "metadata": {},
   "outputs": [],
   "source": []
  },
  {
   "cell_type": "code",
   "execution_count": null,
   "id": "77423ea2-3351-4a3c-a75f-1f38c217eb10",
   "metadata": {},
   "outputs": [],
   "source": [
    "for age in range(2):\n",
    "    age=eval(input('enter the age'))\n",
    "    if age>100:\n",
    "        print('enter the correct age')\n",
    "        break\n",
    "    elif age<=5:\n",
    "        print('you are littel')\n",
    "    elif age>=18:\n",
    "        print('you are aligible ')\n",
    "        break\n",
    "    else:\n",
    "        print('you are not eligible')"
   ]
  },
  {
   "cell_type": "code",
   "execution_count": null,
   "id": "544809a4-d0fc-4fc5-a5b7-40e58d64db9c",
   "metadata": {},
   "outputs": [],
   "source": [
    "name=(['saurabh','ganesh','rahul','omkar','prasad'])\n",
    "user_input=eval(input('enter the name'))\n",
    "for i in range(5):\n",
    "    if name == user_input:\n",
    "        print('yes')\n",
    "    else:\n",
    "        print('correct name enter')"
   ]
  },
  {
   "cell_type": "code",
   "execution_count": null,
   "id": "d4246bae-53b7-4f81-848e-fb68e80289ca",
   "metadata": {},
   "outputs": [],
   "source": [
    "chr()"
   ]
  },
  {
   "cell_type": "code",
   "execution_count": null,
   "id": "8fcf9abb-ca92-4ac4-afa6-144ea516943a",
   "metadata": {},
   "outputs": [],
   "source": [
    "for i in '':\n",
    "    print(ord(i),':',i)"
   ]
  },
  {
   "cell_type": "code",
   "execution_count": 4,
   "id": "bf762ac9-7120-4d0b-b405-816543ab11a0",
   "metadata": {},
   "outputs": [
    {
     "name": "stdout",
     "output_type": "stream",
     "text": [
      "p :112;y :121;t :116;h :104;o :111;n :110;"
     ]
    }
   ],
   "source": [
    "for i in 'python':\n",
    "    print(f\"{i} :{ord(i)}\",end=';')"
   ]
  },
  {
   "cell_type": "code",
   "execution_count": 3,
   "id": "94365ae1-c53a-455b-9969-72143a3e5517",
   "metadata": {},
   "outputs": [
    {
     "name": "stdout",
     "output_type": "stream",
     "text": [
      "a:97;b:98;c:99;d:100;e:101;f:102;g:103;h:104;i:105;j:106;k:107;l:108;m:109;n:110;o:111;p:112;q:113;r:114;s:115;t:116;u:117;v:118;w:119;x:120;y:121;z:122;"
     ]
    }
   ],
   "source": [
    "import string\n",
    "lower=string.ascii_lowercase\n",
    "for i in lower:\n",
    "    print(f\"{i}:{ord(i)}\",end=\";\")"
   ]
  },
  {
   "cell_type": "code",
   "execution_count": 8,
   "id": "1fff9636-4559-466d-bf41-2be011032e61",
   "metadata": {},
   "outputs": [
    {
     "name": "stdout",
     "output_type": "stream",
     "text": [
      "30:\u001e",
      ";31:\u001f;32: ;33:!;34:\";35:#;36:$;37:%;38:&;39:';40:(;41:);42:*;43:+;44:,;45:-;46:.;47:/;48:0;49:1;50:2;51:3;52:4;53:5;54:6;55:7;56:8;57:9;58::;59:;;60:<;61:=;62:>;63:?;64:@;65:A;66:B;67:C;68:D;69:E;70:F;71:G;72:H;73:I;74:J;75:K;76:L;77:M;78:N;79:O;80:P;81:Q;82:R;83:S;84:T;85:U;86:V;87:W;88:X;89:Y;90:Z;91:[;92:\\;93:];94:^;95:_;96:`;97:a;98:b;99:c;100:d;101:e;102:f;103:g;104:h;105:i;106:j;107:k;108:l;109:m;110:n;111:o;112:p;113:q;114:r;115:s;116:t;117:u;118:v;119:w;120:x;121:y;122:z;123:{;124:|;125:};126:~;"
     ]
    }
   ],
   "source": [
    "for i in range(30,127):\n",
    "    print(f\"{i}:{chr(i)}\",end=';')"
   ]
  },
  {
   "cell_type": "code",
   "execution_count": 9,
   "id": "b00e57d8-7569-4b4d-b1ce-4cd7173c956f",
   "metadata": {},
   "outputs": [
    {
     "name": "stdout",
     "output_type": "stream",
     "text": [
      "3077:అ;3078:ఆ;3079:ఇ;3080:ఈ;3081:ఉ;3082:ఊ;3083:ఋ;3084:ఌ;3085:఍;3086:ఎ;3087:ఏ;3088:ఐ;3089:఑;3090:ఒ;3091:ఓ;3092:ఔ;3093:క;3094:ఖ;3095:గ;3096:ఘ;3097:ఙ;3098:చ;3099:ఛ;3100:జ;3101:ఝ;3102:ఞ;3103:ట;3104:ఠ;3105:డ;3106:ఢ;3107:ణ;3108:త;3109:థ;3110:ద;3111:ధ;3112:న;3113:఩;3114:ప;3115:ఫ;3116:బ;3117:భ;3118:మ;3119:య;3120:ర;3121:ఱ;3122:ల;3123:ళ;3124:ఴ;3125:వ;3126:శ;3127:ష;3128:స;3129:హ;3130:఺;3131:఻;3132:఼;3133:ఽ;3134:ా;3135:ి;3136:ీ;3137:ు;3138:ూ;3139:ృ;3140:ౄ;3141:౅;3142:ె;3143:ే;3144:ై;3145:౉;3146:ొ;3147:ో;3148:ౌ;3149:్;3150:౎;3151:౏;3152:౐;3153:౑;3154:౒;3155:౓;3156:౔;3157:ౕ;3158:ౖ;3159:౗;3160:ౘ;3161:ౙ;3162:ౚ;3163:౛;3164:౜;3165:ౝ;3166:౞;3167:౟;3168:ౠ;3169:ౡ;3170:ౢ;3171:ౣ;3172:౤;3173:౥;3174:౦;3175:౧;3176:౨;3177:౩;3178:౪;3179:౫;3180:౬;3181:౭;3182:౮;3183:౯;3184:౰;3185:౱;3186:౲;3187:౳;3188:౴;3189:౵;3190:౶;3191:౷;3192:౸;3193:౹;3194:౺;3195:౻;3196:౼;3197:౽;3198:౾;3199:౿;3200:ಀ;3201:ಁ;3202:ಂ;3203:ಃ;3204:಄;3205:ಅ;3206:ಆ;3207:ಇ;3208:ಈ;3209:ಉ;3210:ಊ;3211:ಋ;3212:ಌ;3213:಍;3214:ಎ;3215:ಏ;3216:ಐ;3217:಑;3218:ಒ;3219:ಓ;3220:ಔ;3221:ಕ;3222:ಖ;3223:ಗ;3224:ಘ;3225:ಙ;3226:ಚ;3227:ಛ;3228:ಜ;3229:ಝ;3230:ಞ;3231:ಟ;3232:ಠ;3233:ಡ;3234:ಢ;3235:ಣ;3236:ತ;3237:ಥ;3238:ದ;3239:ಧ;3240:ನ;3241:಩;3242:ಪ;3243:ಫ;3244:ಬ;3245:ಭ;3246:ಮ;3247:ಯ;3248:ರ;3249:ಱ;3250:ಲ;3251:ಳ;3252:಴;3253:ವ;3254:ಶ;3255:ಷ;3256:ಸ;3257:ಹ;3258:಺;3259:಻;3260:಼;3261:ಽ;3262:ಾ;3263:ಿ;3264:ೀ;3265:ು;3266:ೂ;3267:ೃ;3268:ೄ;3269:೅;3270:ೆ;3271:ೇ;3272:ೈ;3273:೉;3274:ೊ;3275:ೋ;3276:ೌ;3277:್;3278:೎;3279:೏;3280:೐;3281:೑;3282:೒;3283:೓;3284:೔;3285:ೕ;3286:ೖ;3287:೗;3288:೘;3289:೙;3290:೚;3291:೛;3292:೜;3293:ೝ;3294:ೞ;3295:೟;3296:ೠ;3297:ೡ;3298:ೢ;3299:ೣ;3300:೤;3301:೥;3302:೦;3303:೧;3304:೨;3305:೩;3306:೪;3307:೫;3308:೬;3309:೭;3310:೮;3311:೯;3312:೰;3313:ೱ;3314:ೲ;3315:ೳ;3316:೴;3317:೵;3318:೶;3319:೷;3320:೸;3321:೹;3322:೺;3323:೻;3324:೼;3325:೽;3326:೾;3327:೿;3328:ഀ;3329:ഁ;3330:ം;3331:ഃ;3332:ഄ;3333:അ;3334:ആ;3335:ഇ;3336:ഈ;3337:ഉ;3338:ഊ;3339:ഋ;3340:ഌ;3341:഍;3342:എ;3343:ഏ;3344:ഐ;3345:഑;3346:ഒ;3347:ഓ;3348:ഔ;3349:ക;3350:ഖ;3351:ഗ;3352:ഘ;3353:ങ;3354:ച;3355:ഛ;3356:ജ;3357:ഝ;3358:ഞ;3359:ട;3360:ഠ;3361:ഡ;3362:ഢ;3363:ണ;3364:ത;3365:ഥ;3366:ദ;3367:ധ;3368:ന;3369:ഩ;3370:പ;3371:ഫ;3372:ബ;3373:ഭ;3374:മ;3375:യ;3376:ര;3377:റ;3378:ല;3379:ള;3380:ഴ;3381:വ;3382:ശ;3383:ഷ;3384:സ;3385:ഹ;3386:ഺ;3387:഻;3388:഼;3389:ഽ;3390:ാ;3391:ി;3392:ീ;3393:ു;3394:ൂ;3395:ൃ;3396:ൄ;3397:൅;3398:െ;3399:േ;3400:ൈ;3401:൉;3402:ൊ;3403:ോ;3404:ൌ;3405:്;3406:ൎ;3407:൏;3408:൐;3409:൑;3410:൒;3411:൓;3412:ൔ;3413:ൕ;3414:ൖ;3415:ൗ;3416:൘;3417:൙;3418:൚;3419:൛;3420:൜;3421:൝;3422:൞;3423:ൟ;3424:ൠ;3425:ൡ;3426:ൢ;3427:ൣ;3428:൤;3429:൥;3430:൦;3431:൧;3432:൨;3433:൩;3434:൪;3435:൫;3436:൬;3437:൭;3438:൮;3439:൯;3440:൰;3441:൱;3442:൲;3443:൳;3444:൴;3445:൵;3446:൶;3447:൷;3448:൸;3449:൹;3450:ൺ;3451:ൻ;3452:ർ;3453:ൽ;3454:ൾ;3455:ൿ;3456:඀;3457:ඁ;3458:ං;3459:ඃ;3460:඄;3461:අ;3462:ආ;3463:ඇ;3464:ඈ;3465:ඉ;3466:ඊ;3467:උ;3468:ඌ;3469:ඍ;3470:ඎ;3471:ඏ;3472:ඐ;3473:එ;3474:ඒ;3475:ඓ;3476:ඔ;3477:ඕ;3478:ඖ;3479:඗;3480:඘;3481:඙;3482:ක;3483:ඛ;3484:ග;3485:ඝ;3486:ඞ;3487:ඟ;3488:ච;3489:ඡ;3490:ජ;3491:ඣ;3492:ඤ;3493:ඥ;3494:ඦ;3495:ට;3496:ඨ;3497:ඩ;3498:ඪ;3499:ණ;3500:ඬ;3501:ත;3502:ථ;3503:ද;3504:ධ;3505:න;3506:඲;3507:ඳ;3508:ප;3509:ඵ;3510:බ;3511:භ;3512:ම;3513:ඹ;3514:ය;3515:ර;3516:඼;3517:ල;3518:඾;3519:඿;3520:ව;3521:ශ;3522:ෂ;3523:ස;3524:හ;3525:ළ;3526:ෆ;3527:෇;3528:෈;3529:෉;3530:්;3531:෋;3532:෌;3533:෍;3534:෎;3535:ා;3536:ැ;3537:ෑ;3538:ි;3539:ී;3540:ු;3541:෕;3542:ූ;3543:෗;3544:ෘ;3545:ෙ;3546:ේ;3547:ෛ;3548:ො;3549:ෝ;3550:ෞ;3551:ෟ;3552:෠;3553:෡;3554:෢;3555:෣;3556:෤;3557:෥;3558:෦;3559:෧;3560:෨;3561:෩;3562:෪;3563:෫;3564:෬;3565:෭;3566:෮;3567:෯;3568:෰;3569:෱;3570:ෲ;3571:ෳ;3572:෴;3573:෵;3574:෶;3575:෷;3576:෸;3577:෹;3578:෺;3579:෻;3580:෼;3581:෽;3582:෾;3583:෿;3584:฀;3585:ก;3586:ข;3587:ฃ;3588:ค;3589:ฅ;3590:ฆ;3591:ง;3592:จ;3593:ฉ;3594:ช;3595:ซ;3596:ฌ;3597:ญ;3598:ฎ;3599:ฏ;3600:ฐ;3601:ฑ;3602:ฒ;3603:ณ;3604:ด;3605:ต;3606:ถ;3607:ท;3608:ธ;3609:น;3610:บ;3611:ป;3612:ผ;3613:ฝ;3614:พ;3615:ฟ;3616:ภ;3617:ม;3618:ย;3619:ร;3620:ฤ;3621:ล;3622:ฦ;3623:ว;3624:ศ;3625:ษ;3626:ส;3627:ห;3628:ฬ;3629:อ;3630:ฮ;3631:ฯ;3632:ะ;3633:ั;3634:า;3635:ำ;3636:ิ;3637:ี;3638:ึ;3639:ื;3640:ุ;3641:ู;3642:ฺ;3643:฻;3644:฼;3645:฽;3646:฾;3647:฿;3648:เ;3649:แ;3650:โ;3651:ใ;3652:ไ;3653:ๅ;3654:ๆ;3655:็;3656:่;3657:้;3658:๊;3659:๋;3660:์;3661:ํ;3662:๎;3663:๏;3664:๐;3665:๑;3666:๒;3667:๓;3668:๔;3669:๕;3670:๖;3671:๗;3672:๘;3673:๙;3674:๚;3675:๛;3676:๜;3677:๝;3678:๞;3679:๟;3680:๠;3681:๡;3682:๢;3683:๣;3684:๤;3685:๥;3686:๦;3687:๧;3688:๨;3689:๩;3690:๪;3691:๫;3692:๬;3693:๭;3694:๮;3695:๯;3696:๰;3697:๱;3698:๲;3699:๳;3700:๴;3701:๵;3702:๶;3703:๷;3704:๸;3705:๹;3706:๺;3707:๻;3708:๼;3709:๽;3710:๾;3711:๿;3712:຀;3713:ກ;3714:ຂ;3715:຃;3716:ຄ;3717:຅;3718:ຆ;3719:ງ;3720:ຈ;3721:ຉ;3722:ຊ;3723:຋;3724:ຌ;3725:ຍ;3726:ຎ;3727:ຏ;3728:ຐ;3729:ຑ;3730:ຒ;3731:ຓ;3732:ດ;3733:ຕ;3734:ຖ;3735:ທ;3736:ຘ;3737:ນ;3738:ບ;3739:ປ;3740:ຜ;3741:ຝ;3742:ພ;3743:ຟ;3744:ຠ;3745:ມ;3746:ຢ;3747:ຣ;3748:຤;3749:ລ;3750:຦;3751:ວ;3752:ຨ;3753:ຩ;3754:ສ;3755:ຫ;3756:ຬ;3757:ອ;3758:ຮ;3759:ຯ;3760:ະ;3761:ັ;3762:າ;3763:ຳ;3764:ິ;3765:ີ;3766:ຶ;3767:ື;3768:ຸ;3769:ູ;3770:຺;3771:ົ;3772:ຼ;3773:ຽ;3774:຾;3775:຿;3776:ເ;3777:ແ;3778:ໂ;3779:ໃ;3780:ໄ;3781:໅;3782:ໆ;3783:໇;3784:່;3785:້;3786:໊;3787:໋;3788:໌;3789:ໍ;3790:໎;3791:໏;3792:໐;3793:໑;3794:໒;3795:໓;3796:໔;3797:໕;3798:໖;3799:໗;3800:໘;3801:໙;3802:໚;3803:໛;3804:ໜ;3805:ໝ;3806:ໞ;3807:ໟ;3808:໠;3809:໡;3810:໢;3811:໣;3812:໤;3813:໥;3814:໦;3815:໧;3816:໨;3817:໩;3818:໪;3819:໫;3820:໬;3821:໭;3822:໮;3823:໯;3824:໰;3825:໱;3826:໲;3827:໳;3828:໴;3829:໵;3830:໶;3831:໷;3832:໸;3833:໹;3834:໺;3835:໻;3836:໼;3837:໽;3838:໾;3839:໿;3840:ༀ;3841:༁;3842:༂;3843:༃;3844:༄;3845:༅;3846:༆;3847:༇;3848:༈;3849:༉;3850:༊;3851:་;3852:༌;3853:།;3854:༎;3855:༏;3856:༐;3857:༑;3858:༒;3859:༓;3860:༔;3861:༕;3862:༖;3863:༗;3864:༘;3865:༙;3866:༚;3867:༛;3868:༜;3869:༝;3870:༞;3871:༟;3872:༠;3873:༡;3874:༢;3875:༣;3876:༤;3877:༥;3878:༦;3879:༧;3880:༨;3881:༩;3882:༪;3883:༫;3884:༬;3885:༭;3886:༮;3887:༯;3888:༰;3889:༱;3890:༲;3891:༳;3892:༴;3893:༵;3894:༶;3895:༷;3896:༸;3897:༹;3898:༺;3899:༻;3900:༼;3901:༽;3902:༾;3903:༿;3904:ཀ;3905:ཁ;3906:ག;3907:གྷ;3908:ང;3909:ཅ;3910:ཆ;3911:ཇ;3912:཈;3913:ཉ;3914:ཊ;3915:ཋ;3916:ཌ;3917:ཌྷ;3918:ཎ;3919:ཏ;3920:ཐ;3921:ད;3922:དྷ;3923:ན;3924:པ;3925:ཕ;3926:བ;3927:བྷ;3928:མ;3929:ཙ;3930:ཚ;3931:ཛ;3932:ཛྷ;3933:ཝ;3934:ཞ;3935:ཟ;3936:འ;3937:ཡ;3938:ར;3939:ལ;3940:ཤ;3941:ཥ;3942:ས;3943:ཧ;3944:ཨ;3945:ཀྵ;3946:ཪ;3947:ཫ;3948:ཬ;3949:཭;3950:཮;3951:཯;3952:཰;3953:ཱ;3954:ི;3955:ཱི;3956:ུ;3957:ཱུ;3958:ྲྀ;3959:ཷ;3960:ླྀ;3961:ཹ;3962:ེ;3963:ཻ;3964:ོ;3965:ཽ;3966:ཾ;3967:ཿ;3968:ྀ;3969:ཱྀ;3970:ྂ;3971:ྃ;3972:྄;3973:྅;3974:྆;3975:྇;3976:ྈ;3977:ྉ;3978:ྊ;3979:ྋ;3980:ྌ;3981:ྍ;3982:ྎ;3983:ྏ;3984:ྐ;3985:ྑ;3986:ྒ;3987:ྒྷ;3988:ྔ;3989:ྕ;3990:ྖ;3991:ྗ;3992:྘;3993:ྙ;3994:ྚ;3995:ྛ;3996:ྜ;3997:ྜྷ;3998:ྞ;3999:ྟ;4000:ྠ;4001:ྡ;4002:ྡྷ;4003:ྣ;4004:ྤ;4005:ྥ;4006:ྦ;4007:ྦྷ;4008:ྨ;4009:ྩ;4010:ྪ;4011:ྫ;4012:ྫྷ;4013:ྭ;4014:ྮ;4015:ྯ;4016:ྰ;4017:ྱ;4018:ྲ;4019:ླ;4020:ྴ;4021:ྵ;4022:ྶ;4023:ྷ;4024:ྸ;4025:ྐྵ;4026:ྺ;4027:ྻ;4028:ྼ;4029:྽;4030:྾;4031:྿;4032:࿀;4033:࿁;4034:࿂;4035:࿃;4036:࿄;4037:࿅;4038:࿆;4039:࿇;4040:࿈;4041:࿉;4042:࿊;4043:࿋;4044:࿌;4045:࿍;4046:࿎;4047:࿏;4048:࿐;4049:࿑;4050:࿒;4051:࿓;4052:࿔;4053:࿕;4054:࿖;4055:࿗;4056:࿘;4057:࿙;4058:࿚;4059:࿛;4060:࿜;4061:࿝;4062:࿞;4063:࿟;4064:࿠;4065:࿡;4066:࿢;4067:࿣;4068:࿤;4069:࿥;4070:࿦;4071:࿧;4072:࿨;4073:࿩;4074:࿪;4075:࿫;4076:࿬;4077:࿭;4078:࿮;4079:࿯;4080:࿰;4081:࿱;4082:࿲;4083:࿳;4084:࿴;4085:࿵;4086:࿶;4087:࿷;4088:࿸;4089:࿹;4090:࿺;4091:࿻;4092:࿼;4093:࿽;4094:࿾;4095:࿿;4096:က;4097:ခ;4098:ဂ;4099:ဃ;4100:င;4101:စ;4102:ဆ;4103:ဇ;4104:ဈ;4105:ဉ;4106:ည;4107:ဋ;4108:ဌ;4109:ဍ;4110:ဎ;4111:ဏ;4112:တ;4113:ထ;4114:ဒ;4115:ဓ;4116:န;4117:ပ;4118:ဖ;4119:ဗ;4120:ဘ;4121:မ;4122:ယ;4123:ရ;4124:လ;4125:ဝ;4126:သ;4127:ဟ;4128:ဠ;4129:အ;4130:ဢ;4131:ဣ;4132:ဤ;4133:ဥ;4134:ဦ;4135:ဧ;4136:ဨ;4137:ဩ;4138:ဪ;4139:ါ;4140:ာ;4141:ိ;4142:ီ;4143:ု;4144:ူ;4145:ေ;4146:ဲ;4147:ဳ;4148:ဴ;4149:ဵ;4150:ံ;4151:့;4152:း;4153:္;4154:်;4155:ျ;4156:ြ;4157:ွ;4158:ှ;4159:ဿ;4160:၀;4161:၁;4162:၂;4163:၃;4164:၄;4165:၅;4166:၆;4167:၇;4168:၈;4169:၉;4170:၊;4171:။;4172:၌;4173:၍;4174:၎;4175:၏;4176:ၐ;4177:ၑ;4178:ၒ;4179:ၓ;4180:ၔ;4181:ၕ;4182:ၖ;4183:ၗ;4184:ၘ;4185:ၙ;4186:ၚ;4187:ၛ;4188:ၜ;4189:ၝ;4190:ၞ;4191:ၟ;4192:ၠ;4193:ၡ;4194:ၢ;4195:ၣ;4196:ၤ;4197:ၥ;4198:ၦ;4199:ၧ;4200:ၨ;4201:ၩ;4202:ၪ;4203:ၫ;4204:ၬ;4205:ၭ;4206:ၮ;4207:ၯ;4208:ၰ;4209:ၱ;4210:ၲ;4211:ၳ;4212:ၴ;4213:ၵ;4214:ၶ;4215:ၷ;4216:ၸ;4217:ၹ;4218:ၺ;4219:ၻ;4220:ၼ;4221:ၽ;4222:ၾ;4223:ၿ;4224:ႀ;4225:ႁ;4226:ႂ;4227:ႃ;4228:ႄ;4229:ႅ;4230:ႆ;4231:ႇ;4232:ႈ;4233:ႉ;4234:ႊ;4235:ႋ;4236:ႌ;4237:ႍ;4238:ႎ;4239:ႏ;4240:႐;4241:႑;4242:႒;4243:႓;4244:႔;4245:႕;4246:႖;4247:႗;4248:႘;4249:႙;4250:ႚ;4251:ႛ;4252:ႜ;4253:ႝ;4254:႞;4255:႟;4256:Ⴀ;4257:Ⴁ;4258:Ⴂ;4259:Ⴃ;4260:Ⴄ;4261:Ⴅ;4262:Ⴆ;4263:Ⴇ;4264:Ⴈ;4265:Ⴉ;4266:Ⴊ;4267:Ⴋ;4268:Ⴌ;4269:Ⴍ;4270:Ⴎ;4271:Ⴏ;4272:Ⴐ;4273:Ⴑ;4274:Ⴒ;4275:Ⴓ;4276:Ⴔ;4277:Ⴕ;4278:Ⴖ;4279:Ⴗ;4280:Ⴘ;4281:Ⴙ;4282:Ⴚ;4283:Ⴛ;4284:Ⴜ;4285:Ⴝ;4286:Ⴞ;4287:Ⴟ;4288:Ⴠ;4289:Ⴡ;4290:Ⴢ;4291:Ⴣ;4292:Ⴤ;4293:Ⴥ;4294:჆;4295:Ⴧ;4296:჈;4297:჉;4298:჊;4299:჋;4300:჌;4301:Ⴭ;4302:჎;4303:჏;4304:ა;4305:ბ;4306:გ;4307:დ;4308:ე;4309:ვ;4310:ზ;4311:თ;4312:ი;4313:კ;4314:ლ;4315:მ;4316:ნ;4317:ო;4318:პ;4319:ჟ;4320:რ;4321:ს;4322:ტ;4323:უ;4324:ფ;4325:ქ;4326:ღ;4327:ყ;4328:შ;4329:ჩ;4330:ც;4331:ძ;4332:წ;4333:ჭ;4334:ხ;4335:ჯ;4336:ჰ;4337:ჱ;4338:ჲ;4339:ჳ;4340:ჴ;4341:ჵ;4342:ჶ;4343:ჷ;4344:ჸ;4345:ჹ;4346:ჺ;4347:჻;4348:ჼ;4349:ჽ;4350:ჾ;4351:ჿ;4352:ᄀ;4353:ᄁ;4354:ᄂ;4355:ᄃ;4356:ᄄ;4357:ᄅ;4358:ᄆ;4359:ᄇ;4360:ᄈ;4361:ᄉ;4362:ᄊ;4363:ᄋ;4364:ᄌ;4365:ᄍ;4366:ᄎ;4367:ᄏ;4368:ᄐ;4369:ᄑ;4370:ᄒ;4371:ᄓ;4372:ᄔ;4373:ᄕ;4374:ᄖ;4375:ᄗ;4376:ᄘ;4377:ᄙ;4378:ᄚ;4379:ᄛ;4380:ᄜ;4381:ᄝ;4382:ᄞ;4383:ᄟ;4384:ᄠ;4385:ᄡ;4386:ᄢ;4387:ᄣ;4388:ᄤ;4389:ᄥ;4390:ᄦ;4391:ᄧ;4392:ᄨ;4393:ᄩ;4394:ᄪ;4395:ᄫ;4396:ᄬ;4397:ᄭ;4398:ᄮ;4399:ᄯ;4400:ᄰ;4401:ᄱ;4402:ᄲ;4403:ᄳ;4404:ᄴ;4405:ᄵ;4406:ᄶ;4407:ᄷ;4408:ᄸ;4409:ᄹ;4410:ᄺ;4411:ᄻ;4412:ᄼ;4413:ᄽ;4414:ᄾ;4415:ᄿ;4416:ᅀ;4417:ᅁ;4418:ᅂ;4419:ᅃ;4420:ᅄ;4421:ᅅ;4422:ᅆ;4423:ᅇ;4424:ᅈ;4425:ᅉ;4426:ᅊ;4427:ᅋ;4428:ᅌ;4429:ᅍ;4430:ᅎ;4431:ᅏ;4432:ᅐ;4433:ᅑ;4434:ᅒ;4435:ᅓ;4436:ᅔ;4437:ᅕ;4438:ᅖ;4439:ᅗ;4440:ᅘ;4441:ᅙ;4442:ᅚ;4443:ᅛ;4444:ᅜ;4445:ᅝ;4446:ᅞ;4447:ᅟ;4448:ᅠ;4449:ᅡ;4450:ᅢ;4451:ᅣ;4452:ᅤ;4453:ᅥ;4454:ᅦ;4455:ᅧ;4456:ᅨ;4457:ᅩ;4458:ᅪ;4459:ᅫ;4460:ᅬ;4461:ᅭ;4462:ᅮ;4463:ᅯ;4464:ᅰ;4465:ᅱ;4466:ᅲ;4467:ᅳ;4468:ᅴ;4469:ᅵ;4470:ᅶ;4471:ᅷ;4472:ᅸ;4473:ᅹ;4474:ᅺ;4475:ᅻ;4476:ᅼ;4477:ᅽ;4478:ᅾ;4479:ᅿ;4480:ᆀ;4481:ᆁ;4482:ᆂ;4483:ᆃ;4484:ᆄ;4485:ᆅ;4486:ᆆ;4487:ᆇ;4488:ᆈ;4489:ᆉ;4490:ᆊ;4491:ᆋ;4492:ᆌ;4493:ᆍ;4494:ᆎ;4495:ᆏ;4496:ᆐ;4497:ᆑ;4498:ᆒ;4499:ᆓ;"
     ]
    }
   ],
   "source": [
    "for i in range(3077,4500):\n",
    "    print(f\"{i}:{chr(i)}\",end=';')"
   ]
  },
  {
   "cell_type": "code",
   "execution_count": null,
   "id": "5e0660f9-d66a-4a35-ba10-dc295a831296",
   "metadata": {},
   "outputs": [],
   "source": []
  }
 ],
 "metadata": {
  "kernelspec": {
   "display_name": "Python [conda env:base] *",
   "language": "python",
   "name": "conda-base-py"
  },
  "language_info": {
   "codemirror_mode": {
    "name": "ipython",
    "version": 3
   },
   "file_extension": ".py",
   "mimetype": "text/x-python",
   "name": "python",
   "nbconvert_exporter": "python",
   "pygments_lexer": "ipython3",
   "version": "3.13.5"
  }
 },
 "nbformat": 4,
 "nbformat_minor": 5
}
