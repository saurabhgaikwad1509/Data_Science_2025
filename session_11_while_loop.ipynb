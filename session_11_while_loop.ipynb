{
 "cells": [
  {
   "cell_type": "markdown",
   "id": "edf92bb1-2518-4961-b06a-937e71766da4",
   "metadata": {},
   "source": [
    "**While  loop**\n",
    "\n",
    "- Any loop we need 3 things\n",
    "\n",
    "- initial point \n",
    "\n",
    "- increment or drcrement \n",
    "\n",
    "- stop point\n"
   ]
  },
  {
   "cell_type": "code",
   "execution_count": null,
   "id": "466f7acf-f727-4cde-a8e8-7528aa163256",
   "metadata": {},
   "outputs": [],
   "source": [
    "# initial point \n",
    "while < condition>:\n",
    "    # increment\n",
    "    # statements\n",
    "\n",
    "for i in range(start,stop):\n",
    "    #statement"
   ]
  },
  {
   "cell_type": "code",
   "execution_count": 1,
   "id": "4bc4ec4c-caab-4e67-8f31-04d5c44bccb7",
   "metadata": {},
   "outputs": [
    {
     "name": "stdout",
     "output_type": "stream",
     "text": [
      "3\n",
      "4\n",
      "5\n",
      "6\n",
      "7\n",
      "8\n",
      "9\n"
     ]
    }
   ],
   "source": [
    "for i in range(3,10):\n",
    "    print(i)"
   ]
  },
  {
   "cell_type": "code",
   "execution_count": 1,
   "id": "262d9e32-cf3d-479f-9925-5b82637f5023",
   "metadata": {},
   "outputs": [
    {
     "name": "stdout",
     "output_type": "stream",
     "text": [
      "3\n",
      "4\n",
      "5\n",
      "6\n",
      "7\n",
      "8\n",
      "9\n"
     ]
    }
   ],
   "source": [
    "i=3\n",
    "while i<10:    #3<10   True condition\n",
    "    print(i)\n",
    "    i=i+1\n"
   ]
  },
  {
   "cell_type": "code",
   "execution_count": 2,
   "id": "431f88c6-2632-4759-aa54-60dab53e7d26",
   "metadata": {},
   "outputs": [
    {
     "name": "stdout",
     "output_type": "stream",
     "text": [
      "1 2 3 4 5 6 7 8 9 10 10 9 8 7 6 5 4 3 2 1 -10 -9 -8 -7 -6 -5 -4 -3 -2 -1 -1 -2 -3 -4 -5 -6 -7 -8 -9 -10 "
     ]
    }
   ],
   "source": [
    "for i in  range(1,11):\n",
    "    print(i,end=' ')\n",
    "\n",
    "for i in  range(10,0,-1):\n",
    "    print(i,end=' ')\n",
    "\n",
    "for i in  range(-10,0):\n",
    "    print(i,end=' ')\n",
    "\n",
    "for i in  range(-1,-11,-1):\n",
    "    print(i,end=' ')\n"
   ]
  },
  {
   "cell_type": "code",
   "execution_count": 7,
   "id": "116dc4cd-d5bc-4412-8473-99acaac8e611",
   "metadata": {},
   "outputs": [
    {
     "name": "stdout",
     "output_type": "stream",
     "text": [
      "1 2 3 4 5 6 7 8 9 10 "
     ]
    }
   ],
   "source": [
    "i=1\n",
    "while i<11:\n",
    "    print(i,end=' ')\n",
    "    i=i+1"
   ]
  },
  {
   "cell_type": "code",
   "execution_count": 2,
   "id": "2ce9a23e-53d3-46e1-a6c5-1acc50779bf6",
   "metadata": {},
   "outputs": [
    {
     "name": "stdout",
     "output_type": "stream",
     "text": [
      "10 9 8 7 6 5 4 3 2 1 "
     ]
    }
   ],
   "source": [
    "i=10\n",
    "while i>0:\n",
    "    print(i,end=' ')\n",
    "    i=i-1"
   ]
  },
  {
   "cell_type": "code",
   "execution_count": 12,
   "id": "df350774-fd65-453b-a099-492870dc034e",
   "metadata": {},
   "outputs": [
    {
     "name": "stdout",
     "output_type": "stream",
     "text": [
      "-1 -2 -3 -4 -5 -6 -7 -8 -9 -10 "
     ]
    }
   ],
   "source": [
    "i=-1\n",
    "while i>-11:\n",
    "    print(i,end=' ')\n",
    "    i=i-1"
   ]
  },
  {
   "cell_type": "code",
   "execution_count": 1,
   "id": "5135a298-8739-4344-88c0-65f365f6125e",
   "metadata": {},
   "outputs": [
    {
     "name": "stdout",
     "output_type": "stream",
     "text": [
      "-10 -9 -8 -7 -6 -5 -4 -3 -2 -1 "
     ]
    }
   ],
   "source": [
    "i=-10\n",
    "while i<0:\n",
    "    print(i,end=' ')\n",
    "    i=i+1"
   ]
  },
  {
   "cell_type": "code",
   "execution_count": 3,
   "id": "59364833-ef31-4230-8880-9f981cc59103",
   "metadata": {},
   "outputs": [
    {
     "name": "stdout",
     "output_type": "stream",
     "text": [
      "1 2 3 4 5 6 7 8 9 "
     ]
    }
   ],
   "source": [
    "i=1\n",
    "while True:\n",
    "    print(i,end=' ')\n",
    "    i=i+1\n",
    "    if i==10:\n",
    "        break"
   ]
  },
  {
   "cell_type": "code",
   "execution_count": 4,
   "id": "ecac004a-7ec2-4246-8711-02a0e17ab6cf",
   "metadata": {},
   "outputs": [
    {
     "name": "stdout",
     "output_type": "stream",
     "text": [
      "10 9 8 7 6 5 4 3 2 1 "
     ]
    }
   ],
   "source": [
    "i=10\n",
    "while True:\n",
    "    print(i,end=' ')\n",
    "    i=i-1\n",
    "    if i==0:\n",
    "        break"
   ]
  },
  {
   "cell_type": "code",
   "execution_count": 1,
   "id": "432b17a4-8326-45f8-bbe8-c03177aa9a39",
   "metadata": {},
   "outputs": [
    {
     "name": "stdout",
     "output_type": "stream",
     "text": [
      "-1 -2 -3 -4 -5 -6 -7 -8 -9 -10 "
     ]
    }
   ],
   "source": [
    "i=-1\n",
    "while True:\n",
    "    print(i,end=' ')\n",
    "    i=i-1\n",
    "    if i==-11:\n",
    "        break"
   ]
  },
  {
   "cell_type": "code",
   "execution_count": 3,
   "id": "1ac4b52d-84c2-481d-a4f6-8fd30ab13480",
   "metadata": {},
   "outputs": [
    {
     "name": "stdout",
     "output_type": "stream",
     "text": [
      "-10 -9 -8 -7 -6 -5 -4 -3 -2 -1 0 "
     ]
    }
   ],
   "source": [
    "i=-10\n",
    "while True:\n",
    "    print(i,end=' ')\n",
    "    i=i+1\n",
    "    if i==1:\n",
    "        break\n",
    "    "
   ]
  },
  {
   "cell_type": "code",
   "execution_count": null,
   "id": "ac3932e9-e586-4458-9cea-2407b718b441",
   "metadata": {},
   "outputs": [],
   "source": [
    "# if we dont know what is stop condition \n",
    "# if we wont to give infinite chances till the ans shouls correct \n",
    "# they we can use while loop \n",
    "\n",
    "# in the loop inherently stop value avilable \n",
    "# range(3)   stop=2\n",
    "# range(3,11)    stop = 10"
   ]
  },
  {
   "cell_type": "code",
   "execution_count": 18,
   "id": "b7988a58-de6e-4f06-b177-0f7df5ed8dd7",
   "metadata": {},
   "outputs": [
    {
     "name": "stdout",
     "output_type": "stream",
     "text": [
      "4\n"
     ]
    },
    {
     "name": "stdin",
     "output_type": "stream",
     "text": [
      "number 5\n",
      "number 6\n",
      "number 4\n"
     ]
    },
    {
     "name": "stdout",
     "output_type": "stream",
     "text": [
      "won\n"
     ]
    }
   ],
   "source": [
    "import random \n",
    "random_num=random.randint(1,10)\n",
    "print(random_num)\n",
    "while True:\n",
    "    user_num=eval(input('number'))\n",
    "    if random_num==user_num:\n",
    "        print('won')\n",
    "        break"
   ]
  },
  {
   "cell_type": "code",
   "execution_count": 20,
   "id": "cf9406be-267d-4e01-8242-a9a32c3ac04c",
   "metadata": {},
   "outputs": [
    {
     "name": "stdin",
     "output_type": "stream",
     "text": [
      "enter the number 1254\n"
     ]
    },
    {
     "name": "stdout",
     "output_type": "stream",
     "text": [
      "wrong password\n",
      "you have 2\n"
     ]
    },
    {
     "name": "stdin",
     "output_type": "stream",
     "text": [
      "enter the number 2255\n"
     ]
    },
    {
     "name": "stdout",
     "output_type": "stream",
     "text": [
      "wrong password\n",
      "you have 1\n"
     ]
    },
    {
     "name": "stdin",
     "output_type": "stream",
     "text": [
      "enter the number 1122\n"
     ]
    },
    {
     "name": "stdout",
     "output_type": "stream",
     "text": [
      "congratulation....!\n"
     ]
    }
   ],
   "source": [
    "correct_pass=1122\n",
    "chance=0\n",
    "while chance < 3:\n",
    "    user_pass=eval(input('enter the number'))\n",
    "    if user_pass == correct_pass:\n",
    "        print('congratulation....!')\n",
    "        break \n",
    "    else:\n",
    "        print('wrong password')\n",
    "\n",
    "    remain_chance = 2 - chance\n",
    "    if remain_chance > 0:\n",
    "        print(f'you have {remain_chance}')\n",
    "    else:\n",
    "        print('try 24 hour again')\n",
    "\n",
    "    chance+=1\n"
   ]
  },
  {
   "cell_type": "code",
   "execution_count": null,
   "id": "c703c76f-238c-4c6b-b47e-89711b2d948c",
   "metadata": {},
   "outputs": [
    {
     "name": "stdout",
     "output_type": "stream",
     "text": [
      "1\n"
     ]
    },
    {
     "name": "stdin",
     "output_type": "stream",
     "text": [
      "enter the number 1\n",
      "enter the number 2\n"
     ]
    }
   ],
   "source": [
    "import random \n",
    "random_number=random.randint(1,10)\n",
    "print(random_num)\n",
    "while True:\n",
    "    user_number=eval(input('enter the number'))\n",
    "    if random_number==user_number:\n",
    "        print('won')\n",
    "        break"
   ]
  },
  {
   "cell_type": "code",
   "execution_count": null,
   "id": "f30aad73-c560-4922-82c0-f06c74505222",
   "metadata": {},
   "outputs": [],
   "source": []
  }
 ],
 "metadata": {
  "kernelspec": {
   "display_name": "Python [conda env:base] *",
   "language": "python",
   "name": "conda-base-py"
  },
  "language_info": {
   "codemirror_mode": {
    "name": "ipython",
    "version": 3
   },
   "file_extension": ".py",
   "mimetype": "text/x-python",
   "name": "python",
   "nbconvert_exporter": "python",
   "pygments_lexer": "ipython3",
   "version": "3.13.5"
  }
 },
 "nbformat": 4,
 "nbformat_minor": 5
}
